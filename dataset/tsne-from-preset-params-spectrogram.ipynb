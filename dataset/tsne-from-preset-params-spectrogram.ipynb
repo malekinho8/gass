{
 "cells": [
  {
   "cell_type": "markdown",
   "metadata": {},
   "source": [
    "# Dataset Visualization Notebook (musicnn)\n",
    "\n",
    "---\n",
    "\n",
    "Author: **Malek Ibrahim**\n",
    "\n",
    "This notebooks seeks to create a TSNE plot of the preset dataset in their timbral space (musicnn timbral features). General steps are outlined below:\n",
    "\n",
    "1. Load the preset dataset file\n",
    "1. Categorize the presets\n",
    "1. Prepare the DataFrame\n",
    "1. Obtain the TSNE 2D embeddings from the higher-dimensional timbral features\n",
    "1. Plot the results!"
   ]
  },
  {
   "cell_type": "markdown",
   "metadata": {},
   "source": [
    "## Imports\n",
    "\n",
    "---\n",
    "\n",
    "For this script, we will need Pytorch to load the dataset, scikit-learn for the TSNE plot functionality, and also plotly to visualize the results."
   ]
  },
  {
   "cell_type": "code",
   "execution_count": 1,
   "metadata": {},
   "outputs": [],
   "source": [
    "import torch\n",
    "import numpy as np\n",
    "import plotly.graph_objects as go\n",
    "import plotly.express as px\n",
    "import matplotlib.pyplot as plt\n",
    "import pandas as pd\n",
    "import sys;sys.path.append('..')\n",
    "from sklearn.manifold import TSNE\n",
    "from src.utils import *"
   ]
  },
  {
   "cell_type": "markdown",
   "metadata": {},
   "source": [
    "## Load the Preset Dataset\n",
    "\n",
    "---\n",
    "\n",
    "Load the preset from the saved `.pt` file and inspect its structure."
   ]
  },
  {
   "cell_type": "code",
   "execution_count": 2,
   "metadata": {},
   "outputs": [],
   "source": [
    "dataset = torch.load('preset_dataset_musicnn.pt')"
   ]
  },
  {
   "cell_type": "code",
   "execution_count": 3,
   "metadata": {},
   "outputs": [
    {
     "data": {
      "text/plain": [
       "dict_keys(['preset_names', 'parameters', 'parameters_names', 'mapped_parameter_names', 'raw_audio', 'musicnn_features'])"
      ]
     },
     "execution_count": 3,
     "metadata": {},
     "output_type": "execute_result"
    }
   ],
   "source": [
    "dataset.keys()"
   ]
  },
  {
   "cell_type": "code",
   "execution_count": 4,
   "metadata": {},
   "outputs": [
    {
     "data": {
      "text/plain": [
       "['Default',\n",
       " 'MT Tailwhip Organ (2)',\n",
       " 'Super Jumper',\n",
       " 'Nice Filter Sweep',\n",
       " 'Chillin R2D2',\n",
       " 'Deep Drop In',\n",
       " 'Enter the Twirl',\n",
       " 'Water Love',\n",
       " 'Pulse Drop',\n",
       " 'Phasing Island Bass',\n",
       " 'Mono Pulse Bass',\n",
       " '08-15 Bass',\n",
       " 'Classic Saw Bass',\n",
       " 'Funky Mod Bass',\n",
       " 'Ultra Deep Bass',\n",
       " 'Basic Pad',\n",
       " 'Apollo Pad',\n",
       " 'Pulse Drop Pad',\n",
       " 'Self Destroy',\n",
       " 'Big Lead',\n",
       " 'Double Chorus Trancer',\n",
       " 'Super Funky Lead',\n",
       " 'Startup',\n",
       " 'Ugly One',\n",
       " 'Disharmonic feedback',\n",
       " 'Slow Phaser',\n",
       " 'Eso Drops',\n",
       " 'Dark Roads',\n",
       " 'Mellow LoFi Lead',\n",
       " 'Crystal Drops',\n",
       " 'Dream Arp',\n",
       " 'FN-Bassliner-BAS',\n",
       " 'FN-Dark Bass II-BAS',\n",
       " 'FN-Flow Bass-BAS',\n",
       " 'FN-High Noise-BAS',\n",
       " 'FN-Wobblelike Bass-BAS',\n",
       " 'FN-Dark Bass-BAS',\n",
       " 'FN-Nostalgic Bass-BAS',\n",
       " 'FN-C64ish Bass',\n",
       " 'FN-Basslover',\n",
       " 'FN-Bass Wobbler-BAS',\n",
       " 'FN-Wobblebass-BAS',\n",
       " 'FN-Dark Night-PAD',\n",
       " 'FN-Analog Feeling-PAD',\n",
       " 'FN-Blubberfeld-PAD',\n",
       " 'FN-Noisia-PAD',\n",
       " 'FN-Darpesh Pad-PAD',\n",
       " 'FN-Restless Night-PAD',\n",
       " 'FN-Analog Pad-PAD',\n",
       " 'FN-RollinSun-PAD',\n",
       " 'FN-Flowing Filter-PAD',\n",
       " 'FN-Experimental-PAD',\n",
       " 'FN-Keep It Noisy!',\n",
       " 'FN-Digital Feeling',\n",
       " 'FN-Analog Lead-FN',\n",
       " 'FN-Enjoy My C64',\n",
       " 'FN-Nostalgicer Lead-LEA',\n",
       " 'FN-Plastic Lead-LEA',\n",
       " 'FN-I Need Lead-LEA',\n",
       " 'FN-Easy Listening',\n",
       " 'FN-A Little Something-LEA',\n",
       " 'FN-Doubleplayer',\n",
       " 'FN-Free Willy-ARP',\n",
       " 'FN-Resonanzig',\n",
       " 'FN-Filter Lead-LEA',\n",
       " 'FN-Chordmachine-KEY',\n",
       " 'FN-Easy Keys',\n",
       " 'FN-Chordmachine II-KEY',\n",
       " 'FN-Small Keys-KEY',\n",
       " 'FN-Low Keys-KEY',\n",
       " 'FN-Backwards ARP',\n",
       " 'FN-Anastyle-ARP',\n",
       " 'FN-Percussive Plugger2-ARP',\n",
       " 'FN-Percussive Plugger-ARP',\n",
       " 'FN-Pluggiolator-ARP',\n",
       " 'FN-C64ish Arp',\n",
       " 'FN-Bass Lover-ARP',\n",
       " 'FN-Anastyle II-ARP',\n",
       " 'FN-One Finger Show-ARP',\n",
       " 'FN-Percussive Plugger3-ARP',\n",
       " 'FN-Rhytmic Noise-ARP',\n",
       " 'SFX UFO Landing FMR',\n",
       " 'SFX Surfing the Waves FMR',\n",
       " 'SFX Noise Bubbles FMR',\n",
       " 'SFX Space Sound 4 FMR',\n",
       " 'PNO Piano 2 FMR',\n",
       " 'PNO Another E P FMR',\n",
       " 'PNO Classic E P FMR',\n",
       " 'PNO Sweet Tines FMR',\n",
       " 'PNO Piano 1 FMR',\n",
       " 'PNO Mellow Piano FMR',\n",
       " 'PNO Bright Rhodes FMR',\n",
       " 'STR String Machine FMR',\n",
       " 'STR PWM Strings 2 FMR',\n",
       " 'STR Strings 1 FMR',\n",
       " 'STR Eminent Strings FMR',\n",
       " 'STR Strings 2 FMR',\n",
       " 'STR PWM Strings 1 FMR',\n",
       " 'STR Spartacus VI FMR',\n",
       " 'STR String Ensemble FMR',\n",
       " 'STR Prophet Strings FMR',\n",
       " 'STR Soft Strings FMR',\n",
       " 'STR Low Strings FMR',\n",
       " 'STR Full Strings FMR',\n",
       " 'STR Spartacus VII FMR',\n",
       " 'STR Strings 3 FMR',\n",
       " 'ORG Organ 2 FMR',\n",
       " 'ORG Another Organ FMR',\n",
       " 'ORG Spartacus IX FMR',\n",
       " 'ORG Jazz Organ FMR',\n",
       " 'ORG Spartacus XI FMR',\n",
       " 'ORG Spartacus XII FMR',\n",
       " 'ORG Church Organ Positive FMR',\n",
       " 'ORG Church Organ Gated FMR',\n",
       " 'ORG Organ 1 FMR',\n",
       " 'ORG Spartacus X FMR',\n",
       " 'ORG Church Organ Full Pipes 1 FMR',\n",
       " 'ORG Synthesizer Organ 2 FMR',\n",
       " 'ORG Organ 3 FMR',\n",
       " 'ORG Synthesizer Organ 1 FMR',\n",
       " 'ORG Church Organ Full Pipes 2 FMR',\n",
       " 'DRM Synth Drum 1 FMR',\n",
       " 'DRM Snare Gun FMR',\n",
       " 'DRM Snare Drum 2 FMR',\n",
       " 'DRM Kick Drum 3 FMR',\n",
       " 'DRM Ride Cymbal FMR',\n",
       " 'DRM Snare Drum 1 FMR',\n",
       " 'DRM Snare Drum 4 FMR',\n",
       " 'DRM Synth Drum 2 FMR',\n",
       " 'DRM Kick Drum 2 FMR',\n",
       " 'DRM Kick and Snap FMR',\n",
       " 'DRM Snare Drum 3 FMR',\n",
       " 'DRM Hi-Hat Opened FMR',\n",
       " 'DRM Crash Cymbal FMR',\n",
       " 'DRM Synth Drum 3 FMR',\n",
       " 'DRM Kick Drum and Toms FMR',\n",
       " 'DRM Hi-Hat Closed FMR',\n",
       " 'DRM Kick Drum 1 FMR',\n",
       " 'WND English Horn FMR',\n",
       " 'WND Ocarina FMR',\n",
       " 'WND Flute 1 FMR',\n",
       " 'WND Flute 2 FMR',\n",
       " 'WND Pan Flute FMR',\n",
       " 'WND Oboe FMR',\n",
       " 'WND Clarinet FMR',\n",
       " 'WND Flauto Dolce FMR',\n",
       " 'GTR Overdrive Guitar FMR',\n",
       " 'GTR Chorused Ovation FMR',\n",
       " 'GTR Jazz Guitar FMR',\n",
       " 'GTR Steel String Guitar FMR',\n",
       " 'GTR Acoustic Guitar FMR',\n",
       " 'BRS Brass 2 FMR',\n",
       " 'BRS French Horn FMR',\n",
       " 'BRS Brass Pad 1 FMR',\n",
       " 'BRS Tuba FMR',\n",
       " 'BRS Brass Pad 2 FMR',\n",
       " 'BRS Brass 1 FMR',\n",
       " 'BRS Low Brass FMR',\n",
       " 'BRS Phase Brass FMR',\n",
       " 'BRS Trumpet FMR',\n",
       " 'BRS Brass 3 FMR',\n",
       " 'BRS Prophet Brass FMR',\n",
       " 'BRS Brass Pad 3 FMR',\n",
       " 'BAS Square Bass FMR',\n",
       " 'BAS Pulse Bass 1 FMR',\n",
       " 'BAS Acid Bass 2 FMR',\n",
       " 'BAS Acid Bass 1 FMR',\n",
       " 'BAS Acid Bass 4 FMR',\n",
       " 'BAS Pulse Bass 2 FMR',\n",
       " 'BAS Round Bass 2 FMR',\n",
       " 'BAS Synth Bass 2 FMR',\n",
       " 'BAS Acid Bass 3 FMR',\n",
       " 'BAS Wire Bass FMR',\n",
       " 'BAS Love Bass FMR',\n",
       " 'BAS Hooverish Bass FMR',\n",
       " 'BAS Basso Profondo FMR',\n",
       " 'BAS Synth Bass 1 FMR',\n",
       " 'BAS Round Bass 1 FMR',\n",
       " 'PAD Rise the Pulse FMR',\n",
       " 'PAD Spartacus I FMR',\n",
       " 'PAD Spartacus V FMR',\n",
       " 'PAD Reso Pad FMR',\n",
       " 'PAD Metal Rotor Pad FMR',\n",
       " 'PAD Classic Sweep Pad FMR',\n",
       " 'PAD Dive Into The Deep FMR',\n",
       " 'PAD Meditation Pad 3 FMR',\n",
       " 'PAD Forever Pad FMR',\n",
       " 'PAD Hoiy Mass FMR',\n",
       " 'PAD Woosh Pad FMR',\n",
       " 'PAD Massive Pad 1 FMR',\n",
       " 'PAD Big Synth Pad 2 FMR',\n",
       " 'PAD This Is It FMR',\n",
       " 'PAD Meditation Pad 1 FMR',\n",
       " 'PAD Chariots VG Brass FMR',\n",
       " 'PAD Bass Pad FMR',\n",
       " 'PAD PWM Pad FMR',\n",
       " 'PAD Meditation Pad 2 FMR',\n",
       " 'PAD Big Synth Pad 1 FMR',\n",
       " 'PAD Massive Pad 2 FMR',\n",
       " 'PAD High Res Pad FMR',\n",
       " 'PRC Chiff Attack FMR',\n",
       " 'PRC Percussion 2 FMR',\n",
       " 'PRC Thump Bass Drum FMR',\n",
       " 'PRC Percussion 1 FMR',\n",
       " 'PRC Percussion 4 FMR',\n",
       " 'PRC Xylophone FMR',\n",
       " 'PRC Synth Gamelan FMR',\n",
       " 'PRC Dual SynRes Percussion FMR',\n",
       " 'PRC Percussion 3 FMR',\n",
       " 'PRC Popcorn FMR',\n",
       " 'PRC Pizzicato Sound 2 FMR',\n",
       " 'PRC Clicks FMR',\n",
       " 'PRC Pizzicato Sound 1 FMR',\n",
       " 'PRC Crystal Bells FMR',\n",
       " 'PRC Glockenspiel FMR',\n",
       " 'PRC Steel Drum FMR',\n",
       " 'PRC The Tech Pluck FMR',\n",
       " 'SYN Harpsynth Poly FMR',\n",
       " 'SYN Phase Combination FMR',\n",
       " 'SYN Raw Saw-Sub FMR',\n",
       " 'SYN Please Release Me FMR',\n",
       " 'SYN Slow Polysynth FMR',\n",
       " 'SYN Percussive Polysynth FMR',\n",
       " 'SYN VH Jump FMR',\n",
       " 'SYN PWM FMR',\n",
       " 'SYN PWM Chorus C FMR',\n",
       " 'SYN Space Harp FMR',\n",
       " 'SYN Dreamy Poly FMR',\n",
       " 'SYN Reed 2 FMR',\n",
       " 'SYN Gated Bright Synth FMR',\n",
       " 'SYN PWM Sound FMR',\n",
       " 'SYN Chariots VG Harp FMR',\n",
       " 'SYN PWM Chorus B FMR',\n",
       " 'SYN Raw Saw-Square FMR',\n",
       " 'SYN Synthesizer Harp FMR',\n",
       " 'SYN Synth Harp LFO FMR',\n",
       " 'SYN Dynamic Polysynth FMR',\n",
       " 'SYN Wah Brass FMR',\n",
       " 'SYN Harpe Laser FMR',\n",
       " 'SYN Fluctuation Keys FMR',\n",
       " 'LED Big Lead 2 FMR',\n",
       " 'LED Sing Like a Cat FMR',\n",
       " 'LED Spartacus III FMR',\n",
       " 'LED Calliope FMR',\n",
       " 'LED Spartacus IV FMR',\n",
       " 'LED Spartacus II FMR',\n",
       " 'LED Reed 1 FMR',\n",
       " 'LED Big Lead 1 FMR',\n",
       " 'LED Flutey Vibrato Solo FMR',\n",
       " 'LED Silk Road Lead FMR',\n",
       " 'LED Reed 3 FMR',\n",
       " 'LED PWM Lead FMR',\n",
       " 'LED Violin FMR',\n",
       " 'LED Square Lead FMR',\n",
       " 'LED Meeaow Lead FMR',\n",
       " 'LED LFO Lead FMR',\n",
       " 'LED Tin Whistle FMR',\n",
       " 'DRN Deep Drone FMR',\n",
       " 'DRN LFO and Echo Drone FMR',\n",
       " 'DRN Waving Bass Drone FMR',\n",
       " 'DRN JX-3P Drone FMR',\n",
       " 'DRN Sequence Like Drone FMR',\n",
       " 'CHO Church Choir FMR',\n",
       " 'CHO PWM Chorus A FMR',\n",
       " 'CHO Voice Chorus FMR',\n",
       " 'CHO Voice Chorus Too FMR',\n",
       " 'ARP Swinging Arpeggio FMR',\n",
       " 'ARP PWM LFO Arpeggio FMR',\n",
       " 'ARP Bass Arpeggio FMR',\n",
       " 'ARP KS-TD Arpeggio FMR',\n",
       " 'ARP Play Just One Note FMR',\n",
       " 'ARP Random Arpeggiated PWM FMR',\n",
       " 'ARP String Machine Arpeggio FMR',\n",
       " 'ARP Ravers Arp FMR',\n",
       " 'ARP Cold Thinking Arpeggio FMR',\n",
       " 'ARP Berlin School Arpeggio FMR',\n",
       " 'ARP Wisteria Spot FMR',\n",
       " 'ARP Stringish Arp FMR',\n",
       " 'ARP Circles Arpeggio FMR',\n",
       " 'MFX Mysterious Invention FMR',\n",
       " 'MFX LFO and Echo FMR',\n",
       " 'MFX Space Sound 3 FMR',\n",
       " 'MFX Effect Sound Six FMR',\n",
       " 'MFX Effect Sound Three FMR',\n",
       " 'MFX Effect Sound Five FMR',\n",
       " 'MFX Space Sound 1 FMR',\n",
       " 'MFX Spartacus VIII FMR',\n",
       " 'MFX Effect Sound 76 FMR',\n",
       " 'MFX Low Harp Endless Tail FMR',\n",
       " 'MFX Effect Sound One FMR',\n",
       " 'MFX Effect Sound Four FMR',\n",
       " 'MFX Inverted Filter PWM FMR',\n",
       " 'MFX Space Sound 2 FMR',\n",
       " 'MFX Effect Sound Two FMR',\n",
       " 'MFX Effect Sound Seven FMR',\n",
       " 'KBD Celesta FMR',\n",
       " 'KBD Funk B FMR',\n",
       " 'KBD Harpsichord 1 FMR',\n",
       " 'KBD Harpsichord 2 FMR',\n",
       " 'KBD Funk A FMR',\n",
       " 'KBD Classic Clavinet FMR',\n",
       " 'KBD Clavichord 2 FMR',\n",
       " 'KBD Clavichord 1 FMR',\n",
       " 'KBD Synthi Clavinet FMR',\n",
       " 'The Difference Bass',\n",
       " 'The Difference Trumpet Synth',\n",
       " 'MT Norton Commander',\n",
       " 'MT Numb',\n",
       " 'MT Tailwhip Xylophone',\n",
       " 'MT Tailwhip Lead',\n",
       " 'MT Tailwhip Organ',\n",
       " '67 Mysterious Invention',\n",
       " '56 Reed 2',\n",
       " '63 Effect Sound 2',\n",
       " '57 Reed 3',\n",
       " '17 Brass',\n",
       " '54 Reed 1',\n",
       " '65 Funk',\n",
       " '25 Harpsichord 1',\n",
       " '62 Effect Sound 1',\n",
       " '73 Whistle',\n",
       " '23 Celesta',\n",
       " '28 Synthesizer Harp',\n",
       " '53 Phase Combination',\n",
       " '14 Organ 1',\n",
       " '64 Space Harp',\n",
       " '35 Pizzicato Sound 1',\n",
       " '71 Percussive Sound 1',\n",
       " '11 Strings 1',\n",
       " '44 Tuba',\n",
       " '41 Violine',\n",
       " '46 Clarinet',\n",
       " '12 Strings 2',\n",
       " '45 Flute',\n",
       " '58 PWM Chorus',\n",
       " '34 Clavichord 2',\n",
       " '13 Strings 3',\n",
       " '22 Piano 2',\n",
       " '15 Organ 2',\n",
       " '52 Wah Brass',\n",
       " '68 Space Sound 2',\n",
       " '51 Funny Cat',\n",
       " '33 Clavichord 1',\n",
       " '48 English Horn',\n",
       " '21 Piano 1',\n",
       " '38 Glockenspiel',\n",
       " '61 Synthesizer Organ',\n",
       " '78 Synthesizer Drum',\n",
       " '74 Effect Sound 3',\n",
       " '47 Oboe',\n",
       " '36 Pizzicato Sound 2',\n",
       " '76 Space Sound 3',\n",
       " '18 Phase Brass',\n",
       " '32 Bass 2',\n",
       " '31 Bass 1',\n",
       " '77 Surf',\n",
       " '72 Percussive Sound 2',\n",
       " '27 Guitar',\n",
       " '66 Space Sound 1',\n",
       " '37 Xylophone',\n",
       " '43 Horn',\n",
       " '26 Harpsichord 2',\n",
       " '24 Mellow Piano',\n",
       " '42 Trumpet',\n",
       " '16 Organ 3',\n",
       " '75 UFO',\n",
       " '55 Popcorn']"
      ]
     },
     "execution_count": 4,
     "metadata": {},
     "output_type": "execute_result"
    }
   ],
   "source": [
    "dataset['preset_names']"
   ]
  },
  {
   "cell_type": "code",
   "execution_count": 5,
   "metadata": {},
   "outputs": [],
   "source": [
    "# we need to convert the preset names to a categorical variable in order to group the points in the scatter plot\n",
    "categorized_names = {name: categorize_name(name) for name in dataset['preset_names']}"
   ]
  },
  {
   "cell_type": "code",
   "execution_count": 6,
   "metadata": {},
   "outputs": [
    {
     "data": {
      "text/plain": [
       "{'Default': 'Miscellaneous/Other',\n",
       " 'MT Tailwhip Organ (2)': 'Organs',\n",
       " 'Super Jumper': 'Miscellaneous/Other',\n",
       " 'Nice Filter Sweep': 'Miscellaneous/Other',\n",
       " 'Chillin R2D2': 'Miscellaneous/Other',\n",
       " 'Deep Drop In': 'Miscellaneous/Other',\n",
       " 'Enter the Twirl': 'Miscellaneous/Other',\n",
       " 'Water Love': 'Miscellaneous/Other',\n",
       " 'Pulse Drop': 'Miscellaneous/Other',\n",
       " 'Phasing Island Bass': 'Bass',\n",
       " 'Mono Pulse Bass': 'Bass',\n",
       " '08-15 Bass': 'Bass',\n",
       " 'Classic Saw Bass': 'Bass',\n",
       " 'Funky Mod Bass': 'Bass',\n",
       " 'Ultra Deep Bass': 'Bass',\n",
       " 'Basic Pad': 'Miscellaneous/Other',\n",
       " 'Apollo Pad': 'Miscellaneous/Other',\n",
       " 'Pulse Drop Pad': 'Miscellaneous/Other',\n",
       " 'Self Destroy': 'Miscellaneous/Other',\n",
       " 'Big Lead': 'Leads',\n",
       " 'Double Chorus Trancer': 'Miscellaneous/Other',\n",
       " 'Super Funky Lead': 'Leads',\n",
       " 'Startup': 'Miscellaneous/Other',\n",
       " 'Ugly One': 'Miscellaneous/Other',\n",
       " 'Disharmonic feedback': 'Miscellaneous/Other',\n",
       " 'Slow Phaser': 'Miscellaneous/Other',\n",
       " 'Eso Drops': 'Miscellaneous/Other',\n",
       " 'Dark Roads': 'Miscellaneous/Other',\n",
       " 'Mellow LoFi Lead': 'Leads',\n",
       " 'Crystal Drops': 'Miscellaneous/Other',\n",
       " 'Dream Arp': 'Arpeggios',\n",
       " 'FN-Bassliner-BAS': 'Bass',\n",
       " 'FN-Dark Bass II-BAS': 'Bass',\n",
       " 'FN-Flow Bass-BAS': 'Bass',\n",
       " 'FN-High Noise-BAS': 'Bass',\n",
       " 'FN-Wobblelike Bass-BAS': 'Bass',\n",
       " 'FN-Dark Bass-BAS': 'Bass',\n",
       " 'FN-Nostalgic Bass-BAS': 'Bass',\n",
       " 'FN-C64ish Bass': 'Bass',\n",
       " 'FN-Basslover': 'Bass',\n",
       " 'FN-Bass Wobbler-BAS': 'Bass',\n",
       " 'FN-Wobblebass-BAS': 'Bass',\n",
       " 'FN-Dark Night-PAD': 'Synth Pads',\n",
       " 'FN-Analog Feeling-PAD': 'Synth Pads',\n",
       " 'FN-Blubberfeld-PAD': 'Synth Pads',\n",
       " 'FN-Noisia-PAD': 'Synth Pads',\n",
       " 'FN-Darpesh Pad-PAD': 'Synth Pads',\n",
       " 'FN-Restless Night-PAD': 'Synth Pads',\n",
       " 'FN-Analog Pad-PAD': 'Synth Pads',\n",
       " 'FN-RollinSun-PAD': 'Synth Pads',\n",
       " 'FN-Flowing Filter-PAD': 'Synth Pads',\n",
       " 'FN-Experimental-PAD': 'Synth Pads',\n",
       " 'FN-Keep It Noisy!': 'Miscellaneous/Other',\n",
       " 'FN-Digital Feeling': 'Miscellaneous/Other',\n",
       " 'FN-Analog Lead-FN': 'Leads',\n",
       " 'FN-Enjoy My C64': 'Miscellaneous/Other',\n",
       " 'FN-Nostalgicer Lead-LEA': 'Leads',\n",
       " 'FN-Plastic Lead-LEA': 'Leads',\n",
       " 'FN-I Need Lead-LEA': 'Leads',\n",
       " 'FN-Easy Listening': 'Miscellaneous/Other',\n",
       " 'FN-A Little Something-LEA': 'Miscellaneous/Other',\n",
       " 'FN-Doubleplayer': 'Miscellaneous/Other',\n",
       " 'FN-Free Willy-ARP': 'Arpeggios',\n",
       " 'FN-Resonanzig': 'Miscellaneous/Other',\n",
       " 'FN-Filter Lead-LEA': 'Leads',\n",
       " 'FN-Chordmachine-KEY': 'Pianos & Keyboards',\n",
       " 'FN-Easy Keys': 'Pianos & Keyboards',\n",
       " 'FN-Chordmachine II-KEY': 'Pianos & Keyboards',\n",
       " 'FN-Small Keys-KEY': 'Pianos & Keyboards',\n",
       " 'FN-Low Keys-KEY': 'Pianos & Keyboards',\n",
       " 'FN-Backwards ARP': 'Arpeggios',\n",
       " 'FN-Anastyle-ARP': 'Arpeggios',\n",
       " 'FN-Percussive Plugger2-ARP': 'Arpeggios',\n",
       " 'FN-Percussive Plugger-ARP': 'Arpeggios',\n",
       " 'FN-Pluggiolator-ARP': 'Arpeggios',\n",
       " 'FN-C64ish Arp': 'Arpeggios',\n",
       " 'FN-Bass Lover-ARP': 'Bass',\n",
       " 'FN-Anastyle II-ARP': 'Arpeggios',\n",
       " 'FN-One Finger Show-ARP': 'Arpeggios',\n",
       " 'FN-Percussive Plugger3-ARP': 'Arpeggios',\n",
       " 'FN-Rhytmic Noise-ARP': 'Arpeggios',\n",
       " 'SFX UFO Landing FMR': 'Miscellaneous/Other',\n",
       " 'SFX Surfing the Waves FMR': 'Miscellaneous/Other',\n",
       " 'SFX Noise Bubbles FMR': 'Miscellaneous/Other',\n",
       " 'SFX Space Sound 4 FMR': 'Miscellaneous/Other',\n",
       " 'PNO Piano 2 FMR': 'Pianos & Keyboards',\n",
       " 'PNO Another E P FMR': 'Pianos & Keyboards',\n",
       " 'PNO Classic E P FMR': 'Pianos & Keyboards',\n",
       " 'PNO Sweet Tines FMR': 'Pianos & Keyboards',\n",
       " 'PNO Piano 1 FMR': 'Pianos & Keyboards',\n",
       " 'PNO Mellow Piano FMR': 'Pianos & Keyboards',\n",
       " 'PNO Bright Rhodes FMR': 'Pianos & Keyboards',\n",
       " 'STR String Machine FMR': 'Strings',\n",
       " 'STR PWM Strings 2 FMR': 'Strings',\n",
       " 'STR Strings 1 FMR': 'Strings',\n",
       " 'STR Eminent Strings FMR': 'Strings',\n",
       " 'STR Strings 2 FMR': 'Strings',\n",
       " 'STR PWM Strings 1 FMR': 'Strings',\n",
       " 'STR Spartacus VI FMR': 'Strings',\n",
       " 'STR String Ensemble FMR': 'Strings',\n",
       " 'STR Prophet Strings FMR': 'Strings',\n",
       " 'STR Soft Strings FMR': 'Strings',\n",
       " 'STR Low Strings FMR': 'Strings',\n",
       " 'STR Full Strings FMR': 'Strings',\n",
       " 'STR Spartacus VII FMR': 'Strings',\n",
       " 'STR Strings 3 FMR': 'Strings',\n",
       " 'ORG Organ 2 FMR': 'Organs',\n",
       " 'ORG Another Organ FMR': 'Organs',\n",
       " 'ORG Spartacus IX FMR': 'Organs',\n",
       " 'ORG Jazz Organ FMR': 'Organs',\n",
       " 'ORG Spartacus XI FMR': 'Organs',\n",
       " 'ORG Spartacus XII FMR': 'Organs',\n",
       " 'ORG Church Organ Positive FMR': 'Organs',\n",
       " 'ORG Church Organ Gated FMR': 'Organs',\n",
       " 'ORG Organ 1 FMR': 'Organs',\n",
       " 'ORG Spartacus X FMR': 'Organs',\n",
       " 'ORG Church Organ Full Pipes 1 FMR': 'Organs',\n",
       " 'ORG Synthesizer Organ 2 FMR': 'Organs',\n",
       " 'ORG Organ 3 FMR': 'Organs',\n",
       " 'ORG Synthesizer Organ 1 FMR': 'Organs',\n",
       " 'ORG Church Organ Full Pipes 2 FMR': 'Organs',\n",
       " 'DRM Synth Drum 1 FMR': 'Miscellaneous/Other',\n",
       " 'DRM Snare Gun FMR': 'Miscellaneous/Other',\n",
       " 'DRM Snare Drum 2 FMR': 'Miscellaneous/Other',\n",
       " 'DRM Kick Drum 3 FMR': 'Miscellaneous/Other',\n",
       " 'DRM Ride Cymbal FMR': 'Miscellaneous/Other',\n",
       " 'DRM Snare Drum 1 FMR': 'Miscellaneous/Other',\n",
       " 'DRM Snare Drum 4 FMR': 'Miscellaneous/Other',\n",
       " 'DRM Synth Drum 2 FMR': 'Miscellaneous/Other',\n",
       " 'DRM Kick Drum 2 FMR': 'Miscellaneous/Other',\n",
       " 'DRM Kick and Snap FMR': 'Miscellaneous/Other',\n",
       " 'DRM Snare Drum 3 FMR': 'Miscellaneous/Other',\n",
       " 'DRM Hi-Hat Opened FMR': 'Miscellaneous/Other',\n",
       " 'DRM Crash Cymbal FMR': 'Miscellaneous/Other',\n",
       " 'DRM Synth Drum 3 FMR': 'Miscellaneous/Other',\n",
       " 'DRM Kick Drum and Toms FMR': 'Miscellaneous/Other',\n",
       " 'DRM Hi-Hat Closed FMR': 'Miscellaneous/Other',\n",
       " 'DRM Kick Drum 1 FMR': 'Miscellaneous/Other',\n",
       " 'WND English Horn FMR': 'Brass & Woodwinds',\n",
       " 'WND Ocarina FMR': 'Brass & Woodwinds',\n",
       " 'WND Flute 1 FMR': 'Brass & Woodwinds',\n",
       " 'WND Flute 2 FMR': 'Brass & Woodwinds',\n",
       " 'WND Pan Flute FMR': 'Brass & Woodwinds',\n",
       " 'WND Oboe FMR': 'Brass & Woodwinds',\n",
       " 'WND Clarinet FMR': 'Brass & Woodwinds',\n",
       " 'WND Flauto Dolce FMR': 'Brass & Woodwinds',\n",
       " 'GTR Overdrive Guitar FMR': 'Guitars',\n",
       " 'GTR Chorused Ovation FMR': 'Guitars',\n",
       " 'GTR Jazz Guitar FMR': 'Guitars',\n",
       " 'GTR Steel String Guitar FMR': 'Guitars',\n",
       " 'GTR Acoustic Guitar FMR': 'Guitars',\n",
       " 'BRS Brass 2 FMR': 'Brass & Woodwinds',\n",
       " 'BRS French Horn FMR': 'Brass & Woodwinds',\n",
       " 'BRS Brass Pad 1 FMR': 'Brass & Woodwinds',\n",
       " 'BRS Tuba FMR': 'Brass & Woodwinds',\n",
       " 'BRS Brass Pad 2 FMR': 'Brass & Woodwinds',\n",
       " 'BRS Brass 1 FMR': 'Brass & Woodwinds',\n",
       " 'BRS Low Brass FMR': 'Brass & Woodwinds',\n",
       " 'BRS Phase Brass FMR': 'Brass & Woodwinds',\n",
       " 'BRS Trumpet FMR': 'Brass & Woodwinds',\n",
       " 'BRS Brass 3 FMR': 'Brass & Woodwinds',\n",
       " 'BRS Prophet Brass FMR': 'Brass & Woodwinds',\n",
       " 'BRS Brass Pad 3 FMR': 'Brass & Woodwinds',\n",
       " 'BAS Square Bass FMR': 'Bass',\n",
       " 'BAS Pulse Bass 1 FMR': 'Bass',\n",
       " 'BAS Acid Bass 2 FMR': 'Bass',\n",
       " 'BAS Acid Bass 1 FMR': 'Bass',\n",
       " 'BAS Acid Bass 4 FMR': 'Bass',\n",
       " 'BAS Pulse Bass 2 FMR': 'Bass',\n",
       " 'BAS Round Bass 2 FMR': 'Bass',\n",
       " 'BAS Synth Bass 2 FMR': 'Bass',\n",
       " 'BAS Acid Bass 3 FMR': 'Bass',\n",
       " 'BAS Wire Bass FMR': 'Bass',\n",
       " 'BAS Love Bass FMR': 'Bass',\n",
       " 'BAS Hooverish Bass FMR': 'Bass',\n",
       " 'BAS Basso Profondo FMR': 'Bass',\n",
       " 'BAS Synth Bass 1 FMR': 'Bass',\n",
       " 'BAS Round Bass 1 FMR': 'Bass',\n",
       " 'PAD Rise the Pulse FMR': 'Synth Pads',\n",
       " 'PAD Spartacus I FMR': 'Synth Pads',\n",
       " 'PAD Spartacus V FMR': 'Synth Pads',\n",
       " 'PAD Reso Pad FMR': 'Synth Pads',\n",
       " 'PAD Metal Rotor Pad FMR': 'Synth Pads',\n",
       " 'PAD Classic Sweep Pad FMR': 'Synth Pads',\n",
       " 'PAD Dive Into The Deep FMR': 'Synth Pads',\n",
       " 'PAD Meditation Pad 3 FMR': 'Synth Pads',\n",
       " 'PAD Forever Pad FMR': 'Synth Pads',\n",
       " 'PAD Hoiy Mass FMR': 'Synth Pads',\n",
       " 'PAD Woosh Pad FMR': 'Synth Pads',\n",
       " 'PAD Massive Pad 1 FMR': 'Synth Pads',\n",
       " 'PAD Big Synth Pad 2 FMR': 'Synth Pads',\n",
       " 'PAD This Is It FMR': 'Synth Pads',\n",
       " 'PAD Meditation Pad 1 FMR': 'Synth Pads',\n",
       " 'PAD Chariots VG Brass FMR': 'Synth Pads',\n",
       " 'PAD Bass Pad FMR': 'Synth Pads',\n",
       " 'PAD PWM Pad FMR': 'Synth Pads',\n",
       " 'PAD Meditation Pad 2 FMR': 'Synth Pads',\n",
       " 'PAD Big Synth Pad 1 FMR': 'Synth Pads',\n",
       " 'PAD Massive Pad 2 FMR': 'Synth Pads',\n",
       " 'PAD High Res Pad FMR': 'Synth Pads',\n",
       " 'PRC Chiff Attack FMR': 'Miscellaneous/Other',\n",
       " 'PRC Percussion 2 FMR': 'Miscellaneous/Other',\n",
       " 'PRC Thump Bass Drum FMR': 'Bass',\n",
       " 'PRC Percussion 1 FMR': 'Miscellaneous/Other',\n",
       " 'PRC Percussion 4 FMR': 'Miscellaneous/Other',\n",
       " 'PRC Xylophone FMR': 'Miscellaneous/Other',\n",
       " 'PRC Synth Gamelan FMR': 'Miscellaneous/Other',\n",
       " 'PRC Dual SynRes Percussion FMR': 'Miscellaneous/Other',\n",
       " 'PRC Percussion 3 FMR': 'Miscellaneous/Other',\n",
       " 'PRC Popcorn FMR': 'Miscellaneous/Other',\n",
       " 'PRC Pizzicato Sound 2 FMR': 'Miscellaneous/Other',\n",
       " 'PRC Clicks FMR': 'Miscellaneous/Other',\n",
       " 'PRC Pizzicato Sound 1 FMR': 'Miscellaneous/Other',\n",
       " 'PRC Crystal Bells FMR': 'Miscellaneous/Other',\n",
       " 'PRC Glockenspiel FMR': 'Miscellaneous/Other',\n",
       " 'PRC Steel Drum FMR': 'Miscellaneous/Other',\n",
       " 'PRC The Tech Pluck FMR': 'Miscellaneous/Other',\n",
       " 'SYN Harpsynth Poly FMR': 'Miscellaneous/Other',\n",
       " 'SYN Phase Combination FMR': 'Miscellaneous/Other',\n",
       " 'SYN Raw Saw-Sub FMR': 'Miscellaneous/Other',\n",
       " 'SYN Please Release Me FMR': 'Miscellaneous/Other',\n",
       " 'SYN Slow Polysynth FMR': 'Miscellaneous/Other',\n",
       " 'SYN Percussive Polysynth FMR': 'Miscellaneous/Other',\n",
       " 'SYN VH Jump FMR': 'Miscellaneous/Other',\n",
       " 'SYN PWM FMR': 'Miscellaneous/Other',\n",
       " 'SYN PWM Chorus C FMR': 'Miscellaneous/Other',\n",
       " 'SYN Space Harp FMR': 'Miscellaneous/Other',\n",
       " 'SYN Dreamy Poly FMR': 'Miscellaneous/Other',\n",
       " 'SYN Reed 2 FMR': 'Miscellaneous/Other',\n",
       " 'SYN Gated Bright Synth FMR': 'Miscellaneous/Other',\n",
       " 'SYN PWM Sound FMR': 'Miscellaneous/Other',\n",
       " 'SYN Chariots VG Harp FMR': 'Miscellaneous/Other',\n",
       " 'SYN PWM Chorus B FMR': 'Miscellaneous/Other',\n",
       " 'SYN Raw Saw-Square FMR': 'Miscellaneous/Other',\n",
       " 'SYN Synthesizer Harp FMR': 'Miscellaneous/Other',\n",
       " 'SYN Synth Harp LFO FMR': 'Miscellaneous/Other',\n",
       " 'SYN Dynamic Polysynth FMR': 'Miscellaneous/Other',\n",
       " 'SYN Wah Brass FMR': 'Brass & Woodwinds',\n",
       " 'SYN Harpe Laser FMR': 'Miscellaneous/Other',\n",
       " 'SYN Fluctuation Keys FMR': 'Pianos & Keyboards',\n",
       " 'LED Big Lead 2 FMR': 'Leads',\n",
       " 'LED Sing Like a Cat FMR': 'Leads',\n",
       " 'LED Spartacus III FMR': 'Leads',\n",
       " 'LED Calliope FMR': 'Leads',\n",
       " 'LED Spartacus IV FMR': 'Leads',\n",
       " 'LED Spartacus II FMR': 'Leads',\n",
       " 'LED Reed 1 FMR': 'Leads',\n",
       " 'LED Big Lead 1 FMR': 'Leads',\n",
       " 'LED Flutey Vibrato Solo FMR': 'Leads',\n",
       " 'LED Silk Road Lead FMR': 'Leads',\n",
       " 'LED Reed 3 FMR': 'Leads',\n",
       " 'LED PWM Lead FMR': 'Leads',\n",
       " 'LED Violin FMR': 'Leads',\n",
       " 'LED Square Lead FMR': 'Leads',\n",
       " 'LED Meeaow Lead FMR': 'Leads',\n",
       " 'LED LFO Lead FMR': 'Leads',\n",
       " 'LED Tin Whistle FMR': 'Leads',\n",
       " 'DRN Deep Drone FMR': 'Miscellaneous/Other',\n",
       " 'DRN LFO and Echo Drone FMR': 'Miscellaneous/Other',\n",
       " 'DRN Waving Bass Drone FMR': 'Bass',\n",
       " 'DRN JX-3P Drone FMR': 'Miscellaneous/Other',\n",
       " 'DRN Sequence Like Drone FMR': 'Miscellaneous/Other',\n",
       " 'CHO Church Choir FMR': 'Miscellaneous/Other',\n",
       " 'CHO PWM Chorus A FMR': 'Miscellaneous/Other',\n",
       " 'CHO Voice Chorus FMR': 'Miscellaneous/Other',\n",
       " 'CHO Voice Chorus Too FMR': 'Miscellaneous/Other',\n",
       " 'ARP Swinging Arpeggio FMR': 'Arpeggios',\n",
       " 'ARP PWM LFO Arpeggio FMR': 'Arpeggios',\n",
       " 'ARP Bass Arpeggio FMR': 'Bass',\n",
       " 'ARP KS-TD Arpeggio FMR': 'Arpeggios',\n",
       " 'ARP Play Just One Note FMR': 'Arpeggios',\n",
       " 'ARP Random Arpeggiated PWM FMR': 'Arpeggios',\n",
       " 'ARP String Machine Arpeggio FMR': 'Arpeggios',\n",
       " 'ARP Ravers Arp FMR': 'Arpeggios',\n",
       " 'ARP Cold Thinking Arpeggio FMR': 'Arpeggios',\n",
       " 'ARP Berlin School Arpeggio FMR': 'Arpeggios',\n",
       " 'ARP Wisteria Spot FMR': 'Arpeggios',\n",
       " 'ARP Stringish Arp FMR': 'Arpeggios',\n",
       " 'ARP Circles Arpeggio FMR': 'Arpeggios',\n",
       " 'MFX Mysterious Invention FMR': 'Miscellaneous/Other',\n",
       " 'MFX LFO and Echo FMR': 'Miscellaneous/Other',\n",
       " 'MFX Space Sound 3 FMR': 'Miscellaneous/Other',\n",
       " 'MFX Effect Sound Six FMR': 'Miscellaneous/Other',\n",
       " 'MFX Effect Sound Three FMR': 'Miscellaneous/Other',\n",
       " 'MFX Effect Sound Five FMR': 'Miscellaneous/Other',\n",
       " 'MFX Space Sound 1 FMR': 'Miscellaneous/Other',\n",
       " 'MFX Spartacus VIII FMR': 'Miscellaneous/Other',\n",
       " 'MFX Effect Sound 76 FMR': 'Miscellaneous/Other',\n",
       " 'MFX Low Harp Endless Tail FMR': 'Miscellaneous/Other',\n",
       " 'MFX Effect Sound One FMR': 'Miscellaneous/Other',\n",
       " 'MFX Effect Sound Four FMR': 'Miscellaneous/Other',\n",
       " 'MFX Inverted Filter PWM FMR': 'Miscellaneous/Other',\n",
       " 'MFX Space Sound 2 FMR': 'Miscellaneous/Other',\n",
       " 'MFX Effect Sound Two FMR': 'Miscellaneous/Other',\n",
       " 'MFX Effect Sound Seven FMR': 'Miscellaneous/Other',\n",
       " 'KBD Celesta FMR': 'Pianos & Keyboards',\n",
       " 'KBD Funk B FMR': 'Pianos & Keyboards',\n",
       " 'KBD Harpsichord 1 FMR': 'Pianos & Keyboards',\n",
       " 'KBD Harpsichord 2 FMR': 'Pianos & Keyboards',\n",
       " 'KBD Funk A FMR': 'Pianos & Keyboards',\n",
       " 'KBD Classic Clavinet FMR': 'Pianos & Keyboards',\n",
       " 'KBD Clavichord 2 FMR': 'Pianos & Keyboards',\n",
       " 'KBD Clavichord 1 FMR': 'Pianos & Keyboards',\n",
       " 'KBD Synthi Clavinet FMR': 'Pianos & Keyboards',\n",
       " 'The Difference Bass': 'Bass',\n",
       " 'The Difference Trumpet Synth': 'Brass & Woodwinds',\n",
       " 'MT Norton Commander': 'Miscellaneous/Other',\n",
       " 'MT Numb': 'Miscellaneous/Other',\n",
       " 'MT Tailwhip Xylophone': 'Miscellaneous/Other',\n",
       " 'MT Tailwhip Lead': 'Leads',\n",
       " 'MT Tailwhip Organ': 'Organs',\n",
       " '67 Mysterious Invention': 'Miscellaneous/Other',\n",
       " '56 Reed 2': 'Miscellaneous/Other',\n",
       " '63 Effect Sound 2': 'Miscellaneous/Other',\n",
       " '57 Reed 3': 'Miscellaneous/Other',\n",
       " '17 Brass': 'Brass & Woodwinds',\n",
       " '54 Reed 1': 'Miscellaneous/Other',\n",
       " '65 Funk': 'Miscellaneous/Other',\n",
       " '25 Harpsichord 1': 'Pianos & Keyboards',\n",
       " '62 Effect Sound 1': 'Miscellaneous/Other',\n",
       " '73 Whistle': 'Miscellaneous/Other',\n",
       " '23 Celesta': 'Pianos & Keyboards',\n",
       " '28 Synthesizer Harp': 'Miscellaneous/Other',\n",
       " '53 Phase Combination': 'Miscellaneous/Other',\n",
       " '14 Organ 1': 'Organs',\n",
       " '64 Space Harp': 'Miscellaneous/Other',\n",
       " '35 Pizzicato Sound 1': 'Miscellaneous/Other',\n",
       " '71 Percussive Sound 1': 'Miscellaneous/Other',\n",
       " '11 Strings 1': 'Strings',\n",
       " '44 Tuba': 'Miscellaneous/Other',\n",
       " '41 Violine': 'Strings',\n",
       " '46 Clarinet': 'Brass & Woodwinds',\n",
       " '12 Strings 2': 'Strings',\n",
       " '45 Flute': 'Brass & Woodwinds',\n",
       " '58 PWM Chorus': 'Miscellaneous/Other',\n",
       " '34 Clavichord 2': 'Pianos & Keyboards',\n",
       " '13 Strings 3': 'Strings',\n",
       " '22 Piano 2': 'Pianos & Keyboards',\n",
       " '15 Organ 2': 'Organs',\n",
       " '52 Wah Brass': 'Brass & Woodwinds',\n",
       " '68 Space Sound 2': 'Miscellaneous/Other',\n",
       " '51 Funny Cat': 'Miscellaneous/Other',\n",
       " '33 Clavichord 1': 'Pianos & Keyboards',\n",
       " '48 English Horn': 'Brass & Woodwinds',\n",
       " '21 Piano 1': 'Pianos & Keyboards',\n",
       " '38 Glockenspiel': 'Miscellaneous/Other',\n",
       " '61 Synthesizer Organ': 'Organs',\n",
       " '78 Synthesizer Drum': 'Miscellaneous/Other',\n",
       " '74 Effect Sound 3': 'Miscellaneous/Other',\n",
       " '47 Oboe': 'Brass & Woodwinds',\n",
       " '36 Pizzicato Sound 2': 'Miscellaneous/Other',\n",
       " '76 Space Sound 3': 'Miscellaneous/Other',\n",
       " '18 Phase Brass': 'Brass & Woodwinds',\n",
       " '32 Bass 2': 'Bass',\n",
       " '31 Bass 1': 'Bass',\n",
       " '77 Surf': 'Miscellaneous/Other',\n",
       " '72 Percussive Sound 2': 'Miscellaneous/Other',\n",
       " '27 Guitar': 'Guitars',\n",
       " '66 Space Sound 1': 'Miscellaneous/Other',\n",
       " '37 Xylophone': 'Miscellaneous/Other',\n",
       " '43 Horn': 'Brass & Woodwinds',\n",
       " '26 Harpsichord 2': 'Pianos & Keyboards',\n",
       " '24 Mellow Piano': 'Pianos & Keyboards',\n",
       " '42 Trumpet': 'Brass & Woodwinds',\n",
       " '16 Organ 3': 'Organs',\n",
       " '75 UFO': 'Miscellaneous/Other',\n",
       " '55 Popcorn': 'Miscellaneous/Other'}"
      ]
     },
     "execution_count": 6,
     "metadata": {},
     "output_type": "execute_result"
    }
   ],
   "source": [
    "categorized_names"
   ]
  },
  {
   "cell_type": "markdown",
   "metadata": {},
   "source": [
    "## Create the Pandas DataFrame for Input to the TSNE Plot\n",
    "\n",
    "---\n",
    "\n",
    "We need to put our dataset into a form that is friendly for the TSNE plot. Specifically, we plan to put everything into an ordered table, a Pandas DataFrame.  "
   ]
  },
  {
   "cell_type": "code",
   "execution_count": 7,
   "metadata": {},
   "outputs": [],
   "source": [
    "# initialize a pandas dataframe\n",
    "df = pd.DataFrame()"
   ]
  },
  {
   "cell_type": "code",
   "execution_count": 8,
   "metadata": {},
   "outputs": [],
   "source": [
    "# add a column for the preset names\n",
    "df['preset_name'] = dataset['preset_names']\n",
    "\n",
    "# add a column for the categorized preset names\n",
    "df['categorized_name'] = [categorized_names[name] for name in dataset['preset_names']]\n",
    "\n",
    "# add a column for the MFCC features (should we normalize these?)\n",
    "df['musicnn_features'] = [torch.tensor(wav2spec(x['C3'].numpy(), 44010)) for x in dataset['raw_audio']] # for now, use C3, we can try other notes and see if we get different results.\n",
    "\n",
    "# normalize the musicnn features\n",
    "df['musicnn_features'] = [normalize_zero_to_one(x) for x in df['musicnn_features']]"
   ]
  },
  {
   "cell_type": "code",
   "execution_count": 9,
   "metadata": {},
   "outputs": [
    {
     "data": {
      "text/html": [
       "<div>\n",
       "<style scoped>\n",
       "    .dataframe tbody tr th:only-of-type {\n",
       "        vertical-align: middle;\n",
       "    }\n",
       "\n",
       "    .dataframe tbody tr th {\n",
       "        vertical-align: top;\n",
       "    }\n",
       "\n",
       "    .dataframe thead th {\n",
       "        text-align: right;\n",
       "    }\n",
       "</style>\n",
       "<table border=\"1\" class=\"dataframe\">\n",
       "  <thead>\n",
       "    <tr style=\"text-align: right;\">\n",
       "      <th></th>\n",
       "      <th>preset_name</th>\n",
       "      <th>categorized_name</th>\n",
       "      <th>musicnn_features</th>\n",
       "    </tr>\n",
       "  </thead>\n",
       "  <tbody>\n",
       "    <tr>\n",
       "      <th>0</th>\n",
       "      <td>Default</td>\n",
       "      <td>Miscellaneous/Other</td>\n",
       "      <td>[[tensor(0.), tensor(0.), tensor(0.), tensor(0...</td>\n",
       "    </tr>\n",
       "    <tr>\n",
       "      <th>1</th>\n",
       "      <td>MT Tailwhip Organ (2)</td>\n",
       "      <td>Organs</td>\n",
       "      <td>[[tensor(0.), tensor(0.), tensor(0.), tensor(0...</td>\n",
       "    </tr>\n",
       "    <tr>\n",
       "      <th>2</th>\n",
       "      <td>Super Jumper</td>\n",
       "      <td>Miscellaneous/Other</td>\n",
       "      <td>[[tensor(0.), tensor(0.), tensor(0.), tensor(0...</td>\n",
       "    </tr>\n",
       "    <tr>\n",
       "      <th>3</th>\n",
       "      <td>Nice Filter Sweep</td>\n",
       "      <td>Miscellaneous/Other</td>\n",
       "      <td>[[tensor(0.), tensor(0.), tensor(0.), tensor(0...</td>\n",
       "    </tr>\n",
       "    <tr>\n",
       "      <th>4</th>\n",
       "      <td>Chillin R2D2</td>\n",
       "      <td>Miscellaneous/Other</td>\n",
       "      <td>[[tensor(0.), tensor(0.), tensor(0.), tensor(0...</td>\n",
       "    </tr>\n",
       "  </tbody>\n",
       "</table>\n",
       "</div>"
      ],
      "text/plain": [
       "             preset_name     categorized_name   \n",
       "0                Default  Miscellaneous/Other  \\\n",
       "1  MT Tailwhip Organ (2)               Organs   \n",
       "2           Super Jumper  Miscellaneous/Other   \n",
       "3      Nice Filter Sweep  Miscellaneous/Other   \n",
       "4           Chillin R2D2  Miscellaneous/Other   \n",
       "\n",
       "                                    musicnn_features  \n",
       "0  [[tensor(0.), tensor(0.), tensor(0.), tensor(0...  \n",
       "1  [[tensor(0.), tensor(0.), tensor(0.), tensor(0...  \n",
       "2  [[tensor(0.), tensor(0.), tensor(0.), tensor(0...  \n",
       "3  [[tensor(0.), tensor(0.), tensor(0.), tensor(0...  \n",
       "4  [[tensor(0.), tensor(0.), tensor(0.), tensor(0...  "
      ]
     },
     "execution_count": 9,
     "metadata": {},
     "output_type": "execute_result"
    }
   ],
   "source": [
    "# visualize the first few rows of df\n",
    "df.head(5)"
   ]
  },
  {
   "cell_type": "code",
   "execution_count": 10,
   "metadata": {},
   "outputs": [
    {
     "data": {
      "text/plain": [
       "367"
      ]
     },
     "execution_count": 10,
     "metadata": {},
     "output_type": "execute_result"
    }
   ],
   "source": [
    "len(df)"
   ]
  },
  {
   "cell_type": "code",
   "execution_count": 11,
   "metadata": {},
   "outputs": [
    {
     "data": {
      "text/plain": [
       "227"
      ]
     },
     "execution_count": 11,
     "metadata": {},
     "output_type": "execute_result"
    }
   ],
   "source": [
    "# remove all rows in the df that are miscellaneous or other\n",
    "df_filtered = df[df['categorized_name'] != 'Miscellaneous/Other']\n",
    "len(df_filtered)"
   ]
  },
  {
   "cell_type": "code",
   "execution_count": 12,
   "metadata": {},
   "outputs": [],
   "source": [
    "# reset the index of the dataframe\n",
    "df_filtered = df_filtered.reset_index(drop=True)"
   ]
  },
  {
   "cell_type": "code",
   "execution_count": 13,
   "metadata": {},
   "outputs": [
    {
     "data": {
      "text/plain": [
       "227"
      ]
     },
     "execution_count": 13,
     "metadata": {},
     "output_type": "execute_result"
    }
   ],
   "source": [
    "len(df_filtered)"
   ]
  },
  {
   "cell_type": "code",
   "execution_count": 14,
   "metadata": {},
   "outputs": [
    {
     "data": {
      "text/html": [
       "<div>\n",
       "<style scoped>\n",
       "    .dataframe tbody tr th:only-of-type {\n",
       "        vertical-align: middle;\n",
       "    }\n",
       "\n",
       "    .dataframe tbody tr th {\n",
       "        vertical-align: top;\n",
       "    }\n",
       "\n",
       "    .dataframe thead th {\n",
       "        text-align: right;\n",
       "    }\n",
       "</style>\n",
       "<table border=\"1\" class=\"dataframe\">\n",
       "  <thead>\n",
       "    <tr style=\"text-align: right;\">\n",
       "      <th></th>\n",
       "      <th>preset_name</th>\n",
       "      <th>categorized_name</th>\n",
       "      <th>musicnn_features</th>\n",
       "    </tr>\n",
       "  </thead>\n",
       "  <tbody>\n",
       "    <tr>\n",
       "      <th>0</th>\n",
       "      <td>MT Tailwhip Organ (2)</td>\n",
       "      <td>Organs</td>\n",
       "      <td>[[tensor(0.), tensor(0.), tensor(0.), tensor(0...</td>\n",
       "    </tr>\n",
       "    <tr>\n",
       "      <th>1</th>\n",
       "      <td>Phasing Island Bass</td>\n",
       "      <td>Bass</td>\n",
       "      <td>[[tensor(0.), tensor(0.), tensor(0.), tensor(0...</td>\n",
       "    </tr>\n",
       "    <tr>\n",
       "      <th>2</th>\n",
       "      <td>Mono Pulse Bass</td>\n",
       "      <td>Bass</td>\n",
       "      <td>[[tensor(0.), tensor(0.), tensor(0.), tensor(0...</td>\n",
       "    </tr>\n",
       "    <tr>\n",
       "      <th>3</th>\n",
       "      <td>08-15 Bass</td>\n",
       "      <td>Bass</td>\n",
       "      <td>[[tensor(0.), tensor(0.), tensor(0.), tensor(0...</td>\n",
       "    </tr>\n",
       "    <tr>\n",
       "      <th>4</th>\n",
       "      <td>Classic Saw Bass</td>\n",
       "      <td>Bass</td>\n",
       "      <td>[[tensor(0.), tensor(0.), tensor(0.), tensor(0...</td>\n",
       "    </tr>\n",
       "  </tbody>\n",
       "</table>\n",
       "</div>"
      ],
      "text/plain": [
       "             preset_name categorized_name   \n",
       "0  MT Tailwhip Organ (2)           Organs  \\\n",
       "1    Phasing Island Bass             Bass   \n",
       "2        Mono Pulse Bass             Bass   \n",
       "3             08-15 Bass             Bass   \n",
       "4       Classic Saw Bass             Bass   \n",
       "\n",
       "                                    musicnn_features  \n",
       "0  [[tensor(0.), tensor(0.), tensor(0.), tensor(0...  \n",
       "1  [[tensor(0.), tensor(0.), tensor(0.), tensor(0...  \n",
       "2  [[tensor(0.), tensor(0.), tensor(0.), tensor(0...  \n",
       "3  [[tensor(0.), tensor(0.), tensor(0.), tensor(0...  \n",
       "4  [[tensor(0.), tensor(0.), tensor(0.), tensor(0...  "
      ]
     },
     "execution_count": 14,
     "metadata": {},
     "output_type": "execute_result"
    }
   ],
   "source": [
    "# visualize the filtered dataframe\n",
    "df_filtered.head(5)"
   ]
  },
  {
   "cell_type": "markdown",
   "metadata": {},
   "source": [
    "### Obtain the TSNE Transformed Data\n",
    "\n",
    "---\n",
    "\n",
    "Here we will initialize a TSNE object and apply a `fit_transform` to obtain a dimensionally reduced vector from the high dimensional input data."
   ]
  },
  {
   "cell_type": "code",
   "execution_count": 15,
   "metadata": {},
   "outputs": [
    {
     "data": {
      "text/plain": [
       "(367, 256, 129)"
      ]
     },
     "execution_count": 15,
     "metadata": {},
     "output_type": "execute_result"
    }
   ],
   "source": [
    "# we need to first convert the MFCC embeddings from torch format to numpy format for the TSNE algorithm\n",
    "embeddings =  np.stack(df['musicnn_features'])\n",
    "embeddings.shape"
   ]
  },
  {
   "cell_type": "code",
   "execution_count": 16,
   "metadata": {},
   "outputs": [
    {
     "data": {
      "text/plain": [
       "(227, 256, 129)"
      ]
     },
     "execution_count": 16,
     "metadata": {},
     "output_type": "execute_result"
    }
   ],
   "source": [
    "# obtain the filtered embeddings\n",
    "filtered_embeddings = np.stack(df_filtered['musicnn_features'])\n",
    "filtered_embeddings.shape"
   ]
  },
  {
   "cell_type": "code",
   "execution_count": 17,
   "metadata": {},
   "outputs": [
    {
     "data": {
      "image/png": "[encoded data removed]",
      "text/plain": [
       "<Figure size 640x480 with 1 Axes>"
      ]
     },
     "metadata": {},
     "output_type": "display_data"
    }
   ],
   "source": [
    "# Before we obtain the TSNE embeddings, let's first visualize the distribution of the MFCC embeddings\n",
    "plt.hist(embeddings.flatten(), bins=100)\n",
    "plt.xlim([0,1])\n",
    "plt.title('Distribution of MFCC Embeddings Values')\n",
    "plt.show()"
   ]
  },
  {
   "cell_type": "code",
   "execution_count": 18,
   "metadata": {},
   "outputs": [
    {
     "data": {
      "image/png": "[encoded data removed]",
      "text/plain": [
       "<Figure size 640x480 with 1 Axes>"
      ]
     },
     "metadata": {},
     "output_type": "display_data"
    }
   ],
   "source": [
    "# Let's also visualize the filtered embeddings distribution\n",
    "plt.hist(filtered_embeddings.flatten(), bins=100)\n",
    "plt.xlim([0,1])\n",
    "plt.title('Distribution of Filtered MFCC Embeddings Values')\n",
    "plt.show()"
   ]
  },
  {
   "cell_type": "code",
   "execution_count": 19,
   "metadata": {},
   "outputs": [
    {
     "data": {
      "text/plain": [
       "(367, 256, 129)"
      ]
     },
     "execution_count": 19,
     "metadata": {},
     "output_type": "execute_result"
    }
   ],
   "source": [
    "embeddings.shape"
   ]
  },
  {
   "cell_type": "code",
   "execution_count": 20,
   "metadata": {},
   "outputs": [
    {
     "data": {
      "image/png": "[encoded data removed]",
      "text/plain": [
       "<Figure size 2000x1000 with 200 Axes>"
      ]
     },
     "metadata": {},
     "output_type": "display_data"
    }
   ],
   "source": [
    "# plot a 20x20 grid of spectrograms\n",
    "\n",
    "n_samples = embeddings.shape[0]\n",
    "\n",
    "fig, axes = plt.subplots(10, 20, figsize=(20, 10))\n",
    "for row in axes:\n",
    "    for col in row:\n",
    "        i = np.random.randint(n_samples)\n",
    "        fingerprint = embeddings[i]\n",
    "        # do imshow with square aspect ratio\n",
    "        col.imshow(fingerprint, aspect='auto')\n",
    "        # col.imshow(fingerprint)\n",
    "        col.axis(\"off\")\n",
    "        n_samples = embeddings.shape[0]"
   ]
  },
  {
   "cell_type": "code",
   "execution_count": 21,
   "metadata": {},
   "outputs": [],
   "source": [
    "# get the TSNE transform\n",
    "transformed_data = generate_tsne(embeddings.reshape(n_samples, -1))"
   ]
  },
  {
   "cell_type": "code",
   "execution_count": 26,
   "metadata": {},
   "outputs": [],
   "source": [
    "n_filtered = filtered_embeddings.shape[0]\n",
    "filtered_transformed_data = generate_tsne(filtered_embeddings.reshape(n_filtered,-1), perplexity=8)"
   ]
  },
  {
   "cell_type": "code",
   "execution_count": 27,
   "metadata": {},
   "outputs": [],
   "source": [
    "# create an x and y column in the dataframe\n",
    "df['x'] = [transformed_data[i][0] for i in range(len(transformed_data))]\n",
    "df['y'] = [transformed_data[i][1] for i in range(len(transformed_data))]"
   ]
  },
  {
   "cell_type": "code",
   "execution_count": 28,
   "metadata": {},
   "outputs": [],
   "source": [
    "# create a filtered x and filtered y column in the dataframe\n",
    "df_filtered['x'] = [filtered_transformed_data[i][0] for i in range(len(filtered_transformed_data))]\n",
    "df_filtered['y'] = [filtered_transformed_data[i][1] for i in range(len(filtered_transformed_data))]"
   ]
  },
  {
   "cell_type": "markdown",
   "metadata": {},
   "source": [
    "## Create the TSNE Plot\n",
    "\n",
    "---\n",
    "\n",
    "Let's now use Plotly to visualize these embeddings!"
   ]
  },
  {
   "cell_type": "code",
   "execution_count": 30,
   "metadata": {},
   "outputs": [
    {
     "data": {
      "application/vnd.plotly.v1+json": {
       "config": {
        "plotlyServerURL": "https://plot.ly"
       },
       "data": [
        {
         "customdata": [
          [
           "MT Tailwhip Organ (2)",
           "Organs"
          ],
          [
           "ORG Organ 2 FMR",
           "Organs"
          ],
          [
           "ORG Another Organ FMR",
           "Organs"
          ],
          [
           "ORG Spartacus IX FMR",
           "Organs"
          ],
          [
           "ORG Jazz Organ FMR",
           "Organs"
          ],
          [
           "ORG Spartacus XI FMR",
           "Organs"
          ],
          [
           "ORG Spartacus XII FMR",
           "Organs"
          ],
          [
           "ORG Church Organ Positive FMR",
           "Organs"
          ],
          [
           "ORG Church Organ Gated FMR",
           "Organs"
          ],
          [
           "ORG Organ 1 FMR",
           "Organs"
          ],
          [
           "ORG Spartacus X FMR",
           "Organs"
          ],
          [
           "ORG Church Organ Full Pipes 1 FMR",
           "Organs"
          ],
          [
           "ORG Synthesizer Organ 2 FMR",
           "Organs"
          ],
          [
           "ORG Organ 3 FMR",
           "Organs"
          ],
          [
           "ORG Synthesizer Organ 1 FMR",
           "Organs"
          ],
          [
           "ORG Church Organ Full Pipes 2 FMR",
           "Organs"
          ],
          [
           "MT Tailwhip Organ",
           "Organs"
          ],
          [
           "14 Organ 1",
           "Organs"
          ],
          [
           "15 Organ 2",
           "Organs"
          ],
          [
           "61 Synthesizer Organ",
           "Organs"
          ],
          [
           "16 Organ 3",
           "Organs"
          ]
         ],
         "hovertemplate": "Preset Name: %{customdata[0]}<br>Categorized Name: %{customdata[1]}",
         "legendgroup": "Organs",
         "marker": {
          "color": "#636efa",
          "symbol": "circle"
         },
         "mode": "markers",
         "name": "Organs",
         "orientation": "v",
         "showlegend": true,
         "type": "scatter",
         "x": [
          -8.939865112304688,
          -4.873394012451172,
          -16.894338607788086,
          -5.856640338897705,
          -21.865459442138672,
          -16.468347549438477,
          -3.4163646697998047,
          0.3084283471107483,
          -3.0055787563323975,
          -21.123130798339844,
          -2.4061765670776367,
          -0.33332958817481995,
          -23.072925567626953,
          -22.856908798217773,
          -13.755563735961914,
          -1.1614067554473877,
          -8.266480445861816,
          -22.29094696044922,
          -22.00525665283203,
          -20.463003158569336,
          -22.95511245727539
         ],
         "xaxis": "x",
         "y": [
          -9.535087585449219,
          -36.53551483154297,
          -32.7629280090332,
          -36.26812744140625,
          -33.667724609375,
          -35.67378234863281,
          -36.67784118652344,
          41.294429779052734,
          -46.04430389404297,
          -33.857181549072266,
          -36.90060043334961,
          48.7257194519043,
          -28.425737380981445,
          -27.520404815673828,
          -36.544307708740234,
          46.75570297241211,
          -7.955465316772461,
          -22.8443660736084,
          -24.18106460571289,
          -26.402624130249023,
          -24.51724624633789
         ],
         "yaxis": "y"
        },
        {
         "customdata": [
          [
           "Phasing Island Bass",
           "Bass"
          ],
          [
           "Mono Pulse Bass",
           "Bass"
          ],
          [
           "08-15 Bass",
           "Bass"
          ],
          [
           "Classic Saw Bass",
           "Bass"
          ],
          [
           "Funky Mod Bass",
           "Bass"
          ],
          [
           "Ultra Deep Bass",
           "Bass"
          ],
          [
           "FN-Bassliner-BAS",
           "Bass"
          ],
          [
           "FN-Dark Bass II-BAS",
           "Bass"
          ],
          [
           "FN-Flow Bass-BAS",
           "Bass"
          ],
          [
           "FN-High Noise-BAS",
           "Bass"
          ],
          [
           "FN-Wobblelike Bass-BAS",
           "Bass"
          ],
          [
           "FN-Dark Bass-BAS",
           "Bass"
          ],
          [
           "FN-Nostalgic Bass-BAS",
           "Bass"
          ],
          [
           "FN-C64ish Bass",
           "Bass"
          ],
          [
           "FN-Basslover",
           "Bass"
          ],
          [
           "FN-Bass Wobbler-BAS",
           "Bass"
          ],
          [
           "FN-Wobblebass-BAS",
           "Bass"
          ],
          [
           "FN-Bass Lover-ARP",
           "Bass"
          ],
          [
           "BAS Square Bass FMR",
           "Bass"
          ],
          [
           "BAS Pulse Bass 1 FMR",
           "Bass"
          ],
          [
           "BAS Acid Bass 2 FMR",
           "Bass"
          ],
          [
           "BAS Acid Bass 1 FMR",
           "Bass"
          ],
          [
           "BAS Acid Bass 4 FMR",
           "Bass"
          ],
          [
           "BAS Pulse Bass 2 FMR",
           "Bass"
          ],
          [
           "BAS Round Bass 2 FMR",
           "Bass"
          ],
          [
           "BAS Synth Bass 2 FMR",
           "Bass"
          ],
          [
           "BAS Acid Bass 3 FMR",
           "Bass"
          ],
          [
           "BAS Wire Bass FMR",
           "Bass"
          ],
          [
           "BAS Love Bass FMR",
           "Bass"
          ],
          [
           "BAS Hooverish Bass FMR",
           "Bass"
          ],
          [
           "BAS Basso Profondo FMR",
           "Bass"
          ],
          [
           "BAS Synth Bass 1 FMR",
           "Bass"
          ],
          [
           "BAS Round Bass 1 FMR",
           "Bass"
          ],
          [
           "PRC Thump Bass Drum FMR",
           "Bass"
          ],
          [
           "DRN Waving Bass Drone FMR",
           "Bass"
          ],
          [
           "ARP Bass Arpeggio FMR",
           "Bass"
          ],
          [
           "The Difference Bass",
           "Bass"
          ],
          [
           "32 Bass 2",
           "Bass"
          ],
          [
           "31 Bass 1",
           "Bass"
          ]
         ],
         "hovertemplate": "Preset Name: %{customdata[0]}<br>Categorized Name: %{customdata[1]}",
         "legendgroup": "Bass",
         "marker": {
          "color": "#EF553B",
          "symbol": "circle"
         },
         "mode": "markers",
         "name": "Bass",
         "orientation": "v",
         "showlegend": true,
         "type": "scatter",
         "x": [
          -12.009824752807617,
          -3.5238523483276367,
          -24.257837295532227,
          -9.075923919677734,
          -19.53588104248047,
          -23.181411743164062,
          14.634453773498535,
          -20.835939407348633,
          11.957413673400879,
          14.532976150512695,
          -25.182476043701172,
          4.819998264312744,
          0.5139093995094299,
          6.871399879455566,
          18.064632415771484,
          -2.5047571659088135,
          2.129762887954712,
          -1.1543843746185303,
          -6.0885491371154785,
          -4.312160968780518,
          -11.300139427185059,
          -13.31838321685791,
          -8.237415313720703,
          -10.491092681884766,
          -5.580838203430176,
          -12.82052993774414,
          18.51580047607422,
          -2.864631175994873,
          -4.707717418670654,
          0.7930517792701721,
          9.396480560302734,
          -5.062892436981201,
          9.35301685333252,
          -23.57465171813965,
          -5.166733741760254,
          -3.2521915435791016,
          -22.115558624267578,
          -10.131244659423828,
          -18.80413246154785
         ],
         "xaxis": "x",
         "y": [
          -37.32099533081055,
          -42.874542236328125,
          -10.050751686096191,
          -39.595359802246094,
          -27.832616806030273,
          -12.511478424072266,
          -5.966261863708496,
          -5.513094425201416,
          -2.258404016494751,
          -43.74178695678711,
          -11.820026397705078,
          -7.229705810546875,
          -49.34820556640625,
          -3.1812729835510254,
          -45.325927734375,
          -49.605960845947266,
          -50.810359954833984,
          65.8139877319336,
          -25.987701416015625,
          -24.936878204345703,
          -43.017364501953125,
          -34.86082077026367,
          -44.440486907958984,
          -39.48597717285156,
          -27.375381469726562,
          -44.538902282714844,
          -44.10193634033203,
          -44.685630798339844,
          -46.19245147705078,
          12.35726547241211,
          -26.14900779724121,
          -26.132680892944336,
          -2.593134880065918,
          -21.806854248046875,
          46.51263427734375,
          -23.793598175048828,
          -11.152899742126465,
          -42.23023986816406,
          -29.118627548217773
         ],
         "yaxis": "y"
        },
        {
         "customdata": [
          [
           "Big Lead",
           "Leads"
          ],
          [
           "Super Funky Lead",
           "Leads"
          ],
          [
           "Mellow LoFi Lead",
           "Leads"
          ],
          [
           "FN-Analog Lead-FN",
           "Leads"
          ],
          [
           "FN-Nostalgicer Lead-LEA",
           "Leads"
          ],
          [
           "FN-Plastic Lead-LEA",
           "Leads"
          ],
          [
           "FN-I Need Lead-LEA",
           "Leads"
          ],
          [
           "FN-Filter Lead-LEA",
           "Leads"
          ],
          [
           "LED Big Lead 2 FMR",
           "Leads"
          ],
          [
           "LED Sing Like a Cat FMR",
           "Leads"
          ],
          [
           "LED Spartacus III FMR",
           "Leads"
          ],
          [
           "LED Calliope FMR",
           "Leads"
          ],
          [
           "LED Spartacus IV FMR",
           "Leads"
          ],
          [
           "LED Spartacus II FMR",
           "Leads"
          ],
          [
           "LED Reed 1 FMR",
           "Leads"
          ],
          [
           "LED Big Lead 1 FMR",
           "Leads"
          ],
          [
           "LED Flutey Vibrato Solo FMR",
           "Leads"
          ],
          [
           "LED Silk Road Lead FMR",
           "Leads"
          ],
          [
           "LED Reed 3 FMR",
           "Leads"
          ],
          [
           "LED PWM Lead FMR",
           "Leads"
          ],
          [
           "LED Violin FMR",
           "Leads"
          ],
          [
           "LED Square Lead FMR",
           "Leads"
          ],
          [
           "LED Meeaow Lead FMR",
           "Leads"
          ],
          [
           "LED LFO Lead FMR",
           "Leads"
          ],
          [
           "LED Tin Whistle FMR",
           "Leads"
          ],
          [
           "MT Tailwhip Lead",
           "Leads"
          ]
         ],
         "hovertemplate": "Preset Name: %{customdata[0]}<br>Categorized Name: %{customdata[1]}",
         "legendgroup": "Leads",
         "marker": {
          "color": "#00cc96",
          "symbol": "circle"
         },
         "mode": "markers",
         "name": "Leads",
         "orientation": "v",
         "showlegend": true,
         "type": "scatter",
         "x": [
          19.31189727783203,
          21.137697219848633,
          -24.137346267700195,
          3.1694226264953613,
          -7.608691215515137,
          13.486333847045898,
          11.898555755615234,
          0.8036502003669739,
          5.473077774047852,
          4.392813682556152,
          17.633888244628906,
          15.394070625305176,
          12.36548137664795,
          6.977209091186523,
          8.907325744628906,
          16.395854949951172,
          -16.716705322265625,
          -7.587507247924805,
          3.533292293548584,
          20.229541778564453,
          -0.7899487614631653,
          22.06640625,
          9.696807861328125,
          23.34762191772461,
          -24.825130462646484,
          -10.630346298217773
         ],
         "xaxis": "x",
         "y": [
          -42.673458099365234,
          -43.91670608520508,
          -11.197711944580078,
          22.77694320678711,
          17.41979217529297,
          16.32953453063965,
          20.763837814331055,
          8.860160827636719,
          -42.66260528564453,
          -8.277606010437012,
          5.907323837280273,
          -42.76295471191406,
          18.765779495239258,
          -6.8237810134887695,
          -43.25982666015625,
          -44.88444900512695,
          -16.282236099243164,
          19.456317901611328,
          -20.072694778442383,
          11.71074390411377,
          -46.2042350769043,
          31.889680862426758,
          23.97620964050293,
          12.715124130249023,
          -29.381139755249023,
          -10.943435668945312
         ],
         "yaxis": "y"
        },
        {
         "customdata": [
          [
           "Dream Arp",
           "Arpeggios"
          ],
          [
           "FN-Free Willy-ARP",
           "Arpeggios"
          ],
          [
           "FN-Backwards ARP",
           "Arpeggios"
          ],
          [
           "FN-Anastyle-ARP",
           "Arpeggios"
          ],
          [
           "FN-Percussive Plugger2-ARP",
           "Arpeggios"
          ],
          [
           "FN-Percussive Plugger-ARP",
           "Arpeggios"
          ],
          [
           "FN-Pluggiolator-ARP",
           "Arpeggios"
          ],
          [
           "FN-C64ish Arp",
           "Arpeggios"
          ],
          [
           "FN-Anastyle II-ARP",
           "Arpeggios"
          ],
          [
           "FN-One Finger Show-ARP",
           "Arpeggios"
          ],
          [
           "FN-Percussive Plugger3-ARP",
           "Arpeggios"
          ],
          [
           "FN-Rhytmic Noise-ARP",
           "Arpeggios"
          ],
          [
           "ARP Swinging Arpeggio FMR",
           "Arpeggios"
          ],
          [
           "ARP PWM LFO Arpeggio FMR",
           "Arpeggios"
          ],
          [
           "ARP KS-TD Arpeggio FMR",
           "Arpeggios"
          ],
          [
           "ARP Play Just One Note FMR",
           "Arpeggios"
          ],
          [
           "ARP Random Arpeggiated PWM FMR",
           "Arpeggios"
          ],
          [
           "ARP String Machine Arpeggio FMR",
           "Arpeggios"
          ],
          [
           "ARP Ravers Arp FMR",
           "Arpeggios"
          ],
          [
           "ARP Cold Thinking Arpeggio FMR",
           "Arpeggios"
          ],
          [
           "ARP Berlin School Arpeggio FMR",
           "Arpeggios"
          ],
          [
           "ARP Wisteria Spot FMR",
           "Arpeggios"
          ],
          [
           "ARP Stringish Arp FMR",
           "Arpeggios"
          ],
          [
           "ARP Circles Arpeggio FMR",
           "Arpeggios"
          ]
         ],
         "hovertemplate": "Preset Name: %{customdata[0]}<br>Categorized Name: %{customdata[1]}",
         "legendgroup": "Arpeggios",
         "marker": {
          "color": "#ab63fa",
          "symbol": "circle"
         },
         "mode": "markers",
         "name": "Arpeggios",
         "orientation": "v",
         "showlegend": true,
         "type": "scatter",
         "x": [
          4.322843074798584,
          -16.360313415527344,
          -24.73261833190918,
          -17.533531188964844,
          -9.700430870056152,
          -4.190858840942383,
          -13.972317695617676,
          -16.292922973632812,
          -16.803091049194336,
          6.152509689331055,
          -16.588512420654297,
          -25.89048194885254,
          -10.995780944824219,
          -8.007823944091797,
          -2.816694498062134,
          -4.918590545654297,
          8.793377876281738,
          -2.936436176300049,
          10.53890323638916,
          -21.536266326904297,
          4.840368270874023,
          1.495204210281372,
          15.902515411376953,
          -17.475975036621094
         ],
         "xaxis": "x",
         "y": [
          41.724124908447266,
          -23.84365463256836,
          -13.663552284240723,
          -10.601734161376953,
          -40.82719039916992,
          -43.68465805053711,
          -45.33149337768555,
          -22.967126846313477,
          -10.476031303405762,
          -45.7557258605957,
          -25.16617202758789,
          -10.555166244506836,
          17.91131591796875,
          -41.25996780395508,
          42.22117233276367,
          47.96332550048828,
          -4.320395469665527,
          65.56465911865234,
          -1.3247017860412598,
          -28.713726043701172,
          24.094951629638672,
          7.707785606384277,
          -5.9826579093933105,
          -30.050691604614258
         ],
         "yaxis": "y"
        },
        {
         "customdata": [
          [
           "FN-Dark Night-PAD",
           "Synth Pads"
          ],
          [
           "FN-Analog Feeling-PAD",
           "Synth Pads"
          ],
          [
           "FN-Blubberfeld-PAD",
           "Synth Pads"
          ],
          [
           "FN-Noisia-PAD",
           "Synth Pads"
          ],
          [
           "FN-Darpesh Pad-PAD",
           "Synth Pads"
          ],
          [
           "FN-Restless Night-PAD",
           "Synth Pads"
          ],
          [
           "FN-Analog Pad-PAD",
           "Synth Pads"
          ],
          [
           "FN-RollinSun-PAD",
           "Synth Pads"
          ],
          [
           "FN-Flowing Filter-PAD",
           "Synth Pads"
          ],
          [
           "FN-Experimental-PAD",
           "Synth Pads"
          ],
          [
           "PAD Rise the Pulse FMR",
           "Synth Pads"
          ],
          [
           "PAD Spartacus I FMR",
           "Synth Pads"
          ],
          [
           "PAD Spartacus V FMR",
           "Synth Pads"
          ],
          [
           "PAD Reso Pad FMR",
           "Synth Pads"
          ],
          [
           "PAD Metal Rotor Pad FMR",
           "Synth Pads"
          ],
          [
           "PAD Classic Sweep Pad FMR",
           "Synth Pads"
          ],
          [
           "PAD Dive Into The Deep FMR",
           "Synth Pads"
          ],
          [
           "PAD Meditation Pad 3 FMR",
           "Synth Pads"
          ],
          [
           "PAD Forever Pad FMR",
           "Synth Pads"
          ],
          [
           "PAD Hoiy Mass FMR",
           "Synth Pads"
          ],
          [
           "PAD Woosh Pad FMR",
           "Synth Pads"
          ],
          [
           "PAD Massive Pad 1 FMR",
           "Synth Pads"
          ],
          [
           "PAD Big Synth Pad 2 FMR",
           "Synth Pads"
          ],
          [
           "PAD This Is It FMR",
           "Synth Pads"
          ],
          [
           "PAD Meditation Pad 1 FMR",
           "Synth Pads"
          ],
          [
           "PAD Chariots VG Brass FMR",
           "Synth Pads"
          ],
          [
           "PAD Bass Pad FMR",
           "Synth Pads"
          ],
          [
           "PAD PWM Pad FMR",
           "Synth Pads"
          ],
          [
           "PAD Meditation Pad 2 FMR",
           "Synth Pads"
          ],
          [
           "PAD Big Synth Pad 1 FMR",
           "Synth Pads"
          ],
          [
           "PAD Massive Pad 2 FMR",
           "Synth Pads"
          ],
          [
           "PAD High Res Pad FMR",
           "Synth Pads"
          ]
         ],
         "hovertemplate": "Preset Name: %{customdata[0]}<br>Categorized Name: %{customdata[1]}",
         "legendgroup": "Synth Pads",
         "marker": {
          "color": "#FFA15A",
          "symbol": "circle"
         },
         "mode": "markers",
         "name": "Synth Pads",
         "orientation": "v",
         "showlegend": true,
         "type": "scatter",
         "x": [
          5.056787490844727,
          -5.436176776885986,
          15.70740795135498,
          -21.08150291442871,
          -9.165878295898438,
          -2.336021900177002,
          -5.099973678588867,
          -9.245203018188477,
          7.303032398223877,
          4.82003116607666,
          -10.21866226196289,
          -5.0556416511535645,
          -2.06481671333313,
          -4.043857097625732,
          1.546478271484375,
          -21.840471267700195,
          -12.115942001342773,
          -21.409273147583008,
          -1.8585400581359863,
          -0.7328241467475891,
          -22.494489669799805,
          13.701171875,
          -4.02811861038208,
          -3.2577288150787354,
          -8.348576545715332,
          3.9379682540893555,
          23.01521873474121,
          20.985370635986328,
          -7.742027759552002,
          -4.36368465423584,
          4.355720520019531,
          -6.504548072814941
         ],
         "xaxis": "x",
         "y": [
          52.39630889892578,
          21.775657653808594,
          17.089170455932617,
          -4.36801815032959,
          20.692537307739258,
          11.460041046142578,
          18.487770080566406,
          16.326759338378906,
          37.77217483520508,
          51.58100509643555,
          19.306711196899414,
          63.68191146850586,
          55.034400939941406,
          51.00895309448242,
          43.55864334106445,
          -1.905673623085022,
          19.677112579345703,
          -0.8331009745597839,
          64.56119537353516,
          40.77149200439453,
          -0.8903850317001343,
          17.381866455078125,
          65.0987548828125,
          63.762577056884766,
          24.20947265625,
          23.162662506103516,
          15.897833824157715,
          28.86762809753418,
          21.028831481933594,
          52.40590286254883,
          49.728492736816406,
          61.65940475463867
         ],
         "yaxis": "y"
        },
        {
         "customdata": [
          [
           "FN-Chordmachine-KEY",
           "Pianos & Keyboards"
          ],
          [
           "FN-Easy Keys",
           "Pianos & Keyboards"
          ],
          [
           "FN-Chordmachine II-KEY",
           "Pianos & Keyboards"
          ],
          [
           "FN-Small Keys-KEY",
           "Pianos & Keyboards"
          ],
          [
           "FN-Low Keys-KEY",
           "Pianos & Keyboards"
          ],
          [
           "PNO Piano 2 FMR",
           "Pianos & Keyboards"
          ],
          [
           "PNO Another E P FMR",
           "Pianos & Keyboards"
          ],
          [
           "PNO Classic E P FMR",
           "Pianos & Keyboards"
          ],
          [
           "PNO Sweet Tines FMR",
           "Pianos & Keyboards"
          ],
          [
           "PNO Piano 1 FMR",
           "Pianos & Keyboards"
          ],
          [
           "PNO Mellow Piano FMR",
           "Pianos & Keyboards"
          ],
          [
           "PNO Bright Rhodes FMR",
           "Pianos & Keyboards"
          ],
          [
           "SYN Fluctuation Keys FMR",
           "Pianos & Keyboards"
          ],
          [
           "KBD Celesta FMR",
           "Pianos & Keyboards"
          ],
          [
           "KBD Funk B FMR",
           "Pianos & Keyboards"
          ],
          [
           "KBD Harpsichord 1 FMR",
           "Pianos & Keyboards"
          ],
          [
           "KBD Harpsichord 2 FMR",
           "Pianos & Keyboards"
          ],
          [
           "KBD Funk A FMR",
           "Pianos & Keyboards"
          ],
          [
           "KBD Classic Clavinet FMR",
           "Pianos & Keyboards"
          ],
          [
           "KBD Clavichord 2 FMR",
           "Pianos & Keyboards"
          ],
          [
           "KBD Clavichord 1 FMR",
           "Pianos & Keyboards"
          ],
          [
           "KBD Synthi Clavinet FMR",
           "Pianos & Keyboards"
          ],
          [
           "25 Harpsichord 1",
           "Pianos & Keyboards"
          ],
          [
           "23 Celesta",
           "Pianos & Keyboards"
          ],
          [
           "34 Clavichord 2",
           "Pianos & Keyboards"
          ],
          [
           "22 Piano 2",
           "Pianos & Keyboards"
          ],
          [
           "33 Clavichord 1",
           "Pianos & Keyboards"
          ],
          [
           "21 Piano 1",
           "Pianos & Keyboards"
          ],
          [
           "26 Harpsichord 2",
           "Pianos & Keyboards"
          ],
          [
           "24 Mellow Piano",
           "Pianos & Keyboards"
          ]
         ],
         "hovertemplate": "Preset Name: %{customdata[0]}<br>Categorized Name: %{customdata[1]}",
         "legendgroup": "Pianos & Keyboards",
         "marker": {
          "color": "#19d3f3",
          "symbol": "circle"
         },
         "mode": "markers",
         "name": "Pianos & Keyboards",
         "orientation": "v",
         "showlegend": true,
         "type": "scatter",
         "x": [
          13.495689392089844,
          -0.35442671179771423,
          12.770065307617188,
          -3.9553704261779785,
          0.5007965564727783,
          4.1700758934021,
          4.4751152992248535,
          -0.37323716282844543,
          3.2384495735168457,
          6.276961326599121,
          1.5473363399505615,
          -1.8972320556640625,
          -4.7411112785339355,
          -3.293577194213867,
          17.255754470825195,
          19.810163497924805,
          15.99018383026123,
          17.412078857421875,
          11.751153945922852,
          4.916802406311035,
          4.575043201446533,
          14.438692092895508,
          4.2342329025268555,
          -6.202863693237305,
          6.250288486480713,
          -8.232781410217285,
          0.6932309865951538,
          4.920231819152832,
          13.374980926513672,
          -8.116869926452637
         ],
         "xaxis": "x",
         "y": [
          21.503662109375,
          54.71443176269531,
          21.887916564941406,
          56.54617691040039,
          14.239831924438477,
          -9.743298530578613,
          39.23984146118164,
          12.128144264221191,
          40.68223571777344,
          -37.19606399536133,
          39.69314956665039,
          14.638092994689941,
          49.62369918823242,
          18.811220169067383,
          -42.970001220703125,
          -44.60338592529297,
          -7.271887302398682,
          -41.8755989074707,
          -3.2212884426116943,
          -44.414710998535156,
          -43.03162384033203,
          -7.24448299407959,
          -35.7628059387207,
          19.323440551757812,
          -39.77332305908203,
          -9.814599990844727,
          -42.78520965576172,
          -36.029117584228516,
          24.89896583557129,
          25.194353103637695
         ],
         "yaxis": "y"
        },
        {
         "customdata": [
          [
           "STR String Machine FMR",
           "Strings"
          ],
          [
           "STR PWM Strings 2 FMR",
           "Strings"
          ],
          [
           "STR Strings 1 FMR",
           "Strings"
          ],
          [
           "STR Eminent Strings FMR",
           "Strings"
          ],
          [
           "STR Strings 2 FMR",
           "Strings"
          ],
          [
           "STR PWM Strings 1 FMR",
           "Strings"
          ],
          [
           "STR Spartacus VI FMR",
           "Strings"
          ],
          [
           "STR String Ensemble FMR",
           "Strings"
          ],
          [
           "STR Prophet Strings FMR",
           "Strings"
          ],
          [
           "STR Soft Strings FMR",
           "Strings"
          ],
          [
           "STR Low Strings FMR",
           "Strings"
          ],
          [
           "STR Full Strings FMR",
           "Strings"
          ],
          [
           "STR Spartacus VII FMR",
           "Strings"
          ],
          [
           "STR Strings 3 FMR",
           "Strings"
          ],
          [
           "11 Strings 1",
           "Strings"
          ],
          [
           "41 Violine",
           "Strings"
          ],
          [
           "12 Strings 2",
           "Strings"
          ],
          [
           "13 Strings 3",
           "Strings"
          ]
         ],
         "hovertemplate": "Preset Name: %{customdata[0]}<br>Categorized Name: %{customdata[1]}",
         "legendgroup": "Strings",
         "marker": {
          "color": "#FF6692",
          "symbol": "circle"
         },
         "mode": "markers",
         "name": "Strings",
         "orientation": "v",
         "showlegend": true,
         "type": "scatter",
         "x": [
          -4.668418884277344,
          22.710538864135742,
          21.14326286315918,
          21.59527587890625,
          21.802295684814453,
          20.933582305908203,
          -2.884690046310425,
          -3.8017678260803223,
          23.43332862854004,
          19.576086044311523,
          -1.2840956449508667,
          21.493755340576172,
          -4.04500150680542,
          -2.1998462677001953,
          21.10943031311035,
          22.57278060913086,
          21.40462875366211,
          -0.8010496497154236
         ],
         "xaxis": "x",
         "y": [
          61.421932220458984,
          13.555022239685059,
          19.962499618530273,
          33.422821044921875,
          19.28801918029785,
          32.02012252807617,
          55.07425308227539,
          61.273826599121094,
          17.721101760864258,
          20.655963897705078,
          44.65290069580078,
          34.58525085449219,
          59.38005065917969,
          48.846073150634766,
          26.91529083251953,
          17.340675354003906,
          26.048704147338867,
          43.242679595947266
         ],
         "yaxis": "y"
        },
        {
         "customdata": [
          [
           "WND English Horn FMR",
           "Brass & Woodwinds"
          ],
          [
           "WND Ocarina FMR",
           "Brass & Woodwinds"
          ],
          [
           "WND Flute 1 FMR",
           "Brass & Woodwinds"
          ],
          [
           "WND Flute 2 FMR",
           "Brass & Woodwinds"
          ],
          [
           "WND Pan Flute FMR",
           "Brass & Woodwinds"
          ],
          [
           "WND Oboe FMR",
           "Brass & Woodwinds"
          ],
          [
           "WND Clarinet FMR",
           "Brass & Woodwinds"
          ],
          [
           "WND Flauto Dolce FMR",
           "Brass & Woodwinds"
          ],
          [
           "BRS Brass 2 FMR",
           "Brass & Woodwinds"
          ],
          [
           "BRS French Horn FMR",
           "Brass & Woodwinds"
          ],
          [
           "BRS Brass Pad 1 FMR",
           "Brass & Woodwinds"
          ],
          [
           "BRS Tuba FMR",
           "Brass & Woodwinds"
          ],
          [
           "BRS Brass Pad 2 FMR",
           "Brass & Woodwinds"
          ],
          [
           "BRS Brass 1 FMR",
           "Brass & Woodwinds"
          ],
          [
           "BRS Low Brass FMR",
           "Brass & Woodwinds"
          ],
          [
           "BRS Phase Brass FMR",
           "Brass & Woodwinds"
          ],
          [
           "BRS Trumpet FMR",
           "Brass & Woodwinds"
          ],
          [
           "BRS Brass 3 FMR",
           "Brass & Woodwinds"
          ],
          [
           "BRS Prophet Brass FMR",
           "Brass & Woodwinds"
          ],
          [
           "BRS Brass Pad 3 FMR",
           "Brass & Woodwinds"
          ],
          [
           "SYN Wah Brass FMR",
           "Brass & Woodwinds"
          ],
          [
           "The Difference Trumpet Synth",
           "Brass & Woodwinds"
          ],
          [
           "17 Brass",
           "Brass & Woodwinds"
          ],
          [
           "46 Clarinet",
           "Brass & Woodwinds"
          ],
          [
           "45 Flute",
           "Brass & Woodwinds"
          ],
          [
           "52 Wah Brass",
           "Brass & Woodwinds"
          ],
          [
           "48 English Horn",
           "Brass & Woodwinds"
          ],
          [
           "47 Oboe",
           "Brass & Woodwinds"
          ],
          [
           "18 Phase Brass",
           "Brass & Woodwinds"
          ],
          [
           "43 Horn",
           "Brass & Woodwinds"
          ],
          [
           "42 Trumpet",
           "Brass & Woodwinds"
          ]
         ],
         "hovertemplate": "Preset Name: %{customdata[0]}<br>Categorized Name: %{customdata[1]}",
         "legendgroup": "Brass & Woodwinds",
         "marker": {
          "color": "#B6E880",
          "symbol": "circle"
         },
         "mode": "markers",
         "name": "Brass & Woodwinds",
         "orientation": "v",
         "showlegend": true,
         "type": "scatter",
         "x": [
          -0.33945199847221375,
          -17.612224578857422,
          -13.906859397888184,
          -13.174307823181152,
          8.046353340148926,
          0.7999041676521301,
          1.3718024492263794,
          -15.38551139831543,
          18.094619750976562,
          9.102676391601562,
          14.336381912231445,
          8.897627830505371,
          23.004793167114258,
          11.196934700012207,
          19.27071189880371,
          19.439342498779297,
          11.895011901855469,
          14.473058700561523,
          -11.344767570495605,
          23.19794273376465,
          3.3050448894500732,
          -0.8564836382865906,
          11.864691734313965,
          3.75347638130188,
          -1.401063084602356,
          -1.0255059003829956,
          0.4812980890274048,
          4.162332534790039,
          2.0966248512268066,
          -14.994599342346191,
          10.758177757263184
         ],
         "xaxis": "x",
         "y": [
          -9.011724472045898,
          -17.250646591186523,
          -14.959379196166992,
          -15.18576717376709,
          -21.45420265197754,
          -9.270587921142578,
          -8.506757736206055,
          -14.51193904876709,
          6.839868545532227,
          -23.447988510131836,
          18.718067169189453,
          -24.679279327392578,
          26.860164642333984,
          -23.020648956298828,
          13.249712944030762,
          11.252047538757324,
          -27.47011947631836,
          -2.4442412853240967,
          -8.225200653076172,
          33.466766357421875,
          -49.53664779663086,
          11.224503517150879,
          -28.486604690551758,
          -21.807514190673828,
          -20.53925323486328,
          -51.158451080322266,
          -20.76007080078125,
          -22.88918685913086,
          -48.40613555908203,
          -11.120259284973145,
          -28.006261825561523
         ],
         "yaxis": "y"
        },
        {
         "customdata": [
          [
           "GTR Overdrive Guitar FMR",
           "Guitars"
          ],
          [
           "GTR Chorused Ovation FMR",
           "Guitars"
          ],
          [
           "GTR Jazz Guitar FMR",
           "Guitars"
          ],
          [
           "GTR Steel String Guitar FMR",
           "Guitars"
          ],
          [
           "GTR Acoustic Guitar FMR",
           "Guitars"
          ],
          [
           "27 Guitar",
           "Guitars"
          ]
         ],
         "hovertemplate": "Preset Name: %{customdata[0]}<br>Categorized Name: %{customdata[1]}",
         "legendgroup": "Guitars",
         "marker": {
          "color": "#FF97FF",
          "symbol": "circle"
         },
         "mode": "markers",
         "name": "Guitars",
         "orientation": "v",
         "showlegend": true,
         "type": "scatter",
         "x": [
          -0.11128770560026169,
          5.821099281311035,
          -16.573598861694336,
          14.32109546661377,
          11.422033309936523,
          3.2037107944488525
         ],
         "xaxis": "x",
         "y": [
          -48.35393142700195,
          38.324424743652344,
          -34.772911071777344,
          25.45387077331543,
          23.607757568359375,
          39.574337005615234
         ],
         "yaxis": "y"
        }
       ],
       "layout": {
        "height": 800,
        "legend": {
         "title": {
          "text": "Preset Categories"
         },
         "tracegroupgap": 0
        },
        "margin": {
         "t": 60
        },
        "showlegend": true,
        "template": {
         "data": {
          "bar": [
           {
            "error_x": {
             "color": "#2a3f5f"
            },
            "error_y": {
             "color": "#2a3f5f"
            },
            "marker": {
             "line": {
              "color": "#E5ECF6",
              "width": 0.5
             },
             "pattern": {
              "fillmode": "overlay",
              "size": 10,
              "solidity": 0.2
             }
            },
            "type": "bar"
           }
          ],
          "barpolar": [
           {
            "marker": {
             "line": {
              "color": "#E5ECF6",
              "width": 0.5
             },
             "pattern": {
              "fillmode": "overlay",
              "size": 10,
              "solidity": 0.2
             }
            },
            "type": "barpolar"
           }
          ],
          "carpet": [
           {
            "aaxis": {
             "endlinecolor": "#2a3f5f",
             "gridcolor": "white",
             "linecolor": "white",
             "minorgridcolor": "white",
             "startlinecolor": "#2a3f5f"
            },
            "baxis": {
             "endlinecolor": "#2a3f5f",
             "gridcolor": "white",
             "linecolor": "white",
             "minorgridcolor": "white",
             "startlinecolor": "#2a3f5f"
            },
            "type": "carpet"
           }
          ],
          "choropleth": [
           {
            "colorbar": {
             "outlinewidth": 0,
             "ticks": ""
            },
            "type": "choropleth"
           }
          ],
          "contour": [
           {
            "colorbar": {
             "outlinewidth": 0,
             "ticks": ""
            },
            "colorscale": [
             [
              0,
              "#0d0887"
             ],
             [
              0.1111111111111111,
              "#46039f"
             ],
             [
              0.2222222222222222,
              "#7201a8"
             ],
             [
              0.3333333333333333,
              "#9c179e"
             ],
             [
              0.4444444444444444,
              "#bd3786"
             ],
             [
              0.5555555555555556,
              "#d8576b"
             ],
             [
              0.6666666666666666,
              "#ed7953"
             ],
             [
              0.7777777777777778,
              "#fb9f3a"
             ],
             [
              0.8888888888888888,
              "#fdca26"
             ],
             [
              1,
              "#f0f921"
             ]
            ],
            "type": "contour"
           }
          ],
          "contourcarpet": [
           {
            "colorbar": {
             "outlinewidth": 0,
             "ticks": ""
            },
            "type": "contourcarpet"
           }
          ],
          "heatmap": [
           {
            "colorbar": {
             "outlinewidth": 0,
             "ticks": ""
            },
            "colorscale": [
             [
              0,
              "#0d0887"
             ],
             [
              0.1111111111111111,
              "#46039f"
             ],
             [
              0.2222222222222222,
              "#7201a8"
             ],
             [
              0.3333333333333333,
              "#9c179e"
             ],
             [
              0.4444444444444444,
              "#bd3786"
             ],
             [
              0.5555555555555556,
              "#d8576b"
             ],
             [
              0.6666666666666666,
              "#ed7953"
             ],
             [
              0.7777777777777778,
              "#fb9f3a"
             ],
             [
              0.8888888888888888,
              "#fdca26"
             ],
             [
              1,
              "#f0f921"
             ]
            ],
            "type": "heatmap"
           }
          ],
          "heatmapgl": [
           {
            "colorbar": {
             "outlinewidth": 0,
             "ticks": ""
            },
            "colorscale": [
             [
              0,
              "#0d0887"
             ],
             [
              0.1111111111111111,
              "#46039f"
             ],
             [
              0.2222222222222222,
              "#7201a8"
             ],
             [
              0.3333333333333333,
              "#9c179e"
             ],
             [
              0.4444444444444444,
              "#bd3786"
             ],
             [
              0.5555555555555556,
              "#d8576b"
             ],
             [
              0.6666666666666666,
              "#ed7953"
             ],
             [
              0.7777777777777778,
              "#fb9f3a"
             ],
             [
              0.8888888888888888,
              "#fdca26"
             ],
             [
              1,
              "#f0f921"
             ]
            ],
            "type": "heatmapgl"
           }
          ],
          "histogram": [
           {
            "marker": {
             "pattern": {
              "fillmode": "overlay",
              "size": 10,
              "solidity": 0.2
             }
            },
            "type": "histogram"
           }
          ],
          "histogram2d": [
           {
            "colorbar": {
             "outlinewidth": 0,
             "ticks": ""
            },
            "colorscale": [
             [
              0,
              "#0d0887"
             ],
             [
              0.1111111111111111,
              "#46039f"
             ],
             [
              0.2222222222222222,
              "#7201a8"
             ],
             [
              0.3333333333333333,
              "#9c179e"
             ],
             [
              0.4444444444444444,
              "#bd3786"
             ],
             [
              0.5555555555555556,
              "#d8576b"
             ],
             [
              0.6666666666666666,
              "#ed7953"
             ],
             [
              0.7777777777777778,
              "#fb9f3a"
             ],
             [
              0.8888888888888888,
              "#fdca26"
             ],
             [
              1,
              "#f0f921"
             ]
            ],
            "type": "histogram2d"
           }
          ],
          "histogram2dcontour": [
           {
            "colorbar": {
             "outlinewidth": 0,
             "ticks": ""
            },
            "colorscale": [
             [
              0,
              "#0d0887"
             ],
             [
              0.1111111111111111,
              "#46039f"
             ],
             [
              0.2222222222222222,
              "#7201a8"
             ],
             [
              0.3333333333333333,
              "#9c179e"
             ],
             [
              0.4444444444444444,
              "#bd3786"
             ],
             [
              0.5555555555555556,
              "#d8576b"
             ],
             [
              0.6666666666666666,
              "#ed7953"
             ],
             [
              0.7777777777777778,
              "#fb9f3a"
             ],
             [
              0.8888888888888888,
              "#fdca26"
             ],
             [
              1,
              "#f0f921"
             ]
            ],
            "type": "histogram2dcontour"
           }
          ],
          "mesh3d": [
           {
            "colorbar": {
             "outlinewidth": 0,
             "ticks": ""
            },
            "type": "mesh3d"
           }
          ],
          "parcoords": [
           {
            "line": {
             "colorbar": {
              "outlinewidth": 0,
              "ticks": ""
             }
            },
            "type": "parcoords"
           }
          ],
          "pie": [
           {
            "automargin": true,
            "type": "pie"
           }
          ],
          "scatter": [
           {
            "fillpattern": {
             "fillmode": "overlay",
             "size": 10,
             "solidity": 0.2
            },
            "type": "scatter"
           }
          ],
          "scatter3d": [
           {
            "line": {
             "colorbar": {
              "outlinewidth": 0,
              "ticks": ""
             }
            },
            "marker": {
             "colorbar": {
              "outlinewidth": 0,
              "ticks": ""
             }
            },
            "type": "scatter3d"
           }
          ],
          "scattercarpet": [
           {
            "marker": {
             "colorbar": {
              "outlinewidth": 0,
              "ticks": ""
             }
            },
            "type": "scattercarpet"
           }
          ],
          "scattergeo": [
           {
            "marker": {
             "colorbar": {
              "outlinewidth": 0,
              "ticks": ""
             }
            },
            "type": "scattergeo"
           }
          ],
          "scattergl": [
           {
            "marker": {
             "colorbar": {
              "outlinewidth": 0,
              "ticks": ""
             }
            },
            "type": "scattergl"
           }
          ],
          "scattermapbox": [
           {
            "marker": {
             "colorbar": {
              "outlinewidth": 0,
              "ticks": ""
             }
            },
            "type": "scattermapbox"
           }
          ],
          "scatterpolar": [
           {
            "marker": {
             "colorbar": {
              "outlinewidth": 0,
              "ticks": ""
             }
            },
            "type": "scatterpolar"
           }
          ],
          "scatterpolargl": [
           {
            "marker": {
             "colorbar": {
              "outlinewidth": 0,
              "ticks": ""
             }
            },
            "type": "scatterpolargl"
           }
          ],
          "scatterternary": [
           {
            "marker": {
             "colorbar": {
              "outlinewidth": 0,
              "ticks": ""
             }
            },
            "type": "scatterternary"
           }
          ],
          "surface": [
           {
            "colorbar": {
             "outlinewidth": 0,
             "ticks": ""
            },
            "colorscale": [
             [
              0,
              "#0d0887"
             ],
             [
              0.1111111111111111,
              "#46039f"
             ],
             [
              0.2222222222222222,
              "#7201a8"
             ],
             [
              0.3333333333333333,
              "#9c179e"
             ],
             [
              0.4444444444444444,
              "#bd3786"
             ],
             [
              0.5555555555555556,
              "#d8576b"
             ],
             [
              0.6666666666666666,
              "#ed7953"
             ],
             [
              0.7777777777777778,
              "#fb9f3a"
             ],
             [
              0.8888888888888888,
              "#fdca26"
             ],
             [
              1,
              "#f0f921"
             ]
            ],
            "type": "surface"
           }
          ],
          "table": [
           {
            "cells": {
             "fill": {
              "color": "#EBF0F8"
             },
             "line": {
              "color": "white"
             }
            },
            "header": {
             "fill": {
              "color": "#C8D4E3"
             },
             "line": {
              "color": "white"
             }
            },
            "type": "table"
           }
          ]
         },
         "layout": {
          "annotationdefaults": {
           "arrowcolor": "#2a3f5f",
           "arrowhead": 0,
           "arrowwidth": 1
          },
          "autotypenumbers": "strict",
          "coloraxis": {
           "colorbar": {
            "outlinewidth": 0,
            "ticks": ""
           }
          },
          "colorscale": {
           "diverging": [
            [
             0,
             "#8e0152"
            ],
            [
             0.1,
             "#c51b7d"
            ],
            [
             0.2,
             "#de77ae"
            ],
            [
             0.3,
             "#f1b6da"
            ],
            [
             0.4,
             "#fde0ef"
            ],
            [
             0.5,
             "#f7f7f7"
            ],
            [
             0.6,
             "#e6f5d0"
            ],
            [
             0.7,
             "#b8e186"
            ],
            [
             0.8,
             "#7fbc41"
            ],
            [
             0.9,
             "#4d9221"
            ],
            [
             1,
             "#276419"
            ]
           ],
           "sequential": [
            [
             0,
             "#0d0887"
            ],
            [
             0.1111111111111111,
             "#46039f"
            ],
            [
             0.2222222222222222,
             "#7201a8"
            ],
            [
             0.3333333333333333,
             "#9c179e"
            ],
            [
             0.4444444444444444,
             "#bd3786"
            ],
            [
             0.5555555555555556,
             "#d8576b"
            ],
            [
             0.6666666666666666,
             "#ed7953"
            ],
            [
             0.7777777777777778,
             "#fb9f3a"
            ],
            [
             0.8888888888888888,
             "#fdca26"
            ],
            [
             1,
             "#f0f921"
            ]
           ],
           "sequentialminus": [
            [
             0,
             "#0d0887"
            ],
            [
             0.1111111111111111,
             "#46039f"
            ],
            [
             0.2222222222222222,
             "#7201a8"
            ],
            [
             0.3333333333333333,
             "#9c179e"
            ],
            [
             0.4444444444444444,
             "#bd3786"
            ],
            [
             0.5555555555555556,
             "#d8576b"
            ],
            [
             0.6666666666666666,
             "#ed7953"
            ],
            [
             0.7777777777777778,
             "#fb9f3a"
            ],
            [
             0.8888888888888888,
             "#fdca26"
            ],
            [
             1,
             "#f0f921"
            ]
           ]
          },
          "colorway": [
           "#636efa",
           "#EF553B",
           "#00cc96",
           "#ab63fa",
           "#FFA15A",
           "#19d3f3",
           "#FF6692",
           "#B6E880",
           "#FF97FF",
           "#FECB52"
          ],
          "font": {
           "color": "#2a3f5f"
          },
          "geo": {
           "bgcolor": "white",
           "lakecolor": "white",
           "landcolor": "#E5ECF6",
           "showlakes": true,
           "showland": true,
           "subunitcolor": "white"
          },
          "hoverlabel": {
           "align": "left"
          },
          "hovermode": "closest",
          "mapbox": {
           "style": "light"
          },
          "paper_bgcolor": "white",
          "plot_bgcolor": "#E5ECF6",
          "polar": {
           "angularaxis": {
            "gridcolor": "white",
            "linecolor": "white",
            "ticks": ""
           },
           "bgcolor": "#E5ECF6",
           "radialaxis": {
            "gridcolor": "white",
            "linecolor": "white",
            "ticks": ""
           }
          },
          "scene": {
           "xaxis": {
            "backgroundcolor": "#E5ECF6",
            "gridcolor": "white",
            "gridwidth": 2,
            "linecolor": "white",
            "showbackground": true,
            "ticks": "",
            "zerolinecolor": "white"
           },
           "yaxis": {
            "backgroundcolor": "#E5ECF6",
            "gridcolor": "white",
            "gridwidth": 2,
            "linecolor": "white",
            "showbackground": true,
            "ticks": "",
            "zerolinecolor": "white"
           },
           "zaxis": {
            "backgroundcolor": "#E5ECF6",
            "gridcolor": "white",
            "gridwidth": 2,
            "linecolor": "white",
            "showbackground": true,
            "ticks": "",
            "zerolinecolor": "white"
           }
          },
          "shapedefaults": {
           "line": {
            "color": "#2a3f5f"
           }
          },
          "ternary": {
           "aaxis": {
            "gridcolor": "white",
            "linecolor": "white",
            "ticks": ""
           },
           "baxis": {
            "gridcolor": "white",
            "linecolor": "white",
            "ticks": ""
           },
           "bgcolor": "#E5ECF6",
           "caxis": {
            "gridcolor": "white",
            "linecolor": "white",
            "ticks": ""
           }
          },
          "title": {
           "x": 0.05
          },
          "xaxis": {
           "automargin": true,
           "gridcolor": "white",
           "linecolor": "white",
           "ticks": "",
           "title": {
            "standoff": 15
           },
           "zerolinecolor": "white",
           "zerolinewidth": 2
          },
          "yaxis": {
           "automargin": true,
           "gridcolor": "white",
           "linecolor": "white",
           "ticks": "",
           "title": {
            "standoff": 15
           },
           "zerolinecolor": "white",
           "zerolinewidth": 2
          }
         }
        },
        "title": {
         "text": "TSNE Visualization of Preset Mel Spectrogram Embeddings"
        },
        "width": 800,
        "xaxis": {
         "anchor": "y",
         "domain": [
          0,
          1
         ],
         "range": [
          -31.068578338623045,
          28.119994354248046
         ],
         "title": {
          "text": "t-SNE Component 1"
         }
        },
        "yaxis": {
         "anchor": "x",
         "domain": [
          0,
          1
         ],
         "range": [
          -61.390141296386716,
          78.9767852783203
         ],
         "title": {
          "text": "t-SNE Component 2"
         }
        }
       }
      }
     },
     "metadata": {},
     "output_type": "display_data"
    }
   ],
   "source": [
    "## Create the TSNE Plot with plotly\n",
    "fig = px.scatter(df_filtered, x='x', y='y', color='categorized_name',hover_data=['preset_name', 'categorized_name'], width=800, height=800)\n",
    "\n",
    "# add a legend\n",
    "fig.update_layout(showlegend=True)\n",
    "\n",
    "# add a title\n",
    "fig.update_layout(title='TSNE Visualization of Preset Mel Spectrogram Embeddings')\n",
    "\n",
    "# add a hover label\n",
    "fig.update_traces(hovertemplate='Preset Name: %{customdata[0]}<br>Categorized Name: %{customdata[1]}')\n",
    "\n",
    "# obtain the data bounds\n",
    "x_min = np.min(filtered_transformed_data[:, 0])*1.2\n",
    "x_max = np.max(filtered_transformed_data[:, 0])*1.2\n",
    "y_min = np.min(filtered_transformed_data[:, 1])*1.2\n",
    "y_max = np.max(filtered_transformed_data[:, 1])*1.2\n",
    "\n",
    "# add some extra info to the plot\n",
    "fig.update_layout(\n",
    "    width=800,\n",
    "    height=800,\n",
    "    xaxis_title='t-SNE Component 1',\n",
    "    yaxis_title='t-SNE Component 2',\n",
    "    legend_title='Preset Categories',\n",
    "    xaxis=dict(range=[x_min, x_max]),\n",
    "    yaxis=dict(range=[y_min, y_max]),\n",
    ")   \n",
    "\n",
    "# show the plot\n",
    "fig.show()"
   ]
  },
  {
   "cell_type": "code",
   "execution_count": 31,
   "metadata": {},
   "outputs": [],
   "source": [
    "# save the plotly figure as an svg\n",
    "fig.write_image('tsne-mel-spectrogram.svg')"
   ]
  }
 ],
 "metadata": {
  "kernelspec": {
   "display_name": "Python 3.10.9 ('gass')",
   "language": "python",
   "name": "python3"
  },
  "language_info": {
   "codemirror_mode": {
    "name": "ipython",
    "version": 3
   },
   "file_extension": ".py",
   "mimetype": "text/x-python",
   "name": "python",
   "nbconvert_exporter": "python",
   "pygments_lexer": "ipython3",
   "version": "3.10.9"
  },
  "orig_nbformat": 4,
  "vscode": {
   "interpreter": {
    "hash": "6947268d801286644aa606ce5873de7c618a991e1c50a7cf64b46ea54e097eb2"
   }
  }
 },
 "nbformat": 4,
 "nbformat_minor": 2
}
