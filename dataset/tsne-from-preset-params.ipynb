{
 "cells": [
  {
   "cell_type": "markdown",
   "metadata": {},
   "source": [
    "# Dataset Visualization Notebook (MFCC)\n",
    "\n",
    "---\n",
    "\n",
    "Author: **Malek Ibrahim**\n",
    "\n",
    "This notebooks seeks to create a TSNE plot of the preset dataset in their timbral space (MFCC features). General steps are outlined below:\n",
    "\n",
    "1. Load the preset dataset file\n",
    "1. Categorize the presets\n",
    "1. Prepare the DataFrame\n",
    "1. Obtain the TSNE 2D embeddings from the higher-dimensional MFCC features\n",
    "1. Plot the results!"
   ]
  },
  {
   "cell_type": "markdown",
   "metadata": {},
   "source": [
    "## Imports\n",
    "\n",
    "---\n",
    "\n",
    "For this script, we will need Pytorch to load the dataset, scikit-learn for the TSNE plot functionality, and also plotly to visualize the results."
   ]
  },
  {
   "cell_type": "code",
   "execution_count": 1,
   "metadata": {},
   "outputs": [],
   "source": [
    "import torch\n",
    "import numpy as np\n",
    "import plotly.graph_objects as go\n",
    "import plotly.express as px\n",
    "import matplotlib.pyplot as plt\n",
    "import pandas as pd\n",
    "from sklearn.manifold import TSNE\n",
    "import sys;sys.path.append('..')\n",
    "from src.utils import *"
   ]
  },
  {
   "cell_type": "markdown",
   "metadata": {},
   "source": [
    "## Load the Preset Dataset\n",
    "\n",
    "---\n",
    "\n",
    "Load the preset from the saved `.pt` file and inspect its structure."
   ]
  },
  {
   "cell_type": "code",
   "execution_count": 2,
   "metadata": {},
   "outputs": [],
   "source": [
    "dataset = torch.load('preset_dataset.pt')"
   ]
  },
  {
   "cell_type": "code",
   "execution_count": 3,
   "metadata": {},
   "outputs": [
    {
     "data": {
      "text/plain": [
       "dict_keys(['preset_names', 'raw_audio', 'MFCCs'])"
      ]
     },
     "execution_count": 3,
     "metadata": {},
     "output_type": "execute_result"
    }
   ],
   "source": [
    "dataset.keys()"
   ]
  },
  {
   "cell_type": "code",
   "execution_count": 4,
   "metadata": {},
   "outputs": [
    {
     "data": {
      "text/plain": [
       "['Default',\n",
       " 'MT Tailwhip Organ (2)',\n",
       " 'Super Jumper',\n",
       " 'Nice Filter Sweep',\n",
       " 'Chillin R2D2',\n",
       " 'Deep Drop In',\n",
       " 'Enter the Twirl',\n",
       " 'Water Love',\n",
       " 'Pulse Drop',\n",
       " 'Phasing Island Bass',\n",
       " 'Mono Pulse Bass',\n",
       " '08-15 Bass',\n",
       " 'Classic Saw Bass',\n",
       " 'Funky Mod Bass',\n",
       " 'Ultra Deep Bass',\n",
       " 'Basic Pad',\n",
       " 'Apollo Pad',\n",
       " 'Pulse Drop Pad',\n",
       " 'Self Destroy',\n",
       " 'Big Lead',\n",
       " 'Double Chorus Trancer',\n",
       " 'Super Funky Lead',\n",
       " 'Startup',\n",
       " 'Ugly One',\n",
       " 'Disharmonic feedback',\n",
       " 'Slow Phaser',\n",
       " 'Eso Drops',\n",
       " 'Dark Roads',\n",
       " 'Mellow LoFi Lead',\n",
       " 'Crystal Drops',\n",
       " 'Dream Arp',\n",
       " 'FN-Bassliner-BAS',\n",
       " 'FN-Dark Bass II-BAS',\n",
       " 'FN-Flow Bass-BAS',\n",
       " 'FN-High Noise-BAS',\n",
       " 'FN-Wobblelike Bass-BAS',\n",
       " 'FN-Dark Bass-BAS',\n",
       " 'FN-Nostalgic Bass-BAS',\n",
       " 'FN-C64ish Bass',\n",
       " 'FN-Basslover',\n",
       " 'FN-Bass Wobbler-BAS',\n",
       " 'FN-Wobblebass-BAS',\n",
       " 'FN-Dark Night-PAD',\n",
       " 'FN-Analog Feeling-PAD',\n",
       " 'FN-Blubberfeld-PAD',\n",
       " 'FN-Noisia-PAD',\n",
       " 'FN-Darpesh Pad-PAD',\n",
       " 'FN-Restless Night-PAD',\n",
       " 'FN-Analog Pad-PAD',\n",
       " 'FN-RollinSun-PAD',\n",
       " 'FN-Flowing Filter-PAD',\n",
       " 'FN-Experimental-PAD',\n",
       " 'FN-Keep It Noisy!',\n",
       " 'FN-Digital Feeling',\n",
       " 'FN-Analog Lead-FN',\n",
       " 'FN-Enjoy My C64',\n",
       " 'FN-Nostalgicer Lead-LEA',\n",
       " 'FN-Plastic Lead-LEA',\n",
       " 'FN-I Need Lead-LEA',\n",
       " 'FN-Easy Listening',\n",
       " 'FN-A Little Something-LEA',\n",
       " 'FN-Doubleplayer',\n",
       " 'FN-Free Willy-ARP',\n",
       " 'FN-Resonanzig',\n",
       " 'FN-Filter Lead-LEA',\n",
       " 'FN-Chordmachine-KEY',\n",
       " 'FN-Easy Keys',\n",
       " 'FN-Chordmachine II-KEY',\n",
       " 'FN-Small Keys-KEY',\n",
       " 'FN-Low Keys-KEY',\n",
       " 'FN-Backwards ARP',\n",
       " 'FN-Anastyle-ARP',\n",
       " 'FN-Percussive Plugger2-ARP',\n",
       " 'FN-Percussive Plugger-ARP',\n",
       " 'FN-Pluggiolator-ARP',\n",
       " 'FN-C64ish Arp',\n",
       " 'FN-Bass Lover-ARP',\n",
       " 'FN-Anastyle II-ARP',\n",
       " 'FN-One Finger Show-ARP',\n",
       " 'FN-Percussive Plugger3-ARP',\n",
       " 'FN-Rhytmic Noise-ARP',\n",
       " 'SFX UFO Landing FMR',\n",
       " 'SFX Surfing the Waves FMR',\n",
       " 'SFX Noise Bubbles FMR',\n",
       " 'SFX Space Sound 4 FMR',\n",
       " 'PNO Piano 2 FMR',\n",
       " 'PNO Another E P FMR',\n",
       " 'PNO Classic E P FMR',\n",
       " 'PNO Sweet Tines FMR',\n",
       " 'PNO Piano 1 FMR',\n",
       " 'PNO Mellow Piano FMR',\n",
       " 'PNO Bright Rhodes FMR',\n",
       " 'STR String Machine FMR',\n",
       " 'STR PWM Strings 2 FMR',\n",
       " 'STR Strings 1 FMR',\n",
       " 'STR Eminent Strings FMR',\n",
       " 'STR Strings 2 FMR',\n",
       " 'STR PWM Strings 1 FMR',\n",
       " 'STR Spartacus VI FMR',\n",
       " 'STR String Ensemble FMR',\n",
       " 'STR Prophet Strings FMR',\n",
       " 'STR Soft Strings FMR',\n",
       " 'STR Low Strings FMR',\n",
       " 'STR Full Strings FMR',\n",
       " 'STR Spartacus VII FMR',\n",
       " 'STR Strings 3 FMR',\n",
       " 'ORG Organ 2 FMR',\n",
       " 'ORG Another Organ FMR',\n",
       " 'ORG Spartacus IX FMR',\n",
       " 'ORG Jazz Organ FMR',\n",
       " 'ORG Spartacus XI FMR',\n",
       " 'ORG Spartacus XII FMR',\n",
       " 'ORG Church Organ Positive FMR',\n",
       " 'ORG Church Organ Gated FMR',\n",
       " 'ORG Organ 1 FMR',\n",
       " 'ORG Spartacus X FMR',\n",
       " 'ORG Church Organ Full Pipes 1 FMR',\n",
       " 'ORG Synthesizer Organ 2 FMR',\n",
       " 'ORG Organ 3 FMR',\n",
       " 'ORG Synthesizer Organ 1 FMR',\n",
       " 'ORG Church Organ Full Pipes 2 FMR',\n",
       " 'DRM Synth Drum 1 FMR',\n",
       " 'DRM Snare Gun FMR',\n",
       " 'DRM Snare Drum 2 FMR',\n",
       " 'DRM Kick Drum 3 FMR',\n",
       " 'DRM Ride Cymbal FMR',\n",
       " 'DRM Snare Drum 1 FMR',\n",
       " 'DRM Snare Drum 4 FMR',\n",
       " 'DRM Synth Drum 2 FMR',\n",
       " 'DRM Kick Drum 2 FMR',\n",
       " 'DRM Kick and Snap FMR',\n",
       " 'DRM Snare Drum 3 FMR',\n",
       " 'DRM Hi-Hat Opened FMR',\n",
       " 'DRM Crash Cymbal FMR',\n",
       " 'DRM Synth Drum 3 FMR',\n",
       " 'DRM Kick Drum and Toms FMR',\n",
       " 'DRM Hi-Hat Closed FMR',\n",
       " 'DRM Kick Drum 1 FMR',\n",
       " 'WND English Horn FMR',\n",
       " 'WND Ocarina FMR',\n",
       " 'WND Flute 1 FMR',\n",
       " 'WND Flute 2 FMR',\n",
       " 'WND Pan Flute FMR',\n",
       " 'WND Oboe FMR',\n",
       " 'WND Clarinet FMR',\n",
       " 'WND Flauto Dolce FMR',\n",
       " 'GTR Overdrive Guitar FMR',\n",
       " 'GTR Chorused Ovation FMR',\n",
       " 'GTR Jazz Guitar FMR',\n",
       " 'GTR Steel String Guitar FMR',\n",
       " 'GTR Acoustic Guitar FMR',\n",
       " 'BRS Brass 2 FMR',\n",
       " 'BRS French Horn FMR',\n",
       " 'BRS Brass Pad 1 FMR',\n",
       " 'BRS Tuba FMR',\n",
       " 'BRS Brass Pad 2 FMR',\n",
       " 'BRS Brass 1 FMR',\n",
       " 'BRS Low Brass FMR',\n",
       " 'BRS Phase Brass FMR',\n",
       " 'BRS Trumpet FMR',\n",
       " 'BRS Brass 3 FMR',\n",
       " 'BRS Prophet Brass FMR',\n",
       " 'BRS Brass Pad 3 FMR',\n",
       " 'BAS Square Bass FMR',\n",
       " 'BAS Pulse Bass 1 FMR',\n",
       " 'BAS Acid Bass 2 FMR',\n",
       " 'BAS Acid Bass 1 FMR',\n",
       " 'BAS Acid Bass 4 FMR',\n",
       " 'BAS Pulse Bass 2 FMR',\n",
       " 'BAS Round Bass 2 FMR',\n",
       " 'BAS Synth Bass 2 FMR',\n",
       " 'BAS Acid Bass 3 FMR',\n",
       " 'BAS Wire Bass FMR',\n",
       " 'BAS Love Bass FMR',\n",
       " 'BAS Hooverish Bass FMR',\n",
       " 'BAS Basso Profondo FMR',\n",
       " 'BAS Synth Bass 1 FMR',\n",
       " 'BAS Round Bass 1 FMR',\n",
       " 'PAD Rise the Pulse FMR',\n",
       " 'PAD Spartacus I FMR',\n",
       " 'PAD Spartacus V FMR',\n",
       " 'PAD Reso Pad FMR',\n",
       " 'PAD Metal Rotor Pad FMR',\n",
       " 'PAD Classic Sweep Pad FMR',\n",
       " 'PAD Dive Into The Deep FMR',\n",
       " 'PAD Meditation Pad 3 FMR',\n",
       " 'PAD Forever Pad FMR',\n",
       " 'PAD Hoiy Mass FMR',\n",
       " 'PAD Woosh Pad FMR',\n",
       " 'PAD Massive Pad 1 FMR',\n",
       " 'PAD Big Synth Pad 2 FMR',\n",
       " 'PAD This Is It FMR',\n",
       " 'PAD Meditation Pad 1 FMR',\n",
       " 'PAD Chariots VG Brass FMR',\n",
       " 'PAD Bass Pad FMR',\n",
       " 'PAD PWM Pad FMR',\n",
       " 'PAD Meditation Pad 2 FMR',\n",
       " 'PAD Big Synth Pad 1 FMR',\n",
       " 'PAD Massive Pad 2 FMR',\n",
       " 'PAD High Res Pad FMR',\n",
       " 'PRC Chiff Attack FMR',\n",
       " 'PRC Percussion 2 FMR',\n",
       " 'PRC Thump Bass Drum FMR',\n",
       " 'PRC Percussion 1 FMR',\n",
       " 'PRC Percussion 4 FMR',\n",
       " 'PRC Xylophone FMR',\n",
       " 'PRC Synth Gamelan FMR',\n",
       " 'PRC Dual SynRes Percussion FMR',\n",
       " 'PRC Percussion 3 FMR',\n",
       " 'PRC Popcorn FMR',\n",
       " 'PRC Pizzicato Sound 2 FMR',\n",
       " 'PRC Clicks FMR',\n",
       " 'PRC Pizzicato Sound 1 FMR',\n",
       " 'PRC Crystal Bells FMR',\n",
       " 'PRC Glockenspiel FMR',\n",
       " 'PRC Steel Drum FMR',\n",
       " 'PRC The Tech Pluck FMR',\n",
       " 'SYN Harpsynth Poly FMR',\n",
       " 'SYN Phase Combination FMR',\n",
       " 'SYN Raw Saw-Sub FMR',\n",
       " 'SYN Please Release Me FMR',\n",
       " 'SYN Slow Polysynth FMR',\n",
       " 'SYN Percussive Polysynth FMR',\n",
       " 'SYN VH Jump FMR',\n",
       " 'SYN PWM FMR',\n",
       " 'SYN PWM Chorus C FMR',\n",
       " 'SYN Space Harp FMR',\n",
       " 'SYN Dreamy Poly FMR',\n",
       " 'SYN Reed 2 FMR',\n",
       " 'SYN Gated Bright Synth FMR',\n",
       " 'SYN PWM Sound FMR',\n",
       " 'SYN Chariots VG Harp FMR',\n",
       " 'SYN PWM Chorus B FMR',\n",
       " 'SYN Raw Saw-Square FMR',\n",
       " 'SYN Synthesizer Harp FMR',\n",
       " 'SYN Synth Harp LFO FMR',\n",
       " 'SYN Dynamic Polysynth FMR',\n",
       " 'SYN Wah Brass FMR',\n",
       " 'SYN Harpe Laser FMR',\n",
       " 'SYN Fluctuation Keys FMR',\n",
       " 'LED Big Lead 2 FMR',\n",
       " 'LED Sing Like a Cat FMR',\n",
       " 'LED Spartacus III FMR',\n",
       " 'LED Calliope FMR',\n",
       " 'LED Spartacus IV FMR',\n",
       " 'LED Spartacus II FMR',\n",
       " 'LED Reed 1 FMR',\n",
       " 'LED Big Lead 1 FMR',\n",
       " 'LED Flutey Vibrato Solo FMR',\n",
       " 'LED Silk Road Lead FMR',\n",
       " 'LED Reed 3 FMR',\n",
       " 'LED PWM Lead FMR',\n",
       " 'LED Violin FMR',\n",
       " 'LED Square Lead FMR',\n",
       " 'LED Meeaow Lead FMR',\n",
       " 'LED LFO Lead FMR',\n",
       " 'LED Tin Whistle FMR',\n",
       " 'DRN Deep Drone FMR',\n",
       " 'DRN LFO and Echo Drone FMR',\n",
       " 'DRN Waving Bass Drone FMR',\n",
       " 'DRN JX-3P Drone FMR',\n",
       " 'DRN Sequence Like Drone FMR',\n",
       " 'CHO Church Choir FMR',\n",
       " 'CHO PWM Chorus A FMR',\n",
       " 'CHO Voice Chorus FMR',\n",
       " 'CHO Voice Chorus Too FMR',\n",
       " 'ARP Swinging Arpeggio FMR',\n",
       " 'ARP PWM LFO Arpeggio FMR',\n",
       " 'ARP Bass Arpeggio FMR',\n",
       " 'ARP KS-TD Arpeggio FMR',\n",
       " 'ARP Play Just One Note FMR',\n",
       " 'ARP Random Arpeggiated PWM FMR',\n",
       " 'ARP String Machine Arpeggio FMR',\n",
       " 'ARP Ravers Arp FMR',\n",
       " 'ARP Cold Thinking Arpeggio FMR',\n",
       " 'ARP Berlin School Arpeggio FMR',\n",
       " 'ARP Wisteria Spot FMR',\n",
       " 'ARP Stringish Arp FMR',\n",
       " 'ARP Circles Arpeggio FMR',\n",
       " 'MFX Mysterious Invention FMR',\n",
       " 'MFX LFO and Echo FMR',\n",
       " 'MFX Space Sound 3 FMR',\n",
       " 'MFX Effect Sound Six FMR',\n",
       " 'MFX Effect Sound Three FMR',\n",
       " 'MFX Effect Sound Five FMR',\n",
       " 'MFX Space Sound 1 FMR',\n",
       " 'MFX Spartacus VIII FMR',\n",
       " 'MFX Effect Sound 76 FMR',\n",
       " 'MFX Low Harp Endless Tail FMR',\n",
       " 'MFX Effect Sound One FMR',\n",
       " 'MFX Effect Sound Four FMR',\n",
       " 'MFX Inverted Filter PWM FMR',\n",
       " 'MFX Space Sound 2 FMR',\n",
       " 'MFX Effect Sound Two FMR',\n",
       " 'MFX Effect Sound Seven FMR',\n",
       " 'KBD Celesta FMR',\n",
       " 'KBD Funk B FMR',\n",
       " 'KBD Harpsichord 1 FMR',\n",
       " 'KBD Harpsichord 2 FMR',\n",
       " 'KBD Funk A FMR',\n",
       " 'KBD Classic Clavinet FMR',\n",
       " 'KBD Clavichord 2 FMR',\n",
       " 'KBD Clavichord 1 FMR',\n",
       " 'KBD Synthi Clavinet FMR',\n",
       " 'The Difference Bass',\n",
       " 'The Difference Trumpet Synth',\n",
       " 'MT Norton Commander',\n",
       " 'MT Numb',\n",
       " 'MT Tailwhip Xylophone',\n",
       " 'MT Tailwhip Lead',\n",
       " 'MT Tailwhip Organ',\n",
       " '67 Mysterious Invention',\n",
       " '56 Reed 2',\n",
       " '63 Effect Sound 2',\n",
       " '57 Reed 3',\n",
       " '17 Brass',\n",
       " '54 Reed 1',\n",
       " '65 Funk',\n",
       " '25 Harpsichord 1',\n",
       " '62 Effect Sound 1',\n",
       " '73 Whistle',\n",
       " '23 Celesta',\n",
       " '28 Synthesizer Harp',\n",
       " '53 Phase Combination',\n",
       " '14 Organ 1',\n",
       " '64 Space Harp',\n",
       " '35 Pizzicato Sound 1',\n",
       " '71 Percussive Sound 1',\n",
       " '11 Strings 1',\n",
       " '44 Tuba',\n",
       " '41 Violine',\n",
       " '46 Clarinet',\n",
       " '12 Strings 2',\n",
       " '45 Flute',\n",
       " '58 PWM Chorus',\n",
       " '34 Clavichord 2',\n",
       " '13 Strings 3',\n",
       " '22 Piano 2',\n",
       " '15 Organ 2',\n",
       " '52 Wah Brass',\n",
       " '68 Space Sound 2',\n",
       " '51 Funny Cat',\n",
       " '33 Clavichord 1',\n",
       " '48 English Horn',\n",
       " '21 Piano 1',\n",
       " '38 Glockenspiel',\n",
       " '61 Synthesizer Organ',\n",
       " '78 Synthesizer Drum',\n",
       " '74 Effect Sound 3',\n",
       " '47 Oboe',\n",
       " '36 Pizzicato Sound 2',\n",
       " '76 Space Sound 3',\n",
       " '18 Phase Brass',\n",
       " '32 Bass 2',\n",
       " '31 Bass 1',\n",
       " '77 Surf',\n",
       " '72 Percussive Sound 2',\n",
       " '27 Guitar',\n",
       " '66 Space Sound 1',\n",
       " '37 Xylophone',\n",
       " '43 Horn',\n",
       " '26 Harpsichord 2',\n",
       " '24 Mellow Piano',\n",
       " '42 Trumpet',\n",
       " '16 Organ 3',\n",
       " '75 UFO',\n",
       " '55 Popcorn']"
      ]
     },
     "execution_count": 4,
     "metadata": {},
     "output_type": "execute_result"
    }
   ],
   "source": [
    "dataset['preset_names']"
   ]
  },
  {
   "cell_type": "code",
   "execution_count": 5,
   "metadata": {},
   "outputs": [],
   "source": [
    "# we need to convert the preset names to a categorical variable in order to group the points in the scatter plot\n",
    "categorized_names = {name: categorize_name(name) for name in dataset['preset_names']}"
   ]
  },
  {
   "cell_type": "code",
   "execution_count": 6,
   "metadata": {},
   "outputs": [
    {
     "data": {
      "text/plain": [
       "{'Default': 'Miscellaneous/Other',\n",
       " 'MT Tailwhip Organ (2)': 'Organs',\n",
       " 'Super Jumper': 'Miscellaneous/Other',\n",
       " 'Nice Filter Sweep': 'Miscellaneous/Other',\n",
       " 'Chillin R2D2': 'Miscellaneous/Other',\n",
       " 'Deep Drop In': 'Miscellaneous/Other',\n",
       " 'Enter the Twirl': 'Miscellaneous/Other',\n",
       " 'Water Love': 'Miscellaneous/Other',\n",
       " 'Pulse Drop': 'Miscellaneous/Other',\n",
       " 'Phasing Island Bass': 'Bass',\n",
       " 'Mono Pulse Bass': 'Bass',\n",
       " '08-15 Bass': 'Bass',\n",
       " 'Classic Saw Bass': 'Bass',\n",
       " 'Funky Mod Bass': 'Bass',\n",
       " 'Ultra Deep Bass': 'Bass',\n",
       " 'Basic Pad': 'Miscellaneous/Other',\n",
       " 'Apollo Pad': 'Miscellaneous/Other',\n",
       " 'Pulse Drop Pad': 'Miscellaneous/Other',\n",
       " 'Self Destroy': 'Miscellaneous/Other',\n",
       " 'Big Lead': 'Leads',\n",
       " 'Double Chorus Trancer': 'Miscellaneous/Other',\n",
       " 'Super Funky Lead': 'Leads',\n",
       " 'Startup': 'Miscellaneous/Other',\n",
       " 'Ugly One': 'Miscellaneous/Other',\n",
       " 'Disharmonic feedback': 'Miscellaneous/Other',\n",
       " 'Slow Phaser': 'Miscellaneous/Other',\n",
       " 'Eso Drops': 'Miscellaneous/Other',\n",
       " 'Dark Roads': 'Miscellaneous/Other',\n",
       " 'Mellow LoFi Lead': 'Leads',\n",
       " 'Crystal Drops': 'Miscellaneous/Other',\n",
       " 'Dream Arp': 'Arpeggios',\n",
       " 'FN-Bassliner-BAS': 'Bass',\n",
       " 'FN-Dark Bass II-BAS': 'Bass',\n",
       " 'FN-Flow Bass-BAS': 'Bass',\n",
       " 'FN-High Noise-BAS': 'Bass',\n",
       " 'FN-Wobblelike Bass-BAS': 'Bass',\n",
       " 'FN-Dark Bass-BAS': 'Bass',\n",
       " 'FN-Nostalgic Bass-BAS': 'Bass',\n",
       " 'FN-C64ish Bass': 'Bass',\n",
       " 'FN-Basslover': 'Bass',\n",
       " 'FN-Bass Wobbler-BAS': 'Bass',\n",
       " 'FN-Wobblebass-BAS': 'Bass',\n",
       " 'FN-Dark Night-PAD': 'Synth Pads',\n",
       " 'FN-Analog Feeling-PAD': 'Synth Pads',\n",
       " 'FN-Blubberfeld-PAD': 'Synth Pads',\n",
       " 'FN-Noisia-PAD': 'Synth Pads',\n",
       " 'FN-Darpesh Pad-PAD': 'Synth Pads',\n",
       " 'FN-Restless Night-PAD': 'Synth Pads',\n",
       " 'FN-Analog Pad-PAD': 'Synth Pads',\n",
       " 'FN-RollinSun-PAD': 'Synth Pads',\n",
       " 'FN-Flowing Filter-PAD': 'Synth Pads',\n",
       " 'FN-Experimental-PAD': 'Synth Pads',\n",
       " 'FN-Keep It Noisy!': 'Miscellaneous/Other',\n",
       " 'FN-Digital Feeling': 'Miscellaneous/Other',\n",
       " 'FN-Analog Lead-FN': 'Leads',\n",
       " 'FN-Enjoy My C64': 'Miscellaneous/Other',\n",
       " 'FN-Nostalgicer Lead-LEA': 'Leads',\n",
       " 'FN-Plastic Lead-LEA': 'Leads',\n",
       " 'FN-I Need Lead-LEA': 'Leads',\n",
       " 'FN-Easy Listening': 'Miscellaneous/Other',\n",
       " 'FN-A Little Something-LEA': 'Miscellaneous/Other',\n",
       " 'FN-Doubleplayer': 'Miscellaneous/Other',\n",
       " 'FN-Free Willy-ARP': 'Arpeggios',\n",
       " 'FN-Resonanzig': 'Miscellaneous/Other',\n",
       " 'FN-Filter Lead-LEA': 'Leads',\n",
       " 'FN-Chordmachine-KEY': 'Pianos & Keyboards',\n",
       " 'FN-Easy Keys': 'Pianos & Keyboards',\n",
       " 'FN-Chordmachine II-KEY': 'Pianos & Keyboards',\n",
       " 'FN-Small Keys-KEY': 'Pianos & Keyboards',\n",
       " 'FN-Low Keys-KEY': 'Pianos & Keyboards',\n",
       " 'FN-Backwards ARP': 'Arpeggios',\n",
       " 'FN-Anastyle-ARP': 'Arpeggios',\n",
       " 'FN-Percussive Plugger2-ARP': 'Arpeggios',\n",
       " 'FN-Percussive Plugger-ARP': 'Arpeggios',\n",
       " 'FN-Pluggiolator-ARP': 'Arpeggios',\n",
       " 'FN-C64ish Arp': 'Arpeggios',\n",
       " 'FN-Bass Lover-ARP': 'Bass',\n",
       " 'FN-Anastyle II-ARP': 'Arpeggios',\n",
       " 'FN-One Finger Show-ARP': 'Arpeggios',\n",
       " 'FN-Percussive Plugger3-ARP': 'Arpeggios',\n",
       " 'FN-Rhytmic Noise-ARP': 'Arpeggios',\n",
       " 'SFX UFO Landing FMR': 'Miscellaneous/Other',\n",
       " 'SFX Surfing the Waves FMR': 'Miscellaneous/Other',\n",
       " 'SFX Noise Bubbles FMR': 'Miscellaneous/Other',\n",
       " 'SFX Space Sound 4 FMR': 'Miscellaneous/Other',\n",
       " 'PNO Piano 2 FMR': 'Pianos & Keyboards',\n",
       " 'PNO Another E P FMR': 'Pianos & Keyboards',\n",
       " 'PNO Classic E P FMR': 'Pianos & Keyboards',\n",
       " 'PNO Sweet Tines FMR': 'Pianos & Keyboards',\n",
       " 'PNO Piano 1 FMR': 'Pianos & Keyboards',\n",
       " 'PNO Mellow Piano FMR': 'Pianos & Keyboards',\n",
       " 'PNO Bright Rhodes FMR': 'Pianos & Keyboards',\n",
       " 'STR String Machine FMR': 'Strings',\n",
       " 'STR PWM Strings 2 FMR': 'Strings',\n",
       " 'STR Strings 1 FMR': 'Strings',\n",
       " 'STR Eminent Strings FMR': 'Strings',\n",
       " 'STR Strings 2 FMR': 'Strings',\n",
       " 'STR PWM Strings 1 FMR': 'Strings',\n",
       " 'STR Spartacus VI FMR': 'Strings',\n",
       " 'STR String Ensemble FMR': 'Strings',\n",
       " 'STR Prophet Strings FMR': 'Strings',\n",
       " 'STR Soft Strings FMR': 'Strings',\n",
       " 'STR Low Strings FMR': 'Strings',\n",
       " 'STR Full Strings FMR': 'Strings',\n",
       " 'STR Spartacus VII FMR': 'Strings',\n",
       " 'STR Strings 3 FMR': 'Strings',\n",
       " 'ORG Organ 2 FMR': 'Organs',\n",
       " 'ORG Another Organ FMR': 'Organs',\n",
       " 'ORG Spartacus IX FMR': 'Organs',\n",
       " 'ORG Jazz Organ FMR': 'Organs',\n",
       " 'ORG Spartacus XI FMR': 'Organs',\n",
       " 'ORG Spartacus XII FMR': 'Organs',\n",
       " 'ORG Church Organ Positive FMR': 'Organs',\n",
       " 'ORG Church Organ Gated FMR': 'Organs',\n",
       " 'ORG Organ 1 FMR': 'Organs',\n",
       " 'ORG Spartacus X FMR': 'Organs',\n",
       " 'ORG Church Organ Full Pipes 1 FMR': 'Organs',\n",
       " 'ORG Synthesizer Organ 2 FMR': 'Organs',\n",
       " 'ORG Organ 3 FMR': 'Organs',\n",
       " 'ORG Synthesizer Organ 1 FMR': 'Organs',\n",
       " 'ORG Church Organ Full Pipes 2 FMR': 'Organs',\n",
       " 'DRM Synth Drum 1 FMR': 'Miscellaneous/Other',\n",
       " 'DRM Snare Gun FMR': 'Miscellaneous/Other',\n",
       " 'DRM Snare Drum 2 FMR': 'Miscellaneous/Other',\n",
       " 'DRM Kick Drum 3 FMR': 'Miscellaneous/Other',\n",
       " 'DRM Ride Cymbal FMR': 'Miscellaneous/Other',\n",
       " 'DRM Snare Drum 1 FMR': 'Miscellaneous/Other',\n",
       " 'DRM Snare Drum 4 FMR': 'Miscellaneous/Other',\n",
       " 'DRM Synth Drum 2 FMR': 'Miscellaneous/Other',\n",
       " 'DRM Kick Drum 2 FMR': 'Miscellaneous/Other',\n",
       " 'DRM Kick and Snap FMR': 'Miscellaneous/Other',\n",
       " 'DRM Snare Drum 3 FMR': 'Miscellaneous/Other',\n",
       " 'DRM Hi-Hat Opened FMR': 'Miscellaneous/Other',\n",
       " 'DRM Crash Cymbal FMR': 'Miscellaneous/Other',\n",
       " 'DRM Synth Drum 3 FMR': 'Miscellaneous/Other',\n",
       " 'DRM Kick Drum and Toms FMR': 'Miscellaneous/Other',\n",
       " 'DRM Hi-Hat Closed FMR': 'Miscellaneous/Other',\n",
       " 'DRM Kick Drum 1 FMR': 'Miscellaneous/Other',\n",
       " 'WND English Horn FMR': 'Brass & Woodwinds',\n",
       " 'WND Ocarina FMR': 'Brass & Woodwinds',\n",
       " 'WND Flute 1 FMR': 'Brass & Woodwinds',\n",
       " 'WND Flute 2 FMR': 'Brass & Woodwinds',\n",
       " 'WND Pan Flute FMR': 'Brass & Woodwinds',\n",
       " 'WND Oboe FMR': 'Brass & Woodwinds',\n",
       " 'WND Clarinet FMR': 'Brass & Woodwinds',\n",
       " 'WND Flauto Dolce FMR': 'Brass & Woodwinds',\n",
       " 'GTR Overdrive Guitar FMR': 'Guitars',\n",
       " 'GTR Chorused Ovation FMR': 'Guitars',\n",
       " 'GTR Jazz Guitar FMR': 'Guitars',\n",
       " 'GTR Steel String Guitar FMR': 'Guitars',\n",
       " 'GTR Acoustic Guitar FMR': 'Guitars',\n",
       " 'BRS Brass 2 FMR': 'Brass & Woodwinds',\n",
       " 'BRS French Horn FMR': 'Brass & Woodwinds',\n",
       " 'BRS Brass Pad 1 FMR': 'Brass & Woodwinds',\n",
       " 'BRS Tuba FMR': 'Brass & Woodwinds',\n",
       " 'BRS Brass Pad 2 FMR': 'Brass & Woodwinds',\n",
       " 'BRS Brass 1 FMR': 'Brass & Woodwinds',\n",
       " 'BRS Low Brass FMR': 'Brass & Woodwinds',\n",
       " 'BRS Phase Brass FMR': 'Brass & Woodwinds',\n",
       " 'BRS Trumpet FMR': 'Brass & Woodwinds',\n",
       " 'BRS Brass 3 FMR': 'Brass & Woodwinds',\n",
       " 'BRS Prophet Brass FMR': 'Brass & Woodwinds',\n",
       " 'BRS Brass Pad 3 FMR': 'Brass & Woodwinds',\n",
       " 'BAS Square Bass FMR': 'Bass',\n",
       " 'BAS Pulse Bass 1 FMR': 'Bass',\n",
       " 'BAS Acid Bass 2 FMR': 'Bass',\n",
       " 'BAS Acid Bass 1 FMR': 'Bass',\n",
       " 'BAS Acid Bass 4 FMR': 'Bass',\n",
       " 'BAS Pulse Bass 2 FMR': 'Bass',\n",
       " 'BAS Round Bass 2 FMR': 'Bass',\n",
       " 'BAS Synth Bass 2 FMR': 'Bass',\n",
       " 'BAS Acid Bass 3 FMR': 'Bass',\n",
       " 'BAS Wire Bass FMR': 'Bass',\n",
       " 'BAS Love Bass FMR': 'Bass',\n",
       " 'BAS Hooverish Bass FMR': 'Bass',\n",
       " 'BAS Basso Profondo FMR': 'Bass',\n",
       " 'BAS Synth Bass 1 FMR': 'Bass',\n",
       " 'BAS Round Bass 1 FMR': 'Bass',\n",
       " 'PAD Rise the Pulse FMR': 'Synth Pads',\n",
       " 'PAD Spartacus I FMR': 'Synth Pads',\n",
       " 'PAD Spartacus V FMR': 'Synth Pads',\n",
       " 'PAD Reso Pad FMR': 'Synth Pads',\n",
       " 'PAD Metal Rotor Pad FMR': 'Synth Pads',\n",
       " 'PAD Classic Sweep Pad FMR': 'Synth Pads',\n",
       " 'PAD Dive Into The Deep FMR': 'Synth Pads',\n",
       " 'PAD Meditation Pad 3 FMR': 'Synth Pads',\n",
       " 'PAD Forever Pad FMR': 'Synth Pads',\n",
       " 'PAD Hoiy Mass FMR': 'Synth Pads',\n",
       " 'PAD Woosh Pad FMR': 'Synth Pads',\n",
       " 'PAD Massive Pad 1 FMR': 'Synth Pads',\n",
       " 'PAD Big Synth Pad 2 FMR': 'Synth Pads',\n",
       " 'PAD This Is It FMR': 'Synth Pads',\n",
       " 'PAD Meditation Pad 1 FMR': 'Synth Pads',\n",
       " 'PAD Chariots VG Brass FMR': 'Synth Pads',\n",
       " 'PAD Bass Pad FMR': 'Synth Pads',\n",
       " 'PAD PWM Pad FMR': 'Synth Pads',\n",
       " 'PAD Meditation Pad 2 FMR': 'Synth Pads',\n",
       " 'PAD Big Synth Pad 1 FMR': 'Synth Pads',\n",
       " 'PAD Massive Pad 2 FMR': 'Synth Pads',\n",
       " 'PAD High Res Pad FMR': 'Synth Pads',\n",
       " 'PRC Chiff Attack FMR': 'Miscellaneous/Other',\n",
       " 'PRC Percussion 2 FMR': 'Miscellaneous/Other',\n",
       " 'PRC Thump Bass Drum FMR': 'Bass',\n",
       " 'PRC Percussion 1 FMR': 'Miscellaneous/Other',\n",
       " 'PRC Percussion 4 FMR': 'Miscellaneous/Other',\n",
       " 'PRC Xylophone FMR': 'Miscellaneous/Other',\n",
       " 'PRC Synth Gamelan FMR': 'Miscellaneous/Other',\n",
       " 'PRC Dual SynRes Percussion FMR': 'Miscellaneous/Other',\n",
       " 'PRC Percussion 3 FMR': 'Miscellaneous/Other',\n",
       " 'PRC Popcorn FMR': 'Miscellaneous/Other',\n",
       " 'PRC Pizzicato Sound 2 FMR': 'Miscellaneous/Other',\n",
       " 'PRC Clicks FMR': 'Miscellaneous/Other',\n",
       " 'PRC Pizzicato Sound 1 FMR': 'Miscellaneous/Other',\n",
       " 'PRC Crystal Bells FMR': 'Miscellaneous/Other',\n",
       " 'PRC Glockenspiel FMR': 'Miscellaneous/Other',\n",
       " 'PRC Steel Drum FMR': 'Miscellaneous/Other',\n",
       " 'PRC The Tech Pluck FMR': 'Miscellaneous/Other',\n",
       " 'SYN Harpsynth Poly FMR': 'Miscellaneous/Other',\n",
       " 'SYN Phase Combination FMR': 'Miscellaneous/Other',\n",
       " 'SYN Raw Saw-Sub FMR': 'Miscellaneous/Other',\n",
       " 'SYN Please Release Me FMR': 'Miscellaneous/Other',\n",
       " 'SYN Slow Polysynth FMR': 'Miscellaneous/Other',\n",
       " 'SYN Percussive Polysynth FMR': 'Miscellaneous/Other',\n",
       " 'SYN VH Jump FMR': 'Miscellaneous/Other',\n",
       " 'SYN PWM FMR': 'Miscellaneous/Other',\n",
       " 'SYN PWM Chorus C FMR': 'Miscellaneous/Other',\n",
       " 'SYN Space Harp FMR': 'Miscellaneous/Other',\n",
       " 'SYN Dreamy Poly FMR': 'Miscellaneous/Other',\n",
       " 'SYN Reed 2 FMR': 'Miscellaneous/Other',\n",
       " 'SYN Gated Bright Synth FMR': 'Miscellaneous/Other',\n",
       " 'SYN PWM Sound FMR': 'Miscellaneous/Other',\n",
       " 'SYN Chariots VG Harp FMR': 'Miscellaneous/Other',\n",
       " 'SYN PWM Chorus B FMR': 'Miscellaneous/Other',\n",
       " 'SYN Raw Saw-Square FMR': 'Miscellaneous/Other',\n",
       " 'SYN Synthesizer Harp FMR': 'Miscellaneous/Other',\n",
       " 'SYN Synth Harp LFO FMR': 'Miscellaneous/Other',\n",
       " 'SYN Dynamic Polysynth FMR': 'Miscellaneous/Other',\n",
       " 'SYN Wah Brass FMR': 'Brass & Woodwinds',\n",
       " 'SYN Harpe Laser FMR': 'Miscellaneous/Other',\n",
       " 'SYN Fluctuation Keys FMR': 'Pianos & Keyboards',\n",
       " 'LED Big Lead 2 FMR': 'Leads',\n",
       " 'LED Sing Like a Cat FMR': 'Leads',\n",
       " 'LED Spartacus III FMR': 'Leads',\n",
       " 'LED Calliope FMR': 'Leads',\n",
       " 'LED Spartacus IV FMR': 'Leads',\n",
       " 'LED Spartacus II FMR': 'Leads',\n",
       " 'LED Reed 1 FMR': 'Leads',\n",
       " 'LED Big Lead 1 FMR': 'Leads',\n",
       " 'LED Flutey Vibrato Solo FMR': 'Leads',\n",
       " 'LED Silk Road Lead FMR': 'Leads',\n",
       " 'LED Reed 3 FMR': 'Leads',\n",
       " 'LED PWM Lead FMR': 'Leads',\n",
       " 'LED Violin FMR': 'Leads',\n",
       " 'LED Square Lead FMR': 'Leads',\n",
       " 'LED Meeaow Lead FMR': 'Leads',\n",
       " 'LED LFO Lead FMR': 'Leads',\n",
       " 'LED Tin Whistle FMR': 'Leads',\n",
       " 'DRN Deep Drone FMR': 'Miscellaneous/Other',\n",
       " 'DRN LFO and Echo Drone FMR': 'Miscellaneous/Other',\n",
       " 'DRN Waving Bass Drone FMR': 'Bass',\n",
       " 'DRN JX-3P Drone FMR': 'Miscellaneous/Other',\n",
       " 'DRN Sequence Like Drone FMR': 'Miscellaneous/Other',\n",
       " 'CHO Church Choir FMR': 'Miscellaneous/Other',\n",
       " 'CHO PWM Chorus A FMR': 'Miscellaneous/Other',\n",
       " 'CHO Voice Chorus FMR': 'Miscellaneous/Other',\n",
       " 'CHO Voice Chorus Too FMR': 'Miscellaneous/Other',\n",
       " 'ARP Swinging Arpeggio FMR': 'Arpeggios',\n",
       " 'ARP PWM LFO Arpeggio FMR': 'Arpeggios',\n",
       " 'ARP Bass Arpeggio FMR': 'Bass',\n",
       " 'ARP KS-TD Arpeggio FMR': 'Arpeggios',\n",
       " 'ARP Play Just One Note FMR': 'Arpeggios',\n",
       " 'ARP Random Arpeggiated PWM FMR': 'Arpeggios',\n",
       " 'ARP String Machine Arpeggio FMR': 'Arpeggios',\n",
       " 'ARP Ravers Arp FMR': 'Arpeggios',\n",
       " 'ARP Cold Thinking Arpeggio FMR': 'Arpeggios',\n",
       " 'ARP Berlin School Arpeggio FMR': 'Arpeggios',\n",
       " 'ARP Wisteria Spot FMR': 'Arpeggios',\n",
       " 'ARP Stringish Arp FMR': 'Arpeggios',\n",
       " 'ARP Circles Arpeggio FMR': 'Arpeggios',\n",
       " 'MFX Mysterious Invention FMR': 'Miscellaneous/Other',\n",
       " 'MFX LFO and Echo FMR': 'Miscellaneous/Other',\n",
       " 'MFX Space Sound 3 FMR': 'Miscellaneous/Other',\n",
       " 'MFX Effect Sound Six FMR': 'Miscellaneous/Other',\n",
       " 'MFX Effect Sound Three FMR': 'Miscellaneous/Other',\n",
       " 'MFX Effect Sound Five FMR': 'Miscellaneous/Other',\n",
       " 'MFX Space Sound 1 FMR': 'Miscellaneous/Other',\n",
       " 'MFX Spartacus VIII FMR': 'Miscellaneous/Other',\n",
       " 'MFX Effect Sound 76 FMR': 'Miscellaneous/Other',\n",
       " 'MFX Low Harp Endless Tail FMR': 'Miscellaneous/Other',\n",
       " 'MFX Effect Sound One FMR': 'Miscellaneous/Other',\n",
       " 'MFX Effect Sound Four FMR': 'Miscellaneous/Other',\n",
       " 'MFX Inverted Filter PWM FMR': 'Miscellaneous/Other',\n",
       " 'MFX Space Sound 2 FMR': 'Miscellaneous/Other',\n",
       " 'MFX Effect Sound Two FMR': 'Miscellaneous/Other',\n",
       " 'MFX Effect Sound Seven FMR': 'Miscellaneous/Other',\n",
       " 'KBD Celesta FMR': 'Pianos & Keyboards',\n",
       " 'KBD Funk B FMR': 'Pianos & Keyboards',\n",
       " 'KBD Harpsichord 1 FMR': 'Pianos & Keyboards',\n",
       " 'KBD Harpsichord 2 FMR': 'Pianos & Keyboards',\n",
       " 'KBD Funk A FMR': 'Pianos & Keyboards',\n",
       " 'KBD Classic Clavinet FMR': 'Pianos & Keyboards',\n",
       " 'KBD Clavichord 2 FMR': 'Pianos & Keyboards',\n",
       " 'KBD Clavichord 1 FMR': 'Pianos & Keyboards',\n",
       " 'KBD Synthi Clavinet FMR': 'Pianos & Keyboards',\n",
       " 'The Difference Bass': 'Bass',\n",
       " 'The Difference Trumpet Synth': 'Brass & Woodwinds',\n",
       " 'MT Norton Commander': 'Miscellaneous/Other',\n",
       " 'MT Numb': 'Miscellaneous/Other',\n",
       " 'MT Tailwhip Xylophone': 'Miscellaneous/Other',\n",
       " 'MT Tailwhip Lead': 'Leads',\n",
       " 'MT Tailwhip Organ': 'Organs',\n",
       " '67 Mysterious Invention': 'Miscellaneous/Other',\n",
       " '56 Reed 2': 'Miscellaneous/Other',\n",
       " '63 Effect Sound 2': 'Miscellaneous/Other',\n",
       " '57 Reed 3': 'Miscellaneous/Other',\n",
       " '17 Brass': 'Brass & Woodwinds',\n",
       " '54 Reed 1': 'Miscellaneous/Other',\n",
       " '65 Funk': 'Miscellaneous/Other',\n",
       " '25 Harpsichord 1': 'Pianos & Keyboards',\n",
       " '62 Effect Sound 1': 'Miscellaneous/Other',\n",
       " '73 Whistle': 'Miscellaneous/Other',\n",
       " '23 Celesta': 'Pianos & Keyboards',\n",
       " '28 Synthesizer Harp': 'Miscellaneous/Other',\n",
       " '53 Phase Combination': 'Miscellaneous/Other',\n",
       " '14 Organ 1': 'Organs',\n",
       " '64 Space Harp': 'Miscellaneous/Other',\n",
       " '35 Pizzicato Sound 1': 'Miscellaneous/Other',\n",
       " '71 Percussive Sound 1': 'Miscellaneous/Other',\n",
       " '11 Strings 1': 'Strings',\n",
       " '44 Tuba': 'Miscellaneous/Other',\n",
       " '41 Violine': 'Strings',\n",
       " '46 Clarinet': 'Brass & Woodwinds',\n",
       " '12 Strings 2': 'Strings',\n",
       " '45 Flute': 'Brass & Woodwinds',\n",
       " '58 PWM Chorus': 'Miscellaneous/Other',\n",
       " '34 Clavichord 2': 'Pianos & Keyboards',\n",
       " '13 Strings 3': 'Strings',\n",
       " '22 Piano 2': 'Pianos & Keyboards',\n",
       " '15 Organ 2': 'Organs',\n",
       " '52 Wah Brass': 'Brass & Woodwinds',\n",
       " '68 Space Sound 2': 'Miscellaneous/Other',\n",
       " '51 Funny Cat': 'Miscellaneous/Other',\n",
       " '33 Clavichord 1': 'Pianos & Keyboards',\n",
       " '48 English Horn': 'Brass & Woodwinds',\n",
       " '21 Piano 1': 'Pianos & Keyboards',\n",
       " '38 Glockenspiel': 'Miscellaneous/Other',\n",
       " '61 Synthesizer Organ': 'Organs',\n",
       " '78 Synthesizer Drum': 'Miscellaneous/Other',\n",
       " '74 Effect Sound 3': 'Miscellaneous/Other',\n",
       " '47 Oboe': 'Brass & Woodwinds',\n",
       " '36 Pizzicato Sound 2': 'Miscellaneous/Other',\n",
       " '76 Space Sound 3': 'Miscellaneous/Other',\n",
       " '18 Phase Brass': 'Brass & Woodwinds',\n",
       " '32 Bass 2': 'Bass',\n",
       " '31 Bass 1': 'Bass',\n",
       " '77 Surf': 'Miscellaneous/Other',\n",
       " '72 Percussive Sound 2': 'Miscellaneous/Other',\n",
       " '27 Guitar': 'Guitars',\n",
       " '66 Space Sound 1': 'Miscellaneous/Other',\n",
       " '37 Xylophone': 'Miscellaneous/Other',\n",
       " '43 Horn': 'Brass & Woodwinds',\n",
       " '26 Harpsichord 2': 'Pianos & Keyboards',\n",
       " '24 Mellow Piano': 'Pianos & Keyboards',\n",
       " '42 Trumpet': 'Brass & Woodwinds',\n",
       " '16 Organ 3': 'Organs',\n",
       " '75 UFO': 'Miscellaneous/Other',\n",
       " '55 Popcorn': 'Miscellaneous/Other'}"
      ]
     },
     "execution_count": 6,
     "metadata": {},
     "output_type": "execute_result"
    }
   ],
   "source": [
    "categorized_names"
   ]
  },
  {
   "cell_type": "markdown",
   "metadata": {},
   "source": [
    "## Create the Pandas DataFrame for Input to the TSNE Plot\n",
    "\n",
    "---\n",
    "\n",
    "We need to put our dataset into a form that is friendly for the TSNE plot. Specifically, we plan to put everything into an ordered table, a Pandas DataFrame.  "
   ]
  },
  {
   "cell_type": "code",
   "execution_count": 7,
   "metadata": {},
   "outputs": [],
   "source": [
    "# initialize a pandas dataframe\n",
    "df = pd.DataFrame()"
   ]
  },
  {
   "cell_type": "code",
   "execution_count": 8,
   "metadata": {},
   "outputs": [],
   "source": [
    "# define the note to use for this test\n",
    "NOTE = 'C3'"
   ]
  },
  {
   "cell_type": "code",
   "execution_count": 9,
   "metadata": {},
   "outputs": [],
   "source": [
    "# add a column for the preset names\n",
    "df['preset_name'] = dataset['preset_names']\n",
    "\n",
    "# add a column for the categorized preset names\n",
    "df['categorized_name'] = [categorized_names[name] for name in dataset['preset_names']]\n",
    "\n",
    "# add a column for the raw audio signal\n",
    "df['raw_signal'] = [x[NOTE] for x in dataset['raw_audio']] # for now, use C3, we can try other notes and see if we get different results.\n",
    "\n",
    "# add a column for the MFCC features (should we normalize these?)\n",
    "df['mfcc'] = [torch.mean(mfcc[NOTE], axis=1) for mfcc in dataset['MFCCs']] # for now, use C3, we can try other notes and see if we get different results."
   ]
  },
  {
   "cell_type": "code",
   "execution_count": 10,
   "metadata": {},
   "outputs": [
    {
     "data": {
      "text/html": [
       "<div>\n",
       "<style scoped>\n",
       "    .dataframe tbody tr th:only-of-type {\n",
       "        vertical-align: middle;\n",
       "    }\n",
       "\n",
       "    .dataframe tbody tr th {\n",
       "        vertical-align: top;\n",
       "    }\n",
       "\n",
       "    .dataframe thead th {\n",
       "        text-align: right;\n",
       "    }\n",
       "</style>\n",
       "<table border=\"1\" class=\"dataframe\">\n",
       "  <thead>\n",
       "    <tr style=\"text-align: right;\">\n",
       "      <th></th>\n",
       "      <th>preset_name</th>\n",
       "      <th>categorized_name</th>\n",
       "      <th>raw_signal</th>\n",
       "      <th>mfcc</th>\n",
       "    </tr>\n",
       "  </thead>\n",
       "  <tbody>\n",
       "    <tr>\n",
       "      <th>0</th>\n",
       "      <td>Default</td>\n",
       "      <td>Miscellaneous/Other</td>\n",
       "      <td>[tensor(4.9700e-05), tensor(0.0006), tensor(0....</td>\n",
       "      <td>[tensor(-608.2474), tensor(23.0945), tensor(2....</td>\n",
       "    </tr>\n",
       "    <tr>\n",
       "      <th>1</th>\n",
       "      <td>MT Tailwhip Organ (2)</td>\n",
       "      <td>Organs</td>\n",
       "      <td>[tensor(-0.0020), tensor(-0.0033), tensor(-0.0...</td>\n",
       "      <td>[tensor(-550.4434), tensor(53.8938), tensor(33...</td>\n",
       "    </tr>\n",
       "    <tr>\n",
       "      <th>2</th>\n",
       "      <td>Super Jumper</td>\n",
       "      <td>Miscellaneous/Other</td>\n",
       "      <td>[tensor(0.0232), tensor(0.0202), tensor(0.0180...</td>\n",
       "      <td>[tensor(-620.8842), tensor(86.4746), tensor(73...</td>\n",
       "    </tr>\n",
       "    <tr>\n",
       "      <th>3</th>\n",
       "      <td>Nice Filter Sweep</td>\n",
       "      <td>Miscellaneous/Other</td>\n",
       "      <td>[tensor(0.0007), tensor(0.0101), tensor(0.0169...</td>\n",
       "      <td>[tensor(-672.1783), tensor(33.7962), tensor(13...</td>\n",
       "    </tr>\n",
       "    <tr>\n",
       "      <th>4</th>\n",
       "      <td>Chillin R2D2</td>\n",
       "      <td>Miscellaneous/Other</td>\n",
       "      <td>[tensor(-0.0078), tensor(-0.0282), tensor(-0.0...</td>\n",
       "      <td>[tensor(-492.9750), tensor(122.0252), tensor(-...</td>\n",
       "    </tr>\n",
       "  </tbody>\n",
       "</table>\n",
       "</div>"
      ],
      "text/plain": [
       "             preset_name     categorized_name   \n",
       "0                Default  Miscellaneous/Other  \\\n",
       "1  MT Tailwhip Organ (2)               Organs   \n",
       "2           Super Jumper  Miscellaneous/Other   \n",
       "3      Nice Filter Sweep  Miscellaneous/Other   \n",
       "4           Chillin R2D2  Miscellaneous/Other   \n",
       "\n",
       "                                          raw_signal   \n",
       "0  [tensor(4.9700e-05), tensor(0.0006), tensor(0....  \\\n",
       "1  [tensor(-0.0020), tensor(-0.0033), tensor(-0.0...   \n",
       "2  [tensor(0.0232), tensor(0.0202), tensor(0.0180...   \n",
       "3  [tensor(0.0007), tensor(0.0101), tensor(0.0169...   \n",
       "4  [tensor(-0.0078), tensor(-0.0282), tensor(-0.0...   \n",
       "\n",
       "                                                mfcc  \n",
       "0  [tensor(-608.2474), tensor(23.0945), tensor(2....  \n",
       "1  [tensor(-550.4434), tensor(53.8938), tensor(33...  \n",
       "2  [tensor(-620.8842), tensor(86.4746), tensor(73...  \n",
       "3  [tensor(-672.1783), tensor(33.7962), tensor(13...  \n",
       "4  [tensor(-492.9750), tensor(122.0252), tensor(-...  "
      ]
     },
     "execution_count": 10,
     "metadata": {},
     "output_type": "execute_result"
    }
   ],
   "source": [
    "# visualize the first few rows of df\n",
    "df.head(5)"
   ]
  },
  {
   "cell_type": "code",
   "execution_count": 11,
   "metadata": {},
   "outputs": [],
   "source": [
    "# remove all rows in the df that are miscellaneous or other\n",
    "df_filtered = df[df['categorized_name'] != 'Miscellaneous/Other']"
   ]
  },
  {
   "cell_type": "code",
   "execution_count": 12,
   "metadata": {},
   "outputs": [],
   "source": [
    "# reset the index of the dataframe\n",
    "df_filtered = df_filtered.reset_index(drop=True)"
   ]
  },
  {
   "cell_type": "code",
   "execution_count": 13,
   "metadata": {},
   "outputs": [
    {
     "data": {
      "text/plain": [
       "227"
      ]
     },
     "execution_count": 13,
     "metadata": {},
     "output_type": "execute_result"
    }
   ],
   "source": [
    "len(df_filtered)"
   ]
  },
  {
   "cell_type": "code",
   "execution_count": 14,
   "metadata": {},
   "outputs": [
    {
     "data": {
      "text/html": [
       "<div>\n",
       "<style scoped>\n",
       "    .dataframe tbody tr th:only-of-type {\n",
       "        vertical-align: middle;\n",
       "    }\n",
       "\n",
       "    .dataframe tbody tr th {\n",
       "        vertical-align: top;\n",
       "    }\n",
       "\n",
       "    .dataframe thead th {\n",
       "        text-align: right;\n",
       "    }\n",
       "</style>\n",
       "<table border=\"1\" class=\"dataframe\">\n",
       "  <thead>\n",
       "    <tr style=\"text-align: right;\">\n",
       "      <th></th>\n",
       "      <th>preset_name</th>\n",
       "      <th>categorized_name</th>\n",
       "      <th>raw_signal</th>\n",
       "      <th>mfcc</th>\n",
       "    </tr>\n",
       "  </thead>\n",
       "  <tbody>\n",
       "    <tr>\n",
       "      <th>0</th>\n",
       "      <td>MT Tailwhip Organ (2)</td>\n",
       "      <td>Organs</td>\n",
       "      <td>[tensor(-0.0020), tensor(-0.0033), tensor(-0.0...</td>\n",
       "      <td>[tensor(-550.4434), tensor(53.8938), tensor(33...</td>\n",
       "    </tr>\n",
       "    <tr>\n",
       "      <th>1</th>\n",
       "      <td>Phasing Island Bass</td>\n",
       "      <td>Bass</td>\n",
       "      <td>[tensor(-0.0002), tensor(-0.0004), tensor(-0.0...</td>\n",
       "      <td>[tensor(-655.8989), tensor(37.5732), tensor(10...</td>\n",
       "    </tr>\n",
       "    <tr>\n",
       "      <th>2</th>\n",
       "      <td>Mono Pulse Bass</td>\n",
       "      <td>Bass</td>\n",
       "      <td>[tensor(-7.7006e-05), tensor(-0.0002), tensor(...</td>\n",
       "      <td>[tensor(-719.7664), tensor(30.8399), tensor(-1...</td>\n",
       "    </tr>\n",
       "    <tr>\n",
       "      <th>3</th>\n",
       "      <td>08-15 Bass</td>\n",
       "      <td>Bass</td>\n",
       "      <td>[tensor(-0.0007), tensor(-0.0013), tensor(-0.0...</td>\n",
       "      <td>[tensor(-682.3505), tensor(20.9815), tensor(17...</td>\n",
       "    </tr>\n",
       "    <tr>\n",
       "      <th>4</th>\n",
       "      <td>Classic Saw Bass</td>\n",
       "      <td>Bass</td>\n",
       "      <td>[tensor(4.2704e-05), tensor(5.7539e-05), tenso...</td>\n",
       "      <td>[tensor(-747.5761), tensor(39.0767), tensor(3....</td>\n",
       "    </tr>\n",
       "  </tbody>\n",
       "</table>\n",
       "</div>"
      ],
      "text/plain": [
       "             preset_name categorized_name   \n",
       "0  MT Tailwhip Organ (2)           Organs  \\\n",
       "1    Phasing Island Bass             Bass   \n",
       "2        Mono Pulse Bass             Bass   \n",
       "3             08-15 Bass             Bass   \n",
       "4       Classic Saw Bass             Bass   \n",
       "\n",
       "                                          raw_signal   \n",
       "0  [tensor(-0.0020), tensor(-0.0033), tensor(-0.0...  \\\n",
       "1  [tensor(-0.0002), tensor(-0.0004), tensor(-0.0...   \n",
       "2  [tensor(-7.7006e-05), tensor(-0.0002), tensor(...   \n",
       "3  [tensor(-0.0007), tensor(-0.0013), tensor(-0.0...   \n",
       "4  [tensor(4.2704e-05), tensor(5.7539e-05), tenso...   \n",
       "\n",
       "                                                mfcc  \n",
       "0  [tensor(-550.4434), tensor(53.8938), tensor(33...  \n",
       "1  [tensor(-655.8989), tensor(37.5732), tensor(10...  \n",
       "2  [tensor(-719.7664), tensor(30.8399), tensor(-1...  \n",
       "3  [tensor(-682.3505), tensor(20.9815), tensor(17...  \n",
       "4  [tensor(-747.5761), tensor(39.0767), tensor(3....  "
      ]
     },
     "execution_count": 14,
     "metadata": {},
     "output_type": "execute_result"
    }
   ],
   "source": [
    "# visualize the filtered dataframe\n",
    "df_filtered.head(5)"
   ]
  },
  {
   "cell_type": "code",
   "execution_count": 15,
   "metadata": {},
   "outputs": [],
   "source": [
    "# normalize the mfcc features to 0 to 1 using the min and max of the entire dataset\n",
    "max_value = torch.max(torch.stack(df_filtered['mfcc'].tolist()))\n",
    "min_value = torch.min(torch.cat(df_filtered['mfcc'].tolist()))\n",
    "df_filtered['mfcc'] = [normalize_zero_to_one(mfcc, min_value=min_value, max_value=max_value) for mfcc in df_filtered['mfcc']] "
   ]
  },
  {
   "cell_type": "markdown",
   "metadata": {},
   "source": [
    "### Obtain the TSNE Transformed Data\n",
    "\n",
    "---\n",
    "\n",
    "Here we will initialize a TSNE object and apply a `fit_transform` to obtain a dimensionally reduced vector from the high dimensional input data."
   ]
  },
  {
   "cell_type": "code",
   "execution_count": 16,
   "metadata": {},
   "outputs": [],
   "source": [
    "# we need to first convert the MFCC embeddings from torch format to numpy format for the TSNE algorithm\n",
    "embeddings =  np.stack(df['mfcc'].apply(lambda x: x.cpu().numpy()))"
   ]
  },
  {
   "cell_type": "code",
   "execution_count": 17,
   "metadata": {},
   "outputs": [],
   "source": [
    "# obtain the filtered embeddings\n",
    "filtered_embeddings = np.stack(df_filtered['mfcc'].apply(lambda x: x.cpu().numpy()))"
   ]
  },
  {
   "cell_type": "code",
   "execution_count": 18,
   "metadata": {},
   "outputs": [
    {
     "data": {
      "image/png": "[encoded data removed]",
      "text/plain": [
       "<Figure size 640x480 with 1 Axes>"
      ]
     },
     "metadata": {},
     "output_type": "display_data"
    }
   ],
   "source": [
    "# Before we obtain the TSNE embeddings, let's first visualize the distribution of the MFCC embeddings\n",
    "plt.hist(embeddings.flatten(), bins=1000)\n",
    "plt.xlim([-50,50])\n",
    "plt.title('Distribution of MFCC Embeddings Values')\n",
    "plt.show()"
   ]
  },
  {
   "cell_type": "code",
   "execution_count": 19,
   "metadata": {},
   "outputs": [
    {
     "data": {
      "image/png": "[encoded data removed]",
      "text/plain": [
       "<Figure size 640x480 with 1 Axes>"
      ]
     },
     "metadata": {},
     "output_type": "display_data"
    }
   ],
   "source": [
    "# plot the distribution of filtered embeddings\n",
    "plt.hist(filtered_embeddings.flatten(), bins=1000)\n",
    "plt.xlim([0,1])\n",
    "plt.show()"
   ]
  },
  {
   "cell_type": "code",
   "execution_count": 20,
   "metadata": {},
   "outputs": [],
   "source": [
    "# get the TSNE transform\n",
    "transformed_data = generate_tsne(embeddings)"
   ]
  },
  {
   "cell_type": "code",
   "execution_count": 24,
   "metadata": {},
   "outputs": [],
   "source": [
    "filtered_transformed_data = generate_tsne(filtered_embeddings, perplexity=8)"
   ]
  },
  {
   "cell_type": "code",
   "execution_count": 25,
   "metadata": {},
   "outputs": [
    {
     "data": {
      "text/plain": [
       "(367, 2)"
      ]
     },
     "execution_count": 25,
     "metadata": {},
     "output_type": "execute_result"
    }
   ],
   "source": [
    "# inspect the transformed data\n",
    "transformed_data.shape"
   ]
  },
  {
   "cell_type": "code",
   "execution_count": 26,
   "metadata": {},
   "outputs": [],
   "source": [
    "# create an x and y column in the dataframe\n",
    "df['x'] = [transformed_data[i][0] for i in range(len(transformed_data))]\n",
    "df['y'] = [transformed_data[i][1] for i in range(len(transformed_data))]"
   ]
  },
  {
   "cell_type": "code",
   "execution_count": 27,
   "metadata": {},
   "outputs": [],
   "source": [
    "# create a filtered x and filtered y column in the dataframe\n",
    "df_filtered['x'] = [filtered_transformed_data[i][0] for i in range(len(filtered_transformed_data))]\n",
    "df_filtered['y'] = [filtered_transformed_data[i][1] for i in range(len(filtered_transformed_data))]"
   ]
  },
  {
   "cell_type": "markdown",
   "metadata": {},
   "source": [
    "## Create the TSNE Plot\n",
    "\n",
    "---\n",
    "\n",
    "Let's now use Plotly to visualize these embeddings!"
   ]
  },
  {
   "cell_type": "code",
   "execution_count": 28,
   "metadata": {},
   "outputs": [
    {
     "data": {
      "application/vnd.plotly.v1+json": {
       "config": {
        "plotlyServerURL": "https://plot.ly"
       },
       "data": [
        {
         "customdata": [
          [
           "MT Tailwhip Organ (2)",
           "Organs"
          ],
          [
           "ORG Organ 2 FMR",
           "Organs"
          ],
          [
           "ORG Another Organ FMR",
           "Organs"
          ],
          [
           "ORG Spartacus IX FMR",
           "Organs"
          ],
          [
           "ORG Jazz Organ FMR",
           "Organs"
          ],
          [
           "ORG Spartacus XI FMR",
           "Organs"
          ],
          [
           "ORG Spartacus XII FMR",
           "Organs"
          ],
          [
           "ORG Church Organ Positive FMR",
           "Organs"
          ],
          [
           "ORG Church Organ Gated FMR",
           "Organs"
          ],
          [
           "ORG Organ 1 FMR",
           "Organs"
          ],
          [
           "ORG Spartacus X FMR",
           "Organs"
          ],
          [
           "ORG Church Organ Full Pipes 1 FMR",
           "Organs"
          ],
          [
           "ORG Synthesizer Organ 2 FMR",
           "Organs"
          ],
          [
           "ORG Organ 3 FMR",
           "Organs"
          ],
          [
           "ORG Synthesizer Organ 1 FMR",
           "Organs"
          ],
          [
           "ORG Church Organ Full Pipes 2 FMR",
           "Organs"
          ],
          [
           "MT Tailwhip Organ",
           "Organs"
          ],
          [
           "14 Organ 1",
           "Organs"
          ],
          [
           "15 Organ 2",
           "Organs"
          ],
          [
           "61 Synthesizer Organ",
           "Organs"
          ],
          [
           "16 Organ 3",
           "Organs"
          ]
         ],
         "hovertemplate": "Preset Name: %{customdata[0]}<br>Categorized Name: %{customdata[1]}",
         "legendgroup": "Organs",
         "marker": {
          "color": "#636efa",
          "symbol": "circle"
         },
         "mode": "markers",
         "name": "Organs",
         "orientation": "v",
         "showlegend": true,
         "type": "scatter",
         "x": [
          -21.320898056030273,
          -23.422164916992188,
          -23.267234802246094,
          -27.024560928344727,
          -28.735193252563477,
          -28.888078689575195,
          -28.869922637939453,
          14.36557388305664,
          -23.19624137878418,
          -26.961824417114258,
          -27.471797943115234,
          29.171661376953125,
          -14.759918212890625,
          -30.231653213500977,
          -21.41075325012207,
          27.555280685424805,
          -16.106748580932617,
          -7.032486438751221,
          -0.7848393321037292,
          6.183004856109619,
          0.7850595712661743
         ],
         "xaxis": "x",
         "y": [
          -4.1092400550842285,
          -15.224773406982422,
          -6.5787506103515625,
          3.9215362071990967,
          3.1783361434936523,
          10.19665813446045,
          8.472068786621094,
          11.736371994018555,
          -19.211496353149414,
          -2.9812564849853516,
          16.878149032592773,
          37.54657745361328,
          -33.64317321777344,
          11.473328590393066,
          -16.36028289794922,
          38.60803985595703,
          8.804985046386719,
          -37.59424591064453,
          -43.01935958862305,
          -47.533382415771484,
          -44.395381927490234
         ],
         "yaxis": "y"
        },
        {
         "customdata": [
          [
           "Phasing Island Bass",
           "Bass"
          ],
          [
           "Mono Pulse Bass",
           "Bass"
          ],
          [
           "08-15 Bass",
           "Bass"
          ],
          [
           "Classic Saw Bass",
           "Bass"
          ],
          [
           "Funky Mod Bass",
           "Bass"
          ],
          [
           "Ultra Deep Bass",
           "Bass"
          ],
          [
           "FN-Bassliner-BAS",
           "Bass"
          ],
          [
           "FN-Dark Bass II-BAS",
           "Bass"
          ],
          [
           "FN-Flow Bass-BAS",
           "Bass"
          ],
          [
           "FN-High Noise-BAS",
           "Bass"
          ],
          [
           "FN-Wobblelike Bass-BAS",
           "Bass"
          ],
          [
           "FN-Dark Bass-BAS",
           "Bass"
          ],
          [
           "FN-Nostalgic Bass-BAS",
           "Bass"
          ],
          [
           "FN-C64ish Bass",
           "Bass"
          ],
          [
           "FN-Basslover",
           "Bass"
          ],
          [
           "FN-Bass Wobbler-BAS",
           "Bass"
          ],
          [
           "FN-Wobblebass-BAS",
           "Bass"
          ],
          [
           "FN-Bass Lover-ARP",
           "Bass"
          ],
          [
           "BAS Square Bass FMR",
           "Bass"
          ],
          [
           "BAS Pulse Bass 1 FMR",
           "Bass"
          ],
          [
           "BAS Acid Bass 2 FMR",
           "Bass"
          ],
          [
           "BAS Acid Bass 1 FMR",
           "Bass"
          ],
          [
           "BAS Acid Bass 4 FMR",
           "Bass"
          ],
          [
           "BAS Pulse Bass 2 FMR",
           "Bass"
          ],
          [
           "BAS Round Bass 2 FMR",
           "Bass"
          ],
          [
           "BAS Synth Bass 2 FMR",
           "Bass"
          ],
          [
           "BAS Acid Bass 3 FMR",
           "Bass"
          ],
          [
           "BAS Wire Bass FMR",
           "Bass"
          ],
          [
           "BAS Love Bass FMR",
           "Bass"
          ],
          [
           "BAS Hooverish Bass FMR",
           "Bass"
          ],
          [
           "BAS Basso Profondo FMR",
           "Bass"
          ],
          [
           "BAS Synth Bass 1 FMR",
           "Bass"
          ],
          [
           "BAS Round Bass 1 FMR",
           "Bass"
          ],
          [
           "PRC Thump Bass Drum FMR",
           "Bass"
          ],
          [
           "DRN Waving Bass Drone FMR",
           "Bass"
          ],
          [
           "ARP Bass Arpeggio FMR",
           "Bass"
          ],
          [
           "The Difference Bass",
           "Bass"
          ],
          [
           "32 Bass 2",
           "Bass"
          ],
          [
           "31 Bass 1",
           "Bass"
          ]
         ],
         "hovertemplate": "Preset Name: %{customdata[0]}<br>Categorized Name: %{customdata[1]}",
         "legendgroup": "Bass",
         "marker": {
          "color": "#EF553B",
          "symbol": "circle"
         },
         "mode": "markers",
         "name": "Bass",
         "orientation": "v",
         "showlegend": true,
         "type": "scatter",
         "x": [
          -6.482812404632568,
          5.2845306396484375,
          -2.4688727855682373,
          8.850666999816895,
          7.002011299133301,
          -7.47139835357666,
          -16.984912872314453,
          -8.268852233886719,
          -16.772592544555664,
          -29.620134353637695,
          -8.577594757080078,
          -7.299245834350586,
          -20.571020126342773,
          -14.411364555358887,
          -32.08992004394531,
          -14.702099800109863,
          -30.216629028320312,
          23.05883026123047,
          -28.89364242553711,
          -27.705991744995117,
          -26.520259857177734,
          -27.792369842529297,
          -31.204668045043945,
          -24.115358352661133,
          -28.609046936035156,
          -29.71615219116211,
          -30.22816276550293,
          -24.836933135986328,
          -29.487857818603516,
          9.611361503601074,
          -23.51408576965332,
          -22.851163864135742,
          4.905403137207031,
          -31.086421966552734,
          13.172281265258789,
          -19.64701271057129,
          -15.614291191101074,
          -13.852618217468262,
          -17.196556091308594
         ],
         "xaxis": "x",
         "y": [
          -36.04873275756836,
          -45.321285247802734,
          -42.55168914794922,
          -45.75537872314453,
          -47.654903411865234,
          -38.89602279663086,
          -15.315796852111816,
          -30.360750198364258,
          3.1064820289611816,
          -12.104426383972168,
          -38.30802917480469,
          -32.747520446777344,
          -21.44359588623047,
          -14.731813430786133,
          5.174637317657471,
          -31.99586296081543,
          -11.326396942138672,
          28.46068000793457,
          12.573104858398438,
          12.868172645568848,
          -6.003440856933594,
          4.7545928955078125,
          3.9310643672943115,
          18.35264015197754,
          10.94936466217041,
          3.9122674465179443,
          -1.4546338319778442,
          19.28740119934082,
          7.619762897491455,
          0.7574677467346191,
          20.074840545654297,
          -7.366894721984863,
          27.672012329101562,
          13.311148643493652,
          9.037110328674316,
          -17.03470802307129,
          -27.569984436035156,
          -32.34065246582031,
          -25.27141571044922
         ],
         "yaxis": "y"
        },
        {
         "customdata": [
          [
           "Big Lead",
           "Leads"
          ],
          [
           "Super Funky Lead",
           "Leads"
          ],
          [
           "Mellow LoFi Lead",
           "Leads"
          ],
          [
           "FN-Analog Lead-FN",
           "Leads"
          ],
          [
           "FN-Nostalgicer Lead-LEA",
           "Leads"
          ],
          [
           "FN-Plastic Lead-LEA",
           "Leads"
          ],
          [
           "FN-I Need Lead-LEA",
           "Leads"
          ],
          [
           "FN-Filter Lead-LEA",
           "Leads"
          ],
          [
           "LED Big Lead 2 FMR",
           "Leads"
          ],
          [
           "LED Sing Like a Cat FMR",
           "Leads"
          ],
          [
           "LED Spartacus III FMR",
           "Leads"
          ],
          [
           "LED Calliope FMR",
           "Leads"
          ],
          [
           "LED Spartacus IV FMR",
           "Leads"
          ],
          [
           "LED Spartacus II FMR",
           "Leads"
          ],
          [
           "LED Reed 1 FMR",
           "Leads"
          ],
          [
           "LED Big Lead 1 FMR",
           "Leads"
          ],
          [
           "LED Flutey Vibrato Solo FMR",
           "Leads"
          ],
          [
           "LED Silk Road Lead FMR",
           "Leads"
          ],
          [
           "LED Reed 3 FMR",
           "Leads"
          ],
          [
           "LED PWM Lead FMR",
           "Leads"
          ],
          [
           "LED Violin FMR",
           "Leads"
          ],
          [
           "LED Square Lead FMR",
           "Leads"
          ],
          [
           "LED Meeaow Lead FMR",
           "Leads"
          ],
          [
           "LED LFO Lead FMR",
           "Leads"
          ],
          [
           "LED Tin Whistle FMR",
           "Leads"
          ],
          [
           "MT Tailwhip Lead",
           "Leads"
          ]
         ],
         "hovertemplate": "Preset Name: %{customdata[0]}<br>Categorized Name: %{customdata[1]}",
         "legendgroup": "Leads",
         "marker": {
          "color": "#00cc96",
          "symbol": "circle"
         },
         "mode": "markers",
         "name": "Leads",
         "orientation": "v",
         "showlegend": true,
         "type": "scatter",
         "x": [
          -8.998478889465332,
          7.317156791687012,
          8.917427062988281,
          8.273677825927734,
          14.85484504699707,
          12.370501518249512,
          12.982155799865723,
          -12.920022964477539,
          -32.77095413208008,
          -17.033916473388672,
          7.423020362854004,
          -28.156024932861328,
          16.47722816467285,
          -17.683347702026367,
          -31.520748138427734,
          -25.223955154418945,
          9.773375511169434,
          7.913435459136963,
          -22.29545021057129,
          24.078645706176758,
          -27.500429153442383,
          41.58891677856445,
          20.358293533325195,
          11.297971725463867,
          -26.498056411743164,
          -14.911914825439453
         ],
         "xaxis": "x",
         "y": [
          -37.19549560546875,
          -49.20188522338867,
          -48.55297088623047,
          9.334440231323242,
          -18.221736907958984,
          5.099310398101807,
          4.850042343139648,
          -13.99839973449707,
          -11.352726936340332,
          2.4633710384368896,
          28.728422164916992,
          17.527912139892578,
          28.352760314941406,
          13.932897567749023,
          -11.186134338378906,
          20.586000442504883,
          -47.04047393798828,
          1.6883552074432373,
          0.5595319271087646,
          29.490259170532227,
          -5.086146354675293,
          16.53919219970703,
          32.747337341308594,
          32.96739196777344,
          -13.94896411895752,
          -17.565744400024414
         ],
         "yaxis": "y"
        },
        {
         "customdata": [
          [
           "Dream Arp",
           "Arpeggios"
          ],
          [
           "FN-Free Willy-ARP",
           "Arpeggios"
          ],
          [
           "FN-Backwards ARP",
           "Arpeggios"
          ],
          [
           "FN-Anastyle-ARP",
           "Arpeggios"
          ],
          [
           "FN-Percussive Plugger2-ARP",
           "Arpeggios"
          ],
          [
           "FN-Percussive Plugger-ARP",
           "Arpeggios"
          ],
          [
           "FN-Pluggiolator-ARP",
           "Arpeggios"
          ],
          [
           "FN-C64ish Arp",
           "Arpeggios"
          ],
          [
           "FN-Anastyle II-ARP",
           "Arpeggios"
          ],
          [
           "FN-One Finger Show-ARP",
           "Arpeggios"
          ],
          [
           "FN-Percussive Plugger3-ARP",
           "Arpeggios"
          ],
          [
           "FN-Rhytmic Noise-ARP",
           "Arpeggios"
          ],
          [
           "ARP Swinging Arpeggio FMR",
           "Arpeggios"
          ],
          [
           "ARP PWM LFO Arpeggio FMR",
           "Arpeggios"
          ],
          [
           "ARP KS-TD Arpeggio FMR",
           "Arpeggios"
          ],
          [
           "ARP Play Just One Note FMR",
           "Arpeggios"
          ],
          [
           "ARP Random Arpeggiated PWM FMR",
           "Arpeggios"
          ],
          [
           "ARP String Machine Arpeggio FMR",
           "Arpeggios"
          ],
          [
           "ARP Ravers Arp FMR",
           "Arpeggios"
          ],
          [
           "ARP Cold Thinking Arpeggio FMR",
           "Arpeggios"
          ],
          [
           "ARP Berlin School Arpeggio FMR",
           "Arpeggios"
          ],
          [
           "ARP Wisteria Spot FMR",
           "Arpeggios"
          ],
          [
           "ARP Stringish Arp FMR",
           "Arpeggios"
          ],
          [
           "ARP Circles Arpeggio FMR",
           "Arpeggios"
          ]
         ],
         "hovertemplate": "Preset Name: %{customdata[0]}<br>Categorized Name: %{customdata[1]}",
         "legendgroup": "Arpeggios",
         "marker": {
          "color": "#ab63fa",
          "symbol": "circle"
         },
         "mode": "markers",
         "name": "Arpeggios",
         "orientation": "v",
         "showlegend": true,
         "type": "scatter",
         "x": [
          15.48647403717041,
          -9.925654411315918,
          -17.072002410888672,
          -1.5893442630767822,
          -23.130075454711914,
          -23.9642391204834,
          -15.283931732177734,
          7.301870822906494,
          -15.402631759643555,
          -11.916559219360352,
          -30.09480857849121,
          14.08674144744873,
          6.300665855407715,
          -19.978961944580078,
          11.977803230285645,
          15.619513511657715,
          -16.788633346557617,
          43.42454528808594,
          -14.786252975463867,
          -32.95053482055664,
          15.197789192199707,
          -14.314484596252441,
          -24.839679718017578,
          -20.07415771484375
         ],
         "xaxis": "x",
         "y": [
          -14.801801681518555,
          -37.60641860961914,
          -28.56645393371582,
          -43.36770248413086,
          -17.784273147583008,
          -17.062280654907227,
          -26.711204528808594,
          -50.29132843017578,
          -24.8721923828125,
          -35.462745666503906,
          -6.354161262512207,
          -45.794132232666016,
          1.6355667114257812,
          -22.62013053894043,
          -3.9263522624969482,
          24.778066635131836,
          15.037824630737305,
          13.090819358825684,
          3.550922155380249,
          -12.828751564025879,
          12.205946922302246,
          8.32459545135498,
          -4.38327693939209,
          -17.85418128967285
         ],
         "yaxis": "y"
        },
        {
         "customdata": [
          [
           "FN-Dark Night-PAD",
           "Synth Pads"
          ],
          [
           "FN-Analog Feeling-PAD",
           "Synth Pads"
          ],
          [
           "FN-Blubberfeld-PAD",
           "Synth Pads"
          ],
          [
           "FN-Noisia-PAD",
           "Synth Pads"
          ],
          [
           "FN-Darpesh Pad-PAD",
           "Synth Pads"
          ],
          [
           "FN-Restless Night-PAD",
           "Synth Pads"
          ],
          [
           "FN-Analog Pad-PAD",
           "Synth Pads"
          ],
          [
           "FN-RollinSun-PAD",
           "Synth Pads"
          ],
          [
           "FN-Flowing Filter-PAD",
           "Synth Pads"
          ],
          [
           "FN-Experimental-PAD",
           "Synth Pads"
          ],
          [
           "PAD Rise the Pulse FMR",
           "Synth Pads"
          ],
          [
           "PAD Spartacus I FMR",
           "Synth Pads"
          ],
          [
           "PAD Spartacus V FMR",
           "Synth Pads"
          ],
          [
           "PAD Reso Pad FMR",
           "Synth Pads"
          ],
          [
           "PAD Metal Rotor Pad FMR",
           "Synth Pads"
          ],
          [
           "PAD Classic Sweep Pad FMR",
           "Synth Pads"
          ],
          [
           "PAD Dive Into The Deep FMR",
           "Synth Pads"
          ],
          [
           "PAD Meditation Pad 3 FMR",
           "Synth Pads"
          ],
          [
           "PAD Forever Pad FMR",
           "Synth Pads"
          ],
          [
           "PAD Hoiy Mass FMR",
           "Synth Pads"
          ],
          [
           "PAD Woosh Pad FMR",
           "Synth Pads"
          ],
          [
           "PAD Massive Pad 1 FMR",
           "Synth Pads"
          ],
          [
           "PAD Big Synth Pad 2 FMR",
           "Synth Pads"
          ],
          [
           "PAD This Is It FMR",
           "Synth Pads"
          ],
          [
           "PAD Meditation Pad 1 FMR",
           "Synth Pads"
          ],
          [
           "PAD Chariots VG Brass FMR",
           "Synth Pads"
          ],
          [
           "PAD Bass Pad FMR",
           "Synth Pads"
          ],
          [
           "PAD PWM Pad FMR",
           "Synth Pads"
          ],
          [
           "PAD Meditation Pad 2 FMR",
           "Synth Pads"
          ],
          [
           "PAD Big Synth Pad 1 FMR",
           "Synth Pads"
          ],
          [
           "PAD Massive Pad 2 FMR",
           "Synth Pads"
          ],
          [
           "PAD High Res Pad FMR",
           "Synth Pads"
          ]
         ],
         "hovertemplate": "Preset Name: %{customdata[0]}<br>Categorized Name: %{customdata[1]}",
         "legendgroup": "Synth Pads",
         "marker": {
          "color": "#FFA15A",
          "symbol": "circle"
         },
         "mode": "markers",
         "name": "Synth Pads",
         "orientation": "v",
         "showlegend": true,
         "type": "scatter",
         "x": [
          9.91351318359375,
          13.585824966430664,
          25.836074829101562,
          14.592693328857422,
          14.192886352539062,
          15.489377975463867,
          15.484879493713379,
          15.234272003173828,
          29.810766220092773,
          11.20251750946045,
          12.676138877868652,
          47.500083923339844,
          42.67579650878906,
          33.23778533935547,
          28.047788619995117,
          12.895014762878418,
          12.094568252563477,
          11.299917221069336,
          33.40740966796875,
          13.653017044067383,
          12.831924438476562,
          16.54645538330078,
          41.492942810058594,
          44.658660888671875,
          12.848148345947266,
          16.675037384033203,
          -10.837784767150879,
          10.470207214355469,
          13.422410011291504,
          31.486356735229492,
          7.179509162902832,
          44.28532791137695
         ],
         "xaxis": "x",
         "y": [
          10.097285270690918,
          -1.8694361448287964,
          30.50039291381836,
          -45.54014205932617,
          -15.670907020568848,
          -17.230867385864258,
          -15.939068794250488,
          -44.85921096801758,
          33.15662384033203,
          10.711540222167969,
          -5.9574995040893555,
          11.318902969360352,
          15.242560386657715,
          29.526187896728516,
          37.85000228881836,
          -8.011829376220703,
          -13.61793327331543,
          -14.284730911254883,
          28.720291137695312,
          10.186270713806152,
          -4.340129375457764,
          29.653568267822266,
          13.879036903381348,
          12.322421073913574,
          -2.487081289291382,
          33.84918212890625,
          5.457726001739502,
          24.89361000061035,
          -14.443015098571777,
          32.76667785644531,
          0.8708398938179016,
          13.69424819946289
         ],
         "yaxis": "y"
        },
        {
         "customdata": [
          [
           "FN-Chordmachine-KEY",
           "Pianos & Keyboards"
          ],
          [
           "FN-Easy Keys",
           "Pianos & Keyboards"
          ],
          [
           "FN-Chordmachine II-KEY",
           "Pianos & Keyboards"
          ],
          [
           "FN-Small Keys-KEY",
           "Pianos & Keyboards"
          ],
          [
           "FN-Low Keys-KEY",
           "Pianos & Keyboards"
          ],
          [
           "PNO Piano 2 FMR",
           "Pianos & Keyboards"
          ],
          [
           "PNO Another E P FMR",
           "Pianos & Keyboards"
          ],
          [
           "PNO Classic E P FMR",
           "Pianos & Keyboards"
          ],
          [
           "PNO Sweet Tines FMR",
           "Pianos & Keyboards"
          ],
          [
           "PNO Piano 1 FMR",
           "Pianos & Keyboards"
          ],
          [
           "PNO Mellow Piano FMR",
           "Pianos & Keyboards"
          ],
          [
           "PNO Bright Rhodes FMR",
           "Pianos & Keyboards"
          ],
          [
           "SYN Fluctuation Keys FMR",
           "Pianos & Keyboards"
          ],
          [
           "KBD Celesta FMR",
           "Pianos & Keyboards"
          ],
          [
           "KBD Funk B FMR",
           "Pianos & Keyboards"
          ],
          [
           "KBD Harpsichord 1 FMR",
           "Pianos & Keyboards"
          ],
          [
           "KBD Harpsichord 2 FMR",
           "Pianos & Keyboards"
          ],
          [
           "KBD Funk A FMR",
           "Pianos & Keyboards"
          ],
          [
           "KBD Classic Clavinet FMR",
           "Pianos & Keyboards"
          ],
          [
           "KBD Clavichord 2 FMR",
           "Pianos & Keyboards"
          ],
          [
           "KBD Clavichord 1 FMR",
           "Pianos & Keyboards"
          ],
          [
           "KBD Synthi Clavinet FMR",
           "Pianos & Keyboards"
          ],
          [
           "25 Harpsichord 1",
           "Pianos & Keyboards"
          ],
          [
           "23 Celesta",
           "Pianos & Keyboards"
          ],
          [
           "34 Clavichord 2",
           "Pianos & Keyboards"
          ],
          [
           "22 Piano 2",
           "Pianos & Keyboards"
          ],
          [
           "33 Clavichord 1",
           "Pianos & Keyboards"
          ],
          [
           "21 Piano 1",
           "Pianos & Keyboards"
          ],
          [
           "26 Harpsichord 2",
           "Pianos & Keyboards"
          ],
          [
           "24 Mellow Piano",
           "Pianos & Keyboards"
          ]
         ],
         "hovertemplate": "Preset Name: %{customdata[0]}<br>Categorized Name: %{customdata[1]}",
         "legendgroup": "Pianos & Keyboards",
         "marker": {
          "color": "#19d3f3",
          "symbol": "circle"
         },
         "mode": "markers",
         "name": "Pianos & Keyboards",
         "orientation": "v",
         "showlegend": true,
         "type": "scatter",
         "x": [
          15.559032440185547,
          30.829612731933594,
          15.344082832336426,
          24.078079223632812,
          9.24594783782959,
          -21.832107543945312,
          18.073144912719727,
          9.019562721252441,
          18.842973709106445,
          -24.746795654296875,
          17.556617736816406,
          11.164534568786621,
          33.258628845214844,
          14.67261791229248,
          -31.29804039001465,
          -30.775388717651367,
          -22.29714584350586,
          -29.09752082824707,
          -16.466598510742188,
          -32.594970703125,
          -14.729561805725098,
          -22.35903549194336,
          -11.650525093078613,
          13.077674865722656,
          4.813736915588379,
          2.620425224304199,
          -3.563002824783325,
          -2.8467817306518555,
          13.802068710327148,
          13.050766944885254
         ],
         "xaxis": "x",
         "y": [
          29.12986946105957,
          30.394573211669922,
          30.45429039001465,
          28.14704132080078,
          -2.3688161373138428,
          3.2154929637908936,
          34.80730438232422,
          0.05421492084860802,
          32.8480339050293,
          -16.027732849121094,
          33.9259033203125,
          -0.8815056085586548,
          32.37117004394531,
          -3.0794641971588135,
          2.949077606201172,
          -7.771578311920166,
          20.166919708251953,
          -10.955223083496094,
          7.755367755889893,
          -10.225598335266113,
          -30.27517318725586,
          2.494351625442505,
          -34.680660247802734,
          -15.523070335388184,
          -43.68724060058594,
          -49.021034240722656,
          -37.87561798095703,
          -37.980831146240234,
          6.955399513244629,
          -8.962933540344238
         ],
         "yaxis": "y"
        },
        {
         "customdata": [
          [
           "STR String Machine FMR",
           "Strings"
          ],
          [
           "STR PWM Strings 2 FMR",
           "Strings"
          ],
          [
           "STR Strings 1 FMR",
           "Strings"
          ],
          [
           "STR Eminent Strings FMR",
           "Strings"
          ],
          [
           "STR Strings 2 FMR",
           "Strings"
          ],
          [
           "STR PWM Strings 1 FMR",
           "Strings"
          ],
          [
           "STR Spartacus VI FMR",
           "Strings"
          ],
          [
           "STR String Ensemble FMR",
           "Strings"
          ],
          [
           "STR Prophet Strings FMR",
           "Strings"
          ],
          [
           "STR Soft Strings FMR",
           "Strings"
          ],
          [
           "STR Low Strings FMR",
           "Strings"
          ],
          [
           "STR Full Strings FMR",
           "Strings"
          ],
          [
           "STR Spartacus VII FMR",
           "Strings"
          ],
          [
           "STR Strings 3 FMR",
           "Strings"
          ],
          [
           "11 Strings 1",
           "Strings"
          ],
          [
           "41 Violine",
           "Strings"
          ],
          [
           "12 Strings 2",
           "Strings"
          ],
          [
           "13 Strings 3",
           "Strings"
          ]
         ],
         "hovertemplate": "Preset Name: %{customdata[0]}<br>Categorized Name: %{customdata[1]}",
         "legendgroup": "Strings",
         "marker": {
          "color": "#FF6692",
          "symbol": "circle"
         },
         "mode": "markers",
         "name": "Strings",
         "orientation": "v",
         "showlegend": true,
         "type": "scatter",
         "x": [
          48.64577102661133,
          10.089423179626465,
          13.89783000946045,
          43.677757263183594,
          13.582257270812988,
          30.802642822265625,
          43.81136703491211,
          48.17835998535156,
          -11.12473201751709,
          6.828897476196289,
          27.332475662231445,
          45.15774154663086,
          45.48500442504883,
          30.184846878051758,
          11.651467323303223,
          -13.836396217346191,
          12.411944389343262,
          11.858172416687012
         ],
         "xaxis": "x",
         "y": [
          11.367478370666504,
          31.921480178833008,
          25.838024139404297,
          15.229393005371094,
          27.047962188720703,
          27.251976013183594,
          16.450115203857422,
          12.333316802978516,
          4.913320064544678,
          9.408735275268555,
          37.224178314208984,
          14.413686752319336,
          13.326181411743164,
          34.42393493652344,
          24.759906768798828,
          2.9179165363311768,
          25.263349533081055,
          9.436240196228027
         ],
         "yaxis": "y"
        },
        {
         "customdata": [
          [
           "WND English Horn FMR",
           "Brass & Woodwinds"
          ],
          [
           "WND Ocarina FMR",
           "Brass & Woodwinds"
          ],
          [
           "WND Flute 1 FMR",
           "Brass & Woodwinds"
          ],
          [
           "WND Flute 2 FMR",
           "Brass & Woodwinds"
          ],
          [
           "WND Pan Flute FMR",
           "Brass & Woodwinds"
          ],
          [
           "WND Oboe FMR",
           "Brass & Woodwinds"
          ],
          [
           "WND Clarinet FMR",
           "Brass & Woodwinds"
          ],
          [
           "WND Flauto Dolce FMR",
           "Brass & Woodwinds"
          ],
          [
           "BRS Brass 2 FMR",
           "Brass & Woodwinds"
          ],
          [
           "BRS French Horn FMR",
           "Brass & Woodwinds"
          ],
          [
           "BRS Brass Pad 1 FMR",
           "Brass & Woodwinds"
          ],
          [
           "BRS Tuba FMR",
           "Brass & Woodwinds"
          ],
          [
           "BRS Brass Pad 2 FMR",
           "Brass & Woodwinds"
          ],
          [
           "BRS Brass 1 FMR",
           "Brass & Woodwinds"
          ],
          [
           "BRS Low Brass FMR",
           "Brass & Woodwinds"
          ],
          [
           "BRS Phase Brass FMR",
           "Brass & Woodwinds"
          ],
          [
           "BRS Trumpet FMR",
           "Brass & Woodwinds"
          ],
          [
           "BRS Brass 3 FMR",
           "Brass & Woodwinds"
          ],
          [
           "BRS Prophet Brass FMR",
           "Brass & Woodwinds"
          ],
          [
           "BRS Brass Pad 3 FMR",
           "Brass & Woodwinds"
          ],
          [
           "SYN Wah Brass FMR",
           "Brass & Woodwinds"
          ],
          [
           "The Difference Trumpet Synth",
           "Brass & Woodwinds"
          ],
          [
           "17 Brass",
           "Brass & Woodwinds"
          ],
          [
           "46 Clarinet",
           "Brass & Woodwinds"
          ],
          [
           "45 Flute",
           "Brass & Woodwinds"
          ],
          [
           "52 Wah Brass",
           "Brass & Woodwinds"
          ],
          [
           "48 English Horn",
           "Brass & Woodwinds"
          ],
          [
           "47 Oboe",
           "Brass & Woodwinds"
          ],
          [
           "18 Phase Brass",
           "Brass & Woodwinds"
          ],
          [
           "43 Horn",
           "Brass & Woodwinds"
          ],
          [
           "42 Trumpet",
           "Brass & Woodwinds"
          ]
         ],
         "hovertemplate": "Preset Name: %{customdata[0]}<br>Categorized Name: %{customdata[1]}",
         "legendgroup": "Brass & Woodwinds",
         "marker": {
          "color": "#B6E880",
          "symbol": "circle"
         },
         "mode": "markers",
         "name": "Brass & Woodwinds",
         "orientation": "v",
         "showlegend": true,
         "type": "scatter",
         "x": [
          -17.55012321472168,
          -21.70945930480957,
          -24.215957641601562,
          -29.106340408325195,
          -22.399932861328125,
          -17.123920440673828,
          -17.726806640625,
          -21.16367530822754,
          5.666471004486084,
          -18.012474060058594,
          13.90304183959961,
          -25.578401565551758,
          30.572345733642578,
          -27.993568420410156,
          11.954167366027832,
          7.618309497833252,
          -15.575851440429688,
          -18.984115600585938,
          -19.46851921081543,
          29.893657684326172,
          -21.334016799926758,
          9.892719268798828,
          1.3136483430862427,
          -1.994979739189148,
          3.880192756652832,
          6.240235805511475,
          -0.3112088441848755,
          4.650836944580078,
          -13.014328956604004,
          5.147531032562256,
          3.552861452102661
         ],
         "xaxis": "x",
         "y": [
          10.810140609741211,
          -10.213064193725586,
          16.907541275024414,
          13.619309425354004,
          18.161815643310547,
          4.769782066345215,
          11.66154956817627,
          -11.224681854248047,
          27.898176193237305,
          -16.043216705322266,
          29.471765518188477,
          -5.157162189483643,
          32.46489715576172,
          -3.9491944313049316,
          29.975963592529297,
          28.02527618408203,
          -29.60837173461914,
          17.27273178100586,
          18.05548858642578,
          29.201520919799805,
          -20.826902389526367,
          -2.541856288909912,
          -43.030067443847656,
          -37.29540252685547,
          -47.54947280883789,
          -45.71788024902344,
          -38.33327102661133,
          -42.63459777832031,
          -32.73577117919922,
          -47.98103713989258,
          -45.03001403808594
         ],
         "yaxis": "y"
        },
        {
         "customdata": [
          [
           "GTR Overdrive Guitar FMR",
           "Guitars"
          ],
          [
           "GTR Chorused Ovation FMR",
           "Guitars"
          ],
          [
           "GTR Jazz Guitar FMR",
           "Guitars"
          ],
          [
           "GTR Steel String Guitar FMR",
           "Guitars"
          ],
          [
           "GTR Acoustic Guitar FMR",
           "Guitars"
          ],
          [
           "27 Guitar",
           "Guitars"
          ]
         ],
         "hovertemplate": "Preset Name: %{customdata[0]}<br>Categorized Name: %{customdata[1]}",
         "legendgroup": "Guitars",
         "marker": {
          "color": "#FF97FF",
          "symbol": "circle"
         },
         "mode": "markers",
         "name": "Guitars",
         "orientation": "v",
         "showlegend": true,
         "type": "scatter",
         "x": [
          -23.54258155822754,
          28.901470184326172,
          -17.823863983154297,
          26.7410888671875,
          17.32740020751953,
          10.881233215332031
         ],
         "xaxis": "x",
         "y": [
          21.255945205688477,
          31.255615234375,
          -25.081851959228516,
          30.191762924194336,
          31.153884887695312,
          9.040995597839355
         ],
         "yaxis": "y"
        }
       ],
       "layout": {
        "height": 800,
        "legend": {
         "title": {
          "text": "Preset Categories"
         },
         "tracegroupgap": 0
        },
        "margin": {
         "t": 60
        },
        "showlegend": true,
        "template": {
         "data": {
          "bar": [
           {
            "error_x": {
             "color": "#2a3f5f"
            },
            "error_y": {
             "color": "#2a3f5f"
            },
            "marker": {
             "line": {
              "color": "#E5ECF6",
              "width": 0.5
             },
             "pattern": {
              "fillmode": "overlay",
              "size": 10,
              "solidity": 0.2
             }
            },
            "type": "bar"
           }
          ],
          "barpolar": [
           {
            "marker": {
             "line": {
              "color": "#E5ECF6",
              "width": 0.5
             },
             "pattern": {
              "fillmode": "overlay",
              "size": 10,
              "solidity": 0.2
             }
            },
            "type": "barpolar"
           }
          ],
          "carpet": [
           {
            "aaxis": {
             "endlinecolor": "#2a3f5f",
             "gridcolor": "white",
             "linecolor": "white",
             "minorgridcolor": "white",
             "startlinecolor": "#2a3f5f"
            },
            "baxis": {
             "endlinecolor": "#2a3f5f",
             "gridcolor": "white",
             "linecolor": "white",
             "minorgridcolor": "white",
             "startlinecolor": "#2a3f5f"
            },
            "type": "carpet"
           }
          ],
          "choropleth": [
           {
            "colorbar": {
             "outlinewidth": 0,
             "ticks": ""
            },
            "type": "choropleth"
           }
          ],
          "contour": [
           {
            "colorbar": {
             "outlinewidth": 0,
             "ticks": ""
            },
            "colorscale": [
             [
              0,
              "#0d0887"
             ],
             [
              0.1111111111111111,
              "#46039f"
             ],
             [
              0.2222222222222222,
              "#7201a8"
             ],
             [
              0.3333333333333333,
              "#9c179e"
             ],
             [
              0.4444444444444444,
              "#bd3786"
             ],
             [
              0.5555555555555556,
              "#d8576b"
             ],
             [
              0.6666666666666666,
              "#ed7953"
             ],
             [
              0.7777777777777778,
              "#fb9f3a"
             ],
             [
              0.8888888888888888,
              "#fdca26"
             ],
             [
              1,
              "#f0f921"
             ]
            ],
            "type": "contour"
           }
          ],
          "contourcarpet": [
           {
            "colorbar": {
             "outlinewidth": 0,
             "ticks": ""
            },
            "type": "contourcarpet"
           }
          ],
          "heatmap": [
           {
            "colorbar": {
             "outlinewidth": 0,
             "ticks": ""
            },
            "colorscale": [
             [
              0,
              "#0d0887"
             ],
             [
              0.1111111111111111,
              "#46039f"
             ],
             [
              0.2222222222222222,
              "#7201a8"
             ],
             [
              0.3333333333333333,
              "#9c179e"
             ],
             [
              0.4444444444444444,
              "#bd3786"
             ],
             [
              0.5555555555555556,
              "#d8576b"
             ],
             [
              0.6666666666666666,
              "#ed7953"
             ],
             [
              0.7777777777777778,
              "#fb9f3a"
             ],
             [
              0.8888888888888888,
              "#fdca26"
             ],
             [
              1,
              "#f0f921"
             ]
            ],
            "type": "heatmap"
           }
          ],
          "heatmapgl": [
           {
            "colorbar": {
             "outlinewidth": 0,
             "ticks": ""
            },
            "colorscale": [
             [
              0,
              "#0d0887"
             ],
             [
              0.1111111111111111,
              "#46039f"
             ],
             [
              0.2222222222222222,
              "#7201a8"
             ],
             [
              0.3333333333333333,
              "#9c179e"
             ],
             [
              0.4444444444444444,
              "#bd3786"
             ],
             [
              0.5555555555555556,
              "#d8576b"
             ],
             [
              0.6666666666666666,
              "#ed7953"
             ],
             [
              0.7777777777777778,
              "#fb9f3a"
             ],
             [
              0.8888888888888888,
              "#fdca26"
             ],
             [
              1,
              "#f0f921"
             ]
            ],
            "type": "heatmapgl"
           }
          ],
          "histogram": [
           {
            "marker": {
             "pattern": {
              "fillmode": "overlay",
              "size": 10,
              "solidity": 0.2
             }
            },
            "type": "histogram"
           }
          ],
          "histogram2d": [
           {
            "colorbar": {
             "outlinewidth": 0,
             "ticks": ""
            },
            "colorscale": [
             [
              0,
              "#0d0887"
             ],
             [
              0.1111111111111111,
              "#46039f"
             ],
             [
              0.2222222222222222,
              "#7201a8"
             ],
             [
              0.3333333333333333,
              "#9c179e"
             ],
             [
              0.4444444444444444,
              "#bd3786"
             ],
             [
              0.5555555555555556,
              "#d8576b"
             ],
             [
              0.6666666666666666,
              "#ed7953"
             ],
             [
              0.7777777777777778,
              "#fb9f3a"
             ],
             [
              0.8888888888888888,
              "#fdca26"
             ],
             [
              1,
              "#f0f921"
             ]
            ],
            "type": "histogram2d"
           }
          ],
          "histogram2dcontour": [
           {
            "colorbar": {
             "outlinewidth": 0,
             "ticks": ""
            },
            "colorscale": [
             [
              0,
              "#0d0887"
             ],
             [
              0.1111111111111111,
              "#46039f"
             ],
             [
              0.2222222222222222,
              "#7201a8"
             ],
             [
              0.3333333333333333,
              "#9c179e"
             ],
             [
              0.4444444444444444,
              "#bd3786"
             ],
             [
              0.5555555555555556,
              "#d8576b"
             ],
             [
              0.6666666666666666,
              "#ed7953"
             ],
             [
              0.7777777777777778,
              "#fb9f3a"
             ],
             [
              0.8888888888888888,
              "#fdca26"
             ],
             [
              1,
              "#f0f921"
             ]
            ],
            "type": "histogram2dcontour"
           }
          ],
          "mesh3d": [
           {
            "colorbar": {
             "outlinewidth": 0,
             "ticks": ""
            },
            "type": "mesh3d"
           }
          ],
          "parcoords": [
           {
            "line": {
             "colorbar": {
              "outlinewidth": 0,
              "ticks": ""
             }
            },
            "type": "parcoords"
           }
          ],
          "pie": [
           {
            "automargin": true,
            "type": "pie"
           }
          ],
          "scatter": [
           {
            "fillpattern": {
             "fillmode": "overlay",
             "size": 10,
             "solidity": 0.2
            },
            "type": "scatter"
           }
          ],
          "scatter3d": [
           {
            "line": {
             "colorbar": {
              "outlinewidth": 0,
              "ticks": ""
             }
            },
            "marker": {
             "colorbar": {
              "outlinewidth": 0,
              "ticks": ""
             }
            },
            "type": "scatter3d"
           }
          ],
          "scattercarpet": [
           {
            "marker": {
             "colorbar": {
              "outlinewidth": 0,
              "ticks": ""
             }
            },
            "type": "scattercarpet"
           }
          ],
          "scattergeo": [
           {
            "marker": {
             "colorbar": {
              "outlinewidth": 0,
              "ticks": ""
             }
            },
            "type": "scattergeo"
           }
          ],
          "scattergl": [
           {
            "marker": {
             "colorbar": {
              "outlinewidth": 0,
              "ticks": ""
             }
            },
            "type": "scattergl"
           }
          ],
          "scattermapbox": [
           {
            "marker": {
             "colorbar": {
              "outlinewidth": 0,
              "ticks": ""
             }
            },
            "type": "scattermapbox"
           }
          ],
          "scatterpolar": [
           {
            "marker": {
             "colorbar": {
              "outlinewidth": 0,
              "ticks": ""
             }
            },
            "type": "scatterpolar"
           }
          ],
          "scatterpolargl": [
           {
            "marker": {
             "colorbar": {
              "outlinewidth": 0,
              "ticks": ""
             }
            },
            "type": "scatterpolargl"
           }
          ],
          "scatterternary": [
           {
            "marker": {
             "colorbar": {
              "outlinewidth": 0,
              "ticks": ""
             }
            },
            "type": "scatterternary"
           }
          ],
          "surface": [
           {
            "colorbar": {
             "outlinewidth": 0,
             "ticks": ""
            },
            "colorscale": [
             [
              0,
              "#0d0887"
             ],
             [
              0.1111111111111111,
              "#46039f"
             ],
             [
              0.2222222222222222,
              "#7201a8"
             ],
             [
              0.3333333333333333,
              "#9c179e"
             ],
             [
              0.4444444444444444,
              "#bd3786"
             ],
             [
              0.5555555555555556,
              "#d8576b"
             ],
             [
              0.6666666666666666,
              "#ed7953"
             ],
             [
              0.7777777777777778,
              "#fb9f3a"
             ],
             [
              0.8888888888888888,
              "#fdca26"
             ],
             [
              1,
              "#f0f921"
             ]
            ],
            "type": "surface"
           }
          ],
          "table": [
           {
            "cells": {
             "fill": {
              "color": "#EBF0F8"
             },
             "line": {
              "color": "white"
             }
            },
            "header": {
             "fill": {
              "color": "#C8D4E3"
             },
             "line": {
              "color": "white"
             }
            },
            "type": "table"
           }
          ]
         },
         "layout": {
          "annotationdefaults": {
           "arrowcolor": "#2a3f5f",
           "arrowhead": 0,
           "arrowwidth": 1
          },
          "autotypenumbers": "strict",
          "coloraxis": {
           "colorbar": {
            "outlinewidth": 0,
            "ticks": ""
           }
          },
          "colorscale": {
           "diverging": [
            [
             0,
             "#8e0152"
            ],
            [
             0.1,
             "#c51b7d"
            ],
            [
             0.2,
             "#de77ae"
            ],
            [
             0.3,
             "#f1b6da"
            ],
            [
             0.4,
             "#fde0ef"
            ],
            [
             0.5,
             "#f7f7f7"
            ],
            [
             0.6,
             "#e6f5d0"
            ],
            [
             0.7,
             "#b8e186"
            ],
            [
             0.8,
             "#7fbc41"
            ],
            [
             0.9,
             "#4d9221"
            ],
            [
             1,
             "#276419"
            ]
           ],
           "sequential": [
            [
             0,
             "#0d0887"
            ],
            [
             0.1111111111111111,
             "#46039f"
            ],
            [
             0.2222222222222222,
             "#7201a8"
            ],
            [
             0.3333333333333333,
             "#9c179e"
            ],
            [
             0.4444444444444444,
             "#bd3786"
            ],
            [
             0.5555555555555556,
             "#d8576b"
            ],
            [
             0.6666666666666666,
             "#ed7953"
            ],
            [
             0.7777777777777778,
             "#fb9f3a"
            ],
            [
             0.8888888888888888,
             "#fdca26"
            ],
            [
             1,
             "#f0f921"
            ]
           ],
           "sequentialminus": [
            [
             0,
             "#0d0887"
            ],
            [
             0.1111111111111111,
             "#46039f"
            ],
            [
             0.2222222222222222,
             "#7201a8"
            ],
            [
             0.3333333333333333,
             "#9c179e"
            ],
            [
             0.4444444444444444,
             "#bd3786"
            ],
            [
             0.5555555555555556,
             "#d8576b"
            ],
            [
             0.6666666666666666,
             "#ed7953"
            ],
            [
             0.7777777777777778,
             "#fb9f3a"
            ],
            [
             0.8888888888888888,
             "#fdca26"
            ],
            [
             1,
             "#f0f921"
            ]
           ]
          },
          "colorway": [
           "#636efa",
           "#EF553B",
           "#00cc96",
           "#ab63fa",
           "#FFA15A",
           "#19d3f3",
           "#FF6692",
           "#B6E880",
           "#FF97FF",
           "#FECB52"
          ],
          "font": {
           "color": "#2a3f5f"
          },
          "geo": {
           "bgcolor": "white",
           "lakecolor": "white",
           "landcolor": "#E5ECF6",
           "showlakes": true,
           "showland": true,
           "subunitcolor": "white"
          },
          "hoverlabel": {
           "align": "left"
          },
          "hovermode": "closest",
          "mapbox": {
           "style": "light"
          },
          "paper_bgcolor": "white",
          "plot_bgcolor": "#E5ECF6",
          "polar": {
           "angularaxis": {
            "gridcolor": "white",
            "linecolor": "white",
            "ticks": ""
           },
           "bgcolor": "#E5ECF6",
           "radialaxis": {
            "gridcolor": "white",
            "linecolor": "white",
            "ticks": ""
           }
          },
          "scene": {
           "xaxis": {
            "backgroundcolor": "#E5ECF6",
            "gridcolor": "white",
            "gridwidth": 2,
            "linecolor": "white",
            "showbackground": true,
            "ticks": "",
            "zerolinecolor": "white"
           },
           "yaxis": {
            "backgroundcolor": "#E5ECF6",
            "gridcolor": "white",
            "gridwidth": 2,
            "linecolor": "white",
            "showbackground": true,
            "ticks": "",
            "zerolinecolor": "white"
           },
           "zaxis": {
            "backgroundcolor": "#E5ECF6",
            "gridcolor": "white",
            "gridwidth": 2,
            "linecolor": "white",
            "showbackground": true,
            "ticks": "",
            "zerolinecolor": "white"
           }
          },
          "shapedefaults": {
           "line": {
            "color": "#2a3f5f"
           }
          },
          "ternary": {
           "aaxis": {
            "gridcolor": "white",
            "linecolor": "white",
            "ticks": ""
           },
           "baxis": {
            "gridcolor": "white",
            "linecolor": "white",
            "ticks": ""
           },
           "bgcolor": "#E5ECF6",
           "caxis": {
            "gridcolor": "white",
            "linecolor": "white",
            "ticks": ""
           }
          },
          "title": {
           "x": 0.05
          },
          "xaxis": {
           "automargin": true,
           "gridcolor": "white",
           "linecolor": "white",
           "ticks": "",
           "title": {
            "standoff": 15
           },
           "zerolinecolor": "white",
           "zerolinewidth": 2
          },
          "yaxis": {
           "automargin": true,
           "gridcolor": "white",
           "linecolor": "white",
           "ticks": "",
           "title": {
            "standoff": 15
           },
           "zerolinecolor": "white",
           "zerolinewidth": 2
          }
         }
        },
        "title": {
         "text": "TSNE Visualization of Preset MFCC Embeddings"
        },
        "width": 800,
        "xaxis": {
         "anchor": "y",
         "domain": [
          0,
          1
         ],
         "range": [
          -39.54064178466797,
          58.37492523193359
         ],
         "title": {
          "text": "t-SNE Component 1"
         }
        },
        "yaxis": {
         "anchor": "x",
         "domain": [
          0,
          1
         ],
         "range": [
          -60.34959411621094,
          46.329647827148435
         ],
         "title": {
          "text": "t-SNE Component 2"
         }
        }
       }
      }
     },
     "metadata": {},
     "output_type": "display_data"
    }
   ],
   "source": [
    "## Create the TSNE Plot with plotly\n",
    "fig = px.scatter(df_filtered, x='x', y='y', color='categorized_name',hover_data=['preset_name', 'categorized_name'], width=800, height=800)\n",
    "\n",
    "# add a legend\n",
    "fig.update_layout(showlegend=True)\n",
    "\n",
    "# add a title\n",
    "fig.update_layout(title='TSNE Visualization of Preset MFCC Embeddings')\n",
    "\n",
    "# add a hover label\n",
    "fig.update_traces(hovertemplate='Preset Name: %{customdata[0]}<br>Categorized Name: %{customdata[1]}')\n",
    "\n",
    "# obtain the data bounds\n",
    "x_min = np.min(filtered_transformed_data[:, 0])*1.2\n",
    "x_max = np.max(filtered_transformed_data[:, 0])*1.2\n",
    "y_min = np.min(filtered_transformed_data[:, 1])*1.2\n",
    "y_max = np.max(filtered_transformed_data[:, 1])*1.2\n",
    "\n",
    "# add some extra info to the plot\n",
    "fig.update_layout(\n",
    "    width=800,\n",
    "    height=800,\n",
    "    xaxis_title='t-SNE Component 1',\n",
    "    yaxis_title='t-SNE Component 2',\n",
    "    legend_title='Preset Categories',\n",
    "    xaxis=dict(range=[x_min, x_max]),\n",
    "    yaxis=dict(range=[y_min, y_max]),\n",
    ")   \n",
    "\n",
    "# show the plot\n",
    "fig.show()"
   ]
  },
  {
   "cell_type": "code",
   "execution_count": 29,
   "metadata": {},
   "outputs": [],
   "source": [
    "# save the plotly figure as a pdf\n",
    "fig.write_image('tsne-mfcc.svg')"
   ]
  },
  {
   "cell_type": "code",
   "execution_count": 33,
   "metadata": {},
   "outputs": [],
   "source": [
    "# convert the raw audio column to be np arrays\n",
    "df_filtered['raw_signal'] = [x.cpu().numpy() for x in df_filtered['raw_signal']]"
   ]
  },
  {
   "cell_type": "code",
   "execution_count": null,
   "metadata": {},
   "outputs": [],
   "source": [
    "# Create the interactive scatter plot\n",
    "scatter_plot = create_custom_scatter(df, 'x', 'y', 'categorized_name', 'raw_signal')\n",
    "scatter_plot.show()"
   ]
  }
 ],
 "metadata": {
  "kernelspec": {
   "display_name": "Python 3.10.9 ('gass')",
   "language": "python",
   "name": "python3"
  },
  "language_info": {
   "codemirror_mode": {
    "name": "ipython",
    "version": 3
   },
   "file_extension": ".py",
   "mimetype": "text/x-python",
   "name": "python",
   "nbconvert_exporter": "python",
   "pygments_lexer": "ipython3",
   "version": "3.10.9"
  },
  "orig_nbformat": 4,
  "vscode": {
   "interpreter": {
    "hash": "6947268d801286644aa606ce5873de7c618a991e1c50a7cf64b46ea54e097eb2"
   }
  }
 },
 "nbformat": 4,
 "nbformat_minor": 2
}
