{
 "cells": [
  {
   "cell_type": "markdown",
   "metadata": {},
   "source": [
    "# Dataset Visualization Notebook (MFCC)\n",
    "\n",
    "---\n",
    "\n",
    "Author: **Malek Ibrahim**\n",
    "\n",
    "This notebooks seeks to create a TSNE plot of the preset dataset in their timbral space (MFCC features). General steps are outlined below:\n",
    "\n",
    "1. Load the preset dataset file\n",
    "1. Categorize the presets\n",
    "1. Prepare the DataFrame\n",
    "1. Obtain the TSNE 2D embeddings from the higher-dimensional MFCC features\n",
    "1. Plot the results!"
   ]
  },
  {
   "cell_type": "markdown",
   "metadata": {},
   "source": [
    "## Imports\n",
    "\n",
    "---\n",
    "\n",
    "For this script, we will need Pytorch to load the dataset, scikit-learn for the TSNE plot functionality, and also plotly to visualize the results."
   ]
  },
  {
   "cell_type": "code",
   "execution_count": 1,
   "metadata": {},
   "outputs": [],
   "source": [
    "import torch\n",
    "import numpy as np\n",
    "import plotly.graph_objects as go\n",
    "import plotly.express as px\n",
    "import matplotlib.pyplot as plt\n",
    "import pandas as pd\n",
    "from sklearn.manifold import TSNE\n",
    "import sys;sys.path.append('..')\n",
    "from src.utils import *"
   ]
  },
  {
   "cell_type": "markdown",
   "metadata": {},
   "source": [
    "## Load the Preset Dataset\n",
    "\n",
    "---\n",
    "\n",
    "Load the preset from the saved `.pt` file and inspect its structure."
   ]
  },
  {
   "cell_type": "code",
   "execution_count": 2,
   "metadata": {},
   "outputs": [],
   "source": [
    "dataset = torch.load('preset_dataset.pt')"
   ]
  },
  {
   "cell_type": "code",
   "execution_count": 3,
   "metadata": {},
   "outputs": [
    {
     "data": {
      "text/plain": [
       "dict_keys(['preset_names', 'raw_audio', 'MFCCs'])"
      ]
     },
     "execution_count": 3,
     "metadata": {},
     "output_type": "execute_result"
    }
   ],
   "source": [
    "dataset.keys()"
   ]
  },
  {
   "cell_type": "code",
   "execution_count": 4,
   "metadata": {},
   "outputs": [
    {
     "data": {
      "text/plain": [
       "['Default',\n",
       " 'MT Tailwhip Organ (2)',\n",
       " 'Super Jumper',\n",
       " 'Nice Filter Sweep',\n",
       " 'Chillin R2D2',\n",
       " 'Deep Drop In',\n",
       " 'Enter the Twirl',\n",
       " 'Water Love',\n",
       " 'Pulse Drop',\n",
       " 'Phasing Island Bass',\n",
       " 'Mono Pulse Bass',\n",
       " '08-15 Bass',\n",
       " 'Classic Saw Bass',\n",
       " 'Funky Mod Bass',\n",
       " 'Ultra Deep Bass',\n",
       " 'Basic Pad',\n",
       " 'Apollo Pad',\n",
       " 'Pulse Drop Pad',\n",
       " 'Self Destroy',\n",
       " 'Big Lead',\n",
       " 'Double Chorus Trancer',\n",
       " 'Super Funky Lead',\n",
       " 'Startup',\n",
       " 'Ugly One',\n",
       " 'Disharmonic feedback',\n",
       " 'Slow Phaser',\n",
       " 'Eso Drops',\n",
       " 'Dark Roads',\n",
       " 'Mellow LoFi Lead',\n",
       " 'Crystal Drops',\n",
       " 'Dream Arp',\n",
       " 'FN-Bassliner-BAS',\n",
       " 'FN-Dark Bass II-BAS',\n",
       " 'FN-Flow Bass-BAS',\n",
       " 'FN-High Noise-BAS',\n",
       " 'FN-Wobblelike Bass-BAS',\n",
       " 'FN-Dark Bass-BAS',\n",
       " 'FN-Nostalgic Bass-BAS',\n",
       " 'FN-C64ish Bass',\n",
       " 'FN-Basslover',\n",
       " 'FN-Bass Wobbler-BAS',\n",
       " 'FN-Wobblebass-BAS',\n",
       " 'FN-Dark Night-PAD',\n",
       " 'FN-Analog Feeling-PAD',\n",
       " 'FN-Blubberfeld-PAD',\n",
       " 'FN-Noisia-PAD',\n",
       " 'FN-Darpesh Pad-PAD',\n",
       " 'FN-Restless Night-PAD',\n",
       " 'FN-Analog Pad-PAD',\n",
       " 'FN-RollinSun-PAD',\n",
       " 'FN-Flowing Filter-PAD',\n",
       " 'FN-Experimental-PAD',\n",
       " 'FN-Keep It Noisy!',\n",
       " 'FN-Digital Feeling',\n",
       " 'FN-Analog Lead-FN',\n",
       " 'FN-Enjoy My C64',\n",
       " 'FN-Nostalgicer Lead-LEA',\n",
       " 'FN-Plastic Lead-LEA',\n",
       " 'FN-I Need Lead-LEA',\n",
       " 'FN-Easy Listening',\n",
       " 'FN-A Little Something-LEA',\n",
       " 'FN-Doubleplayer',\n",
       " 'FN-Free Willy-ARP',\n",
       " 'FN-Resonanzig',\n",
       " 'FN-Filter Lead-LEA',\n",
       " 'FN-Chordmachine-KEY',\n",
       " 'FN-Easy Keys',\n",
       " 'FN-Chordmachine II-KEY',\n",
       " 'FN-Small Keys-KEY',\n",
       " 'FN-Low Keys-KEY',\n",
       " 'FN-Backwards ARP',\n",
       " 'FN-Anastyle-ARP',\n",
       " 'FN-Percussive Plugger2-ARP',\n",
       " 'FN-Percussive Plugger-ARP',\n",
       " 'FN-Pluggiolator-ARP',\n",
       " 'FN-C64ish Arp',\n",
       " 'FN-Bass Lover-ARP',\n",
       " 'FN-Anastyle II-ARP',\n",
       " 'FN-One Finger Show-ARP',\n",
       " 'FN-Percussive Plugger3-ARP',\n",
       " 'FN-Rhytmic Noise-ARP',\n",
       " 'SFX UFO Landing FMR',\n",
       " 'SFX Surfing the Waves FMR',\n",
       " 'SFX Noise Bubbles FMR',\n",
       " 'SFX Space Sound 4 FMR',\n",
       " 'PNO Piano 2 FMR',\n",
       " 'PNO Another E P FMR',\n",
       " 'PNO Classic E P FMR',\n",
       " 'PNO Sweet Tines FMR',\n",
       " 'PNO Piano 1 FMR',\n",
       " 'PNO Mellow Piano FMR',\n",
       " 'PNO Bright Rhodes FMR',\n",
       " 'STR String Machine FMR',\n",
       " 'STR PWM Strings 2 FMR',\n",
       " 'STR Strings 1 FMR',\n",
       " 'STR Eminent Strings FMR',\n",
       " 'STR Strings 2 FMR',\n",
       " 'STR PWM Strings 1 FMR',\n",
       " 'STR Spartacus VI FMR',\n",
       " 'STR String Ensemble FMR',\n",
       " 'STR Prophet Strings FMR',\n",
       " 'STR Soft Strings FMR',\n",
       " 'STR Low Strings FMR',\n",
       " 'STR Full Strings FMR',\n",
       " 'STR Spartacus VII FMR',\n",
       " 'STR Strings 3 FMR',\n",
       " 'ORG Organ 2 FMR',\n",
       " 'ORG Another Organ FMR',\n",
       " 'ORG Spartacus IX FMR',\n",
       " 'ORG Jazz Organ FMR',\n",
       " 'ORG Spartacus XI FMR',\n",
       " 'ORG Spartacus XII FMR',\n",
       " 'ORG Church Organ Positive FMR',\n",
       " 'ORG Church Organ Gated FMR',\n",
       " 'ORG Organ 1 FMR',\n",
       " 'ORG Spartacus X FMR',\n",
       " 'ORG Church Organ Full Pipes 1 FMR',\n",
       " 'ORG Synthesizer Organ 2 FMR',\n",
       " 'ORG Organ 3 FMR',\n",
       " 'ORG Synthesizer Organ 1 FMR',\n",
       " 'ORG Church Organ Full Pipes 2 FMR',\n",
       " 'DRM Synth Drum 1 FMR',\n",
       " 'DRM Snare Gun FMR',\n",
       " 'DRM Snare Drum 2 FMR',\n",
       " 'DRM Kick Drum 3 FMR',\n",
       " 'DRM Ride Cymbal FMR',\n",
       " 'DRM Snare Drum 1 FMR',\n",
       " 'DRM Snare Drum 4 FMR',\n",
       " 'DRM Synth Drum 2 FMR',\n",
       " 'DRM Kick Drum 2 FMR',\n",
       " 'DRM Kick and Snap FMR',\n",
       " 'DRM Snare Drum 3 FMR',\n",
       " 'DRM Hi-Hat Opened FMR',\n",
       " 'DRM Crash Cymbal FMR',\n",
       " 'DRM Synth Drum 3 FMR',\n",
       " 'DRM Kick Drum and Toms FMR',\n",
       " 'DRM Hi-Hat Closed FMR',\n",
       " 'DRM Kick Drum 1 FMR',\n",
       " 'WND English Horn FMR',\n",
       " 'WND Ocarina FMR',\n",
       " 'WND Flute 1 FMR',\n",
       " 'WND Flute 2 FMR',\n",
       " 'WND Pan Flute FMR',\n",
       " 'WND Oboe FMR',\n",
       " 'WND Clarinet FMR',\n",
       " 'WND Flauto Dolce FMR',\n",
       " 'GTR Overdrive Guitar FMR',\n",
       " 'GTR Chorused Ovation FMR',\n",
       " 'GTR Jazz Guitar FMR',\n",
       " 'GTR Steel String Guitar FMR',\n",
       " 'GTR Acoustic Guitar FMR',\n",
       " 'BRS Brass 2 FMR',\n",
       " 'BRS French Horn FMR',\n",
       " 'BRS Brass Pad 1 FMR',\n",
       " 'BRS Tuba FMR',\n",
       " 'BRS Brass Pad 2 FMR',\n",
       " 'BRS Brass 1 FMR',\n",
       " 'BRS Low Brass FMR',\n",
       " 'BRS Phase Brass FMR',\n",
       " 'BRS Trumpet FMR',\n",
       " 'BRS Brass 3 FMR',\n",
       " 'BRS Prophet Brass FMR',\n",
       " 'BRS Brass Pad 3 FMR',\n",
       " 'BAS Square Bass FMR',\n",
       " 'BAS Pulse Bass 1 FMR',\n",
       " 'BAS Acid Bass 2 FMR',\n",
       " 'BAS Acid Bass 1 FMR',\n",
       " 'BAS Acid Bass 4 FMR',\n",
       " 'BAS Pulse Bass 2 FMR',\n",
       " 'BAS Round Bass 2 FMR',\n",
       " 'BAS Synth Bass 2 FMR',\n",
       " 'BAS Acid Bass 3 FMR',\n",
       " 'BAS Wire Bass FMR',\n",
       " 'BAS Love Bass FMR',\n",
       " 'BAS Hooverish Bass FMR',\n",
       " 'BAS Basso Profondo FMR',\n",
       " 'BAS Synth Bass 1 FMR',\n",
       " 'BAS Round Bass 1 FMR',\n",
       " 'PAD Rise the Pulse FMR',\n",
       " 'PAD Spartacus I FMR',\n",
       " 'PAD Spartacus V FMR',\n",
       " 'PAD Reso Pad FMR',\n",
       " 'PAD Metal Rotor Pad FMR',\n",
       " 'PAD Classic Sweep Pad FMR',\n",
       " 'PAD Dive Into The Deep FMR',\n",
       " 'PAD Meditation Pad 3 FMR',\n",
       " 'PAD Forever Pad FMR',\n",
       " 'PAD Hoiy Mass FMR',\n",
       " 'PAD Woosh Pad FMR',\n",
       " 'PAD Massive Pad 1 FMR',\n",
       " 'PAD Big Synth Pad 2 FMR',\n",
       " 'PAD This Is It FMR',\n",
       " 'PAD Meditation Pad 1 FMR',\n",
       " 'PAD Chariots VG Brass FMR',\n",
       " 'PAD Bass Pad FMR',\n",
       " 'PAD PWM Pad FMR',\n",
       " 'PAD Meditation Pad 2 FMR',\n",
       " 'PAD Big Synth Pad 1 FMR',\n",
       " 'PAD Massive Pad 2 FMR',\n",
       " 'PAD High Res Pad FMR',\n",
       " 'PRC Chiff Attack FMR',\n",
       " 'PRC Percussion 2 FMR',\n",
       " 'PRC Thump Bass Drum FMR',\n",
       " 'PRC Percussion 1 FMR',\n",
       " 'PRC Percussion 4 FMR',\n",
       " 'PRC Xylophone FMR',\n",
       " 'PRC Synth Gamelan FMR',\n",
       " 'PRC Dual SynRes Percussion FMR',\n",
       " 'PRC Percussion 3 FMR',\n",
       " 'PRC Popcorn FMR',\n",
       " 'PRC Pizzicato Sound 2 FMR',\n",
       " 'PRC Clicks FMR',\n",
       " 'PRC Pizzicato Sound 1 FMR',\n",
       " 'PRC Crystal Bells FMR',\n",
       " 'PRC Glockenspiel FMR',\n",
       " 'PRC Steel Drum FMR',\n",
       " 'PRC The Tech Pluck FMR',\n",
       " 'SYN Harpsynth Poly FMR',\n",
       " 'SYN Phase Combination FMR',\n",
       " 'SYN Raw Saw-Sub FMR',\n",
       " 'SYN Please Release Me FMR',\n",
       " 'SYN Slow Polysynth FMR',\n",
       " 'SYN Percussive Polysynth FMR',\n",
       " 'SYN VH Jump FMR',\n",
       " 'SYN PWM FMR',\n",
       " 'SYN PWM Chorus C FMR',\n",
       " 'SYN Space Harp FMR',\n",
       " 'SYN Dreamy Poly FMR',\n",
       " 'SYN Reed 2 FMR',\n",
       " 'SYN Gated Bright Synth FMR',\n",
       " 'SYN PWM Sound FMR',\n",
       " 'SYN Chariots VG Harp FMR',\n",
       " 'SYN PWM Chorus B FMR',\n",
       " 'SYN Raw Saw-Square FMR',\n",
       " 'SYN Synthesizer Harp FMR',\n",
       " 'SYN Synth Harp LFO FMR',\n",
       " 'SYN Dynamic Polysynth FMR',\n",
       " 'SYN Wah Brass FMR',\n",
       " 'SYN Harpe Laser FMR',\n",
       " 'SYN Fluctuation Keys FMR',\n",
       " 'LED Big Lead 2 FMR',\n",
       " 'LED Sing Like a Cat FMR',\n",
       " 'LED Spartacus III FMR',\n",
       " 'LED Calliope FMR',\n",
       " 'LED Spartacus IV FMR',\n",
       " 'LED Spartacus II FMR',\n",
       " 'LED Reed 1 FMR',\n",
       " 'LED Big Lead 1 FMR',\n",
       " 'LED Flutey Vibrato Solo FMR',\n",
       " 'LED Silk Road Lead FMR',\n",
       " 'LED Reed 3 FMR',\n",
       " 'LED PWM Lead FMR',\n",
       " 'LED Violin FMR',\n",
       " 'LED Square Lead FMR',\n",
       " 'LED Meeaow Lead FMR',\n",
       " 'LED LFO Lead FMR',\n",
       " 'LED Tin Whistle FMR',\n",
       " 'DRN Deep Drone FMR',\n",
       " 'DRN LFO and Echo Drone FMR',\n",
       " 'DRN Waving Bass Drone FMR',\n",
       " 'DRN JX-3P Drone FMR',\n",
       " 'DRN Sequence Like Drone FMR',\n",
       " 'CHO Church Choir FMR',\n",
       " 'CHO PWM Chorus A FMR',\n",
       " 'CHO Voice Chorus FMR',\n",
       " 'CHO Voice Chorus Too FMR',\n",
       " 'ARP Swinging Arpeggio FMR',\n",
       " 'ARP PWM LFO Arpeggio FMR',\n",
       " 'ARP Bass Arpeggio FMR',\n",
       " 'ARP KS-TD Arpeggio FMR',\n",
       " 'ARP Play Just One Note FMR',\n",
       " 'ARP Random Arpeggiated PWM FMR',\n",
       " 'ARP String Machine Arpeggio FMR',\n",
       " 'ARP Ravers Arp FMR',\n",
       " 'ARP Cold Thinking Arpeggio FMR',\n",
       " 'ARP Berlin School Arpeggio FMR',\n",
       " 'ARP Wisteria Spot FMR',\n",
       " 'ARP Stringish Arp FMR',\n",
       " 'ARP Circles Arpeggio FMR',\n",
       " 'MFX Mysterious Invention FMR',\n",
       " 'MFX LFO and Echo FMR',\n",
       " 'MFX Space Sound 3 FMR',\n",
       " 'MFX Effect Sound Six FMR',\n",
       " 'MFX Effect Sound Three FMR',\n",
       " 'MFX Effect Sound Five FMR',\n",
       " 'MFX Space Sound 1 FMR',\n",
       " 'MFX Spartacus VIII FMR',\n",
       " 'MFX Effect Sound 76 FMR',\n",
       " 'MFX Low Harp Endless Tail FMR',\n",
       " 'MFX Effect Sound One FMR',\n",
       " 'MFX Effect Sound Four FMR',\n",
       " 'MFX Inverted Filter PWM FMR',\n",
       " 'MFX Space Sound 2 FMR',\n",
       " 'MFX Effect Sound Two FMR',\n",
       " 'MFX Effect Sound Seven FMR',\n",
       " 'KBD Celesta FMR',\n",
       " 'KBD Funk B FMR',\n",
       " 'KBD Harpsichord 1 FMR',\n",
       " 'KBD Harpsichord 2 FMR',\n",
       " 'KBD Funk A FMR',\n",
       " 'KBD Classic Clavinet FMR',\n",
       " 'KBD Clavichord 2 FMR',\n",
       " 'KBD Clavichord 1 FMR',\n",
       " 'KBD Synthi Clavinet FMR',\n",
       " 'The Difference Bass',\n",
       " 'The Difference Trumpet Synth',\n",
       " 'MT Norton Commander',\n",
       " 'MT Numb',\n",
       " 'MT Tailwhip Xylophone',\n",
       " 'MT Tailwhip Lead',\n",
       " 'MT Tailwhip Organ',\n",
       " '67 Mysterious Invention',\n",
       " '56 Reed 2',\n",
       " '63 Effect Sound 2',\n",
       " '57 Reed 3',\n",
       " '17 Brass',\n",
       " '54 Reed 1',\n",
       " '65 Funk',\n",
       " '25 Harpsichord 1',\n",
       " '62 Effect Sound 1',\n",
       " '73 Whistle',\n",
       " '23 Celesta',\n",
       " '28 Synthesizer Harp',\n",
       " '53 Phase Combination',\n",
       " '14 Organ 1',\n",
       " '64 Space Harp',\n",
       " '35 Pizzicato Sound 1',\n",
       " '71 Percussive Sound 1',\n",
       " '11 Strings 1',\n",
       " '44 Tuba',\n",
       " '41 Violine',\n",
       " '46 Clarinet',\n",
       " '12 Strings 2',\n",
       " '45 Flute',\n",
       " '58 PWM Chorus',\n",
       " '34 Clavichord 2',\n",
       " '13 Strings 3',\n",
       " '22 Piano 2',\n",
       " '15 Organ 2',\n",
       " '52 Wah Brass',\n",
       " '68 Space Sound 2',\n",
       " '51 Funny Cat',\n",
       " '33 Clavichord 1',\n",
       " '48 English Horn',\n",
       " '21 Piano 1',\n",
       " '38 Glockenspiel',\n",
       " '61 Synthesizer Organ',\n",
       " '78 Synthesizer Drum',\n",
       " '74 Effect Sound 3',\n",
       " '47 Oboe',\n",
       " '36 Pizzicato Sound 2',\n",
       " '76 Space Sound 3',\n",
       " '18 Phase Brass',\n",
       " '32 Bass 2',\n",
       " '31 Bass 1',\n",
       " '77 Surf',\n",
       " '72 Percussive Sound 2',\n",
       " '27 Guitar',\n",
       " '66 Space Sound 1',\n",
       " '37 Xylophone',\n",
       " '43 Horn',\n",
       " '26 Harpsichord 2',\n",
       " '24 Mellow Piano',\n",
       " '42 Trumpet',\n",
       " '16 Organ 3',\n",
       " '75 UFO',\n",
       " '55 Popcorn']"
      ]
     },
     "execution_count": 4,
     "metadata": {},
     "output_type": "execute_result"
    }
   ],
   "source": [
    "dataset['preset_names']"
   ]
  },
  {
   "cell_type": "code",
   "execution_count": 5,
   "metadata": {},
   "outputs": [],
   "source": [
    "# we need to convert the preset names to a categorical variable in order to group the points in the scatter plot\n",
    "categorized_names = {name: categorize_name(name) for name in dataset['preset_names']}"
   ]
  },
  {
   "cell_type": "code",
   "execution_count": 6,
   "metadata": {},
   "outputs": [
    {
     "data": {
      "text/plain": [
       "{'Default': 'Miscellaneous/Other',\n",
       " 'MT Tailwhip Organ (2)': 'Organs',\n",
       " 'Super Jumper': 'Miscellaneous/Other',\n",
       " 'Nice Filter Sweep': 'Miscellaneous/Other',\n",
       " 'Chillin R2D2': 'Miscellaneous/Other',\n",
       " 'Deep Drop In': 'Miscellaneous/Other',\n",
       " 'Enter the Twirl': 'Miscellaneous/Other',\n",
       " 'Water Love': 'Miscellaneous/Other',\n",
       " 'Pulse Drop': 'Miscellaneous/Other',\n",
       " 'Phasing Island Bass': 'Bass',\n",
       " 'Mono Pulse Bass': 'Bass',\n",
       " '08-15 Bass': 'Bass',\n",
       " 'Classic Saw Bass': 'Bass',\n",
       " 'Funky Mod Bass': 'Bass',\n",
       " 'Ultra Deep Bass': 'Bass',\n",
       " 'Basic Pad': 'Miscellaneous/Other',\n",
       " 'Apollo Pad': 'Miscellaneous/Other',\n",
       " 'Pulse Drop Pad': 'Miscellaneous/Other',\n",
       " 'Self Destroy': 'Miscellaneous/Other',\n",
       " 'Big Lead': 'Leads',\n",
       " 'Double Chorus Trancer': 'Miscellaneous/Other',\n",
       " 'Super Funky Lead': 'Leads',\n",
       " 'Startup': 'Miscellaneous/Other',\n",
       " 'Ugly One': 'Miscellaneous/Other',\n",
       " 'Disharmonic feedback': 'Miscellaneous/Other',\n",
       " 'Slow Phaser': 'Miscellaneous/Other',\n",
       " 'Eso Drops': 'Miscellaneous/Other',\n",
       " 'Dark Roads': 'Miscellaneous/Other',\n",
       " 'Mellow LoFi Lead': 'Leads',\n",
       " 'Crystal Drops': 'Miscellaneous/Other',\n",
       " 'Dream Arp': 'Arpeggios',\n",
       " 'FN-Bassliner-BAS': 'Bass',\n",
       " 'FN-Dark Bass II-BAS': 'Bass',\n",
       " 'FN-Flow Bass-BAS': 'Bass',\n",
       " 'FN-High Noise-BAS': 'Bass',\n",
       " 'FN-Wobblelike Bass-BAS': 'Bass',\n",
       " 'FN-Dark Bass-BAS': 'Bass',\n",
       " 'FN-Nostalgic Bass-BAS': 'Bass',\n",
       " 'FN-C64ish Bass': 'Bass',\n",
       " 'FN-Basslover': 'Bass',\n",
       " 'FN-Bass Wobbler-BAS': 'Bass',\n",
       " 'FN-Wobblebass-BAS': 'Bass',\n",
       " 'FN-Dark Night-PAD': 'Synth Pads',\n",
       " 'FN-Analog Feeling-PAD': 'Synth Pads',\n",
       " 'FN-Blubberfeld-PAD': 'Synth Pads',\n",
       " 'FN-Noisia-PAD': 'Synth Pads',\n",
       " 'FN-Darpesh Pad-PAD': 'Synth Pads',\n",
       " 'FN-Restless Night-PAD': 'Synth Pads',\n",
       " 'FN-Analog Pad-PAD': 'Synth Pads',\n",
       " 'FN-RollinSun-PAD': 'Synth Pads',\n",
       " 'FN-Flowing Filter-PAD': 'Synth Pads',\n",
       " 'FN-Experimental-PAD': 'Synth Pads',\n",
       " 'FN-Keep It Noisy!': 'Miscellaneous/Other',\n",
       " 'FN-Digital Feeling': 'Miscellaneous/Other',\n",
       " 'FN-Analog Lead-FN': 'Leads',\n",
       " 'FN-Enjoy My C64': 'Miscellaneous/Other',\n",
       " 'FN-Nostalgicer Lead-LEA': 'Leads',\n",
       " 'FN-Plastic Lead-LEA': 'Leads',\n",
       " 'FN-I Need Lead-LEA': 'Leads',\n",
       " 'FN-Easy Listening': 'Miscellaneous/Other',\n",
       " 'FN-A Little Something-LEA': 'Miscellaneous/Other',\n",
       " 'FN-Doubleplayer': 'Miscellaneous/Other',\n",
       " 'FN-Free Willy-ARP': 'Arpeggios',\n",
       " 'FN-Resonanzig': 'Miscellaneous/Other',\n",
       " 'FN-Filter Lead-LEA': 'Leads',\n",
       " 'FN-Chordmachine-KEY': 'Pianos & Keyboards',\n",
       " 'FN-Easy Keys': 'Pianos & Keyboards',\n",
       " 'FN-Chordmachine II-KEY': 'Pianos & Keyboards',\n",
       " 'FN-Small Keys-KEY': 'Pianos & Keyboards',\n",
       " 'FN-Low Keys-KEY': 'Pianos & Keyboards',\n",
       " 'FN-Backwards ARP': 'Arpeggios',\n",
       " 'FN-Anastyle-ARP': 'Arpeggios',\n",
       " 'FN-Percussive Plugger2-ARP': 'Arpeggios',\n",
       " 'FN-Percussive Plugger-ARP': 'Arpeggios',\n",
       " 'FN-Pluggiolator-ARP': 'Arpeggios',\n",
       " 'FN-C64ish Arp': 'Arpeggios',\n",
       " 'FN-Bass Lover-ARP': 'Bass',\n",
       " 'FN-Anastyle II-ARP': 'Arpeggios',\n",
       " 'FN-One Finger Show-ARP': 'Arpeggios',\n",
       " 'FN-Percussive Plugger3-ARP': 'Arpeggios',\n",
       " 'FN-Rhytmic Noise-ARP': 'Arpeggios',\n",
       " 'SFX UFO Landing FMR': 'Miscellaneous/Other',\n",
       " 'SFX Surfing the Waves FMR': 'Miscellaneous/Other',\n",
       " 'SFX Noise Bubbles FMR': 'Miscellaneous/Other',\n",
       " 'SFX Space Sound 4 FMR': 'Miscellaneous/Other',\n",
       " 'PNO Piano 2 FMR': 'Pianos & Keyboards',\n",
       " 'PNO Another E P FMR': 'Pianos & Keyboards',\n",
       " 'PNO Classic E P FMR': 'Pianos & Keyboards',\n",
       " 'PNO Sweet Tines FMR': 'Pianos & Keyboards',\n",
       " 'PNO Piano 1 FMR': 'Pianos & Keyboards',\n",
       " 'PNO Mellow Piano FMR': 'Pianos & Keyboards',\n",
       " 'PNO Bright Rhodes FMR': 'Pianos & Keyboards',\n",
       " 'STR String Machine FMR': 'Strings',\n",
       " 'STR PWM Strings 2 FMR': 'Strings',\n",
       " 'STR Strings 1 FMR': 'Strings',\n",
       " 'STR Eminent Strings FMR': 'Strings',\n",
       " 'STR Strings 2 FMR': 'Strings',\n",
       " 'STR PWM Strings 1 FMR': 'Strings',\n",
       " 'STR Spartacus VI FMR': 'Strings',\n",
       " 'STR String Ensemble FMR': 'Strings',\n",
       " 'STR Prophet Strings FMR': 'Strings',\n",
       " 'STR Soft Strings FMR': 'Strings',\n",
       " 'STR Low Strings FMR': 'Strings',\n",
       " 'STR Full Strings FMR': 'Strings',\n",
       " 'STR Spartacus VII FMR': 'Strings',\n",
       " 'STR Strings 3 FMR': 'Strings',\n",
       " 'ORG Organ 2 FMR': 'Organs',\n",
       " 'ORG Another Organ FMR': 'Organs',\n",
       " 'ORG Spartacus IX FMR': 'Organs',\n",
       " 'ORG Jazz Organ FMR': 'Organs',\n",
       " 'ORG Spartacus XI FMR': 'Organs',\n",
       " 'ORG Spartacus XII FMR': 'Organs',\n",
       " 'ORG Church Organ Positive FMR': 'Organs',\n",
       " 'ORG Church Organ Gated FMR': 'Organs',\n",
       " 'ORG Organ 1 FMR': 'Organs',\n",
       " 'ORG Spartacus X FMR': 'Organs',\n",
       " 'ORG Church Organ Full Pipes 1 FMR': 'Organs',\n",
       " 'ORG Synthesizer Organ 2 FMR': 'Organs',\n",
       " 'ORG Organ 3 FMR': 'Organs',\n",
       " 'ORG Synthesizer Organ 1 FMR': 'Organs',\n",
       " 'ORG Church Organ Full Pipes 2 FMR': 'Organs',\n",
       " 'DRM Synth Drum 1 FMR': 'Miscellaneous/Other',\n",
       " 'DRM Snare Gun FMR': 'Miscellaneous/Other',\n",
       " 'DRM Snare Drum 2 FMR': 'Miscellaneous/Other',\n",
       " 'DRM Kick Drum 3 FMR': 'Miscellaneous/Other',\n",
       " 'DRM Ride Cymbal FMR': 'Miscellaneous/Other',\n",
       " 'DRM Snare Drum 1 FMR': 'Miscellaneous/Other',\n",
       " 'DRM Snare Drum 4 FMR': 'Miscellaneous/Other',\n",
       " 'DRM Synth Drum 2 FMR': 'Miscellaneous/Other',\n",
       " 'DRM Kick Drum 2 FMR': 'Miscellaneous/Other',\n",
       " 'DRM Kick and Snap FMR': 'Miscellaneous/Other',\n",
       " 'DRM Snare Drum 3 FMR': 'Miscellaneous/Other',\n",
       " 'DRM Hi-Hat Opened FMR': 'Miscellaneous/Other',\n",
       " 'DRM Crash Cymbal FMR': 'Miscellaneous/Other',\n",
       " 'DRM Synth Drum 3 FMR': 'Miscellaneous/Other',\n",
       " 'DRM Kick Drum and Toms FMR': 'Miscellaneous/Other',\n",
       " 'DRM Hi-Hat Closed FMR': 'Miscellaneous/Other',\n",
       " 'DRM Kick Drum 1 FMR': 'Miscellaneous/Other',\n",
       " 'WND English Horn FMR': 'Brass & Woodwinds',\n",
       " 'WND Ocarina FMR': 'Brass & Woodwinds',\n",
       " 'WND Flute 1 FMR': 'Brass & Woodwinds',\n",
       " 'WND Flute 2 FMR': 'Brass & Woodwinds',\n",
       " 'WND Pan Flute FMR': 'Brass & Woodwinds',\n",
       " 'WND Oboe FMR': 'Brass & Woodwinds',\n",
       " 'WND Clarinet FMR': 'Brass & Woodwinds',\n",
       " 'WND Flauto Dolce FMR': 'Brass & Woodwinds',\n",
       " 'GTR Overdrive Guitar FMR': 'Guitars',\n",
       " 'GTR Chorused Ovation FMR': 'Guitars',\n",
       " 'GTR Jazz Guitar FMR': 'Guitars',\n",
       " 'GTR Steel String Guitar FMR': 'Guitars',\n",
       " 'GTR Acoustic Guitar FMR': 'Guitars',\n",
       " 'BRS Brass 2 FMR': 'Brass & Woodwinds',\n",
       " 'BRS French Horn FMR': 'Brass & Woodwinds',\n",
       " 'BRS Brass Pad 1 FMR': 'Brass & Woodwinds',\n",
       " 'BRS Tuba FMR': 'Brass & Woodwinds',\n",
       " 'BRS Brass Pad 2 FMR': 'Brass & Woodwinds',\n",
       " 'BRS Brass 1 FMR': 'Brass & Woodwinds',\n",
       " 'BRS Low Brass FMR': 'Brass & Woodwinds',\n",
       " 'BRS Phase Brass FMR': 'Brass & Woodwinds',\n",
       " 'BRS Trumpet FMR': 'Brass & Woodwinds',\n",
       " 'BRS Brass 3 FMR': 'Brass & Woodwinds',\n",
       " 'BRS Prophet Brass FMR': 'Brass & Woodwinds',\n",
       " 'BRS Brass Pad 3 FMR': 'Brass & Woodwinds',\n",
       " 'BAS Square Bass FMR': 'Bass',\n",
       " 'BAS Pulse Bass 1 FMR': 'Bass',\n",
       " 'BAS Acid Bass 2 FMR': 'Bass',\n",
       " 'BAS Acid Bass 1 FMR': 'Bass',\n",
       " 'BAS Acid Bass 4 FMR': 'Bass',\n",
       " 'BAS Pulse Bass 2 FMR': 'Bass',\n",
       " 'BAS Round Bass 2 FMR': 'Bass',\n",
       " 'BAS Synth Bass 2 FMR': 'Bass',\n",
       " 'BAS Acid Bass 3 FMR': 'Bass',\n",
       " 'BAS Wire Bass FMR': 'Bass',\n",
       " 'BAS Love Bass FMR': 'Bass',\n",
       " 'BAS Hooverish Bass FMR': 'Bass',\n",
       " 'BAS Basso Profondo FMR': 'Bass',\n",
       " 'BAS Synth Bass 1 FMR': 'Bass',\n",
       " 'BAS Round Bass 1 FMR': 'Bass',\n",
       " 'PAD Rise the Pulse FMR': 'Synth Pads',\n",
       " 'PAD Spartacus I FMR': 'Synth Pads',\n",
       " 'PAD Spartacus V FMR': 'Synth Pads',\n",
       " 'PAD Reso Pad FMR': 'Synth Pads',\n",
       " 'PAD Metal Rotor Pad FMR': 'Synth Pads',\n",
       " 'PAD Classic Sweep Pad FMR': 'Synth Pads',\n",
       " 'PAD Dive Into The Deep FMR': 'Synth Pads',\n",
       " 'PAD Meditation Pad 3 FMR': 'Synth Pads',\n",
       " 'PAD Forever Pad FMR': 'Synth Pads',\n",
       " 'PAD Hoiy Mass FMR': 'Synth Pads',\n",
       " 'PAD Woosh Pad FMR': 'Synth Pads',\n",
       " 'PAD Massive Pad 1 FMR': 'Synth Pads',\n",
       " 'PAD Big Synth Pad 2 FMR': 'Synth Pads',\n",
       " 'PAD This Is It FMR': 'Synth Pads',\n",
       " 'PAD Meditation Pad 1 FMR': 'Synth Pads',\n",
       " 'PAD Chariots VG Brass FMR': 'Synth Pads',\n",
       " 'PAD Bass Pad FMR': 'Synth Pads',\n",
       " 'PAD PWM Pad FMR': 'Synth Pads',\n",
       " 'PAD Meditation Pad 2 FMR': 'Synth Pads',\n",
       " 'PAD Big Synth Pad 1 FMR': 'Synth Pads',\n",
       " 'PAD Massive Pad 2 FMR': 'Synth Pads',\n",
       " 'PAD High Res Pad FMR': 'Synth Pads',\n",
       " 'PRC Chiff Attack FMR': 'Miscellaneous/Other',\n",
       " 'PRC Percussion 2 FMR': 'Miscellaneous/Other',\n",
       " 'PRC Thump Bass Drum FMR': 'Bass',\n",
       " 'PRC Percussion 1 FMR': 'Miscellaneous/Other',\n",
       " 'PRC Percussion 4 FMR': 'Miscellaneous/Other',\n",
       " 'PRC Xylophone FMR': 'Miscellaneous/Other',\n",
       " 'PRC Synth Gamelan FMR': 'Miscellaneous/Other',\n",
       " 'PRC Dual SynRes Percussion FMR': 'Miscellaneous/Other',\n",
       " 'PRC Percussion 3 FMR': 'Miscellaneous/Other',\n",
       " 'PRC Popcorn FMR': 'Miscellaneous/Other',\n",
       " 'PRC Pizzicato Sound 2 FMR': 'Miscellaneous/Other',\n",
       " 'PRC Clicks FMR': 'Miscellaneous/Other',\n",
       " 'PRC Pizzicato Sound 1 FMR': 'Miscellaneous/Other',\n",
       " 'PRC Crystal Bells FMR': 'Miscellaneous/Other',\n",
       " 'PRC Glockenspiel FMR': 'Miscellaneous/Other',\n",
       " 'PRC Steel Drum FMR': 'Miscellaneous/Other',\n",
       " 'PRC The Tech Pluck FMR': 'Miscellaneous/Other',\n",
       " 'SYN Harpsynth Poly FMR': 'Miscellaneous/Other',\n",
       " 'SYN Phase Combination FMR': 'Miscellaneous/Other',\n",
       " 'SYN Raw Saw-Sub FMR': 'Miscellaneous/Other',\n",
       " 'SYN Please Release Me FMR': 'Miscellaneous/Other',\n",
       " 'SYN Slow Polysynth FMR': 'Miscellaneous/Other',\n",
       " 'SYN Percussive Polysynth FMR': 'Miscellaneous/Other',\n",
       " 'SYN VH Jump FMR': 'Miscellaneous/Other',\n",
       " 'SYN PWM FMR': 'Miscellaneous/Other',\n",
       " 'SYN PWM Chorus C FMR': 'Miscellaneous/Other',\n",
       " 'SYN Space Harp FMR': 'Miscellaneous/Other',\n",
       " 'SYN Dreamy Poly FMR': 'Miscellaneous/Other',\n",
       " 'SYN Reed 2 FMR': 'Miscellaneous/Other',\n",
       " 'SYN Gated Bright Synth FMR': 'Miscellaneous/Other',\n",
       " 'SYN PWM Sound FMR': 'Miscellaneous/Other',\n",
       " 'SYN Chariots VG Harp FMR': 'Miscellaneous/Other',\n",
       " 'SYN PWM Chorus B FMR': 'Miscellaneous/Other',\n",
       " 'SYN Raw Saw-Square FMR': 'Miscellaneous/Other',\n",
       " 'SYN Synthesizer Harp FMR': 'Miscellaneous/Other',\n",
       " 'SYN Synth Harp LFO FMR': 'Miscellaneous/Other',\n",
       " 'SYN Dynamic Polysynth FMR': 'Miscellaneous/Other',\n",
       " 'SYN Wah Brass FMR': 'Brass & Woodwinds',\n",
       " 'SYN Harpe Laser FMR': 'Miscellaneous/Other',\n",
       " 'SYN Fluctuation Keys FMR': 'Pianos & Keyboards',\n",
       " 'LED Big Lead 2 FMR': 'Leads',\n",
       " 'LED Sing Like a Cat FMR': 'Leads',\n",
       " 'LED Spartacus III FMR': 'Leads',\n",
       " 'LED Calliope FMR': 'Leads',\n",
       " 'LED Spartacus IV FMR': 'Leads',\n",
       " 'LED Spartacus II FMR': 'Leads',\n",
       " 'LED Reed 1 FMR': 'Leads',\n",
       " 'LED Big Lead 1 FMR': 'Leads',\n",
       " 'LED Flutey Vibrato Solo FMR': 'Leads',\n",
       " 'LED Silk Road Lead FMR': 'Leads',\n",
       " 'LED Reed 3 FMR': 'Leads',\n",
       " 'LED PWM Lead FMR': 'Leads',\n",
       " 'LED Violin FMR': 'Leads',\n",
       " 'LED Square Lead FMR': 'Leads',\n",
       " 'LED Meeaow Lead FMR': 'Leads',\n",
       " 'LED LFO Lead FMR': 'Leads',\n",
       " 'LED Tin Whistle FMR': 'Leads',\n",
       " 'DRN Deep Drone FMR': 'Miscellaneous/Other',\n",
       " 'DRN LFO and Echo Drone FMR': 'Miscellaneous/Other',\n",
       " 'DRN Waving Bass Drone FMR': 'Bass',\n",
       " 'DRN JX-3P Drone FMR': 'Miscellaneous/Other',\n",
       " 'DRN Sequence Like Drone FMR': 'Miscellaneous/Other',\n",
       " 'CHO Church Choir FMR': 'Miscellaneous/Other',\n",
       " 'CHO PWM Chorus A FMR': 'Miscellaneous/Other',\n",
       " 'CHO Voice Chorus FMR': 'Miscellaneous/Other',\n",
       " 'CHO Voice Chorus Too FMR': 'Miscellaneous/Other',\n",
       " 'ARP Swinging Arpeggio FMR': 'Arpeggios',\n",
       " 'ARP PWM LFO Arpeggio FMR': 'Arpeggios',\n",
       " 'ARP Bass Arpeggio FMR': 'Bass',\n",
       " 'ARP KS-TD Arpeggio FMR': 'Arpeggios',\n",
       " 'ARP Play Just One Note FMR': 'Arpeggios',\n",
       " 'ARP Random Arpeggiated PWM FMR': 'Arpeggios',\n",
       " 'ARP String Machine Arpeggio FMR': 'Arpeggios',\n",
       " 'ARP Ravers Arp FMR': 'Arpeggios',\n",
       " 'ARP Cold Thinking Arpeggio FMR': 'Arpeggios',\n",
       " 'ARP Berlin School Arpeggio FMR': 'Arpeggios',\n",
       " 'ARP Wisteria Spot FMR': 'Arpeggios',\n",
       " 'ARP Stringish Arp FMR': 'Arpeggios',\n",
       " 'ARP Circles Arpeggio FMR': 'Arpeggios',\n",
       " 'MFX Mysterious Invention FMR': 'Miscellaneous/Other',\n",
       " 'MFX LFO and Echo FMR': 'Miscellaneous/Other',\n",
       " 'MFX Space Sound 3 FMR': 'Miscellaneous/Other',\n",
       " 'MFX Effect Sound Six FMR': 'Miscellaneous/Other',\n",
       " 'MFX Effect Sound Three FMR': 'Miscellaneous/Other',\n",
       " 'MFX Effect Sound Five FMR': 'Miscellaneous/Other',\n",
       " 'MFX Space Sound 1 FMR': 'Miscellaneous/Other',\n",
       " 'MFX Spartacus VIII FMR': 'Miscellaneous/Other',\n",
       " 'MFX Effect Sound 76 FMR': 'Miscellaneous/Other',\n",
       " 'MFX Low Harp Endless Tail FMR': 'Miscellaneous/Other',\n",
       " 'MFX Effect Sound One FMR': 'Miscellaneous/Other',\n",
       " 'MFX Effect Sound Four FMR': 'Miscellaneous/Other',\n",
       " 'MFX Inverted Filter PWM FMR': 'Miscellaneous/Other',\n",
       " 'MFX Space Sound 2 FMR': 'Miscellaneous/Other',\n",
       " 'MFX Effect Sound Two FMR': 'Miscellaneous/Other',\n",
       " 'MFX Effect Sound Seven FMR': 'Miscellaneous/Other',\n",
       " 'KBD Celesta FMR': 'Pianos & Keyboards',\n",
       " 'KBD Funk B FMR': 'Pianos & Keyboards',\n",
       " 'KBD Harpsichord 1 FMR': 'Pianos & Keyboards',\n",
       " 'KBD Harpsichord 2 FMR': 'Pianos & Keyboards',\n",
       " 'KBD Funk A FMR': 'Pianos & Keyboards',\n",
       " 'KBD Classic Clavinet FMR': 'Pianos & Keyboards',\n",
       " 'KBD Clavichord 2 FMR': 'Pianos & Keyboards',\n",
       " 'KBD Clavichord 1 FMR': 'Pianos & Keyboards',\n",
       " 'KBD Synthi Clavinet FMR': 'Pianos & Keyboards',\n",
       " 'The Difference Bass': 'Bass',\n",
       " 'The Difference Trumpet Synth': 'Brass & Woodwinds',\n",
       " 'MT Norton Commander': 'Miscellaneous/Other',\n",
       " 'MT Numb': 'Miscellaneous/Other',\n",
       " 'MT Tailwhip Xylophone': 'Miscellaneous/Other',\n",
       " 'MT Tailwhip Lead': 'Leads',\n",
       " 'MT Tailwhip Organ': 'Organs',\n",
       " '67 Mysterious Invention': 'Miscellaneous/Other',\n",
       " '56 Reed 2': 'Miscellaneous/Other',\n",
       " '63 Effect Sound 2': 'Miscellaneous/Other',\n",
       " '57 Reed 3': 'Miscellaneous/Other',\n",
       " '17 Brass': 'Brass & Woodwinds',\n",
       " '54 Reed 1': 'Miscellaneous/Other',\n",
       " '65 Funk': 'Miscellaneous/Other',\n",
       " '25 Harpsichord 1': 'Pianos & Keyboards',\n",
       " '62 Effect Sound 1': 'Miscellaneous/Other',\n",
       " '73 Whistle': 'Miscellaneous/Other',\n",
       " '23 Celesta': 'Pianos & Keyboards',\n",
       " '28 Synthesizer Harp': 'Miscellaneous/Other',\n",
       " '53 Phase Combination': 'Miscellaneous/Other',\n",
       " '14 Organ 1': 'Organs',\n",
       " '64 Space Harp': 'Miscellaneous/Other',\n",
       " '35 Pizzicato Sound 1': 'Miscellaneous/Other',\n",
       " '71 Percussive Sound 1': 'Miscellaneous/Other',\n",
       " '11 Strings 1': 'Strings',\n",
       " '44 Tuba': 'Miscellaneous/Other',\n",
       " '41 Violine': 'Strings',\n",
       " '46 Clarinet': 'Brass & Woodwinds',\n",
       " '12 Strings 2': 'Strings',\n",
       " '45 Flute': 'Brass & Woodwinds',\n",
       " '58 PWM Chorus': 'Miscellaneous/Other',\n",
       " '34 Clavichord 2': 'Pianos & Keyboards',\n",
       " '13 Strings 3': 'Strings',\n",
       " '22 Piano 2': 'Pianos & Keyboards',\n",
       " '15 Organ 2': 'Organs',\n",
       " '52 Wah Brass': 'Brass & Woodwinds',\n",
       " '68 Space Sound 2': 'Miscellaneous/Other',\n",
       " '51 Funny Cat': 'Miscellaneous/Other',\n",
       " '33 Clavichord 1': 'Pianos & Keyboards',\n",
       " '48 English Horn': 'Brass & Woodwinds',\n",
       " '21 Piano 1': 'Pianos & Keyboards',\n",
       " '38 Glockenspiel': 'Miscellaneous/Other',\n",
       " '61 Synthesizer Organ': 'Organs',\n",
       " '78 Synthesizer Drum': 'Miscellaneous/Other',\n",
       " '74 Effect Sound 3': 'Miscellaneous/Other',\n",
       " '47 Oboe': 'Brass & Woodwinds',\n",
       " '36 Pizzicato Sound 2': 'Miscellaneous/Other',\n",
       " '76 Space Sound 3': 'Miscellaneous/Other',\n",
       " '18 Phase Brass': 'Brass & Woodwinds',\n",
       " '32 Bass 2': 'Bass',\n",
       " '31 Bass 1': 'Bass',\n",
       " '77 Surf': 'Miscellaneous/Other',\n",
       " '72 Percussive Sound 2': 'Miscellaneous/Other',\n",
       " '27 Guitar': 'Guitars',\n",
       " '66 Space Sound 1': 'Miscellaneous/Other',\n",
       " '37 Xylophone': 'Miscellaneous/Other',\n",
       " '43 Horn': 'Brass & Woodwinds',\n",
       " '26 Harpsichord 2': 'Pianos & Keyboards',\n",
       " '24 Mellow Piano': 'Pianos & Keyboards',\n",
       " '42 Trumpet': 'Brass & Woodwinds',\n",
       " '16 Organ 3': 'Organs',\n",
       " '75 UFO': 'Miscellaneous/Other',\n",
       " '55 Popcorn': 'Miscellaneous/Other'}"
      ]
     },
     "execution_count": 6,
     "metadata": {},
     "output_type": "execute_result"
    }
   ],
   "source": [
    "categorized_names"
   ]
  },
  {
   "cell_type": "markdown",
   "metadata": {},
   "source": [
    "## Create the Pandas DataFrame for Input to the TSNE Plot\n",
    "\n",
    "---\n",
    "\n",
    "We need to put our dataset into a form that is friendly for the TSNE plot. Specifically, we plan to put everything into an ordered table, a Pandas DataFrame.  "
   ]
  },
  {
   "cell_type": "code",
   "execution_count": 7,
   "metadata": {},
   "outputs": [],
   "source": [
    "# initialize a pandas dataframe\n",
    "df = pd.DataFrame()"
   ]
  },
  {
   "cell_type": "code",
   "execution_count": 8,
   "metadata": {},
   "outputs": [],
   "source": [
    "# define the note to use for this test\n",
    "NOTE = 'C3'"
   ]
  },
  {
   "cell_type": "code",
   "execution_count": 9,
   "metadata": {},
   "outputs": [],
   "source": [
    "# add a column for the preset names\n",
    "df['preset_name'] = dataset['preset_names']\n",
    "\n",
    "# add a column for the categorized preset names\n",
    "df['categorized_name'] = [categorized_names[name] for name in dataset['preset_names']]\n",
    "\n",
    "# add a column for the raw audio signal\n",
    "df['raw_signal'] = [x[NOTE] for x in dataset['raw_audio']] # for now, use C3, we can try other notes and see if we get different results.\n",
    "\n",
    "# add a column for the MFCC features (should we normalize these?)\n",
    "df['mfcc'] = [torch.mean(mfcc[NOTE], axis=1) for mfcc in dataset['MFCCs']] # for now, use C3, we can try other notes and see if we get different results."
   ]
  },
  {
   "cell_type": "code",
   "execution_count": 10,
   "metadata": {},
   "outputs": [
    {
     "data": {
      "text/html": [
       "<div>\n",
       "<style scoped>\n",
       "    .dataframe tbody tr th:only-of-type {\n",
       "        vertical-align: middle;\n",
       "    }\n",
       "\n",
       "    .dataframe tbody tr th {\n",
       "        vertical-align: top;\n",
       "    }\n",
       "\n",
       "    .dataframe thead th {\n",
       "        text-align: right;\n",
       "    }\n",
       "</style>\n",
       "<table border=\"1\" class=\"dataframe\">\n",
       "  <thead>\n",
       "    <tr style=\"text-align: right;\">\n",
       "      <th></th>\n",
       "      <th>preset_name</th>\n",
       "      <th>categorized_name</th>\n",
       "      <th>raw_signal</th>\n",
       "      <th>mfcc</th>\n",
       "    </tr>\n",
       "  </thead>\n",
       "  <tbody>\n",
       "    <tr>\n",
       "      <th>0</th>\n",
       "      <td>Default</td>\n",
       "      <td>Miscellaneous/Other</td>\n",
       "      <td>[tensor(4.9700e-05), tensor(0.0006), tensor(0....</td>\n",
       "      <td>[tensor(-608.2474), tensor(23.0945), tensor(2....</td>\n",
       "    </tr>\n",
       "    <tr>\n",
       "      <th>1</th>\n",
       "      <td>MT Tailwhip Organ (2)</td>\n",
       "      <td>Organs</td>\n",
       "      <td>[tensor(-0.0020), tensor(-0.0033), tensor(-0.0...</td>\n",
       "      <td>[tensor(-550.4434), tensor(53.8938), tensor(33...</td>\n",
       "    </tr>\n",
       "    <tr>\n",
       "      <th>2</th>\n",
       "      <td>Super Jumper</td>\n",
       "      <td>Miscellaneous/Other</td>\n",
       "      <td>[tensor(0.0232), tensor(0.0202), tensor(0.0180...</td>\n",
       "      <td>[tensor(-620.8842), tensor(86.4746), tensor(73...</td>\n",
       "    </tr>\n",
       "    <tr>\n",
       "      <th>3</th>\n",
       "      <td>Nice Filter Sweep</td>\n",
       "      <td>Miscellaneous/Other</td>\n",
       "      <td>[tensor(0.0007), tensor(0.0101), tensor(0.0169...</td>\n",
       "      <td>[tensor(-672.1783), tensor(33.7962), tensor(13...</td>\n",
       "    </tr>\n",
       "    <tr>\n",
       "      <th>4</th>\n",
       "      <td>Chillin R2D2</td>\n",
       "      <td>Miscellaneous/Other</td>\n",
       "      <td>[tensor(-0.0078), tensor(-0.0282), tensor(-0.0...</td>\n",
       "      <td>[tensor(-492.9750), tensor(122.0252), tensor(-...</td>\n",
       "    </tr>\n",
       "  </tbody>\n",
       "</table>\n",
       "</div>"
      ],
      "text/plain": [
       "             preset_name     categorized_name   \n",
       "0                Default  Miscellaneous/Other  \\\n",
       "1  MT Tailwhip Organ (2)               Organs   \n",
       "2           Super Jumper  Miscellaneous/Other   \n",
       "3      Nice Filter Sweep  Miscellaneous/Other   \n",
       "4           Chillin R2D2  Miscellaneous/Other   \n",
       "\n",
       "                                          raw_signal   \n",
       "0  [tensor(4.9700e-05), tensor(0.0006), tensor(0....  \\\n",
       "1  [tensor(-0.0020), tensor(-0.0033), tensor(-0.0...   \n",
       "2  [tensor(0.0232), tensor(0.0202), tensor(0.0180...   \n",
       "3  [tensor(0.0007), tensor(0.0101), tensor(0.0169...   \n",
       "4  [tensor(-0.0078), tensor(-0.0282), tensor(-0.0...   \n",
       "\n",
       "                                                mfcc  \n",
       "0  [tensor(-608.2474), tensor(23.0945), tensor(2....  \n",
       "1  [tensor(-550.4434), tensor(53.8938), tensor(33...  \n",
       "2  [tensor(-620.8842), tensor(86.4746), tensor(73...  \n",
       "3  [tensor(-672.1783), tensor(33.7962), tensor(13...  \n",
       "4  [tensor(-492.9750), tensor(122.0252), tensor(-...  "
      ]
     },
     "execution_count": 10,
     "metadata": {},
     "output_type": "execute_result"
    }
   ],
   "source": [
    "# visualize the first few rows of df\n",
    "df.head(5)"
   ]
  },
  {
   "cell_type": "code",
   "execution_count": 11,
   "metadata": {},
   "outputs": [],
   "source": [
    "# remove all rows in the df that are miscellaneous or other\n",
    "df_filtered = df[df['categorized_name'] != 'Miscellaneous/Other']"
   ]
  },
  {
   "cell_type": "code",
   "execution_count": 26,
   "metadata": {},
   "outputs": [],
   "source": [
    "# reset the index of the dataframe\n",
    "df_filtered = df_filtered.reset_index(drop=True)"
   ]
  },
  {
   "cell_type": "code",
   "execution_count": 12,
   "metadata": {},
   "outputs": [
    {
     "data": {
      "text/plain": [
       "227"
      ]
     },
     "execution_count": 12,
     "metadata": {},
     "output_type": "execute_result"
    }
   ],
   "source": [
    "len(df_filtered)"
   ]
  },
  {
   "cell_type": "code",
   "execution_count": 13,
   "metadata": {},
   "outputs": [
    {
     "data": {
      "text/html": [
       "<div>\n",
       "<style scoped>\n",
       "    .dataframe tbody tr th:only-of-type {\n",
       "        vertical-align: middle;\n",
       "    }\n",
       "\n",
       "    .dataframe tbody tr th {\n",
       "        vertical-align: top;\n",
       "    }\n",
       "\n",
       "    .dataframe thead th {\n",
       "        text-align: right;\n",
       "    }\n",
       "</style>\n",
       "<table border=\"1\" class=\"dataframe\">\n",
       "  <thead>\n",
       "    <tr style=\"text-align: right;\">\n",
       "      <th></th>\n",
       "      <th>preset_name</th>\n",
       "      <th>categorized_name</th>\n",
       "      <th>raw_signal</th>\n",
       "      <th>mfcc</th>\n",
       "    </tr>\n",
       "  </thead>\n",
       "  <tbody>\n",
       "    <tr>\n",
       "      <th>1</th>\n",
       "      <td>MT Tailwhip Organ (2)</td>\n",
       "      <td>Organs</td>\n",
       "      <td>[tensor(-0.0020), tensor(-0.0033), tensor(-0.0...</td>\n",
       "      <td>[tensor(-550.4434), tensor(53.8938), tensor(33...</td>\n",
       "    </tr>\n",
       "    <tr>\n",
       "      <th>9</th>\n",
       "      <td>Phasing Island Bass</td>\n",
       "      <td>Bass</td>\n",
       "      <td>[tensor(-0.0002), tensor(-0.0004), tensor(-0.0...</td>\n",
       "      <td>[tensor(-655.8989), tensor(37.5732), tensor(10...</td>\n",
       "    </tr>\n",
       "    <tr>\n",
       "      <th>10</th>\n",
       "      <td>Mono Pulse Bass</td>\n",
       "      <td>Bass</td>\n",
       "      <td>[tensor(-7.7006e-05), tensor(-0.0002), tensor(...</td>\n",
       "      <td>[tensor(-719.7664), tensor(30.8399), tensor(-1...</td>\n",
       "    </tr>\n",
       "    <tr>\n",
       "      <th>11</th>\n",
       "      <td>08-15 Bass</td>\n",
       "      <td>Bass</td>\n",
       "      <td>[tensor(-0.0007), tensor(-0.0013), tensor(-0.0...</td>\n",
       "      <td>[tensor(-682.3505), tensor(20.9815), tensor(17...</td>\n",
       "    </tr>\n",
       "    <tr>\n",
       "      <th>12</th>\n",
       "      <td>Classic Saw Bass</td>\n",
       "      <td>Bass</td>\n",
       "      <td>[tensor(4.2704e-05), tensor(5.7539e-05), tenso...</td>\n",
       "      <td>[tensor(-747.5761), tensor(39.0767), tensor(3....</td>\n",
       "    </tr>\n",
       "  </tbody>\n",
       "</table>\n",
       "</div>"
      ],
      "text/plain": [
       "              preset_name categorized_name   \n",
       "1   MT Tailwhip Organ (2)           Organs  \\\n",
       "9     Phasing Island Bass             Bass   \n",
       "10        Mono Pulse Bass             Bass   \n",
       "11             08-15 Bass             Bass   \n",
       "12       Classic Saw Bass             Bass   \n",
       "\n",
       "                                           raw_signal   \n",
       "1   [tensor(-0.0020), tensor(-0.0033), tensor(-0.0...  \\\n",
       "9   [tensor(-0.0002), tensor(-0.0004), tensor(-0.0...   \n",
       "10  [tensor(-7.7006e-05), tensor(-0.0002), tensor(...   \n",
       "11  [tensor(-0.0007), tensor(-0.0013), tensor(-0.0...   \n",
       "12  [tensor(4.2704e-05), tensor(5.7539e-05), tenso...   \n",
       "\n",
       "                                                 mfcc  \n",
       "1   [tensor(-550.4434), tensor(53.8938), tensor(33...  \n",
       "9   [tensor(-655.8989), tensor(37.5732), tensor(10...  \n",
       "10  [tensor(-719.7664), tensor(30.8399), tensor(-1...  \n",
       "11  [tensor(-682.3505), tensor(20.9815), tensor(17...  \n",
       "12  [tensor(-747.5761), tensor(39.0767), tensor(3....  "
      ]
     },
     "execution_count": 13,
     "metadata": {},
     "output_type": "execute_result"
    }
   ],
   "source": [
    "# visualize the filtered dataframe\n",
    "df_filtered.head(5)"
   ]
  },
  {
   "cell_type": "code",
   "execution_count": 14,
   "metadata": {},
   "outputs": [
    {
     "name": "stderr",
     "output_type": "stream",
     "text": [
      "/var/folders/1h/qfss5lwn3jzdb7t8r1y63r9r0000gn/T/ipykernel_79742/2493892502.py:4: SettingWithCopyWarning: \n",
      "A value is trying to be set on a copy of a slice from a DataFrame.\n",
      "Try using .loc[row_indexer,col_indexer] = value instead\n",
      "\n",
      "See the caveats in the documentation: https://pandas.pydata.org/pandas-docs/stable/user_guide/indexing.html#returning-a-view-versus-a-copy\n",
      "  df_filtered['mfcc'] = [normalize_zero_to_one(mfcc, min_value=min_value, max_value=max_value) for mfcc in df_filtered['mfcc']]\n"
     ]
    }
   ],
   "source": [
    "# normalize the mfcc features to 0 to 1 using the min and max of the entire dataset\n",
    "max_value = torch.max(torch.stack(df_filtered['mfcc'].tolist()))\n",
    "min_value = torch.min(torch.cat(df_filtered['mfcc'].tolist()))\n",
    "df_filtered['mfcc'] = [normalize_zero_to_one(mfcc, min_value=min_value, max_value=max_value) for mfcc in df_filtered['mfcc']] "
   ]
  },
  {
   "cell_type": "markdown",
   "metadata": {},
   "source": [
    "### Obtain the TSNE Transformed Data\n",
    "\n",
    "---\n",
    "\n",
    "Here we will initialize a TSNE object and apply a `fit_transform` to obtain a dimensionally reduced vector from the high dimensional input data."
   ]
  },
  {
   "cell_type": "code",
   "execution_count": 15,
   "metadata": {},
   "outputs": [],
   "source": [
    "# we need to first convert the MFCC embeddings from torch format to numpy format for the TSNE algorithm\n",
    "embeddings =  np.stack(df['mfcc'].apply(lambda x: x.cpu().numpy()))"
   ]
  },
  {
   "cell_type": "code",
   "execution_count": 16,
   "metadata": {},
   "outputs": [],
   "source": [
    "# obtain the filtered embeddings\n",
    "filtered_embeddings = np.stack(df_filtered['mfcc'].apply(lambda x: x.cpu().numpy()))"
   ]
  },
  {
   "cell_type": "code",
   "execution_count": 17,
   "metadata": {},
   "outputs": [
    {
     "data": {
      "image/png": "[encoded data removed]",
      "text/plain": [
       "<Figure size 640x480 with 1 Axes>"
      ]
     },
     "metadata": {},
     "output_type": "display_data"
    }
   ],
   "source": [
    "# Before we obtain the TSNE embeddings, let's first visualize the distribution of the MFCC embeddings\n",
    "plt.hist(embeddings.flatten(), bins=1000)\n",
    "plt.xlim([-50,50])\n",
    "plt.title('Distribution of MFCC Embeddings Values')\n",
    "plt.show()"
   ]
  },
  {
   "cell_type": "code",
   "execution_count": 18,
   "metadata": {},
   "outputs": [
    {
     "data": {
      "image/png": "[encoded data removed]",
      "text/plain": [
       "<Figure size 640x480 with 1 Axes>"
      ]
     },
     "metadata": {},
     "output_type": "display_data"
    }
   ],
   "source": [
    "# plot the distribution of filtered embeddings\n",
    "plt.hist(filtered_embeddings.flatten(), bins=250)\n",
    "plt.xlim([0,1])\n",
    "plt.show()"
   ]
  },
  {
   "cell_type": "code",
   "execution_count": 19,
   "metadata": {},
   "outputs": [],
   "source": [
    "# get the TSNE transform\n",
    "transformed_data = generate_tsne(embeddings)"
   ]
  },
  {
   "cell_type": "code",
   "execution_count": 20,
   "metadata": {},
   "outputs": [],
   "source": [
    "filtered_transformed_data = generate_tsne(filtered_embeddings, perplexity=20)"
   ]
  },
  {
   "cell_type": "code",
   "execution_count": 21,
   "metadata": {},
   "outputs": [
    {
     "data": {
      "text/plain": [
       "(367, 2)"
      ]
     },
     "execution_count": 21,
     "metadata": {},
     "output_type": "execute_result"
    }
   ],
   "source": [
    "# inspect the transformed data\n",
    "transformed_data.shape"
   ]
  },
  {
   "cell_type": "code",
   "execution_count": 22,
   "metadata": {},
   "outputs": [],
   "source": [
    "# create an x and y column in the dataframe\n",
    "df['x'] = [transformed_data[i][0] for i in range(len(transformed_data))]\n",
    "df['y'] = [transformed_data[i][1] for i in range(len(transformed_data))]"
   ]
  },
  {
   "cell_type": "code",
   "execution_count": 23,
   "metadata": {},
   "outputs": [
    {
     "name": "stderr",
     "output_type": "stream",
     "text": [
      "/var/folders/1h/qfss5lwn3jzdb7t8r1y63r9r0000gn/T/ipykernel_79742/1696169533.py:2: SettingWithCopyWarning: \n",
      "A value is trying to be set on a copy of a slice from a DataFrame.\n",
      "Try using .loc[row_indexer,col_indexer] = value instead\n",
      "\n",
      "See the caveats in the documentation: https://pandas.pydata.org/pandas-docs/stable/user_guide/indexing.html#returning-a-view-versus-a-copy\n",
      "  df_filtered['x'] = [filtered_transformed_data[i][0] for i in range(len(filtered_transformed_data))]\n",
      "/var/folders/1h/qfss5lwn3jzdb7t8r1y63r9r0000gn/T/ipykernel_79742/1696169533.py:3: SettingWithCopyWarning: \n",
      "A value is trying to be set on a copy of a slice from a DataFrame.\n",
      "Try using .loc[row_indexer,col_indexer] = value instead\n",
      "\n",
      "See the caveats in the documentation: https://pandas.pydata.org/pandas-docs/stable/user_guide/indexing.html#returning-a-view-versus-a-copy\n",
      "  df_filtered['y'] = [filtered_transformed_data[i][1] for i in range(len(filtered_transformed_data))]\n"
     ]
    }
   ],
   "source": [
    "# create a filtered x and filtered y column in the dataframe\n",
    "df_filtered['x'] = [filtered_transformed_data[i][0] for i in range(len(filtered_transformed_data))]\n",
    "df_filtered['y'] = [filtered_transformed_data[i][1] for i in range(len(filtered_transformed_data))]"
   ]
  },
  {
   "cell_type": "markdown",
   "metadata": {},
   "source": [
    "## Create the TSNE Plot\n",
    "\n",
    "---\n",
    "\n",
    "Let's now use Plotly to visualize these embeddings!"
   ]
  },
  {
   "cell_type": "code",
   "execution_count": 24,
   "metadata": {},
   "outputs": [
    {
     "data": {
      "application/vnd.plotly.v1+json": {
       "config": {
        "plotlyServerURL": "https://plot.ly"
       },
       "data": [
        {
         "customdata": [
          [
           "MT Tailwhip Organ (2)",
           "Organs"
          ],
          [
           "ORG Organ 2 FMR",
           "Organs"
          ],
          [
           "ORG Another Organ FMR",
           "Organs"
          ],
          [
           "ORG Spartacus IX FMR",
           "Organs"
          ],
          [
           "ORG Jazz Organ FMR",
           "Organs"
          ],
          [
           "ORG Spartacus XI FMR",
           "Organs"
          ],
          [
           "ORG Spartacus XII FMR",
           "Organs"
          ],
          [
           "ORG Church Organ Positive FMR",
           "Organs"
          ],
          [
           "ORG Church Organ Gated FMR",
           "Organs"
          ],
          [
           "ORG Organ 1 FMR",
           "Organs"
          ],
          [
           "ORG Spartacus X FMR",
           "Organs"
          ],
          [
           "ORG Church Organ Full Pipes 1 FMR",
           "Organs"
          ],
          [
           "ORG Synthesizer Organ 2 FMR",
           "Organs"
          ],
          [
           "ORG Organ 3 FMR",
           "Organs"
          ],
          [
           "ORG Synthesizer Organ 1 FMR",
           "Organs"
          ],
          [
           "ORG Church Organ Full Pipes 2 FMR",
           "Organs"
          ],
          [
           "MT Tailwhip Organ",
           "Organs"
          ],
          [
           "14 Organ 1",
           "Organs"
          ],
          [
           "15 Organ 2",
           "Organs"
          ],
          [
           "61 Synthesizer Organ",
           "Organs"
          ],
          [
           "16 Organ 3",
           "Organs"
          ]
         ],
         "hovertemplate": "Preset Name: %{customdata[0]}<br>Categorized Name: %{customdata[1]}",
         "legendgroup": "Organs",
         "marker": {
          "color": "#636efa",
          "symbol": "circle"
         },
         "mode": "markers",
         "name": "Organs",
         "orientation": "v",
         "showlegend": true,
         "type": "scatter",
         "x": [
          7.833040237426758,
          10.58528995513916,
          9.699877738952637,
          11.22765827178955,
          11.993471145629883,
          11.420851707458496,
          11.463523864746094,
          -9.82903003692627,
          10.475899696350098,
          11.11855697631836,
          11.271008491516113,
          -14.072874069213867,
          5.514166831970215,
          12.057576179504395,
          9.526052474975586,
          -14.065197944641113,
          6.06898307800293,
          4.174559116363525,
          2.610865592956543,
          0.8371537327766418,
          2.0153110027313232
         ],
         "xaxis": "x",
         "y": [
          2.7741658687591553,
          6.926472187042236,
          4.966568470001221,
          0.19453954696655273,
          0.12088363617658615,
          -3.5748515129089355,
          -2.3504762649536133,
          -8.560230255126953,
          10.108782768249512,
          2.697985887527466,
          -5.97781229019165,
          -17.778167724609375,
          15.689148902893066,
          -3.804084062576294,
          8.875395774841309,
          -16.685523986816406,
          -3.37556529045105,
          19.367618560791016,
          21.724124908447266,
          24.552682876586914,
          23.00508689880371
         ],
         "yaxis": "y"
        },
        {
         "customdata": [
          [
           "Phasing Island Bass",
           "Bass"
          ],
          [
           "Mono Pulse Bass",
           "Bass"
          ],
          [
           "08-15 Bass",
           "Bass"
          ],
          [
           "Classic Saw Bass",
           "Bass"
          ],
          [
           "Funky Mod Bass",
           "Bass"
          ],
          [
           "Ultra Deep Bass",
           "Bass"
          ],
          [
           "FN-Bassliner-BAS",
           "Bass"
          ],
          [
           "FN-Dark Bass II-BAS",
           "Bass"
          ],
          [
           "FN-Flow Bass-BAS",
           "Bass"
          ],
          [
           "FN-High Noise-BAS",
           "Bass"
          ],
          [
           "FN-Wobblelike Bass-BAS",
           "Bass"
          ],
          [
           "FN-Dark Bass-BAS",
           "Bass"
          ],
          [
           "FN-Nostalgic Bass-BAS",
           "Bass"
          ],
          [
           "FN-C64ish Bass",
           "Bass"
          ],
          [
           "FN-Basslover",
           "Bass"
          ],
          [
           "FN-Bass Wobbler-BAS",
           "Bass"
          ],
          [
           "FN-Wobblebass-BAS",
           "Bass"
          ],
          [
           "FN-Bass Lover-ARP",
           "Bass"
          ],
          [
           "BAS Square Bass FMR",
           "Bass"
          ],
          [
           "BAS Pulse Bass 1 FMR",
           "Bass"
          ],
          [
           "BAS Acid Bass 2 FMR",
           "Bass"
          ],
          [
           "BAS Acid Bass 1 FMR",
           "Bass"
          ],
          [
           "BAS Acid Bass 4 FMR",
           "Bass"
          ],
          [
           "BAS Pulse Bass 2 FMR",
           "Bass"
          ],
          [
           "BAS Round Bass 2 FMR",
           "Bass"
          ],
          [
           "BAS Synth Bass 2 FMR",
           "Bass"
          ],
          [
           "BAS Acid Bass 3 FMR",
           "Bass"
          ],
          [
           "BAS Wire Bass FMR",
           "Bass"
          ],
          [
           "BAS Love Bass FMR",
           "Bass"
          ],
          [
           "BAS Hooverish Bass FMR",
           "Bass"
          ],
          [
           "BAS Basso Profondo FMR",
           "Bass"
          ],
          [
           "BAS Synth Bass 1 FMR",
           "Bass"
          ],
          [
           "BAS Round Bass 1 FMR",
           "Bass"
          ],
          [
           "PRC Thump Bass Drum FMR",
           "Bass"
          ],
          [
           "DRN Waving Bass Drone FMR",
           "Bass"
          ],
          [
           "ARP Bass Arpeggio FMR",
           "Bass"
          ],
          [
           "The Difference Bass",
           "Bass"
          ],
          [
           "32 Bass 2",
           "Bass"
          ],
          [
           "31 Bass 1",
           "Bass"
          ]
         ],
         "hovertemplate": "Preset Name: %{customdata[0]}<br>Categorized Name: %{customdata[1]}",
         "legendgroup": "Bass",
         "marker": {
          "color": "#EF553B",
          "symbol": "circle"
         },
         "mode": "markers",
         "name": "Bass",
         "orientation": "v",
         "showlegend": true,
         "type": "scatter",
         "x": [
          3.7835373878479004,
          -0.056658074259757996,
          3.597303628921509,
          -0.8519285917282104,
          0.5992319583892822,
          4.7085065841674805,
          7.0679240226745605,
          4.198397159576416,
          6.182277679443359,
          13.467584609985352,
          5.2194952964782715,
          3.4651997089385986,
          8.836311340332031,
          5.57318115234375,
          13.089441299438477,
          6.795878887176514,
          13.356366157531738,
          -8.508489608764648,
          10.654173851013184,
          10.959035873413086,
          11.026127815246582,
          11.292006492614746,
          12.897308349609375,
          10.121901512145996,
          10.973106384277344,
          12.212204933166504,
          13.0447998046875,
          10.694533348083496,
          11.973270416259766,
          -5.456392765045166,
          10.02151870727539,
          9.573304176330566,
          -3.7250380516052246,
          12.136530876159668,
          -8.505897521972656,
          8.782480239868164,
          6.53361177444458,
          6.204957485198975,
          7.4402899742126465
         ],
         "xaxis": "x",
         "y": [
          18.327844619750977,
          23.61189079284668,
          21.361257553100586,
          25.322467803955078,
          25.01610565185547,
          20.01311683654785,
          8.460241317749023,
          13.717799186706543,
          0.00369468005374074,
          6.305760383605957,
          19.249746322631836,
          15.564934730529785,
          11.59155559539795,
          8.330609321594238,
          -2.319714307785034,
          16.09771156311035,
          5.555201053619385,
          -17.00052261352539,
          -4.25347900390625,
          -4.853283405303955,
          4.442328453063965,
          -0.9196200966835022,
          -0.801264226436615,
          -6.862282752990723,
          -3.4018261432647705,
          -0.9269031882286072,
          2.002878427505493,
          -7.2095255851745605,
          -2.2756011486053467,
          -6.019765853881836,
          -7.830198764801025,
          5.652047157287598,
          -12.074522018432617,
          -4.923705101013184,
          -6.866250514984131,
          9.636514663696289,
          14.303343772888184,
          15.89271354675293,
          13.141011238098145
         ],
         "yaxis": "y"
        },
        {
         "customdata": [
          [
           "Big Lead",
           "Leads"
          ],
          [
           "Super Funky Lead",
           "Leads"
          ],
          [
           "Mellow LoFi Lead",
           "Leads"
          ],
          [
           "FN-Analog Lead-FN",
           "Leads"
          ],
          [
           "FN-Nostalgicer Lead-LEA",
           "Leads"
          ],
          [
           "FN-Plastic Lead-LEA",
           "Leads"
          ],
          [
           "FN-I Need Lead-LEA",
           "Leads"
          ],
          [
           "FN-Filter Lead-LEA",
           "Leads"
          ],
          [
           "LED Big Lead 2 FMR",
           "Leads"
          ],
          [
           "LED Sing Like a Cat FMR",
           "Leads"
          ],
          [
           "LED Spartacus III FMR",
           "Leads"
          ],
          [
           "LED Calliope FMR",
           "Leads"
          ],
          [
           "LED Spartacus IV FMR",
           "Leads"
          ],
          [
           "LED Spartacus II FMR",
           "Leads"
          ],
          [
           "LED Reed 1 FMR",
           "Leads"
          ],
          [
           "LED Big Lead 1 FMR",
           "Leads"
          ],
          [
           "LED Flutey Vibrato Solo FMR",
           "Leads"
          ],
          [
           "LED Silk Road Lead FMR",
           "Leads"
          ],
          [
           "LED Reed 3 FMR",
           "Leads"
          ],
          [
           "LED PWM Lead FMR",
           "Leads"
          ],
          [
           "LED Violin FMR",
           "Leads"
          ],
          [
           "LED Square Lead FMR",
           "Leads"
          ],
          [
           "LED Meeaow Lead FMR",
           "Leads"
          ],
          [
           "LED LFO Lead FMR",
           "Leads"
          ],
          [
           "LED Tin Whistle FMR",
           "Leads"
          ],
          [
           "MT Tailwhip Lead",
           "Leads"
          ]
         ],
         "hovertemplate": "Preset Name: %{customdata[0]}<br>Categorized Name: %{customdata[1]}",
         "legendgroup": "Leads",
         "marker": {
          "color": "#00cc96",
          "symbol": "circle"
         },
         "mode": "markers",
         "name": "Leads",
         "orientation": "v",
         "showlegend": true,
         "type": "scatter",
         "x": [
          4.76770544052124,
          -0.19502800703048706,
          -0.0816640555858612,
          -8.664422988891602,
          -5.772021770477295,
          -7.127773284912109,
          -6.877143859863281,
          -3.401057481765747,
          12.131706237792969,
          6.313264846801758,
          -5.007152080535889,
          11.945014953613281,
          -9.308773040771484,
          6.975003242492676,
          12.847468376159668,
          11.211932182312012,
          0.5116955637931824,
          -4.754188060760498,
          8.912315368652344,
          -9.196709632873535,
          11.62663459777832,
          -11.168383598327637,
          -12.321755409240723,
          -7.868898868560791,
          11.775797843933105,
          6.107893466949463
         ],
         "xaxis": "x",
         "y": [
          18.729238510131836,
          24.458494186401367,
          25.506818771362305,
          -4.287445545196533,
          4.913669586181641,
          -6.036711692810059,
          -6.279177188873291,
          1.7586556673049927,
          6.038305282592773,
          0.39290016889572144,
          -12.994601249694824,
          -6.290863990783691,
          -12.29308795928955,
          -5.848647594451904,
          5.880853176116943,
          -7.640963077545166,
          26.14445686340332,
          -6.874691009521484,
          1.1414741277694702,
          -17.396526336669922,
          3.815145492553711,
          -23.790733337402344,
          -15.222132682800293,
          -17.541553497314453,
          8.21716022491455,
          9.94350814819336
         ],
         "yaxis": "y"
        },
        {
         "customdata": [
          [
           "Dream Arp",
           "Arpeggios"
          ],
          [
           "FN-Free Willy-ARP",
           "Arpeggios"
          ],
          [
           "FN-Backwards ARP",
           "Arpeggios"
          ],
          [
           "FN-Anastyle-ARP",
           "Arpeggios"
          ],
          [
           "FN-Percussive Plugger2-ARP",
           "Arpeggios"
          ],
          [
           "FN-Percussive Plugger-ARP",
           "Arpeggios"
          ],
          [
           "FN-Pluggiolator-ARP",
           "Arpeggios"
          ],
          [
           "FN-C64ish Arp",
           "Arpeggios"
          ],
          [
           "FN-Anastyle II-ARP",
           "Arpeggios"
          ],
          [
           "FN-One Finger Show-ARP",
           "Arpeggios"
          ],
          [
           "FN-Percussive Plugger3-ARP",
           "Arpeggios"
          ],
          [
           "FN-Rhytmic Noise-ARP",
           "Arpeggios"
          ],
          [
           "ARP Swinging Arpeggio FMR",
           "Arpeggios"
          ],
          [
           "ARP PWM LFO Arpeggio FMR",
           "Arpeggios"
          ],
          [
           "ARP KS-TD Arpeggio FMR",
           "Arpeggios"
          ],
          [
           "ARP Play Just One Note FMR",
           "Arpeggios"
          ],
          [
           "ARP Random Arpeggiated PWM FMR",
           "Arpeggios"
          ],
          [
           "ARP String Machine Arpeggio FMR",
           "Arpeggios"
          ],
          [
           "ARP Ravers Arp FMR",
           "Arpeggios"
          ],
          [
           "ARP Cold Thinking Arpeggio FMR",
           "Arpeggios"
          ],
          [
           "ARP Berlin School Arpeggio FMR",
           "Arpeggios"
          ],
          [
           "ARP Wisteria Spot FMR",
           "Arpeggios"
          ],
          [
           "ARP Stringish Arp FMR",
           "Arpeggios"
          ],
          [
           "ARP Circles Arpeggio FMR",
           "Arpeggios"
          ]
         ],
         "hovertemplate": "Preset Name: %{customdata[0]}<br>Categorized Name: %{customdata[1]}",
         "legendgroup": "Arpeggios",
         "marker": {
          "color": "#ab63fa",
          "symbol": "circle"
         },
         "mode": "markers",
         "name": "Arpeggios",
         "orientation": "v",
         "showlegend": true,
         "type": "scatter",
         "x": [
          -5.656650543212891,
          5.518799304962158,
          8.105877876281738,
          3.0470104217529297,
          10.313117027282715,
          10.766200065612793,
          6.448776721954346,
          -0.793836236000061,
          6.940096378326416,
          5.697134017944336,
          12.667561531066895,
          -1.4747663736343384,
          -3.9829275608062744,
          8.923934936523438,
          -5.144913673400879,
          -10.770434379577637,
          6.05863618850708,
          -11.442766189575195,
          4.959163188934326,
          12.592177391052246,
          -9.55370807647705,
          -1.8360716104507446,
          10.135635375976562,
          8.887256622314453
         ],
         "xaxis": "x",
         "y": [
          3.008118152618408,
          18.49824333190918,
          14.407328605651855,
          21.847402572631836,
          9.331873893737793,
          8.554329872131348,
          13.782094955444336,
          24.069143295288086,
          12.190706253051758,
          17.48980140686035,
          3.30789852142334,
          27.609758377075195,
          -7.257148265838623,
          12.253706932067871,
          -3.244685173034668,
          -14.554793357849121,
          -6.358774662017822,
          -25.662687301635742,
          -0.7278522849082947,
          6.938383102416992,
          -9.476282119750977,
          -1.9573801755905151,
          3.6032614707946777,
          10.256217002868652
         ],
         "yaxis": "y"
        },
        {
         "customdata": [
          [
           "FN-Dark Night-PAD",
           "Synth Pads"
          ],
          [
           "FN-Analog Feeling-PAD",
           "Synth Pads"
          ],
          [
           "FN-Blubberfeld-PAD",
           "Synth Pads"
          ],
          [
           "FN-Noisia-PAD",
           "Synth Pads"
          ],
          [
           "FN-Darpesh Pad-PAD",
           "Synth Pads"
          ],
          [
           "FN-Restless Night-PAD",
           "Synth Pads"
          ],
          [
           "FN-Analog Pad-PAD",
           "Synth Pads"
          ],
          [
           "FN-RollinSun-PAD",
           "Synth Pads"
          ],
          [
           "FN-Flowing Filter-PAD",
           "Synth Pads"
          ],
          [
           "FN-Experimental-PAD",
           "Synth Pads"
          ],
          [
           "PAD Rise the Pulse FMR",
           "Synth Pads"
          ],
          [
           "PAD Spartacus I FMR",
           "Synth Pads"
          ],
          [
           "PAD Spartacus V FMR",
           "Synth Pads"
          ],
          [
           "PAD Reso Pad FMR",
           "Synth Pads"
          ],
          [
           "PAD Metal Rotor Pad FMR",
           "Synth Pads"
          ],
          [
           "PAD Classic Sweep Pad FMR",
           "Synth Pads"
          ],
          [
           "PAD Dive Into The Deep FMR",
           "Synth Pads"
          ],
          [
           "PAD Meditation Pad 3 FMR",
           "Synth Pads"
          ],
          [
           "PAD Forever Pad FMR",
           "Synth Pads"
          ],
          [
           "PAD Hoiy Mass FMR",
           "Synth Pads"
          ],
          [
           "PAD Woosh Pad FMR",
           "Synth Pads"
          ],
          [
           "PAD Massive Pad 1 FMR",
           "Synth Pads"
          ],
          [
           "PAD Big Synth Pad 2 FMR",
           "Synth Pads"
          ],
          [
           "PAD This Is It FMR",
           "Synth Pads"
          ],
          [
           "PAD Meditation Pad 1 FMR",
           "Synth Pads"
          ],
          [
           "PAD Chariots VG Brass FMR",
           "Synth Pads"
          ],
          [
           "PAD Bass Pad FMR",
           "Synth Pads"
          ],
          [
           "PAD PWM Pad FMR",
           "Synth Pads"
          ],
          [
           "PAD Meditation Pad 2 FMR",
           "Synth Pads"
          ],
          [
           "PAD Big Synth Pad 1 FMR",
           "Synth Pads"
          ],
          [
           "PAD Massive Pad 2 FMR",
           "Synth Pads"
          ],
          [
           "PAD High Res Pad FMR",
           "Synth Pads"
          ]
         ],
         "hovertemplate": "Preset Name: %{customdata[0]}<br>Categorized Name: %{customdata[1]}",
         "legendgroup": "Synth Pads",
         "marker": {
          "color": "#FFA15A",
          "symbol": "circle"
         },
         "mode": "markers",
         "name": "Synth Pads",
         "orientation": "v",
         "showlegend": true,
         "type": "scatter",
         "x": [
          -9.515142440795898,
          -6.737501621246338,
          -10.607048034667969,
          -1.5876721143722534,
          -5.084818363189697,
          -5.82718563079834,
          -5.750880241394043,
          -1.8150144815444946,
          -12.351962089538574,
          -9.842023849487305,
          -4.993520259857178,
          -12.5444917678833,
          -11.125218391418457,
          -12.266946792602539,
          -13.839370727539062,
          -4.8565449714660645,
          -3.816657066345215,
          -3.5545506477355957,
          -12.122454643249512,
          -9.200973510742188,
          -5.403367519378662,
          -9.834442138671875,
          -10.356782913208008,
          -10.700316429138184,
          -6.091726779937744,
          -11.268254280090332,
          3.625560998916626,
          -6.38948917388916,
          -4.5948100090026855,
          -12.651328086853027,
          -4.2214460372924805,
          -11.7930269241333
         ],
         "xaxis": "x",
         "y": [
          -5.410698890686035,
          -3.555170774459839,
          -17.21855926513672,
          27.74475860595703,
          3.620480537414551,
          4.378702163696289,
          3.6863198280334473,
          28.005212783813477,
          -18.852842330932617,
          -6.408563613891602,
          -1.9174268245697021,
          -26.236759185791016,
          -24.556529998779297,
          -21.23649024963379,
          -17.009777069091797,
          -0.1207062304019928,
          3.1376726627349854,
          3.6705093383789062,
          -21.86030387878418,
          -7.553838729858398,
          -2.8230741024017334,
          -12.893564224243164,
          -24.710790634155273,
          -25.944011688232422,
          -3.5757291316986084,
          -13.97249984741211,
          -2.6795194149017334,
          -13.806923866271973,
          3.044490098953247,
          -19.70357322692871,
          -6.343128681182861,
          -25.418601989746094
         ],
         "yaxis": "y"
        },
        {
         "customdata": [
          [
           "FN-Chordmachine-KEY",
           "Pianos & Keyboards"
          ],
          [
           "FN-Easy Keys",
           "Pianos & Keyboards"
          ],
          [
           "FN-Chordmachine II-KEY",
           "Pianos & Keyboards"
          ],
          [
           "FN-Small Keys-KEY",
           "Pianos & Keyboards"
          ],
          [
           "FN-Low Keys-KEY",
           "Pianos & Keyboards"
          ],
          [
           "PNO Piano 2 FMR",
           "Pianos & Keyboards"
          ],
          [
           "PNO Another E P FMR",
           "Pianos & Keyboards"
          ],
          [
           "PNO Classic E P FMR",
           "Pianos & Keyboards"
          ],
          [
           "PNO Sweet Tines FMR",
           "Pianos & Keyboards"
          ],
          [
           "PNO Piano 1 FMR",
           "Pianos & Keyboards"
          ],
          [
           "PNO Mellow Piano FMR",
           "Pianos & Keyboards"
          ],
          [
           "PNO Bright Rhodes FMR",
           "Pianos & Keyboards"
          ],
          [
           "SYN Fluctuation Keys FMR",
           "Pianos & Keyboards"
          ],
          [
           "KBD Celesta FMR",
           "Pianos & Keyboards"
          ],
          [
           "KBD Funk B FMR",
           "Pianos & Keyboards"
          ],
          [
           "KBD Harpsichord 1 FMR",
           "Pianos & Keyboards"
          ],
          [
           "KBD Harpsichord 2 FMR",
           "Pianos & Keyboards"
          ],
          [
           "KBD Funk A FMR",
           "Pianos & Keyboards"
          ],
          [
           "KBD Classic Clavinet FMR",
           "Pianos & Keyboards"
          ],
          [
           "KBD Clavichord 2 FMR",
           "Pianos & Keyboards"
          ],
          [
           "KBD Clavichord 1 FMR",
           "Pianos & Keyboards"
          ],
          [
           "KBD Synthi Clavinet FMR",
           "Pianos & Keyboards"
          ],
          [
           "25 Harpsichord 1",
           "Pianos & Keyboards"
          ],
          [
           "23 Celesta",
           "Pianos & Keyboards"
          ],
          [
           "34 Clavichord 2",
           "Pianos & Keyboards"
          ],
          [
           "22 Piano 2",
           "Pianos & Keyboards"
          ],
          [
           "33 Clavichord 1",
           "Pianos & Keyboards"
          ],
          [
           "21 Piano 1",
           "Pianos & Keyboards"
          ],
          [
           "26 Harpsichord 2",
           "Pianos & Keyboards"
          ],
          [
           "24 Mellow Piano",
           "Pianos & Keyboards"
          ]
         ],
         "hovertemplate": "Preset Name: %{customdata[0]}<br>Categorized Name: %{customdata[1]}",
         "legendgroup": "Pianos & Keyboards",
         "marker": {
          "color": "#19d3f3",
          "symbol": "circle"
         },
         "mode": "markers",
         "name": "Pianos & Keyboards",
         "orientation": "v",
         "showlegend": true,
         "type": "scatter",
         "x": [
          -9.379986763000488,
          -11.822258949279785,
          -9.759228706359863,
          -9.243035316467285,
          -4.77108907699585,
          8.939804077148438,
          -12.42230224609375,
          -4.961901664733887,
          -11.993197441101074,
          10.898971557617188,
          -11.70364761352539,
          -5.817854404449463,
          -13.510970115661621,
          -6.415192604064941,
          13.269061088562012,
          13.10836410522461,
          9.442269325256348,
          14.054606437683105,
          6.080564498901367,
          12.256257057189941,
          7.3943352699279785,
          9.638484001159668,
          4.970400810241699,
          -4.63361930847168,
          0.16506774723529816,
          2.8916568756103516,
          3.095339298248291,
          2.6450483798980713,
          -8.010543823242188,
          -4.927551746368408
         ],
         "xaxis": "x",
         "y": [
          -13.16825008392334,
          -20.218442916870117,
          -13.885149955749512,
          -18.1856632232666,
          -4.487382888793945,
          -1.1730096340179443,
          -13.904742240905762,
          -5.696808338165283,
          -12.814953804016113,
          7.508305072784424,
          -13.474275588989258,
          -4.754271984100342,
          -20.174663543701172,
          -2.5140867233276367,
          -0.5061782002449036,
          4.3828630447387695,
          -8.098003387451172,
          5.38622522354126,
          -2.6507914066314697,
          5.247751235961914,
          15.406947135925293,
          -0.18538278341293335,
          17.30184555053711,
          3.752218246459961,
          22.899383544921875,
          24.49775505065918,
          19.9384765625,
          19.985641479492188,
          -7.788759708404541,
          0.7883956432342529
         ],
         "yaxis": "y"
        },
        {
         "customdata": [
          [
           "STR String Machine FMR",
           "Strings"
          ],
          [
           "STR PWM Strings 2 FMR",
           "Strings"
          ],
          [
           "STR Strings 1 FMR",
           "Strings"
          ],
          [
           "STR Eminent Strings FMR",
           "Strings"
          ],
          [
           "STR Strings 2 FMR",
           "Strings"
          ],
          [
           "STR PWM Strings 1 FMR",
           "Strings"
          ],
          [
           "STR Spartacus VI FMR",
           "Strings"
          ],
          [
           "STR String Ensemble FMR",
           "Strings"
          ],
          [
           "STR Prophet Strings FMR",
           "Strings"
          ],
          [
           "STR Soft Strings FMR",
           "Strings"
          ],
          [
           "STR Low Strings FMR",
           "Strings"
          ],
          [
           "STR Full Strings FMR",
           "Strings"
          ],
          [
           "STR Spartacus VII FMR",
           "Strings"
          ],
          [
           "STR Strings 3 FMR",
           "Strings"
          ],
          [
           "11 Strings 1",
           "Strings"
          ],
          [
           "41 Violine",
           "Strings"
          ],
          [
           "12 Strings 2",
           "Strings"
          ],
          [
           "13 Strings 3",
           "Strings"
          ]
         ],
         "hovertemplate": "Preset Name: %{customdata[0]}<br>Categorized Name: %{customdata[1]}",
         "legendgroup": "Strings",
         "marker": {
          "color": "#FF6692",
          "symbol": "circle"
         },
         "mode": "markers",
         "name": "Strings",
         "orientation": "v",
         "showlegend": true,
         "type": "scatter",
         "x": [
          -12.040162086486816,
          -6.809732437133789,
          -8.339422225952148,
          -11.660184860229492,
          -8.297200202941895,
          -11.010394096374512,
          -12.221795082092285,
          -11.390035629272461,
          3.52886962890625,
          -9.420857429504395,
          -13.205632209777832,
          -10.862051963806152,
          -12.39866828918457,
          -13.090490341186523,
          -7.058705806732178,
          4.321565628051758,
          -7.4579057693481445,
          -9.14046859741211
         ],
         "xaxis": "x",
         "y": [
          -26.65052604675293,
          -16.4522705078125,
          -13.045167922973633,
          -24.641202926635742,
          -14.03169059753418,
          -22.613229751586914,
          -24.357215881347656,
          -26.698102951049805,
          -2.449052333831787,
          -3.5611929893493652,
          -16.876455307006836,
          -25.388566970825195,
          -25.295564651489258,
          -18.440494537353516,
          -13.222757339477539,
          -0.4646691381931305,
          -13.574773788452148,
          -6.48638916015625
         ],
         "yaxis": "y"
        },
        {
         "customdata": [
          [
           "WND English Horn FMR",
           "Brass & Woodwinds"
          ],
          [
           "WND Ocarina FMR",
           "Brass & Woodwinds"
          ],
          [
           "WND Flute 1 FMR",
           "Brass & Woodwinds"
          ],
          [
           "WND Flute 2 FMR",
           "Brass & Woodwinds"
          ],
          [
           "WND Pan Flute FMR",
           "Brass & Woodwinds"
          ],
          [
           "WND Oboe FMR",
           "Brass & Woodwinds"
          ],
          [
           "WND Clarinet FMR",
           "Brass & Woodwinds"
          ],
          [
           "WND Flauto Dolce FMR",
           "Brass & Woodwinds"
          ],
          [
           "BRS Brass 2 FMR",
           "Brass & Woodwinds"
          ],
          [
           "BRS French Horn FMR",
           "Brass & Woodwinds"
          ],
          [
           "BRS Brass Pad 1 FMR",
           "Brass & Woodwinds"
          ],
          [
           "BRS Tuba FMR",
           "Brass & Woodwinds"
          ],
          [
           "BRS Brass Pad 2 FMR",
           "Brass & Woodwinds"
          ],
          [
           "BRS Brass 1 FMR",
           "Brass & Woodwinds"
          ],
          [
           "BRS Low Brass FMR",
           "Brass & Woodwinds"
          ],
          [
           "BRS Phase Brass FMR",
           "Brass & Woodwinds"
          ],
          [
           "BRS Trumpet FMR",
           "Brass & Woodwinds"
          ],
          [
           "BRS Brass 3 FMR",
           "Brass & Woodwinds"
          ],
          [
           "BRS Prophet Brass FMR",
           "Brass & Woodwinds"
          ],
          [
           "BRS Brass Pad 3 FMR",
           "Brass & Woodwinds"
          ],
          [
           "SYN Wah Brass FMR",
           "Brass & Woodwinds"
          ],
          [
           "The Difference Trumpet Synth",
           "Brass & Woodwinds"
          ],
          [
           "17 Brass",
           "Brass & Woodwinds"
          ],
          [
           "46 Clarinet",
           "Brass & Woodwinds"
          ],
          [
           "45 Flute",
           "Brass & Woodwinds"
          ],
          [
           "52 Wah Brass",
           "Brass & Woodwinds"
          ],
          [
           "48 English Horn",
           "Brass & Woodwinds"
          ],
          [
           "47 Oboe",
           "Brass & Woodwinds"
          ],
          [
           "18 Phase Brass",
           "Brass & Woodwinds"
          ],
          [
           "43 Horn",
           "Brass & Woodwinds"
          ],
          [
           "42 Trumpet",
           "Brass & Woodwinds"
          ]
         ],
         "hovertemplate": "Preset Name: %{customdata[0]}<br>Categorized Name: %{customdata[1]}",
         "legendgroup": "Brass & Woodwinds",
         "marker": {
          "color": "#B6E880",
          "symbol": "circle"
         },
         "mode": "markers",
         "name": "Brass & Woodwinds",
         "orientation": "v",
         "showlegend": true,
         "type": "scatter",
         "x": [
          7.130746841430664,
          8.917230606079102,
          9.95343017578125,
          10.260688781738281,
          9.087215423583984,
          6.4738383293151855,
          7.322524070739746,
          8.396186828613281,
          -4.071117877960205,
          7.8526506423950195,
          -9.030862808227539,
          10.657225608825684,
          -12.149232864379883,
          11.830841064453125,
          -7.987298965454102,
          -5.4144368171691895,
          7.226184844970703,
          7.592884063720703,
          8.003436088562012,
          -10.855814933776855,
          9.635515213012695,
          -4.8371405601501465,
          1.566910743713379,
          2.3142457008361816,
          1.644694447517395,
          0.4418269097805023,
          1.2008423805236816,
          0.4225293695926666,
          6.193373203277588,
          1.42829430103302,
          1.0320565700531006
         ],
         "xaxis": "x",
         "y": [
          -3.896388530731201,
          6.519732475280762,
          -6.0719757080078125,
          -4.703286647796631,
          -7.108656883239746,
          -1.2352086305618286,
          -4.494069576263428,
          7.797587871551514,
          -12.357784271240234,
          9.241775512695312,
          -14.475018501281738,
          4.12425422668457,
          -19.26222801208496,
          3.106475830078125,
          -15.656122207641602,
          -12.765243530273438,
          14.808987617492676,
          -7.395204067230225,
          -7.938513278961182,
          -19.751955032348633,
          11.092240333557129,
          -4.221291542053223,
          22.249353408813477,
          19.369937896728516,
          24.27275848388672,
          23.984529495239258,
          20.768821716308594,
          22.41952896118164,
          16.607282638549805,
          24.89942741394043,
          23.354196548461914
         ],
         "yaxis": "y"
        },
        {
         "customdata": [
          [
           "GTR Overdrive Guitar FMR",
           "Guitars"
          ],
          [
           "GTR Chorused Ovation FMR",
           "Guitars"
          ],
          [
           "GTR Jazz Guitar FMR",
           "Guitars"
          ],
          [
           "GTR Steel String Guitar FMR",
           "Guitars"
          ],
          [
           "GTR Acoustic Guitar FMR",
           "Guitars"
          ],
          [
           "27 Guitar",
           "Guitars"
          ]
         ],
         "hovertemplate": "Preset Name: %{customdata[0]}<br>Categorized Name: %{customdata[1]}",
         "legendgroup": "Guitars",
         "marker": {
          "color": "#FF97FF",
          "symbol": "circle"
         },
         "mode": "markers",
         "name": "Guitars",
         "orientation": "v",
         "showlegend": true,
         "type": "scatter",
         "x": [
          10.474960327148438,
          -11.71342945098877,
          7.851442337036133,
          -10.565532684326172,
          -10.731938362121582,
          -9.109379768371582
         ],
         "xaxis": "x",
         "y": [
          -8.335277557373047,
          -18.475706100463867,
          13.247771263122559,
          -18.11762237548828,
          -12.803096771240234,
          -5.973293781280518
         ],
         "yaxis": "y"
        }
       ],
       "layout": {
        "height": 800,
        "legend": {
         "title": {
          "text": "Preset Categories"
         },
         "tracegroupgap": 0
        },
        "margin": {
         "t": 60
        },
        "showlegend": true,
        "template": {
         "data": {
          "bar": [
           {
            "error_x": {
             "color": "#2a3f5f"
            },
            "error_y": {
             "color": "#2a3f5f"
            },
            "marker": {
             "line": {
              "color": "#E5ECF6",
              "width": 0.5
             },
             "pattern": {
              "fillmode": "overlay",
              "size": 10,
              "solidity": 0.2
             }
            },
            "type": "bar"
           }
          ],
          "barpolar": [
           {
            "marker": {
             "line": {
              "color": "#E5ECF6",
              "width": 0.5
             },
             "pattern": {
              "fillmode": "overlay",
              "size": 10,
              "solidity": 0.2
             }
            },
            "type": "barpolar"
           }
          ],
          "carpet": [
           {
            "aaxis": {
             "endlinecolor": "#2a3f5f",
             "gridcolor": "white",
             "linecolor": "white",
             "minorgridcolor": "white",
             "startlinecolor": "#2a3f5f"
            },
            "baxis": {
             "endlinecolor": "#2a3f5f",
             "gridcolor": "white",
             "linecolor": "white",
             "minorgridcolor": "white",
             "startlinecolor": "#2a3f5f"
            },
            "type": "carpet"
           }
          ],
          "choropleth": [
           {
            "colorbar": {
             "outlinewidth": 0,
             "ticks": ""
            },
            "type": "choropleth"
           }
          ],
          "contour": [
           {
            "colorbar": {
             "outlinewidth": 0,
             "ticks": ""
            },
            "colorscale": [
             [
              0,
              "#0d0887"
             ],
             [
              0.1111111111111111,
              "#46039f"
             ],
             [
              0.2222222222222222,
              "#7201a8"
             ],
             [
              0.3333333333333333,
              "#9c179e"
             ],
             [
              0.4444444444444444,
              "#bd3786"
             ],
             [
              0.5555555555555556,
              "#d8576b"
             ],
             [
              0.6666666666666666,
              "#ed7953"
             ],
             [
              0.7777777777777778,
              "#fb9f3a"
             ],
             [
              0.8888888888888888,
              "#fdca26"
             ],
             [
              1,
              "#f0f921"
             ]
            ],
            "type": "contour"
           }
          ],
          "contourcarpet": [
           {
            "colorbar": {
             "outlinewidth": 0,
             "ticks": ""
            },
            "type": "contourcarpet"
           }
          ],
          "heatmap": [
           {
            "colorbar": {
             "outlinewidth": 0,
             "ticks": ""
            },
            "colorscale": [
             [
              0,
              "#0d0887"
             ],
             [
              0.1111111111111111,
              "#46039f"
             ],
             [
              0.2222222222222222,
              "#7201a8"
             ],
             [
              0.3333333333333333,
              "#9c179e"
             ],
             [
              0.4444444444444444,
              "#bd3786"
             ],
             [
              0.5555555555555556,
              "#d8576b"
             ],
             [
              0.6666666666666666,
              "#ed7953"
             ],
             [
              0.7777777777777778,
              "#fb9f3a"
             ],
             [
              0.8888888888888888,
              "#fdca26"
             ],
             [
              1,
              "#f0f921"
             ]
            ],
            "type": "heatmap"
           }
          ],
          "heatmapgl": [
           {
            "colorbar": {
             "outlinewidth": 0,
             "ticks": ""
            },
            "colorscale": [
             [
              0,
              "#0d0887"
             ],
             [
              0.1111111111111111,
              "#46039f"
             ],
             [
              0.2222222222222222,
              "#7201a8"
             ],
             [
              0.3333333333333333,
              "#9c179e"
             ],
             [
              0.4444444444444444,
              "#bd3786"
             ],
             [
              0.5555555555555556,
              "#d8576b"
             ],
             [
              0.6666666666666666,
              "#ed7953"
             ],
             [
              0.7777777777777778,
              "#fb9f3a"
             ],
             [
              0.8888888888888888,
              "#fdca26"
             ],
             [
              1,
              "#f0f921"
             ]
            ],
            "type": "heatmapgl"
           }
          ],
          "histogram": [
           {
            "marker": {
             "pattern": {
              "fillmode": "overlay",
              "size": 10,
              "solidity": 0.2
             }
            },
            "type": "histogram"
           }
          ],
          "histogram2d": [
           {
            "colorbar": {
             "outlinewidth": 0,
             "ticks": ""
            },
            "colorscale": [
             [
              0,
              "#0d0887"
             ],
             [
              0.1111111111111111,
              "#46039f"
             ],
             [
              0.2222222222222222,
              "#7201a8"
             ],
             [
              0.3333333333333333,
              "#9c179e"
             ],
             [
              0.4444444444444444,
              "#bd3786"
             ],
             [
              0.5555555555555556,
              "#d8576b"
             ],
             [
              0.6666666666666666,
              "#ed7953"
             ],
             [
              0.7777777777777778,
              "#fb9f3a"
             ],
             [
              0.8888888888888888,
              "#fdca26"
             ],
             [
              1,
              "#f0f921"
             ]
            ],
            "type": "histogram2d"
           }
          ],
          "histogram2dcontour": [
           {
            "colorbar": {
             "outlinewidth": 0,
             "ticks": ""
            },
            "colorscale": [
             [
              0,
              "#0d0887"
             ],
             [
              0.1111111111111111,
              "#46039f"
             ],
             [
              0.2222222222222222,
              "#7201a8"
             ],
             [
              0.3333333333333333,
              "#9c179e"
             ],
             [
              0.4444444444444444,
              "#bd3786"
             ],
             [
              0.5555555555555556,
              "#d8576b"
             ],
             [
              0.6666666666666666,
              "#ed7953"
             ],
             [
              0.7777777777777778,
              "#fb9f3a"
             ],
             [
              0.8888888888888888,
              "#fdca26"
             ],
             [
              1,
              "#f0f921"
             ]
            ],
            "type": "histogram2dcontour"
           }
          ],
          "mesh3d": [
           {
            "colorbar": {
             "outlinewidth": 0,
             "ticks": ""
            },
            "type": "mesh3d"
           }
          ],
          "parcoords": [
           {
            "line": {
             "colorbar": {
              "outlinewidth": 0,
              "ticks": ""
             }
            },
            "type": "parcoords"
           }
          ],
          "pie": [
           {
            "automargin": true,
            "type": "pie"
           }
          ],
          "scatter": [
           {
            "fillpattern": {
             "fillmode": "overlay",
             "size": 10,
             "solidity": 0.2
            },
            "type": "scatter"
           }
          ],
          "scatter3d": [
           {
            "line": {
             "colorbar": {
              "outlinewidth": 0,
              "ticks": ""
             }
            },
            "marker": {
             "colorbar": {
              "outlinewidth": 0,
              "ticks": ""
             }
            },
            "type": "scatter3d"
           }
          ],
          "scattercarpet": [
           {
            "marker": {
             "colorbar": {
              "outlinewidth": 0,
              "ticks": ""
             }
            },
            "type": "scattercarpet"
           }
          ],
          "scattergeo": [
           {
            "marker": {
             "colorbar": {
              "outlinewidth": 0,
              "ticks": ""
             }
            },
            "type": "scattergeo"
           }
          ],
          "scattergl": [
           {
            "marker": {
             "colorbar": {
              "outlinewidth": 0,
              "ticks": ""
             }
            },
            "type": "scattergl"
           }
          ],
          "scattermapbox": [
           {
            "marker": {
             "colorbar": {
              "outlinewidth": 0,
              "ticks": ""
             }
            },
            "type": "scattermapbox"
           }
          ],
          "scatterpolar": [
           {
            "marker": {
             "colorbar": {
              "outlinewidth": 0,
              "ticks": ""
             }
            },
            "type": "scatterpolar"
           }
          ],
          "scatterpolargl": [
           {
            "marker": {
             "colorbar": {
              "outlinewidth": 0,
              "ticks": ""
             }
            },
            "type": "scatterpolargl"
           }
          ],
          "scatterternary": [
           {
            "marker": {
             "colorbar": {
              "outlinewidth": 0,
              "ticks": ""
             }
            },
            "type": "scatterternary"
           }
          ],
          "surface": [
           {
            "colorbar": {
             "outlinewidth": 0,
             "ticks": ""
            },
            "colorscale": [
             [
              0,
              "#0d0887"
             ],
             [
              0.1111111111111111,
              "#46039f"
             ],
             [
              0.2222222222222222,
              "#7201a8"
             ],
             [
              0.3333333333333333,
              "#9c179e"
             ],
             [
              0.4444444444444444,
              "#bd3786"
             ],
             [
              0.5555555555555556,
              "#d8576b"
             ],
             [
              0.6666666666666666,
              "#ed7953"
             ],
             [
              0.7777777777777778,
              "#fb9f3a"
             ],
             [
              0.8888888888888888,
              "#fdca26"
             ],
             [
              1,
              "#f0f921"
             ]
            ],
            "type": "surface"
           }
          ],
          "table": [
           {
            "cells": {
             "fill": {
              "color": "#EBF0F8"
             },
             "line": {
              "color": "white"
             }
            },
            "header": {
             "fill": {
              "color": "#C8D4E3"
             },
             "line": {
              "color": "white"
             }
            },
            "type": "table"
           }
          ]
         },
         "layout": {
          "annotationdefaults": {
           "arrowcolor": "#2a3f5f",
           "arrowhead": 0,
           "arrowwidth": 1
          },
          "autotypenumbers": "strict",
          "coloraxis": {
           "colorbar": {
            "outlinewidth": 0,
            "ticks": ""
           }
          },
          "colorscale": {
           "diverging": [
            [
             0,
             "#8e0152"
            ],
            [
             0.1,
             "#c51b7d"
            ],
            [
             0.2,
             "#de77ae"
            ],
            [
             0.3,
             "#f1b6da"
            ],
            [
             0.4,
             "#fde0ef"
            ],
            [
             0.5,
             "#f7f7f7"
            ],
            [
             0.6,
             "#e6f5d0"
            ],
            [
             0.7,
             "#b8e186"
            ],
            [
             0.8,
             "#7fbc41"
            ],
            [
             0.9,
             "#4d9221"
            ],
            [
             1,
             "#276419"
            ]
           ],
           "sequential": [
            [
             0,
             "#0d0887"
            ],
            [
             0.1111111111111111,
             "#46039f"
            ],
            [
             0.2222222222222222,
             "#7201a8"
            ],
            [
             0.3333333333333333,
             "#9c179e"
            ],
            [
             0.4444444444444444,
             "#bd3786"
            ],
            [
             0.5555555555555556,
             "#d8576b"
            ],
            [
             0.6666666666666666,
             "#ed7953"
            ],
            [
             0.7777777777777778,
             "#fb9f3a"
            ],
            [
             0.8888888888888888,
             "#fdca26"
            ],
            [
             1,
             "#f0f921"
            ]
           ],
           "sequentialminus": [
            [
             0,
             "#0d0887"
            ],
            [
             0.1111111111111111,
             "#46039f"
            ],
            [
             0.2222222222222222,
             "#7201a8"
            ],
            [
             0.3333333333333333,
             "#9c179e"
            ],
            [
             0.4444444444444444,
             "#bd3786"
            ],
            [
             0.5555555555555556,
             "#d8576b"
            ],
            [
             0.6666666666666666,
             "#ed7953"
            ],
            [
             0.7777777777777778,
             "#fb9f3a"
            ],
            [
             0.8888888888888888,
             "#fdca26"
            ],
            [
             1,
             "#f0f921"
            ]
           ]
          },
          "colorway": [
           "#636efa",
           "#EF553B",
           "#00cc96",
           "#ab63fa",
           "#FFA15A",
           "#19d3f3",
           "#FF6692",
           "#B6E880",
           "#FF97FF",
           "#FECB52"
          ],
          "font": {
           "color": "#2a3f5f"
          },
          "geo": {
           "bgcolor": "white",
           "lakecolor": "white",
           "landcolor": "#E5ECF6",
           "showlakes": true,
           "showland": true,
           "subunitcolor": "white"
          },
          "hoverlabel": {
           "align": "left"
          },
          "hovermode": "closest",
          "mapbox": {
           "style": "light"
          },
          "paper_bgcolor": "white",
          "plot_bgcolor": "#E5ECF6",
          "polar": {
           "angularaxis": {
            "gridcolor": "white",
            "linecolor": "white",
            "ticks": ""
           },
           "bgcolor": "#E5ECF6",
           "radialaxis": {
            "gridcolor": "white",
            "linecolor": "white",
            "ticks": ""
           }
          },
          "scene": {
           "xaxis": {
            "backgroundcolor": "#E5ECF6",
            "gridcolor": "white",
            "gridwidth": 2,
            "linecolor": "white",
            "showbackground": true,
            "ticks": "",
            "zerolinecolor": "white"
           },
           "yaxis": {
            "backgroundcolor": "#E5ECF6",
            "gridcolor": "white",
            "gridwidth": 2,
            "linecolor": "white",
            "showbackground": true,
            "ticks": "",
            "zerolinecolor": "white"
           },
           "zaxis": {
            "backgroundcolor": "#E5ECF6",
            "gridcolor": "white",
            "gridwidth": 2,
            "linecolor": "white",
            "showbackground": true,
            "ticks": "",
            "zerolinecolor": "white"
           }
          },
          "shapedefaults": {
           "line": {
            "color": "#2a3f5f"
           }
          },
          "ternary": {
           "aaxis": {
            "gridcolor": "white",
            "linecolor": "white",
            "ticks": ""
           },
           "baxis": {
            "gridcolor": "white",
            "linecolor": "white",
            "ticks": ""
           },
           "bgcolor": "#E5ECF6",
           "caxis": {
            "gridcolor": "white",
            "linecolor": "white",
            "ticks": ""
           }
          },
          "title": {
           "x": 0.05
          },
          "xaxis": {
           "automargin": true,
           "gridcolor": "white",
           "linecolor": "white",
           "ticks": "",
           "title": {
            "standoff": 15
           },
           "zerolinecolor": "white",
           "zerolinewidth": 2
          },
          "yaxis": {
           "automargin": true,
           "gridcolor": "white",
           "linecolor": "white",
           "ticks": "",
           "title": {
            "standoff": 15
           },
           "zerolinecolor": "white",
           "zerolinewidth": 2
          }
         }
        },
        "title": {
         "text": "TSNE Visualization of Preset MFCC Embeddings"
        },
        "width": 800,
        "xaxis": {
         "anchor": "y",
         "domain": [
          0,
          1
         ],
         "range": [
          -16.88744888305664,
          16.865527725219724
         ],
         "title": {
          "text": "t-SNE Component 1"
         }
        },
        "yaxis": {
         "anchor": "x",
         "domain": [
          0,
          1
         ],
         "range": [
          -32.037723541259766,
          33.60625534057617
         ],
         "title": {
          "text": "t-SNE Component 2"
         }
        }
       }
      }
     },
     "metadata": {},
     "output_type": "display_data"
    }
   ],
   "source": [
    "## Create the TSNE Plot with plotly\n",
    "fig = px.scatter(df_filtered, x='x', y='y', color='categorized_name',hover_data=['preset_name', 'categorized_name'], width=800, height=800)\n",
    "\n",
    "# add a legend\n",
    "fig.update_layout(showlegend=True)\n",
    "\n",
    "# add a title\n",
    "fig.update_layout(title='TSNE Visualization of Preset MFCC Embeddings')\n",
    "\n",
    "# add a hover label\n",
    "fig.update_traces(hovertemplate='Preset Name: %{customdata[0]}<br>Categorized Name: %{customdata[1]}')\n",
    "\n",
    "# obtain the data bounds\n",
    "x_min = np.min(filtered_transformed_data[:, 0])*1.2\n",
    "x_max = np.max(filtered_transformed_data[:, 0])*1.2\n",
    "y_min = np.min(filtered_transformed_data[:, 1])*1.2\n",
    "y_max = np.max(filtered_transformed_data[:, 1])*1.2\n",
    "\n",
    "# add some extra info to the plot\n",
    "fig.update_layout(\n",
    "    width=800,\n",
    "    height=800,\n",
    "    xaxis_title='t-SNE Component 1',\n",
    "    yaxis_title='t-SNE Component 2',\n",
    "    legend_title='Preset Categories',\n",
    "    xaxis=dict(range=[x_min, x_max]),\n",
    "    yaxis=dict(range=[y_min, y_max]),\n",
    ")   \n",
    "\n",
    "# show the plot\n",
    "fig.show()"
   ]
  },
  {
   "cell_type": "code",
   "execution_count": 26,
   "metadata": {},
   "outputs": [
    {
     "name": "stderr",
     "output_type": "stream",
     "text": [
      "/var/folders/1h/qfss5lwn3jzdb7t8r1y63r9r0000gn/T/ipykernel_79742/3800795960.py:2: SettingWithCopyWarning:\n",
      "\n",
      "\n",
      "A value is trying to be set on a copy of a slice from a DataFrame.\n",
      "Try using .loc[row_indexer,col_indexer] = value instead\n",
      "\n",
      "See the caveats in the documentation: https://pandas.pydata.org/pandas-docs/stable/user_guide/indexing.html#returning-a-view-versus-a-copy\n",
      "\n"
     ]
    }
   ],
   "source": [
    "# convert the raw audio column to be np arrays\n",
    "df_filtered['raw_signal'] = [x.cpu().numpy() for x in df_filtered['raw_signal']]"
   ]
  },
  {
   "cell_type": "code",
   "execution_count": 28,
   "metadata": {},
   "outputs": [],
   "source": [
    "# Create the interactive scatter plot\n",
    "scatter_plot = create_custom_scatter(df, 'x', 'y', 'categorized_name', 'raw_signal')\n",
    "scatter_plot.show()"
   ]
  }
 ],
 "metadata": {
  "kernelspec": {
   "display_name": "Python 3.10.9 ('gass')",
   "language": "python",
   "name": "python3"
  },
  "language_info": {
   "codemirror_mode": {
    "name": "ipython",
    "version": 3
   },
   "file_extension": ".py",
   "mimetype": "text/x-python",
   "name": "python",
   "nbconvert_exporter": "python",
   "pygments_lexer": "ipython3",
   "version": "3.10.9"
  },
  "orig_nbformat": 4,
  "vscode": {
   "interpreter": {
    "hash": "6947268d801286644aa606ce5873de7c618a991e1c50a7cf64b46ea54e097eb2"
   }
  }
 },
 "nbformat": 4,
 "nbformat_minor": 2
}
