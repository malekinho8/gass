{
 "cells": [
  {
   "cell_type": "markdown",
   "metadata": {},
   "source": [
    "# Dataset Visualization Notebook (musicnn)\n",
    "\n",
    "---\n",
    "\n",
    "Author: **Malek Ibrahim**\n",
    "\n",
    "This notebooks seeks to create a TSNE plot of the preset dataset in their timbral space (musicnn timbral features). General steps are outlined below:\n",
    "\n",
    "1. Load the preset dataset file\n",
    "1. Categorize the presets\n",
    "1. Prepare the DataFrame\n",
    "1. Obtain the TSNE 2D embeddings from the higher-dimensional timbral features\n",
    "1. Plot the results!"
   ]
  },
  {
   "cell_type": "markdown",
   "metadata": {},
   "source": [
    "## Imports\n",
    "\n",
    "---\n",
    "\n",
    "For this script, we will need Pytorch to load the dataset, scikit-learn for the TSNE plot functionality, and also plotly to visualize the results."
   ]
  },
  {
   "cell_type": "code",
   "execution_count": 1,
   "metadata": {},
   "outputs": [],
   "source": [
    "import torch\n",
    "import numpy as np\n",
    "import plotly.graph_objects as go\n",
    "import plotly.express as px\n",
    "import matplotlib.pyplot as plt\n",
    "import pandas as pd\n",
    "import sys;sys.path.append('..')\n",
    "from sklearn.manifold import TSNE\n",
    "from src.utils import *"
   ]
  },
  {
   "cell_type": "markdown",
   "metadata": {},
   "source": [
    "## Load the Preset Dataset\n",
    "\n",
    "---\n",
    "\n",
    "Load the preset from the saved `.pt` file and inspect its structure."
   ]
  },
  {
   "cell_type": "code",
   "execution_count": 2,
   "metadata": {},
   "outputs": [],
   "source": [
    "dataset = torch.load('preset_dataset_musicnn.pt')"
   ]
  },
  {
   "cell_type": "code",
   "execution_count": 3,
   "metadata": {},
   "outputs": [
    {
     "data": {
      "text/plain": [
       "dict_keys(['preset_names', 'parameters', 'parameters_names', 'mapped_parameter_names', 'raw_audio', 'musicnn_features'])"
      ]
     },
     "execution_count": 3,
     "metadata": {},
     "output_type": "execute_result"
    }
   ],
   "source": [
    "dataset.keys()"
   ]
  },
  {
   "cell_type": "code",
   "execution_count": 4,
   "metadata": {},
   "outputs": [
    {
     "data": {
      "text/plain": [
       "['Default',\n",
       " 'MT Tailwhip Organ (2)',\n",
       " 'Super Jumper',\n",
       " 'Nice Filter Sweep',\n",
       " 'Chillin R2D2',\n",
       " 'Deep Drop In',\n",
       " 'Enter the Twirl',\n",
       " 'Water Love',\n",
       " 'Pulse Drop',\n",
       " 'Phasing Island Bass',\n",
       " 'Mono Pulse Bass',\n",
       " '08-15 Bass',\n",
       " 'Classic Saw Bass',\n",
       " 'Funky Mod Bass',\n",
       " 'Ultra Deep Bass',\n",
       " 'Basic Pad',\n",
       " 'Apollo Pad',\n",
       " 'Pulse Drop Pad',\n",
       " 'Self Destroy',\n",
       " 'Big Lead',\n",
       " 'Double Chorus Trancer',\n",
       " 'Super Funky Lead',\n",
       " 'Startup',\n",
       " 'Ugly One',\n",
       " 'Disharmonic feedback',\n",
       " 'Slow Phaser',\n",
       " 'Eso Drops',\n",
       " 'Dark Roads',\n",
       " 'Mellow LoFi Lead',\n",
       " 'Crystal Drops',\n",
       " 'Dream Arp',\n",
       " 'FN-Bassliner-BAS',\n",
       " 'FN-Dark Bass II-BAS',\n",
       " 'FN-Flow Bass-BAS',\n",
       " 'FN-High Noise-BAS',\n",
       " 'FN-Wobblelike Bass-BAS',\n",
       " 'FN-Dark Bass-BAS',\n",
       " 'FN-Nostalgic Bass-BAS',\n",
       " 'FN-C64ish Bass',\n",
       " 'FN-Basslover',\n",
       " 'FN-Bass Wobbler-BAS',\n",
       " 'FN-Wobblebass-BAS',\n",
       " 'FN-Dark Night-PAD',\n",
       " 'FN-Analog Feeling-PAD',\n",
       " 'FN-Blubberfeld-PAD',\n",
       " 'FN-Noisia-PAD',\n",
       " 'FN-Darpesh Pad-PAD',\n",
       " 'FN-Restless Night-PAD',\n",
       " 'FN-Analog Pad-PAD',\n",
       " 'FN-RollinSun-PAD',\n",
       " 'FN-Flowing Filter-PAD',\n",
       " 'FN-Experimental-PAD',\n",
       " 'FN-Keep It Noisy!',\n",
       " 'FN-Digital Feeling',\n",
       " 'FN-Analog Lead-FN',\n",
       " 'FN-Enjoy My C64',\n",
       " 'FN-Nostalgicer Lead-LEA',\n",
       " 'FN-Plastic Lead-LEA',\n",
       " 'FN-I Need Lead-LEA',\n",
       " 'FN-Easy Listening',\n",
       " 'FN-A Little Something-LEA',\n",
       " 'FN-Doubleplayer',\n",
       " 'FN-Free Willy-ARP',\n",
       " 'FN-Resonanzig',\n",
       " 'FN-Filter Lead-LEA',\n",
       " 'FN-Chordmachine-KEY',\n",
       " 'FN-Easy Keys',\n",
       " 'FN-Chordmachine II-KEY',\n",
       " 'FN-Small Keys-KEY',\n",
       " 'FN-Low Keys-KEY',\n",
       " 'FN-Backwards ARP',\n",
       " 'FN-Anastyle-ARP',\n",
       " 'FN-Percussive Plugger2-ARP',\n",
       " 'FN-Percussive Plugger-ARP',\n",
       " 'FN-Pluggiolator-ARP',\n",
       " 'FN-C64ish Arp',\n",
       " 'FN-Bass Lover-ARP',\n",
       " 'FN-Anastyle II-ARP',\n",
       " 'FN-One Finger Show-ARP',\n",
       " 'FN-Percussive Plugger3-ARP',\n",
       " 'FN-Rhytmic Noise-ARP',\n",
       " 'SFX UFO Landing FMR',\n",
       " 'SFX Surfing the Waves FMR',\n",
       " 'SFX Noise Bubbles FMR',\n",
       " 'SFX Space Sound 4 FMR',\n",
       " 'PNO Piano 2 FMR',\n",
       " 'PNO Another E P FMR',\n",
       " 'PNO Classic E P FMR',\n",
       " 'PNO Sweet Tines FMR',\n",
       " 'PNO Piano 1 FMR',\n",
       " 'PNO Mellow Piano FMR',\n",
       " 'PNO Bright Rhodes FMR',\n",
       " 'STR String Machine FMR',\n",
       " 'STR PWM Strings 2 FMR',\n",
       " 'STR Strings 1 FMR',\n",
       " 'STR Eminent Strings FMR',\n",
       " 'STR Strings 2 FMR',\n",
       " 'STR PWM Strings 1 FMR',\n",
       " 'STR Spartacus VI FMR',\n",
       " 'STR String Ensemble FMR',\n",
       " 'STR Prophet Strings FMR',\n",
       " 'STR Soft Strings FMR',\n",
       " 'STR Low Strings FMR',\n",
       " 'STR Full Strings FMR',\n",
       " 'STR Spartacus VII FMR',\n",
       " 'STR Strings 3 FMR',\n",
       " 'ORG Organ 2 FMR',\n",
       " 'ORG Another Organ FMR',\n",
       " 'ORG Spartacus IX FMR',\n",
       " 'ORG Jazz Organ FMR',\n",
       " 'ORG Spartacus XI FMR',\n",
       " 'ORG Spartacus XII FMR',\n",
       " 'ORG Church Organ Positive FMR',\n",
       " 'ORG Church Organ Gated FMR',\n",
       " 'ORG Organ 1 FMR',\n",
       " 'ORG Spartacus X FMR',\n",
       " 'ORG Church Organ Full Pipes 1 FMR',\n",
       " 'ORG Synthesizer Organ 2 FMR',\n",
       " 'ORG Organ 3 FMR',\n",
       " 'ORG Synthesizer Organ 1 FMR',\n",
       " 'ORG Church Organ Full Pipes 2 FMR',\n",
       " 'DRM Synth Drum 1 FMR',\n",
       " 'DRM Snare Gun FMR',\n",
       " 'DRM Snare Drum 2 FMR',\n",
       " 'DRM Kick Drum 3 FMR',\n",
       " 'DRM Ride Cymbal FMR',\n",
       " 'DRM Snare Drum 1 FMR',\n",
       " 'DRM Snare Drum 4 FMR',\n",
       " 'DRM Synth Drum 2 FMR',\n",
       " 'DRM Kick Drum 2 FMR',\n",
       " 'DRM Kick and Snap FMR',\n",
       " 'DRM Snare Drum 3 FMR',\n",
       " 'DRM Hi-Hat Opened FMR',\n",
       " 'DRM Crash Cymbal FMR',\n",
       " 'DRM Synth Drum 3 FMR',\n",
       " 'DRM Kick Drum and Toms FMR',\n",
       " 'DRM Hi-Hat Closed FMR',\n",
       " 'DRM Kick Drum 1 FMR',\n",
       " 'WND English Horn FMR',\n",
       " 'WND Ocarina FMR',\n",
       " 'WND Flute 1 FMR',\n",
       " 'WND Flute 2 FMR',\n",
       " 'WND Pan Flute FMR',\n",
       " 'WND Oboe FMR',\n",
       " 'WND Clarinet FMR',\n",
       " 'WND Flauto Dolce FMR',\n",
       " 'GTR Overdrive Guitar FMR',\n",
       " 'GTR Chorused Ovation FMR',\n",
       " 'GTR Jazz Guitar FMR',\n",
       " 'GTR Steel String Guitar FMR',\n",
       " 'GTR Acoustic Guitar FMR',\n",
       " 'BRS Brass 2 FMR',\n",
       " 'BRS French Horn FMR',\n",
       " 'BRS Brass Pad 1 FMR',\n",
       " 'BRS Tuba FMR',\n",
       " 'BRS Brass Pad 2 FMR',\n",
       " 'BRS Brass 1 FMR',\n",
       " 'BRS Low Brass FMR',\n",
       " 'BRS Phase Brass FMR',\n",
       " 'BRS Trumpet FMR',\n",
       " 'BRS Brass 3 FMR',\n",
       " 'BRS Prophet Brass FMR',\n",
       " 'BRS Brass Pad 3 FMR',\n",
       " 'BAS Square Bass FMR',\n",
       " 'BAS Pulse Bass 1 FMR',\n",
       " 'BAS Acid Bass 2 FMR',\n",
       " 'BAS Acid Bass 1 FMR',\n",
       " 'BAS Acid Bass 4 FMR',\n",
       " 'BAS Pulse Bass 2 FMR',\n",
       " 'BAS Round Bass 2 FMR',\n",
       " 'BAS Synth Bass 2 FMR',\n",
       " 'BAS Acid Bass 3 FMR',\n",
       " 'BAS Wire Bass FMR',\n",
       " 'BAS Love Bass FMR',\n",
       " 'BAS Hooverish Bass FMR',\n",
       " 'BAS Basso Profondo FMR',\n",
       " 'BAS Synth Bass 1 FMR',\n",
       " 'BAS Round Bass 1 FMR',\n",
       " 'PAD Rise the Pulse FMR',\n",
       " 'PAD Spartacus I FMR',\n",
       " 'PAD Spartacus V FMR',\n",
       " 'PAD Reso Pad FMR',\n",
       " 'PAD Metal Rotor Pad FMR',\n",
       " 'PAD Classic Sweep Pad FMR',\n",
       " 'PAD Dive Into The Deep FMR',\n",
       " 'PAD Meditation Pad 3 FMR',\n",
       " 'PAD Forever Pad FMR',\n",
       " 'PAD Hoiy Mass FMR',\n",
       " 'PAD Woosh Pad FMR',\n",
       " 'PAD Massive Pad 1 FMR',\n",
       " 'PAD Big Synth Pad 2 FMR',\n",
       " 'PAD This Is It FMR',\n",
       " 'PAD Meditation Pad 1 FMR',\n",
       " 'PAD Chariots VG Brass FMR',\n",
       " 'PAD Bass Pad FMR',\n",
       " 'PAD PWM Pad FMR',\n",
       " 'PAD Meditation Pad 2 FMR',\n",
       " 'PAD Big Synth Pad 1 FMR',\n",
       " 'PAD Massive Pad 2 FMR',\n",
       " 'PAD High Res Pad FMR',\n",
       " 'PRC Chiff Attack FMR',\n",
       " 'PRC Percussion 2 FMR',\n",
       " 'PRC Thump Bass Drum FMR',\n",
       " 'PRC Percussion 1 FMR',\n",
       " 'PRC Percussion 4 FMR',\n",
       " 'PRC Xylophone FMR',\n",
       " 'PRC Synth Gamelan FMR',\n",
       " 'PRC Dual SynRes Percussion FMR',\n",
       " 'PRC Percussion 3 FMR',\n",
       " 'PRC Popcorn FMR',\n",
       " 'PRC Pizzicato Sound 2 FMR',\n",
       " 'PRC Clicks FMR',\n",
       " 'PRC Pizzicato Sound 1 FMR',\n",
       " 'PRC Crystal Bells FMR',\n",
       " 'PRC Glockenspiel FMR',\n",
       " 'PRC Steel Drum FMR',\n",
       " 'PRC The Tech Pluck FMR',\n",
       " 'SYN Harpsynth Poly FMR',\n",
       " 'SYN Phase Combination FMR',\n",
       " 'SYN Raw Saw-Sub FMR',\n",
       " 'SYN Please Release Me FMR',\n",
       " 'SYN Slow Polysynth FMR',\n",
       " 'SYN Percussive Polysynth FMR',\n",
       " 'SYN VH Jump FMR',\n",
       " 'SYN PWM FMR',\n",
       " 'SYN PWM Chorus C FMR',\n",
       " 'SYN Space Harp FMR',\n",
       " 'SYN Dreamy Poly FMR',\n",
       " 'SYN Reed 2 FMR',\n",
       " 'SYN Gated Bright Synth FMR',\n",
       " 'SYN PWM Sound FMR',\n",
       " 'SYN Chariots VG Harp FMR',\n",
       " 'SYN PWM Chorus B FMR',\n",
       " 'SYN Raw Saw-Square FMR',\n",
       " 'SYN Synthesizer Harp FMR',\n",
       " 'SYN Synth Harp LFO FMR',\n",
       " 'SYN Dynamic Polysynth FMR',\n",
       " 'SYN Wah Brass FMR',\n",
       " 'SYN Harpe Laser FMR',\n",
       " 'SYN Fluctuation Keys FMR',\n",
       " 'LED Big Lead 2 FMR',\n",
       " 'LED Sing Like a Cat FMR',\n",
       " 'LED Spartacus III FMR',\n",
       " 'LED Calliope FMR',\n",
       " 'LED Spartacus IV FMR',\n",
       " 'LED Spartacus II FMR',\n",
       " 'LED Reed 1 FMR',\n",
       " 'LED Big Lead 1 FMR',\n",
       " 'LED Flutey Vibrato Solo FMR',\n",
       " 'LED Silk Road Lead FMR',\n",
       " 'LED Reed 3 FMR',\n",
       " 'LED PWM Lead FMR',\n",
       " 'LED Violin FMR',\n",
       " 'LED Square Lead FMR',\n",
       " 'LED Meeaow Lead FMR',\n",
       " 'LED LFO Lead FMR',\n",
       " 'LED Tin Whistle FMR',\n",
       " 'DRN Deep Drone FMR',\n",
       " 'DRN LFO and Echo Drone FMR',\n",
       " 'DRN Waving Bass Drone FMR',\n",
       " 'DRN JX-3P Drone FMR',\n",
       " 'DRN Sequence Like Drone FMR',\n",
       " 'CHO Church Choir FMR',\n",
       " 'CHO PWM Chorus A FMR',\n",
       " 'CHO Voice Chorus FMR',\n",
       " 'CHO Voice Chorus Too FMR',\n",
       " 'ARP Swinging Arpeggio FMR',\n",
       " 'ARP PWM LFO Arpeggio FMR',\n",
       " 'ARP Bass Arpeggio FMR',\n",
       " 'ARP KS-TD Arpeggio FMR',\n",
       " 'ARP Play Just One Note FMR',\n",
       " 'ARP Random Arpeggiated PWM FMR',\n",
       " 'ARP String Machine Arpeggio FMR',\n",
       " 'ARP Ravers Arp FMR',\n",
       " 'ARP Cold Thinking Arpeggio FMR',\n",
       " 'ARP Berlin School Arpeggio FMR',\n",
       " 'ARP Wisteria Spot FMR',\n",
       " 'ARP Stringish Arp FMR',\n",
       " 'ARP Circles Arpeggio FMR',\n",
       " 'MFX Mysterious Invention FMR',\n",
       " 'MFX LFO and Echo FMR',\n",
       " 'MFX Space Sound 3 FMR',\n",
       " 'MFX Effect Sound Six FMR',\n",
       " 'MFX Effect Sound Three FMR',\n",
       " 'MFX Effect Sound Five FMR',\n",
       " 'MFX Space Sound 1 FMR',\n",
       " 'MFX Spartacus VIII FMR',\n",
       " 'MFX Effect Sound 76 FMR',\n",
       " 'MFX Low Harp Endless Tail FMR',\n",
       " 'MFX Effect Sound One FMR',\n",
       " 'MFX Effect Sound Four FMR',\n",
       " 'MFX Inverted Filter PWM FMR',\n",
       " 'MFX Space Sound 2 FMR',\n",
       " 'MFX Effect Sound Two FMR',\n",
       " 'MFX Effect Sound Seven FMR',\n",
       " 'KBD Celesta FMR',\n",
       " 'KBD Funk B FMR',\n",
       " 'KBD Harpsichord 1 FMR',\n",
       " 'KBD Harpsichord 2 FMR',\n",
       " 'KBD Funk A FMR',\n",
       " 'KBD Classic Clavinet FMR',\n",
       " 'KBD Clavichord 2 FMR',\n",
       " 'KBD Clavichord 1 FMR',\n",
       " 'KBD Synthi Clavinet FMR',\n",
       " 'The Difference Bass',\n",
       " 'The Difference Trumpet Synth',\n",
       " 'MT Norton Commander',\n",
       " 'MT Numb',\n",
       " 'MT Tailwhip Xylophone',\n",
       " 'MT Tailwhip Lead',\n",
       " 'MT Tailwhip Organ',\n",
       " '67 Mysterious Invention',\n",
       " '56 Reed 2',\n",
       " '63 Effect Sound 2',\n",
       " '57 Reed 3',\n",
       " '17 Brass',\n",
       " '54 Reed 1',\n",
       " '65 Funk',\n",
       " '25 Harpsichord 1',\n",
       " '62 Effect Sound 1',\n",
       " '73 Whistle',\n",
       " '23 Celesta',\n",
       " '28 Synthesizer Harp',\n",
       " '53 Phase Combination',\n",
       " '14 Organ 1',\n",
       " '64 Space Harp',\n",
       " '35 Pizzicato Sound 1',\n",
       " '71 Percussive Sound 1',\n",
       " '11 Strings 1',\n",
       " '44 Tuba',\n",
       " '41 Violine',\n",
       " '46 Clarinet',\n",
       " '12 Strings 2',\n",
       " '45 Flute',\n",
       " '58 PWM Chorus',\n",
       " '34 Clavichord 2',\n",
       " '13 Strings 3',\n",
       " '22 Piano 2',\n",
       " '15 Organ 2',\n",
       " '52 Wah Brass',\n",
       " '68 Space Sound 2',\n",
       " '51 Funny Cat',\n",
       " '33 Clavichord 1',\n",
       " '48 English Horn',\n",
       " '21 Piano 1',\n",
       " '38 Glockenspiel',\n",
       " '61 Synthesizer Organ',\n",
       " '78 Synthesizer Drum',\n",
       " '74 Effect Sound 3',\n",
       " '47 Oboe',\n",
       " '36 Pizzicato Sound 2',\n",
       " '76 Space Sound 3',\n",
       " '18 Phase Brass',\n",
       " '32 Bass 2',\n",
       " '31 Bass 1',\n",
       " '77 Surf',\n",
       " '72 Percussive Sound 2',\n",
       " '27 Guitar',\n",
       " '66 Space Sound 1',\n",
       " '37 Xylophone',\n",
       " '43 Horn',\n",
       " '26 Harpsichord 2',\n",
       " '24 Mellow Piano',\n",
       " '42 Trumpet',\n",
       " '16 Organ 3',\n",
       " '75 UFO',\n",
       " '55 Popcorn']"
      ]
     },
     "execution_count": 4,
     "metadata": {},
     "output_type": "execute_result"
    }
   ],
   "source": [
    "dataset['preset_names']"
   ]
  },
  {
   "cell_type": "code",
   "execution_count": 5,
   "metadata": {},
   "outputs": [],
   "source": [
    "# we need to convert the preset names to a categorical variable in order to group the points in the scatter plot\n",
    "categorized_names = {name: categorize_name(name) for name in dataset['preset_names']}"
   ]
  },
  {
   "cell_type": "code",
   "execution_count": 6,
   "metadata": {},
   "outputs": [
    {
     "data": {
      "text/plain": [
       "{'Default': 'Miscellaneous/Other',\n",
       " 'MT Tailwhip Organ (2)': 'Organs',\n",
       " 'Super Jumper': 'Miscellaneous/Other',\n",
       " 'Nice Filter Sweep': 'Miscellaneous/Other',\n",
       " 'Chillin R2D2': 'Miscellaneous/Other',\n",
       " 'Deep Drop In': 'Miscellaneous/Other',\n",
       " 'Enter the Twirl': 'Miscellaneous/Other',\n",
       " 'Water Love': 'Miscellaneous/Other',\n",
       " 'Pulse Drop': 'Miscellaneous/Other',\n",
       " 'Phasing Island Bass': 'Bass',\n",
       " 'Mono Pulse Bass': 'Bass',\n",
       " '08-15 Bass': 'Bass',\n",
       " 'Classic Saw Bass': 'Bass',\n",
       " 'Funky Mod Bass': 'Bass',\n",
       " 'Ultra Deep Bass': 'Bass',\n",
       " 'Basic Pad': 'Miscellaneous/Other',\n",
       " 'Apollo Pad': 'Miscellaneous/Other',\n",
       " 'Pulse Drop Pad': 'Miscellaneous/Other',\n",
       " 'Self Destroy': 'Miscellaneous/Other',\n",
       " 'Big Lead': 'Leads',\n",
       " 'Double Chorus Trancer': 'Miscellaneous/Other',\n",
       " 'Super Funky Lead': 'Leads',\n",
       " 'Startup': 'Miscellaneous/Other',\n",
       " 'Ugly One': 'Miscellaneous/Other',\n",
       " 'Disharmonic feedback': 'Miscellaneous/Other',\n",
       " 'Slow Phaser': 'Miscellaneous/Other',\n",
       " 'Eso Drops': 'Miscellaneous/Other',\n",
       " 'Dark Roads': 'Miscellaneous/Other',\n",
       " 'Mellow LoFi Lead': 'Leads',\n",
       " 'Crystal Drops': 'Miscellaneous/Other',\n",
       " 'Dream Arp': 'Arpeggios',\n",
       " 'FN-Bassliner-BAS': 'Bass',\n",
       " 'FN-Dark Bass II-BAS': 'Bass',\n",
       " 'FN-Flow Bass-BAS': 'Bass',\n",
       " 'FN-High Noise-BAS': 'Bass',\n",
       " 'FN-Wobblelike Bass-BAS': 'Bass',\n",
       " 'FN-Dark Bass-BAS': 'Bass',\n",
       " 'FN-Nostalgic Bass-BAS': 'Bass',\n",
       " 'FN-C64ish Bass': 'Bass',\n",
       " 'FN-Basslover': 'Bass',\n",
       " 'FN-Bass Wobbler-BAS': 'Bass',\n",
       " 'FN-Wobblebass-BAS': 'Bass',\n",
       " 'FN-Dark Night-PAD': 'Synth Pads',\n",
       " 'FN-Analog Feeling-PAD': 'Synth Pads',\n",
       " 'FN-Blubberfeld-PAD': 'Synth Pads',\n",
       " 'FN-Noisia-PAD': 'Synth Pads',\n",
       " 'FN-Darpesh Pad-PAD': 'Synth Pads',\n",
       " 'FN-Restless Night-PAD': 'Synth Pads',\n",
       " 'FN-Analog Pad-PAD': 'Synth Pads',\n",
       " 'FN-RollinSun-PAD': 'Synth Pads',\n",
       " 'FN-Flowing Filter-PAD': 'Synth Pads',\n",
       " 'FN-Experimental-PAD': 'Synth Pads',\n",
       " 'FN-Keep It Noisy!': 'Miscellaneous/Other',\n",
       " 'FN-Digital Feeling': 'Miscellaneous/Other',\n",
       " 'FN-Analog Lead-FN': 'Leads',\n",
       " 'FN-Enjoy My C64': 'Miscellaneous/Other',\n",
       " 'FN-Nostalgicer Lead-LEA': 'Leads',\n",
       " 'FN-Plastic Lead-LEA': 'Leads',\n",
       " 'FN-I Need Lead-LEA': 'Leads',\n",
       " 'FN-Easy Listening': 'Miscellaneous/Other',\n",
       " 'FN-A Little Something-LEA': 'Miscellaneous/Other',\n",
       " 'FN-Doubleplayer': 'Miscellaneous/Other',\n",
       " 'FN-Free Willy-ARP': 'Arpeggios',\n",
       " 'FN-Resonanzig': 'Miscellaneous/Other',\n",
       " 'FN-Filter Lead-LEA': 'Leads',\n",
       " 'FN-Chordmachine-KEY': 'Pianos & Keyboards',\n",
       " 'FN-Easy Keys': 'Pianos & Keyboards',\n",
       " 'FN-Chordmachine II-KEY': 'Pianos & Keyboards',\n",
       " 'FN-Small Keys-KEY': 'Pianos & Keyboards',\n",
       " 'FN-Low Keys-KEY': 'Pianos & Keyboards',\n",
       " 'FN-Backwards ARP': 'Arpeggios',\n",
       " 'FN-Anastyle-ARP': 'Arpeggios',\n",
       " 'FN-Percussive Plugger2-ARP': 'Arpeggios',\n",
       " 'FN-Percussive Plugger-ARP': 'Arpeggios',\n",
       " 'FN-Pluggiolator-ARP': 'Arpeggios',\n",
       " 'FN-C64ish Arp': 'Arpeggios',\n",
       " 'FN-Bass Lover-ARP': 'Bass',\n",
       " 'FN-Anastyle II-ARP': 'Arpeggios',\n",
       " 'FN-One Finger Show-ARP': 'Arpeggios',\n",
       " 'FN-Percussive Plugger3-ARP': 'Arpeggios',\n",
       " 'FN-Rhytmic Noise-ARP': 'Arpeggios',\n",
       " 'SFX UFO Landing FMR': 'Miscellaneous/Other',\n",
       " 'SFX Surfing the Waves FMR': 'Miscellaneous/Other',\n",
       " 'SFX Noise Bubbles FMR': 'Miscellaneous/Other',\n",
       " 'SFX Space Sound 4 FMR': 'Miscellaneous/Other',\n",
       " 'PNO Piano 2 FMR': 'Pianos & Keyboards',\n",
       " 'PNO Another E P FMR': 'Pianos & Keyboards',\n",
       " 'PNO Classic E P FMR': 'Pianos & Keyboards',\n",
       " 'PNO Sweet Tines FMR': 'Pianos & Keyboards',\n",
       " 'PNO Piano 1 FMR': 'Pianos & Keyboards',\n",
       " 'PNO Mellow Piano FMR': 'Pianos & Keyboards',\n",
       " 'PNO Bright Rhodes FMR': 'Pianos & Keyboards',\n",
       " 'STR String Machine FMR': 'Strings',\n",
       " 'STR PWM Strings 2 FMR': 'Strings',\n",
       " 'STR Strings 1 FMR': 'Strings',\n",
       " 'STR Eminent Strings FMR': 'Strings',\n",
       " 'STR Strings 2 FMR': 'Strings',\n",
       " 'STR PWM Strings 1 FMR': 'Strings',\n",
       " 'STR Spartacus VI FMR': 'Strings',\n",
       " 'STR String Ensemble FMR': 'Strings',\n",
       " 'STR Prophet Strings FMR': 'Strings',\n",
       " 'STR Soft Strings FMR': 'Strings',\n",
       " 'STR Low Strings FMR': 'Strings',\n",
       " 'STR Full Strings FMR': 'Strings',\n",
       " 'STR Spartacus VII FMR': 'Strings',\n",
       " 'STR Strings 3 FMR': 'Strings',\n",
       " 'ORG Organ 2 FMR': 'Organs',\n",
       " 'ORG Another Organ FMR': 'Organs',\n",
       " 'ORG Spartacus IX FMR': 'Organs',\n",
       " 'ORG Jazz Organ FMR': 'Organs',\n",
       " 'ORG Spartacus XI FMR': 'Organs',\n",
       " 'ORG Spartacus XII FMR': 'Organs',\n",
       " 'ORG Church Organ Positive FMR': 'Organs',\n",
       " 'ORG Church Organ Gated FMR': 'Organs',\n",
       " 'ORG Organ 1 FMR': 'Organs',\n",
       " 'ORG Spartacus X FMR': 'Organs',\n",
       " 'ORG Church Organ Full Pipes 1 FMR': 'Organs',\n",
       " 'ORG Synthesizer Organ 2 FMR': 'Organs',\n",
       " 'ORG Organ 3 FMR': 'Organs',\n",
       " 'ORG Synthesizer Organ 1 FMR': 'Organs',\n",
       " 'ORG Church Organ Full Pipes 2 FMR': 'Organs',\n",
       " 'DRM Synth Drum 1 FMR': 'Miscellaneous/Other',\n",
       " 'DRM Snare Gun FMR': 'Miscellaneous/Other',\n",
       " 'DRM Snare Drum 2 FMR': 'Miscellaneous/Other',\n",
       " 'DRM Kick Drum 3 FMR': 'Miscellaneous/Other',\n",
       " 'DRM Ride Cymbal FMR': 'Miscellaneous/Other',\n",
       " 'DRM Snare Drum 1 FMR': 'Miscellaneous/Other',\n",
       " 'DRM Snare Drum 4 FMR': 'Miscellaneous/Other',\n",
       " 'DRM Synth Drum 2 FMR': 'Miscellaneous/Other',\n",
       " 'DRM Kick Drum 2 FMR': 'Miscellaneous/Other',\n",
       " 'DRM Kick and Snap FMR': 'Miscellaneous/Other',\n",
       " 'DRM Snare Drum 3 FMR': 'Miscellaneous/Other',\n",
       " 'DRM Hi-Hat Opened FMR': 'Miscellaneous/Other',\n",
       " 'DRM Crash Cymbal FMR': 'Miscellaneous/Other',\n",
       " 'DRM Synth Drum 3 FMR': 'Miscellaneous/Other',\n",
       " 'DRM Kick Drum and Toms FMR': 'Miscellaneous/Other',\n",
       " 'DRM Hi-Hat Closed FMR': 'Miscellaneous/Other',\n",
       " 'DRM Kick Drum 1 FMR': 'Miscellaneous/Other',\n",
       " 'WND English Horn FMR': 'Brass & Woodwinds',\n",
       " 'WND Ocarina FMR': 'Brass & Woodwinds',\n",
       " 'WND Flute 1 FMR': 'Brass & Woodwinds',\n",
       " 'WND Flute 2 FMR': 'Brass & Woodwinds',\n",
       " 'WND Pan Flute FMR': 'Brass & Woodwinds',\n",
       " 'WND Oboe FMR': 'Brass & Woodwinds',\n",
       " 'WND Clarinet FMR': 'Brass & Woodwinds',\n",
       " 'WND Flauto Dolce FMR': 'Brass & Woodwinds',\n",
       " 'GTR Overdrive Guitar FMR': 'Guitars',\n",
       " 'GTR Chorused Ovation FMR': 'Guitars',\n",
       " 'GTR Jazz Guitar FMR': 'Guitars',\n",
       " 'GTR Steel String Guitar FMR': 'Guitars',\n",
       " 'GTR Acoustic Guitar FMR': 'Guitars',\n",
       " 'BRS Brass 2 FMR': 'Brass & Woodwinds',\n",
       " 'BRS French Horn FMR': 'Brass & Woodwinds',\n",
       " 'BRS Brass Pad 1 FMR': 'Brass & Woodwinds',\n",
       " 'BRS Tuba FMR': 'Brass & Woodwinds',\n",
       " 'BRS Brass Pad 2 FMR': 'Brass & Woodwinds',\n",
       " 'BRS Brass 1 FMR': 'Brass & Woodwinds',\n",
       " 'BRS Low Brass FMR': 'Brass & Woodwinds',\n",
       " 'BRS Phase Brass FMR': 'Brass & Woodwinds',\n",
       " 'BRS Trumpet FMR': 'Brass & Woodwinds',\n",
       " 'BRS Brass 3 FMR': 'Brass & Woodwinds',\n",
       " 'BRS Prophet Brass FMR': 'Brass & Woodwinds',\n",
       " 'BRS Brass Pad 3 FMR': 'Brass & Woodwinds',\n",
       " 'BAS Square Bass FMR': 'Bass',\n",
       " 'BAS Pulse Bass 1 FMR': 'Bass',\n",
       " 'BAS Acid Bass 2 FMR': 'Bass',\n",
       " 'BAS Acid Bass 1 FMR': 'Bass',\n",
       " 'BAS Acid Bass 4 FMR': 'Bass',\n",
       " 'BAS Pulse Bass 2 FMR': 'Bass',\n",
       " 'BAS Round Bass 2 FMR': 'Bass',\n",
       " 'BAS Synth Bass 2 FMR': 'Bass',\n",
       " 'BAS Acid Bass 3 FMR': 'Bass',\n",
       " 'BAS Wire Bass FMR': 'Bass',\n",
       " 'BAS Love Bass FMR': 'Bass',\n",
       " 'BAS Hooverish Bass FMR': 'Bass',\n",
       " 'BAS Basso Profondo FMR': 'Bass',\n",
       " 'BAS Synth Bass 1 FMR': 'Bass',\n",
       " 'BAS Round Bass 1 FMR': 'Bass',\n",
       " 'PAD Rise the Pulse FMR': 'Synth Pads',\n",
       " 'PAD Spartacus I FMR': 'Synth Pads',\n",
       " 'PAD Spartacus V FMR': 'Synth Pads',\n",
       " 'PAD Reso Pad FMR': 'Synth Pads',\n",
       " 'PAD Metal Rotor Pad FMR': 'Synth Pads',\n",
       " 'PAD Classic Sweep Pad FMR': 'Synth Pads',\n",
       " 'PAD Dive Into The Deep FMR': 'Synth Pads',\n",
       " 'PAD Meditation Pad 3 FMR': 'Synth Pads',\n",
       " 'PAD Forever Pad FMR': 'Synth Pads',\n",
       " 'PAD Hoiy Mass FMR': 'Synth Pads',\n",
       " 'PAD Woosh Pad FMR': 'Synth Pads',\n",
       " 'PAD Massive Pad 1 FMR': 'Synth Pads',\n",
       " 'PAD Big Synth Pad 2 FMR': 'Synth Pads',\n",
       " 'PAD This Is It FMR': 'Synth Pads',\n",
       " 'PAD Meditation Pad 1 FMR': 'Synth Pads',\n",
       " 'PAD Chariots VG Brass FMR': 'Synth Pads',\n",
       " 'PAD Bass Pad FMR': 'Synth Pads',\n",
       " 'PAD PWM Pad FMR': 'Synth Pads',\n",
       " 'PAD Meditation Pad 2 FMR': 'Synth Pads',\n",
       " 'PAD Big Synth Pad 1 FMR': 'Synth Pads',\n",
       " 'PAD Massive Pad 2 FMR': 'Synth Pads',\n",
       " 'PAD High Res Pad FMR': 'Synth Pads',\n",
       " 'PRC Chiff Attack FMR': 'Miscellaneous/Other',\n",
       " 'PRC Percussion 2 FMR': 'Miscellaneous/Other',\n",
       " 'PRC Thump Bass Drum FMR': 'Bass',\n",
       " 'PRC Percussion 1 FMR': 'Miscellaneous/Other',\n",
       " 'PRC Percussion 4 FMR': 'Miscellaneous/Other',\n",
       " 'PRC Xylophone FMR': 'Miscellaneous/Other',\n",
       " 'PRC Synth Gamelan FMR': 'Miscellaneous/Other',\n",
       " 'PRC Dual SynRes Percussion FMR': 'Miscellaneous/Other',\n",
       " 'PRC Percussion 3 FMR': 'Miscellaneous/Other',\n",
       " 'PRC Popcorn FMR': 'Miscellaneous/Other',\n",
       " 'PRC Pizzicato Sound 2 FMR': 'Miscellaneous/Other',\n",
       " 'PRC Clicks FMR': 'Miscellaneous/Other',\n",
       " 'PRC Pizzicato Sound 1 FMR': 'Miscellaneous/Other',\n",
       " 'PRC Crystal Bells FMR': 'Miscellaneous/Other',\n",
       " 'PRC Glockenspiel FMR': 'Miscellaneous/Other',\n",
       " 'PRC Steel Drum FMR': 'Miscellaneous/Other',\n",
       " 'PRC The Tech Pluck FMR': 'Miscellaneous/Other',\n",
       " 'SYN Harpsynth Poly FMR': 'Miscellaneous/Other',\n",
       " 'SYN Phase Combination FMR': 'Miscellaneous/Other',\n",
       " 'SYN Raw Saw-Sub FMR': 'Miscellaneous/Other',\n",
       " 'SYN Please Release Me FMR': 'Miscellaneous/Other',\n",
       " 'SYN Slow Polysynth FMR': 'Miscellaneous/Other',\n",
       " 'SYN Percussive Polysynth FMR': 'Miscellaneous/Other',\n",
       " 'SYN VH Jump FMR': 'Miscellaneous/Other',\n",
       " 'SYN PWM FMR': 'Miscellaneous/Other',\n",
       " 'SYN PWM Chorus C FMR': 'Miscellaneous/Other',\n",
       " 'SYN Space Harp FMR': 'Miscellaneous/Other',\n",
       " 'SYN Dreamy Poly FMR': 'Miscellaneous/Other',\n",
       " 'SYN Reed 2 FMR': 'Miscellaneous/Other',\n",
       " 'SYN Gated Bright Synth FMR': 'Miscellaneous/Other',\n",
       " 'SYN PWM Sound FMR': 'Miscellaneous/Other',\n",
       " 'SYN Chariots VG Harp FMR': 'Miscellaneous/Other',\n",
       " 'SYN PWM Chorus B FMR': 'Miscellaneous/Other',\n",
       " 'SYN Raw Saw-Square FMR': 'Miscellaneous/Other',\n",
       " 'SYN Synthesizer Harp FMR': 'Miscellaneous/Other',\n",
       " 'SYN Synth Harp LFO FMR': 'Miscellaneous/Other',\n",
       " 'SYN Dynamic Polysynth FMR': 'Miscellaneous/Other',\n",
       " 'SYN Wah Brass FMR': 'Brass & Woodwinds',\n",
       " 'SYN Harpe Laser FMR': 'Miscellaneous/Other',\n",
       " 'SYN Fluctuation Keys FMR': 'Pianos & Keyboards',\n",
       " 'LED Big Lead 2 FMR': 'Leads',\n",
       " 'LED Sing Like a Cat FMR': 'Leads',\n",
       " 'LED Spartacus III FMR': 'Leads',\n",
       " 'LED Calliope FMR': 'Leads',\n",
       " 'LED Spartacus IV FMR': 'Leads',\n",
       " 'LED Spartacus II FMR': 'Leads',\n",
       " 'LED Reed 1 FMR': 'Leads',\n",
       " 'LED Big Lead 1 FMR': 'Leads',\n",
       " 'LED Flutey Vibrato Solo FMR': 'Leads',\n",
       " 'LED Silk Road Lead FMR': 'Leads',\n",
       " 'LED Reed 3 FMR': 'Leads',\n",
       " 'LED PWM Lead FMR': 'Leads',\n",
       " 'LED Violin FMR': 'Leads',\n",
       " 'LED Square Lead FMR': 'Leads',\n",
       " 'LED Meeaow Lead FMR': 'Leads',\n",
       " 'LED LFO Lead FMR': 'Leads',\n",
       " 'LED Tin Whistle FMR': 'Leads',\n",
       " 'DRN Deep Drone FMR': 'Miscellaneous/Other',\n",
       " 'DRN LFO and Echo Drone FMR': 'Miscellaneous/Other',\n",
       " 'DRN Waving Bass Drone FMR': 'Bass',\n",
       " 'DRN JX-3P Drone FMR': 'Miscellaneous/Other',\n",
       " 'DRN Sequence Like Drone FMR': 'Miscellaneous/Other',\n",
       " 'CHO Church Choir FMR': 'Miscellaneous/Other',\n",
       " 'CHO PWM Chorus A FMR': 'Miscellaneous/Other',\n",
       " 'CHO Voice Chorus FMR': 'Miscellaneous/Other',\n",
       " 'CHO Voice Chorus Too FMR': 'Miscellaneous/Other',\n",
       " 'ARP Swinging Arpeggio FMR': 'Arpeggios',\n",
       " 'ARP PWM LFO Arpeggio FMR': 'Arpeggios',\n",
       " 'ARP Bass Arpeggio FMR': 'Bass',\n",
       " 'ARP KS-TD Arpeggio FMR': 'Arpeggios',\n",
       " 'ARP Play Just One Note FMR': 'Arpeggios',\n",
       " 'ARP Random Arpeggiated PWM FMR': 'Arpeggios',\n",
       " 'ARP String Machine Arpeggio FMR': 'Arpeggios',\n",
       " 'ARP Ravers Arp FMR': 'Arpeggios',\n",
       " 'ARP Cold Thinking Arpeggio FMR': 'Arpeggios',\n",
       " 'ARP Berlin School Arpeggio FMR': 'Arpeggios',\n",
       " 'ARP Wisteria Spot FMR': 'Arpeggios',\n",
       " 'ARP Stringish Arp FMR': 'Arpeggios',\n",
       " 'ARP Circles Arpeggio FMR': 'Arpeggios',\n",
       " 'MFX Mysterious Invention FMR': 'Miscellaneous/Other',\n",
       " 'MFX LFO and Echo FMR': 'Miscellaneous/Other',\n",
       " 'MFX Space Sound 3 FMR': 'Miscellaneous/Other',\n",
       " 'MFX Effect Sound Six FMR': 'Miscellaneous/Other',\n",
       " 'MFX Effect Sound Three FMR': 'Miscellaneous/Other',\n",
       " 'MFX Effect Sound Five FMR': 'Miscellaneous/Other',\n",
       " 'MFX Space Sound 1 FMR': 'Miscellaneous/Other',\n",
       " 'MFX Spartacus VIII FMR': 'Miscellaneous/Other',\n",
       " 'MFX Effect Sound 76 FMR': 'Miscellaneous/Other',\n",
       " 'MFX Low Harp Endless Tail FMR': 'Miscellaneous/Other',\n",
       " 'MFX Effect Sound One FMR': 'Miscellaneous/Other',\n",
       " 'MFX Effect Sound Four FMR': 'Miscellaneous/Other',\n",
       " 'MFX Inverted Filter PWM FMR': 'Miscellaneous/Other',\n",
       " 'MFX Space Sound 2 FMR': 'Miscellaneous/Other',\n",
       " 'MFX Effect Sound Two FMR': 'Miscellaneous/Other',\n",
       " 'MFX Effect Sound Seven FMR': 'Miscellaneous/Other',\n",
       " 'KBD Celesta FMR': 'Pianos & Keyboards',\n",
       " 'KBD Funk B FMR': 'Pianos & Keyboards',\n",
       " 'KBD Harpsichord 1 FMR': 'Pianos & Keyboards',\n",
       " 'KBD Harpsichord 2 FMR': 'Pianos & Keyboards',\n",
       " 'KBD Funk A FMR': 'Pianos & Keyboards',\n",
       " 'KBD Classic Clavinet FMR': 'Pianos & Keyboards',\n",
       " 'KBD Clavichord 2 FMR': 'Pianos & Keyboards',\n",
       " 'KBD Clavichord 1 FMR': 'Pianos & Keyboards',\n",
       " 'KBD Synthi Clavinet FMR': 'Pianos & Keyboards',\n",
       " 'The Difference Bass': 'Bass',\n",
       " 'The Difference Trumpet Synth': 'Brass & Woodwinds',\n",
       " 'MT Norton Commander': 'Miscellaneous/Other',\n",
       " 'MT Numb': 'Miscellaneous/Other',\n",
       " 'MT Tailwhip Xylophone': 'Miscellaneous/Other',\n",
       " 'MT Tailwhip Lead': 'Leads',\n",
       " 'MT Tailwhip Organ': 'Organs',\n",
       " '67 Mysterious Invention': 'Miscellaneous/Other',\n",
       " '56 Reed 2': 'Miscellaneous/Other',\n",
       " '63 Effect Sound 2': 'Miscellaneous/Other',\n",
       " '57 Reed 3': 'Miscellaneous/Other',\n",
       " '17 Brass': 'Brass & Woodwinds',\n",
       " '54 Reed 1': 'Miscellaneous/Other',\n",
       " '65 Funk': 'Miscellaneous/Other',\n",
       " '25 Harpsichord 1': 'Pianos & Keyboards',\n",
       " '62 Effect Sound 1': 'Miscellaneous/Other',\n",
       " '73 Whistle': 'Miscellaneous/Other',\n",
       " '23 Celesta': 'Pianos & Keyboards',\n",
       " '28 Synthesizer Harp': 'Miscellaneous/Other',\n",
       " '53 Phase Combination': 'Miscellaneous/Other',\n",
       " '14 Organ 1': 'Organs',\n",
       " '64 Space Harp': 'Miscellaneous/Other',\n",
       " '35 Pizzicato Sound 1': 'Miscellaneous/Other',\n",
       " '71 Percussive Sound 1': 'Miscellaneous/Other',\n",
       " '11 Strings 1': 'Strings',\n",
       " '44 Tuba': 'Miscellaneous/Other',\n",
       " '41 Violine': 'Strings',\n",
       " '46 Clarinet': 'Brass & Woodwinds',\n",
       " '12 Strings 2': 'Strings',\n",
       " '45 Flute': 'Brass & Woodwinds',\n",
       " '58 PWM Chorus': 'Miscellaneous/Other',\n",
       " '34 Clavichord 2': 'Pianos & Keyboards',\n",
       " '13 Strings 3': 'Strings',\n",
       " '22 Piano 2': 'Pianos & Keyboards',\n",
       " '15 Organ 2': 'Organs',\n",
       " '52 Wah Brass': 'Brass & Woodwinds',\n",
       " '68 Space Sound 2': 'Miscellaneous/Other',\n",
       " '51 Funny Cat': 'Miscellaneous/Other',\n",
       " '33 Clavichord 1': 'Pianos & Keyboards',\n",
       " '48 English Horn': 'Brass & Woodwinds',\n",
       " '21 Piano 1': 'Pianos & Keyboards',\n",
       " '38 Glockenspiel': 'Miscellaneous/Other',\n",
       " '61 Synthesizer Organ': 'Organs',\n",
       " '78 Synthesizer Drum': 'Miscellaneous/Other',\n",
       " '74 Effect Sound 3': 'Miscellaneous/Other',\n",
       " '47 Oboe': 'Brass & Woodwinds',\n",
       " '36 Pizzicato Sound 2': 'Miscellaneous/Other',\n",
       " '76 Space Sound 3': 'Miscellaneous/Other',\n",
       " '18 Phase Brass': 'Brass & Woodwinds',\n",
       " '32 Bass 2': 'Bass',\n",
       " '31 Bass 1': 'Bass',\n",
       " '77 Surf': 'Miscellaneous/Other',\n",
       " '72 Percussive Sound 2': 'Miscellaneous/Other',\n",
       " '27 Guitar': 'Guitars',\n",
       " '66 Space Sound 1': 'Miscellaneous/Other',\n",
       " '37 Xylophone': 'Miscellaneous/Other',\n",
       " '43 Horn': 'Brass & Woodwinds',\n",
       " '26 Harpsichord 2': 'Pianos & Keyboards',\n",
       " '24 Mellow Piano': 'Pianos & Keyboards',\n",
       " '42 Trumpet': 'Brass & Woodwinds',\n",
       " '16 Organ 3': 'Organs',\n",
       " '75 UFO': 'Miscellaneous/Other',\n",
       " '55 Popcorn': 'Miscellaneous/Other'}"
      ]
     },
     "execution_count": 6,
     "metadata": {},
     "output_type": "execute_result"
    }
   ],
   "source": [
    "categorized_names"
   ]
  },
  {
   "cell_type": "markdown",
   "metadata": {},
   "source": [
    "## Create the Pandas DataFrame for Input to the TSNE Plot\n",
    "\n",
    "---\n",
    "\n",
    "We need to put our dataset into a form that is friendly for the TSNE plot. Specifically, we plan to put everything into an ordered table, a Pandas DataFrame.  "
   ]
  },
  {
   "cell_type": "code",
   "execution_count": 7,
   "metadata": {},
   "outputs": [],
   "source": [
    "# initialize a pandas dataframe\n",
    "df = pd.DataFrame()"
   ]
  },
  {
   "cell_type": "code",
   "execution_count": 8,
   "metadata": {},
   "outputs": [
    {
     "name": "stderr",
     "output_type": "stream",
     "text": [
      "/var/folders/1h/qfss5lwn3jzdb7t8r1y63r9r0000gn/T/ipykernel_99566/4225653848.py:8: UserWarning: To copy construct from a tensor, it is recommended to use sourceTensor.clone().detach() or sourceTensor.clone().detach().requires_grad_(True), rather than torch.tensor(sourceTensor).\n",
      "  df['musicnn_features'] = [torch.tensor(x['C3']) for x in dataset['raw_audio']] # for now, use C3, we can try other notes and see if we get different results.\n"
     ]
    }
   ],
   "source": [
    "# add a column for the preset names\n",
    "df['preset_name'] = dataset['preset_names']\n",
    "\n",
    "# add a column for the categorized preset names\n",
    "df['categorized_name'] = [categorized_names[name] for name in dataset['preset_names']]\n",
    "\n",
    "# add a column for the MFCC features (should we normalize these?)\n",
    "df['musicnn_features'] = [torch.tensor(x['C3']) for x in dataset['raw_audio']] # for now, use C3, we can try other notes and see if we get different results.\n",
    "\n",
    "# normalize the musicnn features\n",
    "df['musicnn_features'] = [normalize_zero_to_one(x) for x in df['musicnn_features']]"
   ]
  },
  {
   "cell_type": "code",
   "execution_count": 9,
   "metadata": {},
   "outputs": [
    {
     "data": {
      "text/html": [
       "<div>\n",
       "<style scoped>\n",
       "    .dataframe tbody tr th:only-of-type {\n",
       "        vertical-align: middle;\n",
       "    }\n",
       "\n",
       "    .dataframe tbody tr th {\n",
       "        vertical-align: top;\n",
       "    }\n",
       "\n",
       "    .dataframe thead th {\n",
       "        text-align: right;\n",
       "    }\n",
       "</style>\n",
       "<table border=\"1\" class=\"dataframe\">\n",
       "  <thead>\n",
       "    <tr style=\"text-align: right;\">\n",
       "      <th></th>\n",
       "      <th>preset_name</th>\n",
       "      <th>categorized_name</th>\n",
       "      <th>musicnn_features</th>\n",
       "    </tr>\n",
       "  </thead>\n",
       "  <tbody>\n",
       "    <tr>\n",
       "      <th>0</th>\n",
       "      <td>Default</td>\n",
       "      <td>Miscellaneous/Other</td>\n",
       "      <td>[tensor(0.4408), tensor(0.4421), tensor(0.4469...</td>\n",
       "    </tr>\n",
       "    <tr>\n",
       "      <th>1</th>\n",
       "      <td>MT Tailwhip Organ (2)</td>\n",
       "      <td>Organs</td>\n",
       "      <td>[tensor(0.5646), tensor(0.5630), tensor(0.5615...</td>\n",
       "    </tr>\n",
       "    <tr>\n",
       "      <th>2</th>\n",
       "      <td>Super Jumper</td>\n",
       "      <td>Miscellaneous/Other</td>\n",
       "      <td>[tensor(0.5280), tensor(0.4980), tensor(0.4606...</td>\n",
       "    </tr>\n",
       "    <tr>\n",
       "      <th>3</th>\n",
       "      <td>Nice Filter Sweep</td>\n",
       "      <td>Miscellaneous/Other</td>\n",
       "      <td>[tensor(0.4137), tensor(0.4308), tensor(0.4433...</td>\n",
       "    </tr>\n",
       "    <tr>\n",
       "      <th>4</th>\n",
       "      <td>Chillin R2D2</td>\n",
       "      <td>Miscellaneous/Other</td>\n",
       "      <td>[tensor(0.5109), tensor(0.5257), tensor(0.5489...</td>\n",
       "    </tr>\n",
       "  </tbody>\n",
       "</table>\n",
       "</div>"
      ],
      "text/plain": [
       "             preset_name     categorized_name   \n",
       "0                Default  Miscellaneous/Other  \\\n",
       "1  MT Tailwhip Organ (2)               Organs   \n",
       "2           Super Jumper  Miscellaneous/Other   \n",
       "3      Nice Filter Sweep  Miscellaneous/Other   \n",
       "4           Chillin R2D2  Miscellaneous/Other   \n",
       "\n",
       "                                    musicnn_features  \n",
       "0  [tensor(0.4408), tensor(0.4421), tensor(0.4469...  \n",
       "1  [tensor(0.5646), tensor(0.5630), tensor(0.5615...  \n",
       "2  [tensor(0.5280), tensor(0.4980), tensor(0.4606...  \n",
       "3  [tensor(0.4137), tensor(0.4308), tensor(0.4433...  \n",
       "4  [tensor(0.5109), tensor(0.5257), tensor(0.5489...  "
      ]
     },
     "execution_count": 9,
     "metadata": {},
     "output_type": "execute_result"
    }
   ],
   "source": [
    "# visualize the first few rows of df\n",
    "df.head(5)"
   ]
  },
  {
   "cell_type": "code",
   "execution_count": 10,
   "metadata": {},
   "outputs": [
    {
     "data": {
      "text/plain": [
       "367"
      ]
     },
     "execution_count": 10,
     "metadata": {},
     "output_type": "execute_result"
    }
   ],
   "source": [
    "len(df)"
   ]
  },
  {
   "cell_type": "code",
   "execution_count": 11,
   "metadata": {},
   "outputs": [
    {
     "data": {
      "text/plain": [
       "227"
      ]
     },
     "execution_count": 11,
     "metadata": {},
     "output_type": "execute_result"
    }
   ],
   "source": [
    "# remove all rows in the df that are miscellaneous or other\n",
    "df_filtered = df[df['categorized_name'] != 'Miscellaneous/Other']\n",
    "len(df_filtered)"
   ]
  },
  {
   "cell_type": "code",
   "execution_count": 12,
   "metadata": {},
   "outputs": [],
   "source": [
    "# reset the index of the dataframe\n",
    "df_filtered = df_filtered.reset_index(drop=True)"
   ]
  },
  {
   "cell_type": "code",
   "execution_count": 13,
   "metadata": {},
   "outputs": [
    {
     "data": {
      "text/plain": [
       "227"
      ]
     },
     "execution_count": 13,
     "metadata": {},
     "output_type": "execute_result"
    }
   ],
   "source": [
    "len(df_filtered)"
   ]
  },
  {
   "cell_type": "code",
   "execution_count": 14,
   "metadata": {},
   "outputs": [
    {
     "data": {
      "text/html": [
       "<div>\n",
       "<style scoped>\n",
       "    .dataframe tbody tr th:only-of-type {\n",
       "        vertical-align: middle;\n",
       "    }\n",
       "\n",
       "    .dataframe tbody tr th {\n",
       "        vertical-align: top;\n",
       "    }\n",
       "\n",
       "    .dataframe thead th {\n",
       "        text-align: right;\n",
       "    }\n",
       "</style>\n",
       "<table border=\"1\" class=\"dataframe\">\n",
       "  <thead>\n",
       "    <tr style=\"text-align: right;\">\n",
       "      <th></th>\n",
       "      <th>preset_name</th>\n",
       "      <th>categorized_name</th>\n",
       "      <th>musicnn_features</th>\n",
       "    </tr>\n",
       "  </thead>\n",
       "  <tbody>\n",
       "    <tr>\n",
       "      <th>0</th>\n",
       "      <td>MT Tailwhip Organ (2)</td>\n",
       "      <td>Organs</td>\n",
       "      <td>[tensor(0.5646), tensor(0.5630), tensor(0.5615...</td>\n",
       "    </tr>\n",
       "    <tr>\n",
       "      <th>1</th>\n",
       "      <td>Phasing Island Bass</td>\n",
       "      <td>Bass</td>\n",
       "      <td>[tensor(0.4993), tensor(0.4975), tensor(0.4957...</td>\n",
       "    </tr>\n",
       "    <tr>\n",
       "      <th>2</th>\n",
       "      <td>Mono Pulse Bass</td>\n",
       "      <td>Bass</td>\n",
       "      <td>[tensor(0.4996), tensor(0.4984), tensor(0.4972...</td>\n",
       "    </tr>\n",
       "    <tr>\n",
       "      <th>3</th>\n",
       "      <td>08-15 Bass</td>\n",
       "      <td>Bass</td>\n",
       "      <td>[tensor(0.6288), tensor(0.6255), tensor(0.6221...</td>\n",
       "    </tr>\n",
       "    <tr>\n",
       "      <th>4</th>\n",
       "      <td>Classic Saw Bass</td>\n",
       "      <td>Bass</td>\n",
       "      <td>[tensor(0.6375), tensor(0.6376), tensor(0.6377...</td>\n",
       "    </tr>\n",
       "  </tbody>\n",
       "</table>\n",
       "</div>"
      ],
      "text/plain": [
       "             preset_name categorized_name   \n",
       "0  MT Tailwhip Organ (2)           Organs  \\\n",
       "1    Phasing Island Bass             Bass   \n",
       "2        Mono Pulse Bass             Bass   \n",
       "3             08-15 Bass             Bass   \n",
       "4       Classic Saw Bass             Bass   \n",
       "\n",
       "                                    musicnn_features  \n",
       "0  [tensor(0.5646), tensor(0.5630), tensor(0.5615...  \n",
       "1  [tensor(0.4993), tensor(0.4975), tensor(0.4957...  \n",
       "2  [tensor(0.4996), tensor(0.4984), tensor(0.4972...  \n",
       "3  [tensor(0.6288), tensor(0.6255), tensor(0.6221...  \n",
       "4  [tensor(0.6375), tensor(0.6376), tensor(0.6377...  "
      ]
     },
     "execution_count": 14,
     "metadata": {},
     "output_type": "execute_result"
    }
   ],
   "source": [
    "# visualize the filtered dataframe\n",
    "df_filtered.head(5)"
   ]
  },
  {
   "cell_type": "markdown",
   "metadata": {},
   "source": [
    "### Obtain the TSNE Transformed Data\n",
    "\n",
    "---\n",
    "\n",
    "Here we will initialize a TSNE object and apply a `fit_transform` to obtain a dimensionally reduced vector from the high dimensional input data."
   ]
  },
  {
   "cell_type": "code",
   "execution_count": 15,
   "metadata": {},
   "outputs": [
    {
     "data": {
      "text/plain": [
       "(367, 132030)"
      ]
     },
     "execution_count": 15,
     "metadata": {},
     "output_type": "execute_result"
    }
   ],
   "source": [
    "# we need to first convert the MFCC embeddings from torch format to numpy format for the TSNE algorithm\n",
    "embeddings =  np.stack(df['musicnn_features'])\n",
    "embeddings.shape"
   ]
  },
  {
   "cell_type": "code",
   "execution_count": 16,
   "metadata": {},
   "outputs": [
    {
     "data": {
      "text/plain": [
       "(227, 132030)"
      ]
     },
     "execution_count": 16,
     "metadata": {},
     "output_type": "execute_result"
    }
   ],
   "source": [
    "# obtain the filtered embeddings\n",
    "filtered_embeddings = np.stack(df_filtered['musicnn_features'])\n",
    "filtered_embeddings.shape"
   ]
  },
  {
   "cell_type": "code",
   "execution_count": 17,
   "metadata": {},
   "outputs": [
    {
     "data": {
      "image/png": "[encoded data removed]",
      "text/plain": [
       "<Figure size 640x480 with 1 Axes>"
      ]
     },
     "metadata": {},
     "output_type": "display_data"
    }
   ],
   "source": [
    "# Before we obtain the TSNE embeddings, let's first visualize the distribution of the MFCC embeddings\n",
    "plt.hist(embeddings.flatten(), bins=100)\n",
    "plt.xlim([0,1])\n",
    "plt.title('Distribution of MFCC Embeddings Values')\n",
    "plt.show()"
   ]
  },
  {
   "cell_type": "code",
   "execution_count": 18,
   "metadata": {},
   "outputs": [
    {
     "data": {
      "image/png": "[encoded data removed]",
      "text/plain": [
       "<Figure size 640x480 with 1 Axes>"
      ]
     },
     "metadata": {},
     "output_type": "display_data"
    }
   ],
   "source": [
    "# Let's also visualize the filtered embeddings distribution\n",
    "plt.hist(filtered_embeddings.flatten(), bins=100)\n",
    "plt.xlim([0,1])\n",
    "plt.title('Distribution of Filtered MFCC Embeddings Values')\n",
    "plt.show()"
   ]
  },
  {
   "cell_type": "code",
   "execution_count": 19,
   "metadata": {},
   "outputs": [],
   "source": [
    "# get the TSNE transform\n",
    "transformed_data = generate_tsne(embeddings)"
   ]
  },
  {
   "cell_type": "code",
   "execution_count": 20,
   "metadata": {},
   "outputs": [],
   "source": [
    "filtered_transformed_data = generate_tsne(filtered_embeddings, perplexity=8)"
   ]
  },
  {
   "cell_type": "code",
   "execution_count": 21,
   "metadata": {},
   "outputs": [
    {
     "data": {
      "text/plain": [
       "(367, 2)"
      ]
     },
     "execution_count": 21,
     "metadata": {},
     "output_type": "execute_result"
    }
   ],
   "source": [
    "# inspect the transformed data\n",
    "transformed_data.shape"
   ]
  },
  {
   "cell_type": "code",
   "execution_count": 22,
   "metadata": {},
   "outputs": [],
   "source": [
    "# create an x and y column in the dataframe\n",
    "df['x'] = [transformed_data[i][0] for i in range(len(transformed_data))]\n",
    "df['y'] = [transformed_data[i][1] for i in range(len(transformed_data))]"
   ]
  },
  {
   "cell_type": "code",
   "execution_count": 23,
   "metadata": {},
   "outputs": [],
   "source": [
    "# create a filtered x and filtered y column in the dataframe\n",
    "df_filtered['x'] = [filtered_transformed_data[i][0] for i in range(len(filtered_transformed_data))]\n",
    "df_filtered['y'] = [filtered_transformed_data[i][1] for i in range(len(filtered_transformed_data))]"
   ]
  },
  {
   "cell_type": "markdown",
   "metadata": {},
   "source": [
    "## Create the TSNE Plot\n",
    "\n",
    "---\n",
    "\n",
    "Let's now use Plotly to visualize these embeddings!"
   ]
  },
  {
   "cell_type": "code",
   "execution_count": 25,
   "metadata": {},
   "outputs": [
    {
     "data": {
      "application/vnd.plotly.v1+json": {
       "config": {
        "plotlyServerURL": "https://plot.ly"
       },
       "data": [
        {
         "customdata": [
          [
           "MT Tailwhip Organ (2)",
           "Organs"
          ],
          [
           "ORG Organ 2 FMR",
           "Organs"
          ],
          [
           "ORG Another Organ FMR",
           "Organs"
          ],
          [
           "ORG Spartacus IX FMR",
           "Organs"
          ],
          [
           "ORG Jazz Organ FMR",
           "Organs"
          ],
          [
           "ORG Spartacus XI FMR",
           "Organs"
          ],
          [
           "ORG Spartacus XII FMR",
           "Organs"
          ],
          [
           "ORG Church Organ Positive FMR",
           "Organs"
          ],
          [
           "ORG Church Organ Gated FMR",
           "Organs"
          ],
          [
           "ORG Organ 1 FMR",
           "Organs"
          ],
          [
           "ORG Spartacus X FMR",
           "Organs"
          ],
          [
           "ORG Church Organ Full Pipes 1 FMR",
           "Organs"
          ],
          [
           "ORG Synthesizer Organ 2 FMR",
           "Organs"
          ],
          [
           "ORG Organ 3 FMR",
           "Organs"
          ],
          [
           "ORG Synthesizer Organ 1 FMR",
           "Organs"
          ],
          [
           "ORG Church Organ Full Pipes 2 FMR",
           "Organs"
          ],
          [
           "MT Tailwhip Organ",
           "Organs"
          ],
          [
           "14 Organ 1",
           "Organs"
          ],
          [
           "15 Organ 2",
           "Organs"
          ],
          [
           "61 Synthesizer Organ",
           "Organs"
          ],
          [
           "16 Organ 3",
           "Organs"
          ]
         ],
         "hovertemplate": "Preset Name: %{customdata[0]}<br>Categorized Name: %{customdata[1]}",
         "legendgroup": "Organs",
         "marker": {
          "color": "#636efa",
          "symbol": "circle"
         },
         "mode": "markers",
         "name": "Organs",
         "orientation": "v",
         "showlegend": true,
         "type": "scatter",
         "x": [
          -14.125638008117676,
          23.475343704223633,
          54.47705841064453,
          36.16249465942383,
          37.22202682495117,
          1.7396615743637085,
          20.11434555053711,
          -42.65058517456055,
          22.675350189208984,
          42.56810760498047,
          13.159965515136719,
          -43.48772430419922,
          -22.772531509399414,
          12.025642395019531,
          32.326900482177734,
          9.392083168029785,
          17.161725997924805,
          16.156429290771484,
          14.849629402160645,
          -1.219868540763855,
          30.485546112060547
         ],
         "xaxis": "x",
         "y": [
          3.297057867050171,
          8.74831485748291,
          14.145626068115234,
          9.45467472076416,
          12.887245178222656,
          0.6513222455978394,
          7.195178031921387,
          -7.804080009460449,
          7.796761989593506,
          7.622838497161865,
          6.20311164855957,
          -16.82858657836914,
          -8.278849601745605,
          3.114572525024414,
          12.996461868286133,
          3.877800226211548,
          8.912949562072754,
          6.839913845062256,
          5.858026027679443,
          5.521014213562012,
          1.9227098226547241
         ],
         "yaxis": "y"
        },
        {
         "customdata": [
          [
           "Phasing Island Bass",
           "Bass"
          ],
          [
           "Mono Pulse Bass",
           "Bass"
          ],
          [
           "08-15 Bass",
           "Bass"
          ],
          [
           "Classic Saw Bass",
           "Bass"
          ],
          [
           "Funky Mod Bass",
           "Bass"
          ],
          [
           "Ultra Deep Bass",
           "Bass"
          ],
          [
           "FN-Bassliner-BAS",
           "Bass"
          ],
          [
           "FN-Dark Bass II-BAS",
           "Bass"
          ],
          [
           "FN-Flow Bass-BAS",
           "Bass"
          ],
          [
           "FN-High Noise-BAS",
           "Bass"
          ],
          [
           "FN-Wobblelike Bass-BAS",
           "Bass"
          ],
          [
           "FN-Dark Bass-BAS",
           "Bass"
          ],
          [
           "FN-Nostalgic Bass-BAS",
           "Bass"
          ],
          [
           "FN-C64ish Bass",
           "Bass"
          ],
          [
           "FN-Basslover",
           "Bass"
          ],
          [
           "FN-Bass Wobbler-BAS",
           "Bass"
          ],
          [
           "FN-Wobblebass-BAS",
           "Bass"
          ],
          [
           "FN-Bass Lover-ARP",
           "Bass"
          ],
          [
           "BAS Square Bass FMR",
           "Bass"
          ],
          [
           "BAS Pulse Bass 1 FMR",
           "Bass"
          ],
          [
           "BAS Acid Bass 2 FMR",
           "Bass"
          ],
          [
           "BAS Acid Bass 1 FMR",
           "Bass"
          ],
          [
           "BAS Acid Bass 4 FMR",
           "Bass"
          ],
          [
           "BAS Pulse Bass 2 FMR",
           "Bass"
          ],
          [
           "BAS Round Bass 2 FMR",
           "Bass"
          ],
          [
           "BAS Synth Bass 2 FMR",
           "Bass"
          ],
          [
           "BAS Acid Bass 3 FMR",
           "Bass"
          ],
          [
           "BAS Wire Bass FMR",
           "Bass"
          ],
          [
           "BAS Love Bass FMR",
           "Bass"
          ],
          [
           "BAS Hooverish Bass FMR",
           "Bass"
          ],
          [
           "BAS Basso Profondo FMR",
           "Bass"
          ],
          [
           "BAS Synth Bass 1 FMR",
           "Bass"
          ],
          [
           "BAS Round Bass 1 FMR",
           "Bass"
          ],
          [
           "PRC Thump Bass Drum FMR",
           "Bass"
          ],
          [
           "DRN Waving Bass Drone FMR",
           "Bass"
          ],
          [
           "ARP Bass Arpeggio FMR",
           "Bass"
          ],
          [
           "The Difference Bass",
           "Bass"
          ],
          [
           "32 Bass 2",
           "Bass"
          ],
          [
           "31 Bass 1",
           "Bass"
          ]
         ],
         "hovertemplate": "Preset Name: %{customdata[0]}<br>Categorized Name: %{customdata[1]}",
         "legendgroup": "Bass",
         "marker": {
          "color": "#EF553B",
          "symbol": "circle"
         },
         "mode": "markers",
         "name": "Bass",
         "orientation": "v",
         "showlegend": true,
         "type": "scatter",
         "x": [
          23.256040573120117,
          24.2482852935791,
          -31.140661239624023,
          -40.117469787597656,
          -7.631360054016113,
          53.30910110473633,
          -3.5119762420654297,
          39.57889175415039,
          -26.013656616210938,
          -15.67302131652832,
          39.25651550292969,
          -30.572067260742188,
          5.848930358886719,
          -28.383825302124023,
          -29.673765182495117,
          -15.575806617736816,
          -32.574546813964844,
          8.395807266235352,
          -6.004061222076416,
          -0.1977882981300354,
          11.52197551727295,
          53.212791442871094,
          -17.84659194946289,
          -11.973522186279297,
          24.93642807006836,
          9.120345115661621,
          -28.990283966064453,
          6.599188804626465,
          12.743264198303223,
          -3.1449975967407227,
          51.65639877319336,
          -35.90673065185547,
          2.9553680419921875,
          36.59309005737305,
          -37.55535888671875,
          32.07036590576172,
          38.0550422668457,
          -52.49486541748047,
          -51.044342041015625
         ],
         "xaxis": "x",
         "y": [
          -1.1266553401947021,
          -1.318554401397705,
          -5.532291412353516,
          -13.424864768981934,
          -2.2152044773101807,
          15.281759262084961,
          -5.464590549468994,
          5.099487781524658,
          -0.8877906799316406,
          -3.4903903007507324,
          11.725833892822266,
          -11.526371955871582,
          -1.2258509397506714,
          0.5161402225494385,
          -4.310328483581543,
          1.4296855926513672,
          -8.086688041687012,
          -0.4507550001144409,
          -0.6061773300170898,
          4.731646537780762,
          1.2402065992355347,
          14.119693756103516,
          1.1758978366851807,
          -1.9563311338424683,
          5.038802146911621,
          1.7246373891830444,
          -1.9311403036117554,
          -0.6054456830024719,
          1.4858975410461426,
          5.660258769989014,
          13.481929779052734,
          -4.794228553771973,
          -3.963852643966675,
          3.939718246459961,
          -17.408775329589844,
          1.323920488357544,
          5.0138750076293945,
          -18.0567626953125,
          -18.324012756347656
         ],
         "yaxis": "y"
        },
        {
         "customdata": [
          [
           "Big Lead",
           "Leads"
          ],
          [
           "Super Funky Lead",
           "Leads"
          ],
          [
           "Mellow LoFi Lead",
           "Leads"
          ],
          [
           "FN-Analog Lead-FN",
           "Leads"
          ],
          [
           "FN-Nostalgicer Lead-LEA",
           "Leads"
          ],
          [
           "FN-Plastic Lead-LEA",
           "Leads"
          ],
          [
           "FN-I Need Lead-LEA",
           "Leads"
          ],
          [
           "FN-Filter Lead-LEA",
           "Leads"
          ],
          [
           "LED Big Lead 2 FMR",
           "Leads"
          ],
          [
           "LED Sing Like a Cat FMR",
           "Leads"
          ],
          [
           "LED Spartacus III FMR",
           "Leads"
          ],
          [
           "LED Calliope FMR",
           "Leads"
          ],
          [
           "LED Spartacus IV FMR",
           "Leads"
          ],
          [
           "LED Spartacus II FMR",
           "Leads"
          ],
          [
           "LED Reed 1 FMR",
           "Leads"
          ],
          [
           "LED Big Lead 1 FMR",
           "Leads"
          ],
          [
           "LED Flutey Vibrato Solo FMR",
           "Leads"
          ],
          [
           "LED Silk Road Lead FMR",
           "Leads"
          ],
          [
           "LED Reed 3 FMR",
           "Leads"
          ],
          [
           "LED PWM Lead FMR",
           "Leads"
          ],
          [
           "LED Violin FMR",
           "Leads"
          ],
          [
           "LED Square Lead FMR",
           "Leads"
          ],
          [
           "LED Meeaow Lead FMR",
           "Leads"
          ],
          [
           "LED LFO Lead FMR",
           "Leads"
          ],
          [
           "LED Tin Whistle FMR",
           "Leads"
          ],
          [
           "MT Tailwhip Lead",
           "Leads"
          ]
         ],
         "hovertemplate": "Preset Name: %{customdata[0]}<br>Categorized Name: %{customdata[1]}",
         "legendgroup": "Leads",
         "marker": {
          "color": "#00cc96",
          "symbol": "circle"
         },
         "mode": "markers",
         "name": "Leads",
         "orientation": "v",
         "showlegend": true,
         "type": "scatter",
         "x": [
          24.17162322998047,
          -27.28604507446289,
          -25.312284469604492,
          -3.019430637359619,
          -42.93580627441406,
          4.577239990234375,
          -36.6656379699707,
          -31.726579666137695,
          -33.12489700317383,
          -15.200261116027832,
          -10.066927909851074,
          -9.9437837600708,
          -34.62042999267578,
          -24.179161071777344,
          36.15007781982422,
          -27.99956512451172,
          33.501224517822266,
          -13.56998062133789,
          24.931974411010742,
          34.85355758666992,
          31.227642059326172,
          -15.758745193481445,
          22.947969436645508,
          -41.22340774536133,
          -1.895251989364624,
          -44.512977600097656
         ],
         "xaxis": "x",
         "y": [
          6.724325656890869,
          -1.6464509963989258,
          3.018752336502075,
          -2.427703857421875,
          -2.9850711822509766,
          1.2018693685531616,
          -13.097167015075684,
          -1.3542430400848389,
          -4.8026204109191895,
          -0.4904811382293701,
          -3.4490129947662354,
          -1.3224180936813354,
          -6.400848865509033,
          0.11129189282655716,
          13.794513702392578,
          -3.582533359527588,
          14.344066619873047,
          6.467936038970947,
          9.78197193145752,
          6.476278781890869,
          6.090936660766602,
          -8.108030319213867,
          5.0751776695251465,
          -2.816849946975708,
          0.38541871309280396,
          -19.31037712097168
         ],
         "yaxis": "y"
        },
        {
         "customdata": [
          [
           "Dream Arp",
           "Arpeggios"
          ],
          [
           "FN-Free Willy-ARP",
           "Arpeggios"
          ],
          [
           "FN-Backwards ARP",
           "Arpeggios"
          ],
          [
           "FN-Anastyle-ARP",
           "Arpeggios"
          ],
          [
           "FN-Percussive Plugger2-ARP",
           "Arpeggios"
          ],
          [
           "FN-Percussive Plugger-ARP",
           "Arpeggios"
          ],
          [
           "FN-Pluggiolator-ARP",
           "Arpeggios"
          ],
          [
           "FN-C64ish Arp",
           "Arpeggios"
          ],
          [
           "FN-Anastyle II-ARP",
           "Arpeggios"
          ],
          [
           "FN-One Finger Show-ARP",
           "Arpeggios"
          ],
          [
           "FN-Percussive Plugger3-ARP",
           "Arpeggios"
          ],
          [
           "FN-Rhytmic Noise-ARP",
           "Arpeggios"
          ],
          [
           "ARP Swinging Arpeggio FMR",
           "Arpeggios"
          ],
          [
           "ARP PWM LFO Arpeggio FMR",
           "Arpeggios"
          ],
          [
           "ARP KS-TD Arpeggio FMR",
           "Arpeggios"
          ],
          [
           "ARP Play Just One Note FMR",
           "Arpeggios"
          ],
          [
           "ARP Random Arpeggiated PWM FMR",
           "Arpeggios"
          ],
          [
           "ARP String Machine Arpeggio FMR",
           "Arpeggios"
          ],
          [
           "ARP Ravers Arp FMR",
           "Arpeggios"
          ],
          [
           "ARP Cold Thinking Arpeggio FMR",
           "Arpeggios"
          ],
          [
           "ARP Berlin School Arpeggio FMR",
           "Arpeggios"
          ],
          [
           "ARP Wisteria Spot FMR",
           "Arpeggios"
          ],
          [
           "ARP Stringish Arp FMR",
           "Arpeggios"
          ],
          [
           "ARP Circles Arpeggio FMR",
           "Arpeggios"
          ]
         ],
         "hovertemplate": "Preset Name: %{customdata[0]}<br>Categorized Name: %{customdata[1]}",
         "legendgroup": "Arpeggios",
         "marker": {
          "color": "#ab63fa",
          "symbol": "circle"
         },
         "mode": "markers",
         "name": "Arpeggios",
         "orientation": "v",
         "showlegend": true,
         "type": "scatter",
         "x": [
          -49.000144958496094,
          -49.74279022216797,
          9.974682807922363,
          25.608909606933594,
          44.25834274291992,
          -3.1590864658355713,
          51.26393127441406,
          7.846583843231201,
          3.204040288925171,
          6.809109687805176,
          -49.092350006103516,
          39.456390380859375,
          -36.45976257324219,
          -31.511341094970703,
          40.98846435546875,
          -48.00505828857422,
          3.250211238861084,
          4.210358619689941,
          -41.57217788696289,
          -4.539506912231445,
          -34.92612075805664,
          -55.98569869995117,
          9.734642028808594,
          37.74363708496094
         ],
         "xaxis": "x",
         "y": [
          -13.574716567993164,
          -16.86233139038086,
          -4.567930221557617,
          7.333506107330322,
          12.028362274169922,
          3.7873830795288086,
          12.638434410095215,
          1.0344675779342651,
          6.967476844787598,
          2.0850696563720703,
          -15.793298721313477,
          8.296502113342285,
          -8.337312698364258,
          -3.3420073986053467,
          2.924431085586548,
          -19.77857780456543,
          8.532010078430176,
          11.056344985961914,
          -13.797700881958008,
          -1.358502984046936,
          -14.557552337646484,
          -20.080543518066406,
          9.536927223205566,
          9.273344993591309
         ],
         "yaxis": "y"
        },
        {
         "customdata": [
          [
           "FN-Dark Night-PAD",
           "Synth Pads"
          ],
          [
           "FN-Analog Feeling-PAD",
           "Synth Pads"
          ],
          [
           "FN-Blubberfeld-PAD",
           "Synth Pads"
          ],
          [
           "FN-Noisia-PAD",
           "Synth Pads"
          ],
          [
           "FN-Darpesh Pad-PAD",
           "Synth Pads"
          ],
          [
           "FN-Restless Night-PAD",
           "Synth Pads"
          ],
          [
           "FN-Analog Pad-PAD",
           "Synth Pads"
          ],
          [
           "FN-RollinSun-PAD",
           "Synth Pads"
          ],
          [
           "FN-Flowing Filter-PAD",
           "Synth Pads"
          ],
          [
           "FN-Experimental-PAD",
           "Synth Pads"
          ],
          [
           "PAD Rise the Pulse FMR",
           "Synth Pads"
          ],
          [
           "PAD Spartacus I FMR",
           "Synth Pads"
          ],
          [
           "PAD Spartacus V FMR",
           "Synth Pads"
          ],
          [
           "PAD Reso Pad FMR",
           "Synth Pads"
          ],
          [
           "PAD Metal Rotor Pad FMR",
           "Synth Pads"
          ],
          [
           "PAD Classic Sweep Pad FMR",
           "Synth Pads"
          ],
          [
           "PAD Dive Into The Deep FMR",
           "Synth Pads"
          ],
          [
           "PAD Meditation Pad 3 FMR",
           "Synth Pads"
          ],
          [
           "PAD Forever Pad FMR",
           "Synth Pads"
          ],
          [
           "PAD Hoiy Mass FMR",
           "Synth Pads"
          ],
          [
           "PAD Woosh Pad FMR",
           "Synth Pads"
          ],
          [
           "PAD Massive Pad 1 FMR",
           "Synth Pads"
          ],
          [
           "PAD Big Synth Pad 2 FMR",
           "Synth Pads"
          ],
          [
           "PAD This Is It FMR",
           "Synth Pads"
          ],
          [
           "PAD Meditation Pad 1 FMR",
           "Synth Pads"
          ],
          [
           "PAD Chariots VG Brass FMR",
           "Synth Pads"
          ],
          [
           "PAD Bass Pad FMR",
           "Synth Pads"
          ],
          [
           "PAD PWM Pad FMR",
           "Synth Pads"
          ],
          [
           "PAD Meditation Pad 2 FMR",
           "Synth Pads"
          ],
          [
           "PAD Big Synth Pad 1 FMR",
           "Synth Pads"
          ],
          [
           "PAD Massive Pad 2 FMR",
           "Synth Pads"
          ],
          [
           "PAD High Res Pad FMR",
           "Synth Pads"
          ]
         ],
         "hovertemplate": "Preset Name: %{customdata[0]}<br>Categorized Name: %{customdata[1]}",
         "legendgroup": "Synth Pads",
         "marker": {
          "color": "#FFA15A",
          "symbol": "circle"
         },
         "mode": "markers",
         "name": "Synth Pads",
         "orientation": "v",
         "showlegend": true,
         "type": "scatter",
         "x": [
          21.906238555908203,
          50.71870040893555,
          -24.84037971496582,
          24.835567474365234,
          23.382986068725586,
          49.28847122192383,
          10.382699966430664,
          -2.623034715652466,
          35.233009338378906,
          31.360347747802734,
          29.700706481933594,
          -48.70639419555664,
          38.97449493408203,
          10.483661651611328,
          10.417744636535645,
          29.064617156982422,
          38.75021743774414,
          57.056739807128906,
          2.876225709915161,
          -21.59902572631836,
          -8.857914924621582,
          41.47704315185547,
          7.356900691986084,
          -21.918407440185547,
          15.514653205871582,
          -0.5062092542648315,
          17.815292358398438,
          1.4075531959533691,
          27.498329162597656,
          10.848581314086914,
          -11.753515243530273,
          -35.59354019165039
         ],
         "xaxis": "x",
         "y": [
          10.401909828186035,
          8.768278121948242,
          -3.387341022491455,
          3.241368293762207,
          13.059120178222656,
          13.529500007629395,
          -17.04519271850586,
          10.640576362609863,
          16.496898651123047,
          8.919129371643066,
          6.749769687652588,
          -21.147642135620117,
          1.927534818649292,
          -16.29681968688965,
          -1.3557933568954468,
          14.85645580291748,
          0.4315124750137329,
          15.837289810180664,
          -7.406493663787842,
          -9.695369720458984,
          8.225626945495605,
          15.052389144897461,
          -3.0082409381866455,
          -5.989665508270264,
          -7.449549198150635,
          -7.705167770385742,
          4.905624866485596,
          -7.7133941650390625,
          3.671090841293335,
          -15.432770729064941,
          9.943995475769043,
          -0.021288391202688217
         ],
         "yaxis": "y"
        },
        {
         "customdata": [
          [
           "FN-Chordmachine-KEY",
           "Pianos & Keyboards"
          ],
          [
           "FN-Easy Keys",
           "Pianos & Keyboards"
          ],
          [
           "FN-Chordmachine II-KEY",
           "Pianos & Keyboards"
          ],
          [
           "FN-Small Keys-KEY",
           "Pianos & Keyboards"
          ],
          [
           "FN-Low Keys-KEY",
           "Pianos & Keyboards"
          ],
          [
           "PNO Piano 2 FMR",
           "Pianos & Keyboards"
          ],
          [
           "PNO Another E P FMR",
           "Pianos & Keyboards"
          ],
          [
           "PNO Classic E P FMR",
           "Pianos & Keyboards"
          ],
          [
           "PNO Sweet Tines FMR",
           "Pianos & Keyboards"
          ],
          [
           "PNO Piano 1 FMR",
           "Pianos & Keyboards"
          ],
          [
           "PNO Mellow Piano FMR",
           "Pianos & Keyboards"
          ],
          [
           "PNO Bright Rhodes FMR",
           "Pianos & Keyboards"
          ],
          [
           "SYN Fluctuation Keys FMR",
           "Pianos & Keyboards"
          ],
          [
           "KBD Celesta FMR",
           "Pianos & Keyboards"
          ],
          [
           "KBD Funk B FMR",
           "Pianos & Keyboards"
          ],
          [
           "KBD Harpsichord 1 FMR",
           "Pianos & Keyboards"
          ],
          [
           "KBD Harpsichord 2 FMR",
           "Pianos & Keyboards"
          ],
          [
           "KBD Funk A FMR",
           "Pianos & Keyboards"
          ],
          [
           "KBD Classic Clavinet FMR",
           "Pianos & Keyboards"
          ],
          [
           "KBD Clavichord 2 FMR",
           "Pianos & Keyboards"
          ],
          [
           "KBD Clavichord 1 FMR",
           "Pianos & Keyboards"
          ],
          [
           "KBD Synthi Clavinet FMR",
           "Pianos & Keyboards"
          ],
          [
           "25 Harpsichord 1",
           "Pianos & Keyboards"
          ],
          [
           "23 Celesta",
           "Pianos & Keyboards"
          ],
          [
           "34 Clavichord 2",
           "Pianos & Keyboards"
          ],
          [
           "22 Piano 2",
           "Pianos & Keyboards"
          ],
          [
           "33 Clavichord 1",
           "Pianos & Keyboards"
          ],
          [
           "21 Piano 1",
           "Pianos & Keyboards"
          ],
          [
           "26 Harpsichord 2",
           "Pianos & Keyboards"
          ],
          [
           "24 Mellow Piano",
           "Pianos & Keyboards"
          ]
         ],
         "hovertemplate": "Preset Name: %{customdata[0]}<br>Categorized Name: %{customdata[1]}",
         "legendgroup": "Pianos & Keyboards",
         "marker": {
          "color": "#19d3f3",
          "symbol": "circle"
         },
         "mode": "markers",
         "name": "Pianos & Keyboards",
         "orientation": "v",
         "showlegend": true,
         "type": "scatter",
         "x": [
          -8.758099555969238,
          -37.53972625732422,
          49.795310974121094,
          -30.450389862060547,
          32.91088104248047,
          15.336718559265137,
          -38.323734283447266,
          19.133378982543945,
          -17.402362823486328,
          16.128002166748047,
          -0.8479834794998169,
          -40.297359466552734,
          -10.994080543518066,
          45.22099685668945,
          -5.526116371154785,
          -16.961021423339844,
          4.057517051696777,
          -43.409996032714844,
          -41.904052734375,
          -51.45279312133789,
          -22.95924949645996,
          38.86574935913086,
          11.880074501037598,
          53.95936965942383,
          -30.163679122924805,
          -41.092132568359375,
          -5.907979965209961,
          -54.28480911254883,
          -11.58220100402832,
          -11.264219284057617
         ],
         "xaxis": "x",
         "y": [
          3.5072853565216064,
          -4.962689399719238,
          9.879170417785645,
          5.2455220222473145,
          12.161808967590332,
          2.744560718536377,
          -11.030623435974121,
          -3.352733612060547,
          7.285841464996338,
          1.6740682125091553,
          7.144918918609619,
          -6.910523414611816,
          8.125946998596191,
          10.880064964294434,
          -1.7104566097259521,
          -3.5940356254577637,
          -2.4428040981292725,
          -14.510499954223633,
          -11.880705833435059,
          -17.470333099365234,
          -7.515535354614258,
          10.875523567199707,
          7.17434549331665,
          10.66341495513916,
          -1.7546552419662476,
          -8.24991226196289,
          -3.531370162963867,
          -19.7990665435791,
          1.1346638202667236,
          -9.803622245788574
         ],
         "yaxis": "y"
        },
        {
         "customdata": [
          [
           "STR String Machine FMR",
           "Strings"
          ],
          [
           "STR PWM Strings 2 FMR",
           "Strings"
          ],
          [
           "STR Strings 1 FMR",
           "Strings"
          ],
          [
           "STR Eminent Strings FMR",
           "Strings"
          ],
          [
           "STR Strings 2 FMR",
           "Strings"
          ],
          [
           "STR PWM Strings 1 FMR",
           "Strings"
          ],
          [
           "STR Spartacus VI FMR",
           "Strings"
          ],
          [
           "STR String Ensemble FMR",
           "Strings"
          ],
          [
           "STR Prophet Strings FMR",
           "Strings"
          ],
          [
           "STR Soft Strings FMR",
           "Strings"
          ],
          [
           "STR Low Strings FMR",
           "Strings"
          ],
          [
           "STR Full Strings FMR",
           "Strings"
          ],
          [
           "STR Spartacus VII FMR",
           "Strings"
          ],
          [
           "STR Strings 3 FMR",
           "Strings"
          ],
          [
           "11 Strings 1",
           "Strings"
          ],
          [
           "41 Violine",
           "Strings"
          ],
          [
           "12 Strings 2",
           "Strings"
          ],
          [
           "13 Strings 3",
           "Strings"
          ]
         ],
         "hovertemplate": "Preset Name: %{customdata[0]}<br>Categorized Name: %{customdata[1]}",
         "legendgroup": "Strings",
         "marker": {
          "color": "#FF6692",
          "symbol": "circle"
         },
         "mode": "markers",
         "name": "Strings",
         "orientation": "v",
         "showlegend": true,
         "type": "scatter",
         "x": [
          6.612236976623535,
          14.616961479187012,
          3.8901774883270264,
          -12.437355995178223,
          -33.3820686340332,
          -10.51969051361084,
          -33.92525100708008,
          37.45093536376953,
          -33.46950912475586,
          -39.38294982910156,
          -30.53384017944336,
          -15.97717571258545,
          -11.363724708557129,
          1.7983912229537964,
          -12.982026100158691,
          16.560279846191406,
          -24.90262794494629,
          37.9691162109375
         ],
         "xaxis": "x",
         "y": [
          5.373115062713623,
          -4.533463001251221,
          4.778193950653076,
          -5.6414475440979,
          -2.602205276489258,
          -6.919507026672363,
          2.865666389465332,
          7.766449928283691,
          1.5010650157928467,
          -16.5037899017334,
          0.3662841320037842,
          -7.19711446762085,
          -8.321182250976562,
          -9.6163330078125,
          5.3473334312438965,
          -5.050459384918213,
          -7.812050819396973,
          14.975000381469727
         ],
         "yaxis": "y"
        },
        {
         "customdata": [
          [
           "WND English Horn FMR",
           "Brass & Woodwinds"
          ],
          [
           "WND Ocarina FMR",
           "Brass & Woodwinds"
          ],
          [
           "WND Flute 1 FMR",
           "Brass & Woodwinds"
          ],
          [
           "WND Flute 2 FMR",
           "Brass & Woodwinds"
          ],
          [
           "WND Pan Flute FMR",
           "Brass & Woodwinds"
          ],
          [
           "WND Oboe FMR",
           "Brass & Woodwinds"
          ],
          [
           "WND Clarinet FMR",
           "Brass & Woodwinds"
          ],
          [
           "WND Flauto Dolce FMR",
           "Brass & Woodwinds"
          ],
          [
           "BRS Brass 2 FMR",
           "Brass & Woodwinds"
          ],
          [
           "BRS French Horn FMR",
           "Brass & Woodwinds"
          ],
          [
           "BRS Brass Pad 1 FMR",
           "Brass & Woodwinds"
          ],
          [
           "BRS Tuba FMR",
           "Brass & Woodwinds"
          ],
          [
           "BRS Brass Pad 2 FMR",
           "Brass & Woodwinds"
          ],
          [
           "BRS Brass 1 FMR",
           "Brass & Woodwinds"
          ],
          [
           "BRS Low Brass FMR",
           "Brass & Woodwinds"
          ],
          [
           "BRS Phase Brass FMR",
           "Brass & Woodwinds"
          ],
          [
           "BRS Trumpet FMR",
           "Brass & Woodwinds"
          ],
          [
           "BRS Brass 3 FMR",
           "Brass & Woodwinds"
          ],
          [
           "BRS Prophet Brass FMR",
           "Brass & Woodwinds"
          ],
          [
           "BRS Brass Pad 3 FMR",
           "Brass & Woodwinds"
          ],
          [
           "SYN Wah Brass FMR",
           "Brass & Woodwinds"
          ],
          [
           "The Difference Trumpet Synth",
           "Brass & Woodwinds"
          ],
          [
           "17 Brass",
           "Brass & Woodwinds"
          ],
          [
           "46 Clarinet",
           "Brass & Woodwinds"
          ],
          [
           "45 Flute",
           "Brass & Woodwinds"
          ],
          [
           "52 Wah Brass",
           "Brass & Woodwinds"
          ],
          [
           "48 English Horn",
           "Brass & Woodwinds"
          ],
          [
           "47 Oboe",
           "Brass & Woodwinds"
          ],
          [
           "18 Phase Brass",
           "Brass & Woodwinds"
          ],
          [
           "43 Horn",
           "Brass & Woodwinds"
          ],
          [
           "42 Trumpet",
           "Brass & Woodwinds"
          ]
         ],
         "hovertemplate": "Preset Name: %{customdata[0]}<br>Categorized Name: %{customdata[1]}",
         "legendgroup": "Brass & Woodwinds",
         "marker": {
          "color": "#B6E880",
          "symbol": "circle"
         },
         "mode": "markers",
         "name": "Brass & Woodwinds",
         "orientation": "v",
         "showlegend": true,
         "type": "scatter",
         "x": [
          -41.286861419677734,
          41.97582244873047,
          -9.199213981628418,
          10.241218566894531,
          53.17658996582031,
          -45.663848876953125,
          25.063982009887695,
          51.80764389038086,
          -6.691624641418457,
          -7.107784748077393,
          -40.48032760620117,
          27.735960006713867,
          -52.097591400146484,
          16.612577438354492,
          1.707990050315857,
          -29.505962371826172,
          36.30799865722656,
          17.965227127075195,
          22.134489059448242,
          -46.74112319946289,
          -13.704350471496582,
          55.89703369140625,
          42.152137756347656,
          29.484134674072266,
          -4.421256065368652,
          -44.18606185913086,
          -48.314796447753906,
          -38.4495964050293,
          -27.292146682739258,
          4.953765392303467,
          35.074363708496094
         ],
         "xaxis": "x",
         "y": [
          -10.583053588867188,
          9.65666389465332,
          -0.5706453919410706,
          7.718882083892822,
          12.441055297851562,
          -13.373323440551758,
          11.181081771850586,
          11.896069526672363,
          5.05601692199707,
          3.5542194843292236,
          -15.752904891967773,
          10.475944519042969,
          -15.532047271728516,
          -3.9789445400238037,
          -3.8552677631378174,
          4.133901119232178,
          6.578718185424805,
          -5.641812324523926,
          2.1441187858581543,
          -16.86774444580078,
          -3.4655473232269287,
          15.291128158569336,
          12.859114646911621,
          3.556701183319092,
          2.3002238273620605,
          -15.122810363769531,
          -17.528274536132812,
          -13.224234580993652,
          -6.1540751457214355,
          4.107011318206787,
          13.77491283416748
         ],
         "yaxis": "y"
        },
        {
         "customdata": [
          [
           "GTR Overdrive Guitar FMR",
           "Guitars"
          ],
          [
           "GTR Chorused Ovation FMR",
           "Guitars"
          ],
          [
           "GTR Jazz Guitar FMR",
           "Guitars"
          ],
          [
           "GTR Steel String Guitar FMR",
           "Guitars"
          ],
          [
           "GTR Acoustic Guitar FMR",
           "Guitars"
          ],
          [
           "27 Guitar",
           "Guitars"
          ]
         ],
         "hovertemplate": "Preset Name: %{customdata[0]}<br>Categorized Name: %{customdata[1]}",
         "legendgroup": "Guitars",
         "marker": {
          "color": "#FF97FF",
          "symbol": "circle"
         },
         "mode": "markers",
         "name": "Guitars",
         "orientation": "v",
         "showlegend": true,
         "type": "scatter",
         "x": [
          26.28850555419922,
          -35.9527473449707,
          -54.524837493896484,
          -45.62821578979492,
          -56.721534729003906,
          -56.83639907836914
         ],
         "xaxis": "x",
         "y": [
          8.213700294494629,
          -2.941967725753784,
          -18.86780548095703,
          -11.516273498535156,
          -16.141834259033203,
          -16.75881576538086
         ],
         "yaxis": "y"
        }
       ],
       "layout": {
        "height": 800,
        "legend": {
         "title": {
          "text": "Preset Categories"
         },
         "tracegroupgap": 0
        },
        "margin": {
         "t": 60
        },
        "showlegend": true,
        "template": {
         "data": {
          "bar": [
           {
            "error_x": {
             "color": "#2a3f5f"
            },
            "error_y": {
             "color": "#2a3f5f"
            },
            "marker": {
             "line": {
              "color": "#E5ECF6",
              "width": 0.5
             },
             "pattern": {
              "fillmode": "overlay",
              "size": 10,
              "solidity": 0.2
             }
            },
            "type": "bar"
           }
          ],
          "barpolar": [
           {
            "marker": {
             "line": {
              "color": "#E5ECF6",
              "width": 0.5
             },
             "pattern": {
              "fillmode": "overlay",
              "size": 10,
              "solidity": 0.2
             }
            },
            "type": "barpolar"
           }
          ],
          "carpet": [
           {
            "aaxis": {
             "endlinecolor": "#2a3f5f",
             "gridcolor": "white",
             "linecolor": "white",
             "minorgridcolor": "white",
             "startlinecolor": "#2a3f5f"
            },
            "baxis": {
             "endlinecolor": "#2a3f5f",
             "gridcolor": "white",
             "linecolor": "white",
             "minorgridcolor": "white",
             "startlinecolor": "#2a3f5f"
            },
            "type": "carpet"
           }
          ],
          "choropleth": [
           {
            "colorbar": {
             "outlinewidth": 0,
             "ticks": ""
            },
            "type": "choropleth"
           }
          ],
          "contour": [
           {
            "colorbar": {
             "outlinewidth": 0,
             "ticks": ""
            },
            "colorscale": [
             [
              0,
              "#0d0887"
             ],
             [
              0.1111111111111111,
              "#46039f"
             ],
             [
              0.2222222222222222,
              "#7201a8"
             ],
             [
              0.3333333333333333,
              "#9c179e"
             ],
             [
              0.4444444444444444,
              "#bd3786"
             ],
             [
              0.5555555555555556,
              "#d8576b"
             ],
             [
              0.6666666666666666,
              "#ed7953"
             ],
             [
              0.7777777777777778,
              "#fb9f3a"
             ],
             [
              0.8888888888888888,
              "#fdca26"
             ],
             [
              1,
              "#f0f921"
             ]
            ],
            "type": "contour"
           }
          ],
          "contourcarpet": [
           {
            "colorbar": {
             "outlinewidth": 0,
             "ticks": ""
            },
            "type": "contourcarpet"
           }
          ],
          "heatmap": [
           {
            "colorbar": {
             "outlinewidth": 0,
             "ticks": ""
            },
            "colorscale": [
             [
              0,
              "#0d0887"
             ],
             [
              0.1111111111111111,
              "#46039f"
             ],
             [
              0.2222222222222222,
              "#7201a8"
             ],
             [
              0.3333333333333333,
              "#9c179e"
             ],
             [
              0.4444444444444444,
              "#bd3786"
             ],
             [
              0.5555555555555556,
              "#d8576b"
             ],
             [
              0.6666666666666666,
              "#ed7953"
             ],
             [
              0.7777777777777778,
              "#fb9f3a"
             ],
             [
              0.8888888888888888,
              "#fdca26"
             ],
             [
              1,
              "#f0f921"
             ]
            ],
            "type": "heatmap"
           }
          ],
          "heatmapgl": [
           {
            "colorbar": {
             "outlinewidth": 0,
             "ticks": ""
            },
            "colorscale": [
             [
              0,
              "#0d0887"
             ],
             [
              0.1111111111111111,
              "#46039f"
             ],
             [
              0.2222222222222222,
              "#7201a8"
             ],
             [
              0.3333333333333333,
              "#9c179e"
             ],
             [
              0.4444444444444444,
              "#bd3786"
             ],
             [
              0.5555555555555556,
              "#d8576b"
             ],
             [
              0.6666666666666666,
              "#ed7953"
             ],
             [
              0.7777777777777778,
              "#fb9f3a"
             ],
             [
              0.8888888888888888,
              "#fdca26"
             ],
             [
              1,
              "#f0f921"
             ]
            ],
            "type": "heatmapgl"
           }
          ],
          "histogram": [
           {
            "marker": {
             "pattern": {
              "fillmode": "overlay",
              "size": 10,
              "solidity": 0.2
             }
            },
            "type": "histogram"
           }
          ],
          "histogram2d": [
           {
            "colorbar": {
             "outlinewidth": 0,
             "ticks": ""
            },
            "colorscale": [
             [
              0,
              "#0d0887"
             ],
             [
              0.1111111111111111,
              "#46039f"
             ],
             [
              0.2222222222222222,
              "#7201a8"
             ],
             [
              0.3333333333333333,
              "#9c179e"
             ],
             [
              0.4444444444444444,
              "#bd3786"
             ],
             [
              0.5555555555555556,
              "#d8576b"
             ],
             [
              0.6666666666666666,
              "#ed7953"
             ],
             [
              0.7777777777777778,
              "#fb9f3a"
             ],
             [
              0.8888888888888888,
              "#fdca26"
             ],
             [
              1,
              "#f0f921"
             ]
            ],
            "type": "histogram2d"
           }
          ],
          "histogram2dcontour": [
           {
            "colorbar": {
             "outlinewidth": 0,
             "ticks": ""
            },
            "colorscale": [
             [
              0,
              "#0d0887"
             ],
             [
              0.1111111111111111,
              "#46039f"
             ],
             [
              0.2222222222222222,
              "#7201a8"
             ],
             [
              0.3333333333333333,
              "#9c179e"
             ],
             [
              0.4444444444444444,
              "#bd3786"
             ],
             [
              0.5555555555555556,
              "#d8576b"
             ],
             [
              0.6666666666666666,
              "#ed7953"
             ],
             [
              0.7777777777777778,
              "#fb9f3a"
             ],
             [
              0.8888888888888888,
              "#fdca26"
             ],
             [
              1,
              "#f0f921"
             ]
            ],
            "type": "histogram2dcontour"
           }
          ],
          "mesh3d": [
           {
            "colorbar": {
             "outlinewidth": 0,
             "ticks": ""
            },
            "type": "mesh3d"
           }
          ],
          "parcoords": [
           {
            "line": {
             "colorbar": {
              "outlinewidth": 0,
              "ticks": ""
             }
            },
            "type": "parcoords"
           }
          ],
          "pie": [
           {
            "automargin": true,
            "type": "pie"
           }
          ],
          "scatter": [
           {
            "fillpattern": {
             "fillmode": "overlay",
             "size": 10,
             "solidity": 0.2
            },
            "type": "scatter"
           }
          ],
          "scatter3d": [
           {
            "line": {
             "colorbar": {
              "outlinewidth": 0,
              "ticks": ""
             }
            },
            "marker": {
             "colorbar": {
              "outlinewidth": 0,
              "ticks": ""
             }
            },
            "type": "scatter3d"
           }
          ],
          "scattercarpet": [
           {
            "marker": {
             "colorbar": {
              "outlinewidth": 0,
              "ticks": ""
             }
            },
            "type": "scattercarpet"
           }
          ],
          "scattergeo": [
           {
            "marker": {
             "colorbar": {
              "outlinewidth": 0,
              "ticks": ""
             }
            },
            "type": "scattergeo"
           }
          ],
          "scattergl": [
           {
            "marker": {
             "colorbar": {
              "outlinewidth": 0,
              "ticks": ""
             }
            },
            "type": "scattergl"
           }
          ],
          "scattermapbox": [
           {
            "marker": {
             "colorbar": {
              "outlinewidth": 0,
              "ticks": ""
             }
            },
            "type": "scattermapbox"
           }
          ],
          "scatterpolar": [
           {
            "marker": {
             "colorbar": {
              "outlinewidth": 0,
              "ticks": ""
             }
            },
            "type": "scatterpolar"
           }
          ],
          "scatterpolargl": [
           {
            "marker": {
             "colorbar": {
              "outlinewidth": 0,
              "ticks": ""
             }
            },
            "type": "scatterpolargl"
           }
          ],
          "scatterternary": [
           {
            "marker": {
             "colorbar": {
              "outlinewidth": 0,
              "ticks": ""
             }
            },
            "type": "scatterternary"
           }
          ],
          "surface": [
           {
            "colorbar": {
             "outlinewidth": 0,
             "ticks": ""
            },
            "colorscale": [
             [
              0,
              "#0d0887"
             ],
             [
              0.1111111111111111,
              "#46039f"
             ],
             [
              0.2222222222222222,
              "#7201a8"
             ],
             [
              0.3333333333333333,
              "#9c179e"
             ],
             [
              0.4444444444444444,
              "#bd3786"
             ],
             [
              0.5555555555555556,
              "#d8576b"
             ],
             [
              0.6666666666666666,
              "#ed7953"
             ],
             [
              0.7777777777777778,
              "#fb9f3a"
             ],
             [
              0.8888888888888888,
              "#fdca26"
             ],
             [
              1,
              "#f0f921"
             ]
            ],
            "type": "surface"
           }
          ],
          "table": [
           {
            "cells": {
             "fill": {
              "color": "#EBF0F8"
             },
             "line": {
              "color": "white"
             }
            },
            "header": {
             "fill": {
              "color": "#C8D4E3"
             },
             "line": {
              "color": "white"
             }
            },
            "type": "table"
           }
          ]
         },
         "layout": {
          "annotationdefaults": {
           "arrowcolor": "#2a3f5f",
           "arrowhead": 0,
           "arrowwidth": 1
          },
          "autotypenumbers": "strict",
          "coloraxis": {
           "colorbar": {
            "outlinewidth": 0,
            "ticks": ""
           }
          },
          "colorscale": {
           "diverging": [
            [
             0,
             "#8e0152"
            ],
            [
             0.1,
             "#c51b7d"
            ],
            [
             0.2,
             "#de77ae"
            ],
            [
             0.3,
             "#f1b6da"
            ],
            [
             0.4,
             "#fde0ef"
            ],
            [
             0.5,
             "#f7f7f7"
            ],
            [
             0.6,
             "#e6f5d0"
            ],
            [
             0.7,
             "#b8e186"
            ],
            [
             0.8,
             "#7fbc41"
            ],
            [
             0.9,
             "#4d9221"
            ],
            [
             1,
             "#276419"
            ]
           ],
           "sequential": [
            [
             0,
             "#0d0887"
            ],
            [
             0.1111111111111111,
             "#46039f"
            ],
            [
             0.2222222222222222,
             "#7201a8"
            ],
            [
             0.3333333333333333,
             "#9c179e"
            ],
            [
             0.4444444444444444,
             "#bd3786"
            ],
            [
             0.5555555555555556,
             "#d8576b"
            ],
            [
             0.6666666666666666,
             "#ed7953"
            ],
            [
             0.7777777777777778,
             "#fb9f3a"
            ],
            [
             0.8888888888888888,
             "#fdca26"
            ],
            [
             1,
             "#f0f921"
            ]
           ],
           "sequentialminus": [
            [
             0,
             "#0d0887"
            ],
            [
             0.1111111111111111,
             "#46039f"
            ],
            [
             0.2222222222222222,
             "#7201a8"
            ],
            [
             0.3333333333333333,
             "#9c179e"
            ],
            [
             0.4444444444444444,
             "#bd3786"
            ],
            [
             0.5555555555555556,
             "#d8576b"
            ],
            [
             0.6666666666666666,
             "#ed7953"
            ],
            [
             0.7777777777777778,
             "#fb9f3a"
            ],
            [
             0.8888888888888888,
             "#fdca26"
            ],
            [
             1,
             "#f0f921"
            ]
           ]
          },
          "colorway": [
           "#636efa",
           "#EF553B",
           "#00cc96",
           "#ab63fa",
           "#FFA15A",
           "#19d3f3",
           "#FF6692",
           "#B6E880",
           "#FF97FF",
           "#FECB52"
          ],
          "font": {
           "color": "#2a3f5f"
          },
          "geo": {
           "bgcolor": "white",
           "lakecolor": "white",
           "landcolor": "#E5ECF6",
           "showlakes": true,
           "showland": true,
           "subunitcolor": "white"
          },
          "hoverlabel": {
           "align": "left"
          },
          "hovermode": "closest",
          "mapbox": {
           "style": "light"
          },
          "paper_bgcolor": "white",
          "plot_bgcolor": "#E5ECF6",
          "polar": {
           "angularaxis": {
            "gridcolor": "white",
            "linecolor": "white",
            "ticks": ""
           },
           "bgcolor": "#E5ECF6",
           "radialaxis": {
            "gridcolor": "white",
            "linecolor": "white",
            "ticks": ""
           }
          },
          "scene": {
           "xaxis": {
            "backgroundcolor": "#E5ECF6",
            "gridcolor": "white",
            "gridwidth": 2,
            "linecolor": "white",
            "showbackground": true,
            "ticks": "",
            "zerolinecolor": "white"
           },
           "yaxis": {
            "backgroundcolor": "#E5ECF6",
            "gridcolor": "white",
            "gridwidth": 2,
            "linecolor": "white",
            "showbackground": true,
            "ticks": "",
            "zerolinecolor": "white"
           },
           "zaxis": {
            "backgroundcolor": "#E5ECF6",
            "gridcolor": "white",
            "gridwidth": 2,
            "linecolor": "white",
            "showbackground": true,
            "ticks": "",
            "zerolinecolor": "white"
           }
          },
          "shapedefaults": {
           "line": {
            "color": "#2a3f5f"
           }
          },
          "ternary": {
           "aaxis": {
            "gridcolor": "white",
            "linecolor": "white",
            "ticks": ""
           },
           "baxis": {
            "gridcolor": "white",
            "linecolor": "white",
            "ticks": ""
           },
           "bgcolor": "#E5ECF6",
           "caxis": {
            "gridcolor": "white",
            "linecolor": "white",
            "ticks": ""
           }
          },
          "title": {
           "x": 0.05
          },
          "xaxis": {
           "automargin": true,
           "gridcolor": "white",
           "linecolor": "white",
           "ticks": "",
           "title": {
            "standoff": 15
           },
           "zerolinecolor": "white",
           "zerolinewidth": 2
          },
          "yaxis": {
           "automargin": true,
           "gridcolor": "white",
           "linecolor": "white",
           "ticks": "",
           "title": {
            "standoff": 15
           },
           "zerolinecolor": "white",
           "zerolinewidth": 2
          }
         }
        },
        "title": {
         "text": "TSNE Visualization of Preset musicnn Embeddings"
        },
        "width": 800,
        "xaxis": {
         "anchor": "y",
         "domain": [
          0,
          1
         ],
         "range": [
          -68.20367889404297,
          68.46808776855468
         ],
         "title": {
          "text": "t-SNE Component 1"
         }
        },
        "yaxis": {
         "anchor": "x",
         "domain": [
          0,
          1
         ],
         "range": [
          -25.37717056274414,
          19.796278381347655
         ],
         "title": {
          "text": "t-SNE Component 2"
         }
        }
       }
      }
     },
     "metadata": {},
     "output_type": "display_data"
    }
   ],
   "source": [
    "## Create the TSNE Plot with plotly\n",
    "fig = px.scatter(df_filtered, x='x', y='y', color='categorized_name',hover_data=['preset_name', 'categorized_name'], width=800, height=800)\n",
    "\n",
    "# add a legend\n",
    "fig.update_layout(showlegend=True)\n",
    "\n",
    "# add a title\n",
    "fig.update_layout(title='TSNE Visualization of Preset musicnn Embeddings')\n",
    "\n",
    "# add a hover label\n",
    "fig.update_traces(hovertemplate='Preset Name: %{customdata[0]}<br>Categorized Name: %{customdata[1]}')\n",
    "\n",
    "# obtain the data bounds\n",
    "x_min = np.min(filtered_transformed_data[:, 0])*1.2\n",
    "x_max = np.max(filtered_transformed_data[:, 0])*1.2\n",
    "y_min = np.min(filtered_transformed_data[:, 1])*1.2\n",
    "y_max = np.max(filtered_transformed_data[:, 1])*1.2\n",
    "\n",
    "# add some extra info to the plot\n",
    "fig.update_layout(\n",
    "    width=800,\n",
    "    height=800,\n",
    "    xaxis_title='t-SNE Component 1',\n",
    "    yaxis_title='t-SNE Component 2',\n",
    "    legend_title='Preset Categories',\n",
    "    xaxis=dict(range=[x_min, x_max]),\n",
    "    yaxis=dict(range=[y_min, y_max]),\n",
    ")   \n",
    "\n",
    "# show the plot\n",
    "fig.show()"
   ]
  },
  {
   "cell_type": "code",
   "execution_count": 26,
   "metadata": {},
   "outputs": [],
   "source": [
    "# save the plotly figure as an svg\n",
    "fig.write_image('tsne-raw-audio-baseline.svg')"
   ]
  }
 ],
 "metadata": {
  "kernelspec": {
   "display_name": "Python 3.10.9 ('gass')",
   "language": "python",
   "name": "python3"
  },
  "language_info": {
   "codemirror_mode": {
    "name": "ipython",
    "version": 3
   },
   "file_extension": ".py",
   "mimetype": "text/x-python",
   "name": "python",
   "nbconvert_exporter": "python",
   "pygments_lexer": "ipython3",
   "version": "3.10.9"
  },
  "orig_nbformat": 4,
  "vscode": {
   "interpreter": {
    "hash": "6947268d801286644aa606ce5873de7c618a991e1c50a7cf64b46ea54e097eb2"
   }
  }
 },
 "nbformat": 4,
 "nbformat_minor": 2
}
