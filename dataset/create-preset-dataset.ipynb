{
 "cells": [
  {
   "cell_type": "markdown",
   "metadata": {},
   "source": [
    "# Dataset Creation Notebook\n",
    "\n",
    "---\n",
    "\n",
    "Author: **Malek Ibrahim**\n",
    "\n",
    "This notebook will handle all of the preset dataset creation for this project. Namely, we seek to create a dataset that has the following entries:\n",
    "\n",
    "1. Preset Parameters: $p_i \\in \\mathbb{R}^{50 \\times 1}$\n",
    "2. Rendered Audio Clip: $y_p \\in \\mathbb{R}^{n \\times 1}$ where $n$ is the number of audio samples for a given preset\n",
    "3. Timbral Feature Vector: $z_p \\in \\mathbb{R}^{m \\times 1}$ where $m$ is the size of the latent representation\n",
    "\n",
    "\n"
   ]
  },
  {
   "cell_type": "markdown",
   "metadata": {},
   "source": [
    "## Import Modules\n",
    "\n",
    "---\n",
    "\n",
    "We will be primarily using dawdreamer and various utility functions defined in `src/utils.py` for this task."
   ]
  },
  {
   "cell_type": "code",
   "execution_count": 2,
   "metadata": {},
   "outputs": [],
   "source": [
    "import sys; sys.path.append(\"../\")\n",
    "from src.utils import *\n",
    "import dawdreamer as daw\n",
    "import numpy as np\n",
    "import pandas as pd"
   ]
  },
  {
   "cell_type": "markdown",
   "metadata": {},
   "source": [
    "## Render the Audio Data\n",
    "\n",
    "---\n",
    "\n",
    "For this section, we will have to make some choices on what note our synth preset should play, as well as how long each one should play for."
   ]
  },
  {
   "cell_type": "markdown",
   "metadata": {},
   "source": [
    "### Load the TAL-UNO Synth\n",
    "\n",
    "---\n",
    "\n",
    "For this work, we are using the TAL-U-NO-LX synth from [Togu Audio Line](https://tal-software.com/products/tal-u-no-lx) in order to generate a dataset of timbral features for a given preset. Although the TAL-U-NO-LX synth is a paid VST3 plugin, the synth has hundreds of hand-made presets that can be loaded into the synth that cover a wide range of sounds and offer a good starting point for further parameter optimization."
   ]
  },
  {
   "cell_type": "markdown",
   "metadata": {},
   "source": [
    "#### Configuration Defintitions\n",
    "\n",
    "---\n",
    "\n",
    "Below we define some settings that will be used for loading the plugin and creating the dataset, such as the sample rate, buffer size, and duration of the audio clips."
   ]
  },
  {
   "cell_type": "code",
   "execution_count": 3,
   "metadata": {},
   "outputs": [],
   "source": [
    "# Define constants\n",
    "SAMPLE_RATE = 44100\n",
    "BUFFER_SIZE = 128 # Parameters will undergo automation at this buffer/block size.\n",
    "PPQN = 960 # Pulses per quarter note.\n",
    "SYNTH_PLUGIN = \"/Library/Audio/Plug-Ins/VST3/TAL-U-NO-LX-V2.vst3\"  # extensions: .dll, .vst3, .vst, .component\n",
    "SYNTH_NAME = \"TAL-Uno\"\n",
    "PRESET_FOLDER = \"/Users/malek8/Library/Application Support/ToguAudioLine/TAL-U-No-LX/presets\"\n",
    "PRESET_EXT = \".pjunoxl\"\n",
    "DURATION = 0.1 # in seconds\n",
    "NOTES = ['C2','C3','C4']  # 2 octave range"
   ]
  },
  {
   "cell_type": "code",
   "execution_count": 4,
   "metadata": {},
   "outputs": [
    {
     "name": "stderr",
     "output_type": "stream",
     "text": [
      "error: attempt to map invalid URI `/Library/Audio/Plug-Ins/VST3/TAL-U-NO-LX-V2.vst3'\n"
     ]
    }
   ],
   "source": [
    "# load the engine\n",
    "engine = daw.RenderEngine(sample_rate=SAMPLE_RATE, block_size=BUFFER_SIZE)\n",
    "\n",
    "# load the plugin\n",
    "plugin = load_plugin_with_dawdreamer(SYNTH_PLUGIN,SYNTH_NAME,engine)"
   ]
  },
  {
   "cell_type": "markdown",
   "metadata": {},
   "source": [
    "### Create the Preset Dataset\n",
    "\n",
    "---\n",
    "\n",
    "Now we actually want to create the preset dataset, which we can accmplish by running the following code."
   ]
  },
  {
   "cell_type": "code",
   "execution_count": null,
   "metadata": {},
   "outputs": [
    {
     "name": "stderr",
     "output_type": "stream",
     "text": [
      "error: attempt to map invalid URI `/Library/Audio/Plug-Ins/VST3/TAL-U-NO-LX-V2.vst3'\n"
     ]
    }
   ],
   "source": [
    "# create_preset_dataset() --> create a dataset of audio files from a preset folder in the form presented above\n",
    "preset_dataset = create_preset_dataset(PRESET_FOLDER,SYNTH_PLUGIN,SYNTH_NAME,SAMPLE_RATE,BUFFER_SIZE,NOTES,DURATION,PRESET_EXT,verbose=False)"
   ]
  }
 ],
 "metadata": {
  "kernelspec": {
   "display_name": "Python 3.10.9 ('gass')",
   "language": "python",
   "name": "python3"
  },
  "language_info": {
   "codemirror_mode": {
    "name": "ipython",
    "version": 3
   },
   "file_extension": ".py",
   "mimetype": "text/x-python",
   "name": "python",
   "nbconvert_exporter": "python",
   "pygments_lexer": "ipython3",
   "version": "3.10.9"
  },
  "orig_nbformat": 4,
  "vscode": {
   "interpreter": {
    "hash": "6947268d801286644aa606ce5873de7c618a991e1c50a7cf64b46ea54e097eb2"
   }
  }
 },
 "nbformat": 4,
 "nbformat_minor": 2
}
