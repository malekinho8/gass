{
 "cells": [
  {
   "cell_type": "markdown",
   "metadata": {},
   "source": [
    "# Dataset Visualization Notebook (MFCC)\n",
    "\n",
    "---\n",
    "\n",
    "Author: **Malek Ibrahim**\n",
    "\n",
    "This notebooks seeks to create a TSNE plot of the preset dataset in their timbral space (MFCC features). General steps are outlined below:\n",
    "\n",
    "1. Load the preset dataset file\n",
    "1. Categorize the presets\n",
    "1. Prepare the DataFrame\n",
    "1. Obtain the TSNE 2D embeddings from the higher-dimensional MFCC features\n",
    "1. Plot the results!"
   ]
  },
  {
   "cell_type": "markdown",
   "metadata": {},
   "source": [
    "## Imports\n",
    "\n",
    "---\n",
    "\n",
    "For this script, we will need Pytorch to load the dataset, scikit-learn for the TSNE plot functionality, and also plotly to visualize the results."
   ]
  },
  {
   "cell_type": "code",
   "execution_count": 1,
   "metadata": {},
   "outputs": [],
   "source": [
    "import torch\n",
    "import numpy as np\n",
    "import plotly.graph_objects as go\n",
    "import plotly.express as px\n",
    "import matplotlib.pyplot as plt\n",
    "import pandas as pd\n",
    "from sklearn.manifold import TSNE\n",
    "import sys;sys.path.append('..')\n",
    "from src.utils import *"
   ]
  },
  {
   "cell_type": "markdown",
   "metadata": {},
   "source": [
    "## Load the Preset Dataset\n",
    "\n",
    "---\n",
    "\n",
    "Load the preset from the saved `.pt` file and inspect its structure."
   ]
  },
  {
   "cell_type": "code",
   "execution_count": 2,
   "metadata": {},
   "outputs": [],
   "source": [
    "dataset = torch.load('preset_dataset.pt')"
   ]
  },
  {
   "cell_type": "code",
   "execution_count": 3,
   "metadata": {},
   "outputs": [
    {
     "data": {
      "text/plain": [
       "dict_keys(['preset_names', 'raw_audio', 'MFCCs'])"
      ]
     },
     "execution_count": 3,
     "metadata": {},
     "output_type": "execute_result"
    }
   ],
   "source": [
    "dataset.keys()"
   ]
  },
  {
   "cell_type": "code",
   "execution_count": 4,
   "metadata": {},
   "outputs": [
    {
     "data": {
      "text/plain": [
       "['Default',\n",
       " 'MT Tailwhip Organ (2)',\n",
       " 'Super Jumper',\n",
       " 'Nice Filter Sweep',\n",
       " 'Chillin R2D2',\n",
       " 'Deep Drop In',\n",
       " 'Enter the Twirl',\n",
       " 'Water Love',\n",
       " 'Pulse Drop',\n",
       " 'Phasing Island Bass',\n",
       " 'Mono Pulse Bass',\n",
       " '08-15 Bass',\n",
       " 'Classic Saw Bass',\n",
       " 'Funky Mod Bass',\n",
       " 'Ultra Deep Bass',\n",
       " 'Basic Pad',\n",
       " 'Apollo Pad',\n",
       " 'Pulse Drop Pad',\n",
       " 'Self Destroy',\n",
       " 'Big Lead',\n",
       " 'Double Chorus Trancer',\n",
       " 'Super Funky Lead',\n",
       " 'Startup',\n",
       " 'Ugly One',\n",
       " 'Disharmonic feedback',\n",
       " 'Slow Phaser',\n",
       " 'Eso Drops',\n",
       " 'Dark Roads',\n",
       " 'Mellow LoFi Lead',\n",
       " 'Crystal Drops',\n",
       " 'Dream Arp',\n",
       " 'FN-Bassliner-BAS',\n",
       " 'FN-Dark Bass II-BAS',\n",
       " 'FN-Flow Bass-BAS',\n",
       " 'FN-High Noise-BAS',\n",
       " 'FN-Wobblelike Bass-BAS',\n",
       " 'FN-Dark Bass-BAS',\n",
       " 'FN-Nostalgic Bass-BAS',\n",
       " 'FN-C64ish Bass',\n",
       " 'FN-Basslover',\n",
       " 'FN-Bass Wobbler-BAS',\n",
       " 'FN-Wobblebass-BAS',\n",
       " 'FN-Dark Night-PAD',\n",
       " 'FN-Analog Feeling-PAD',\n",
       " 'FN-Blubberfeld-PAD',\n",
       " 'FN-Noisia-PAD',\n",
       " 'FN-Darpesh Pad-PAD',\n",
       " 'FN-Restless Night-PAD',\n",
       " 'FN-Analog Pad-PAD',\n",
       " 'FN-RollinSun-PAD',\n",
       " 'FN-Flowing Filter-PAD',\n",
       " 'FN-Experimental-PAD',\n",
       " 'FN-Keep It Noisy!',\n",
       " 'FN-Digital Feeling',\n",
       " 'FN-Analog Lead-FN',\n",
       " 'FN-Enjoy My C64',\n",
       " 'FN-Nostalgicer Lead-LEA',\n",
       " 'FN-Plastic Lead-LEA',\n",
       " 'FN-I Need Lead-LEA',\n",
       " 'FN-Easy Listening',\n",
       " 'FN-A Little Something-LEA',\n",
       " 'FN-Doubleplayer',\n",
       " 'FN-Free Willy-ARP',\n",
       " 'FN-Resonanzig',\n",
       " 'FN-Filter Lead-LEA',\n",
       " 'FN-Chordmachine-KEY',\n",
       " 'FN-Easy Keys',\n",
       " 'FN-Chordmachine II-KEY',\n",
       " 'FN-Small Keys-KEY',\n",
       " 'FN-Low Keys-KEY',\n",
       " 'FN-Backwards ARP',\n",
       " 'FN-Anastyle-ARP',\n",
       " 'FN-Percussive Plugger2-ARP',\n",
       " 'FN-Percussive Plugger-ARP',\n",
       " 'FN-Pluggiolator-ARP',\n",
       " 'FN-C64ish Arp',\n",
       " 'FN-Bass Lover-ARP',\n",
       " 'FN-Anastyle II-ARP',\n",
       " 'FN-One Finger Show-ARP',\n",
       " 'FN-Percussive Plugger3-ARP',\n",
       " 'FN-Rhytmic Noise-ARP',\n",
       " 'SFX UFO Landing FMR',\n",
       " 'SFX Surfing the Waves FMR',\n",
       " 'SFX Noise Bubbles FMR',\n",
       " 'SFX Space Sound 4 FMR',\n",
       " 'PNO Piano 2 FMR',\n",
       " 'PNO Another E P FMR',\n",
       " 'PNO Classic E P FMR',\n",
       " 'PNO Sweet Tines FMR',\n",
       " 'PNO Piano 1 FMR',\n",
       " 'PNO Mellow Piano FMR',\n",
       " 'PNO Bright Rhodes FMR',\n",
       " 'STR String Machine FMR',\n",
       " 'STR PWM Strings 2 FMR',\n",
       " 'STR Strings 1 FMR',\n",
       " 'STR Eminent Strings FMR',\n",
       " 'STR Strings 2 FMR',\n",
       " 'STR PWM Strings 1 FMR',\n",
       " 'STR Spartacus VI FMR',\n",
       " 'STR String Ensemble FMR',\n",
       " 'STR Prophet Strings FMR',\n",
       " 'STR Soft Strings FMR',\n",
       " 'STR Low Strings FMR',\n",
       " 'STR Full Strings FMR',\n",
       " 'STR Spartacus VII FMR',\n",
       " 'STR Strings 3 FMR',\n",
       " 'ORG Organ 2 FMR',\n",
       " 'ORG Another Organ FMR',\n",
       " 'ORG Spartacus IX FMR',\n",
       " 'ORG Jazz Organ FMR',\n",
       " 'ORG Spartacus XI FMR',\n",
       " 'ORG Spartacus XII FMR',\n",
       " 'ORG Church Organ Positive FMR',\n",
       " 'ORG Church Organ Gated FMR',\n",
       " 'ORG Organ 1 FMR',\n",
       " 'ORG Spartacus X FMR',\n",
       " 'ORG Church Organ Full Pipes 1 FMR',\n",
       " 'ORG Synthesizer Organ 2 FMR',\n",
       " 'ORG Organ 3 FMR',\n",
       " 'ORG Synthesizer Organ 1 FMR',\n",
       " 'ORG Church Organ Full Pipes 2 FMR',\n",
       " 'DRM Synth Drum 1 FMR',\n",
       " 'DRM Snare Gun FMR',\n",
       " 'DRM Snare Drum 2 FMR',\n",
       " 'DRM Kick Drum 3 FMR',\n",
       " 'DRM Ride Cymbal FMR',\n",
       " 'DRM Snare Drum 1 FMR',\n",
       " 'DRM Snare Drum 4 FMR',\n",
       " 'DRM Synth Drum 2 FMR',\n",
       " 'DRM Kick Drum 2 FMR',\n",
       " 'DRM Kick and Snap FMR',\n",
       " 'DRM Snare Drum 3 FMR',\n",
       " 'DRM Hi-Hat Opened FMR',\n",
       " 'DRM Crash Cymbal FMR',\n",
       " 'DRM Synth Drum 3 FMR',\n",
       " 'DRM Kick Drum and Toms FMR',\n",
       " 'DRM Hi-Hat Closed FMR',\n",
       " 'DRM Kick Drum 1 FMR',\n",
       " 'WND English Horn FMR',\n",
       " 'WND Ocarina FMR',\n",
       " 'WND Flute 1 FMR',\n",
       " 'WND Flute 2 FMR',\n",
       " 'WND Pan Flute FMR',\n",
       " 'WND Oboe FMR',\n",
       " 'WND Clarinet FMR',\n",
       " 'WND Flauto Dolce FMR',\n",
       " 'GTR Overdrive Guitar FMR',\n",
       " 'GTR Chorused Ovation FMR',\n",
       " 'GTR Jazz Guitar FMR',\n",
       " 'GTR Steel String Guitar FMR',\n",
       " 'GTR Acoustic Guitar FMR',\n",
       " 'BRS Brass 2 FMR',\n",
       " 'BRS French Horn FMR',\n",
       " 'BRS Brass Pad 1 FMR',\n",
       " 'BRS Tuba FMR',\n",
       " 'BRS Brass Pad 2 FMR',\n",
       " 'BRS Brass 1 FMR',\n",
       " 'BRS Low Brass FMR',\n",
       " 'BRS Phase Brass FMR',\n",
       " 'BRS Trumpet FMR',\n",
       " 'BRS Brass 3 FMR',\n",
       " 'BRS Prophet Brass FMR',\n",
       " 'BRS Brass Pad 3 FMR',\n",
       " 'BAS Square Bass FMR',\n",
       " 'BAS Pulse Bass 1 FMR',\n",
       " 'BAS Acid Bass 2 FMR',\n",
       " 'BAS Acid Bass 1 FMR',\n",
       " 'BAS Acid Bass 4 FMR',\n",
       " 'BAS Pulse Bass 2 FMR',\n",
       " 'BAS Round Bass 2 FMR',\n",
       " 'BAS Synth Bass 2 FMR',\n",
       " 'BAS Acid Bass 3 FMR',\n",
       " 'BAS Wire Bass FMR',\n",
       " 'BAS Love Bass FMR',\n",
       " 'BAS Hooverish Bass FMR',\n",
       " 'BAS Basso Profondo FMR',\n",
       " 'BAS Synth Bass 1 FMR',\n",
       " 'BAS Round Bass 1 FMR',\n",
       " 'PAD Rise the Pulse FMR',\n",
       " 'PAD Spartacus I FMR',\n",
       " 'PAD Spartacus V FMR',\n",
       " 'PAD Reso Pad FMR',\n",
       " 'PAD Metal Rotor Pad FMR',\n",
       " 'PAD Classic Sweep Pad FMR',\n",
       " 'PAD Dive Into The Deep FMR',\n",
       " 'PAD Meditation Pad 3 FMR',\n",
       " 'PAD Forever Pad FMR',\n",
       " 'PAD Hoiy Mass FMR',\n",
       " 'PAD Woosh Pad FMR',\n",
       " 'PAD Massive Pad 1 FMR',\n",
       " 'PAD Big Synth Pad 2 FMR',\n",
       " 'PAD This Is It FMR',\n",
       " 'PAD Meditation Pad 1 FMR',\n",
       " 'PAD Chariots VG Brass FMR',\n",
       " 'PAD Bass Pad FMR',\n",
       " 'PAD PWM Pad FMR',\n",
       " 'PAD Meditation Pad 2 FMR',\n",
       " 'PAD Big Synth Pad 1 FMR',\n",
       " 'PAD Massive Pad 2 FMR',\n",
       " 'PAD High Res Pad FMR',\n",
       " 'PRC Chiff Attack FMR',\n",
       " 'PRC Percussion 2 FMR',\n",
       " 'PRC Thump Bass Drum FMR',\n",
       " 'PRC Percussion 1 FMR',\n",
       " 'PRC Percussion 4 FMR',\n",
       " 'PRC Xylophone FMR',\n",
       " 'PRC Synth Gamelan FMR',\n",
       " 'PRC Dual SynRes Percussion FMR',\n",
       " 'PRC Percussion 3 FMR',\n",
       " 'PRC Popcorn FMR',\n",
       " 'PRC Pizzicato Sound 2 FMR',\n",
       " 'PRC Clicks FMR',\n",
       " 'PRC Pizzicato Sound 1 FMR',\n",
       " 'PRC Crystal Bells FMR',\n",
       " 'PRC Glockenspiel FMR',\n",
       " 'PRC Steel Drum FMR',\n",
       " 'PRC The Tech Pluck FMR',\n",
       " 'SYN Harpsynth Poly FMR',\n",
       " 'SYN Phase Combination FMR',\n",
       " 'SYN Raw Saw-Sub FMR',\n",
       " 'SYN Please Release Me FMR',\n",
       " 'SYN Slow Polysynth FMR',\n",
       " 'SYN Percussive Polysynth FMR',\n",
       " 'SYN VH Jump FMR',\n",
       " 'SYN PWM FMR',\n",
       " 'SYN PWM Chorus C FMR',\n",
       " 'SYN Space Harp FMR',\n",
       " 'SYN Dreamy Poly FMR',\n",
       " 'SYN Reed 2 FMR',\n",
       " 'SYN Gated Bright Synth FMR',\n",
       " 'SYN PWM Sound FMR',\n",
       " 'SYN Chariots VG Harp FMR',\n",
       " 'SYN PWM Chorus B FMR',\n",
       " 'SYN Raw Saw-Square FMR',\n",
       " 'SYN Synthesizer Harp FMR',\n",
       " 'SYN Synth Harp LFO FMR',\n",
       " 'SYN Dynamic Polysynth FMR',\n",
       " 'SYN Wah Brass FMR',\n",
       " 'SYN Harpe Laser FMR',\n",
       " 'SYN Fluctuation Keys FMR',\n",
       " 'LED Big Lead 2 FMR',\n",
       " 'LED Sing Like a Cat FMR',\n",
       " 'LED Spartacus III FMR',\n",
       " 'LED Calliope FMR',\n",
       " 'LED Spartacus IV FMR',\n",
       " 'LED Spartacus II FMR',\n",
       " 'LED Reed 1 FMR',\n",
       " 'LED Big Lead 1 FMR',\n",
       " 'LED Flutey Vibrato Solo FMR',\n",
       " 'LED Silk Road Lead FMR',\n",
       " 'LED Reed 3 FMR',\n",
       " 'LED PWM Lead FMR',\n",
       " 'LED Violin FMR',\n",
       " 'LED Square Lead FMR',\n",
       " 'LED Meeaow Lead FMR',\n",
       " 'LED LFO Lead FMR',\n",
       " 'LED Tin Whistle FMR',\n",
       " 'DRN Deep Drone FMR',\n",
       " 'DRN LFO and Echo Drone FMR',\n",
       " 'DRN Waving Bass Drone FMR',\n",
       " 'DRN JX-3P Drone FMR',\n",
       " 'DRN Sequence Like Drone FMR',\n",
       " 'CHO Church Choir FMR',\n",
       " 'CHO PWM Chorus A FMR',\n",
       " 'CHO Voice Chorus FMR',\n",
       " 'CHO Voice Chorus Too FMR',\n",
       " 'ARP Swinging Arpeggio FMR',\n",
       " 'ARP PWM LFO Arpeggio FMR',\n",
       " 'ARP Bass Arpeggio FMR',\n",
       " 'ARP KS-TD Arpeggio FMR',\n",
       " 'ARP Play Just One Note FMR',\n",
       " 'ARP Random Arpeggiated PWM FMR',\n",
       " 'ARP String Machine Arpeggio FMR',\n",
       " 'ARP Ravers Arp FMR',\n",
       " 'ARP Cold Thinking Arpeggio FMR',\n",
       " 'ARP Berlin School Arpeggio FMR',\n",
       " 'ARP Wisteria Spot FMR',\n",
       " 'ARP Stringish Arp FMR',\n",
       " 'ARP Circles Arpeggio FMR',\n",
       " 'MFX Mysterious Invention FMR',\n",
       " 'MFX LFO and Echo FMR',\n",
       " 'MFX Space Sound 3 FMR',\n",
       " 'MFX Effect Sound Six FMR',\n",
       " 'MFX Effect Sound Three FMR',\n",
       " 'MFX Effect Sound Five FMR',\n",
       " 'MFX Space Sound 1 FMR',\n",
       " 'MFX Spartacus VIII FMR',\n",
       " 'MFX Effect Sound 76 FMR',\n",
       " 'MFX Low Harp Endless Tail FMR',\n",
       " 'MFX Effect Sound One FMR',\n",
       " 'MFX Effect Sound Four FMR',\n",
       " 'MFX Inverted Filter PWM FMR',\n",
       " 'MFX Space Sound 2 FMR',\n",
       " 'MFX Effect Sound Two FMR',\n",
       " 'MFX Effect Sound Seven FMR',\n",
       " 'KBD Celesta FMR',\n",
       " 'KBD Funk B FMR',\n",
       " 'KBD Harpsichord 1 FMR',\n",
       " 'KBD Harpsichord 2 FMR',\n",
       " 'KBD Funk A FMR',\n",
       " 'KBD Classic Clavinet FMR',\n",
       " 'KBD Clavichord 2 FMR',\n",
       " 'KBD Clavichord 1 FMR',\n",
       " 'KBD Synthi Clavinet FMR',\n",
       " 'The Difference Bass',\n",
       " 'The Difference Trumpet Synth',\n",
       " 'MT Norton Commander',\n",
       " 'MT Numb',\n",
       " 'MT Tailwhip Xylophone',\n",
       " 'MT Tailwhip Lead',\n",
       " 'MT Tailwhip Organ',\n",
       " '67 Mysterious Invention',\n",
       " '56 Reed 2',\n",
       " '63 Effect Sound 2',\n",
       " '57 Reed 3',\n",
       " '17 Brass',\n",
       " '54 Reed 1',\n",
       " '65 Funk',\n",
       " '25 Harpsichord 1',\n",
       " '62 Effect Sound 1',\n",
       " '73 Whistle',\n",
       " '23 Celesta',\n",
       " '28 Synthesizer Harp',\n",
       " '53 Phase Combination',\n",
       " '14 Organ 1',\n",
       " '64 Space Harp',\n",
       " '35 Pizzicato Sound 1',\n",
       " '71 Percussive Sound 1',\n",
       " '11 Strings 1',\n",
       " '44 Tuba',\n",
       " '41 Violine',\n",
       " '46 Clarinet',\n",
       " '12 Strings 2',\n",
       " '45 Flute',\n",
       " '58 PWM Chorus',\n",
       " '34 Clavichord 2',\n",
       " '13 Strings 3',\n",
       " '22 Piano 2',\n",
       " '15 Organ 2',\n",
       " '52 Wah Brass',\n",
       " '68 Space Sound 2',\n",
       " '51 Funny Cat',\n",
       " '33 Clavichord 1',\n",
       " '48 English Horn',\n",
       " '21 Piano 1',\n",
       " '38 Glockenspiel',\n",
       " '61 Synthesizer Organ',\n",
       " '78 Synthesizer Drum',\n",
       " '74 Effect Sound 3',\n",
       " '47 Oboe',\n",
       " '36 Pizzicato Sound 2',\n",
       " '76 Space Sound 3',\n",
       " '18 Phase Brass',\n",
       " '32 Bass 2',\n",
       " '31 Bass 1',\n",
       " '77 Surf',\n",
       " '72 Percussive Sound 2',\n",
       " '27 Guitar',\n",
       " '66 Space Sound 1',\n",
       " '37 Xylophone',\n",
       " '43 Horn',\n",
       " '26 Harpsichord 2',\n",
       " '24 Mellow Piano',\n",
       " '42 Trumpet',\n",
       " '16 Organ 3',\n",
       " '75 UFO',\n",
       " '55 Popcorn']"
      ]
     },
     "execution_count": 4,
     "metadata": {},
     "output_type": "execute_result"
    }
   ],
   "source": [
    "dataset['preset_names']"
   ]
  },
  {
   "cell_type": "code",
   "execution_count": 5,
   "metadata": {},
   "outputs": [],
   "source": [
    "# we need to convert the preset names to a categorical variable in order to group the points in the scatter plot\n",
    "categorized_names = {name: categorize_name(name) for name in dataset['preset_names']}"
   ]
  },
  {
   "cell_type": "code",
   "execution_count": 6,
   "metadata": {},
   "outputs": [
    {
     "data": {
      "text/plain": [
       "{'Default': 'Miscellaneous/Other',\n",
       " 'MT Tailwhip Organ (2)': 'Organs',\n",
       " 'Super Jumper': 'Miscellaneous/Other',\n",
       " 'Nice Filter Sweep': 'Miscellaneous/Other',\n",
       " 'Chillin R2D2': 'Miscellaneous/Other',\n",
       " 'Deep Drop In': 'Miscellaneous/Other',\n",
       " 'Enter the Twirl': 'Miscellaneous/Other',\n",
       " 'Water Love': 'Miscellaneous/Other',\n",
       " 'Pulse Drop': 'Miscellaneous/Other',\n",
       " 'Phasing Island Bass': 'Bass',\n",
       " 'Mono Pulse Bass': 'Bass',\n",
       " '08-15 Bass': 'Bass',\n",
       " 'Classic Saw Bass': 'Bass',\n",
       " 'Funky Mod Bass': 'Bass',\n",
       " 'Ultra Deep Bass': 'Bass',\n",
       " 'Basic Pad': 'Miscellaneous/Other',\n",
       " 'Apollo Pad': 'Miscellaneous/Other',\n",
       " 'Pulse Drop Pad': 'Miscellaneous/Other',\n",
       " 'Self Destroy': 'Miscellaneous/Other',\n",
       " 'Big Lead': 'Leads',\n",
       " 'Double Chorus Trancer': 'Miscellaneous/Other',\n",
       " 'Super Funky Lead': 'Leads',\n",
       " 'Startup': 'Miscellaneous/Other',\n",
       " 'Ugly One': 'Miscellaneous/Other',\n",
       " 'Disharmonic feedback': 'Miscellaneous/Other',\n",
       " 'Slow Phaser': 'Miscellaneous/Other',\n",
       " 'Eso Drops': 'Miscellaneous/Other',\n",
       " 'Dark Roads': 'Miscellaneous/Other',\n",
       " 'Mellow LoFi Lead': 'Leads',\n",
       " 'Crystal Drops': 'Miscellaneous/Other',\n",
       " 'Dream Arp': 'Arpeggios',\n",
       " 'FN-Bassliner-BAS': 'Bass',\n",
       " 'FN-Dark Bass II-BAS': 'Bass',\n",
       " 'FN-Flow Bass-BAS': 'Bass',\n",
       " 'FN-High Noise-BAS': 'Bass',\n",
       " 'FN-Wobblelike Bass-BAS': 'Bass',\n",
       " 'FN-Dark Bass-BAS': 'Bass',\n",
       " 'FN-Nostalgic Bass-BAS': 'Bass',\n",
       " 'FN-C64ish Bass': 'Bass',\n",
       " 'FN-Basslover': 'Bass',\n",
       " 'FN-Bass Wobbler-BAS': 'Bass',\n",
       " 'FN-Wobblebass-BAS': 'Bass',\n",
       " 'FN-Dark Night-PAD': 'Synth Pads',\n",
       " 'FN-Analog Feeling-PAD': 'Synth Pads',\n",
       " 'FN-Blubberfeld-PAD': 'Synth Pads',\n",
       " 'FN-Noisia-PAD': 'Synth Pads',\n",
       " 'FN-Darpesh Pad-PAD': 'Synth Pads',\n",
       " 'FN-Restless Night-PAD': 'Synth Pads',\n",
       " 'FN-Analog Pad-PAD': 'Synth Pads',\n",
       " 'FN-RollinSun-PAD': 'Synth Pads',\n",
       " 'FN-Flowing Filter-PAD': 'Synth Pads',\n",
       " 'FN-Experimental-PAD': 'Synth Pads',\n",
       " 'FN-Keep It Noisy!': 'Miscellaneous/Other',\n",
       " 'FN-Digital Feeling': 'Miscellaneous/Other',\n",
       " 'FN-Analog Lead-FN': 'Leads',\n",
       " 'FN-Enjoy My C64': 'Miscellaneous/Other',\n",
       " 'FN-Nostalgicer Lead-LEA': 'Leads',\n",
       " 'FN-Plastic Lead-LEA': 'Leads',\n",
       " 'FN-I Need Lead-LEA': 'Leads',\n",
       " 'FN-Easy Listening': 'Miscellaneous/Other',\n",
       " 'FN-A Little Something-LEA': 'Miscellaneous/Other',\n",
       " 'FN-Doubleplayer': 'Miscellaneous/Other',\n",
       " 'FN-Free Willy-ARP': 'Arpeggios',\n",
       " 'FN-Resonanzig': 'Miscellaneous/Other',\n",
       " 'FN-Filter Lead-LEA': 'Leads',\n",
       " 'FN-Chordmachine-KEY': 'Pianos & Keyboards',\n",
       " 'FN-Easy Keys': 'Pianos & Keyboards',\n",
       " 'FN-Chordmachine II-KEY': 'Pianos & Keyboards',\n",
       " 'FN-Small Keys-KEY': 'Pianos & Keyboards',\n",
       " 'FN-Low Keys-KEY': 'Pianos & Keyboards',\n",
       " 'FN-Backwards ARP': 'Arpeggios',\n",
       " 'FN-Anastyle-ARP': 'Arpeggios',\n",
       " 'FN-Percussive Plugger2-ARP': 'Arpeggios',\n",
       " 'FN-Percussive Plugger-ARP': 'Arpeggios',\n",
       " 'FN-Pluggiolator-ARP': 'Arpeggios',\n",
       " 'FN-C64ish Arp': 'Arpeggios',\n",
       " 'FN-Bass Lover-ARP': 'Bass',\n",
       " 'FN-Anastyle II-ARP': 'Arpeggios',\n",
       " 'FN-One Finger Show-ARP': 'Arpeggios',\n",
       " 'FN-Percussive Plugger3-ARP': 'Arpeggios',\n",
       " 'FN-Rhytmic Noise-ARP': 'Arpeggios',\n",
       " 'SFX UFO Landing FMR': 'Miscellaneous/Other',\n",
       " 'SFX Surfing the Waves FMR': 'Miscellaneous/Other',\n",
       " 'SFX Noise Bubbles FMR': 'Miscellaneous/Other',\n",
       " 'SFX Space Sound 4 FMR': 'Miscellaneous/Other',\n",
       " 'PNO Piano 2 FMR': 'Pianos & Keyboards',\n",
       " 'PNO Another E P FMR': 'Pianos & Keyboards',\n",
       " 'PNO Classic E P FMR': 'Pianos & Keyboards',\n",
       " 'PNO Sweet Tines FMR': 'Pianos & Keyboards',\n",
       " 'PNO Piano 1 FMR': 'Pianos & Keyboards',\n",
       " 'PNO Mellow Piano FMR': 'Pianos & Keyboards',\n",
       " 'PNO Bright Rhodes FMR': 'Pianos & Keyboards',\n",
       " 'STR String Machine FMR': 'Strings',\n",
       " 'STR PWM Strings 2 FMR': 'Strings',\n",
       " 'STR Strings 1 FMR': 'Strings',\n",
       " 'STR Eminent Strings FMR': 'Strings',\n",
       " 'STR Strings 2 FMR': 'Strings',\n",
       " 'STR PWM Strings 1 FMR': 'Strings',\n",
       " 'STR Spartacus VI FMR': 'Strings',\n",
       " 'STR String Ensemble FMR': 'Strings',\n",
       " 'STR Prophet Strings FMR': 'Strings',\n",
       " 'STR Soft Strings FMR': 'Strings',\n",
       " 'STR Low Strings FMR': 'Strings',\n",
       " 'STR Full Strings FMR': 'Strings',\n",
       " 'STR Spartacus VII FMR': 'Strings',\n",
       " 'STR Strings 3 FMR': 'Strings',\n",
       " 'ORG Organ 2 FMR': 'Organs',\n",
       " 'ORG Another Organ FMR': 'Organs',\n",
       " 'ORG Spartacus IX FMR': 'Organs',\n",
       " 'ORG Jazz Organ FMR': 'Organs',\n",
       " 'ORG Spartacus XI FMR': 'Organs',\n",
       " 'ORG Spartacus XII FMR': 'Organs',\n",
       " 'ORG Church Organ Positive FMR': 'Organs',\n",
       " 'ORG Church Organ Gated FMR': 'Organs',\n",
       " 'ORG Organ 1 FMR': 'Organs',\n",
       " 'ORG Spartacus X FMR': 'Organs',\n",
       " 'ORG Church Organ Full Pipes 1 FMR': 'Organs',\n",
       " 'ORG Synthesizer Organ 2 FMR': 'Organs',\n",
       " 'ORG Organ 3 FMR': 'Organs',\n",
       " 'ORG Synthesizer Organ 1 FMR': 'Organs',\n",
       " 'ORG Church Organ Full Pipes 2 FMR': 'Organs',\n",
       " 'DRM Synth Drum 1 FMR': 'Miscellaneous/Other',\n",
       " 'DRM Snare Gun FMR': 'Miscellaneous/Other',\n",
       " 'DRM Snare Drum 2 FMR': 'Miscellaneous/Other',\n",
       " 'DRM Kick Drum 3 FMR': 'Miscellaneous/Other',\n",
       " 'DRM Ride Cymbal FMR': 'Miscellaneous/Other',\n",
       " 'DRM Snare Drum 1 FMR': 'Miscellaneous/Other',\n",
       " 'DRM Snare Drum 4 FMR': 'Miscellaneous/Other',\n",
       " 'DRM Synth Drum 2 FMR': 'Miscellaneous/Other',\n",
       " 'DRM Kick Drum 2 FMR': 'Miscellaneous/Other',\n",
       " 'DRM Kick and Snap FMR': 'Miscellaneous/Other',\n",
       " 'DRM Snare Drum 3 FMR': 'Miscellaneous/Other',\n",
       " 'DRM Hi-Hat Opened FMR': 'Miscellaneous/Other',\n",
       " 'DRM Crash Cymbal FMR': 'Miscellaneous/Other',\n",
       " 'DRM Synth Drum 3 FMR': 'Miscellaneous/Other',\n",
       " 'DRM Kick Drum and Toms FMR': 'Miscellaneous/Other',\n",
       " 'DRM Hi-Hat Closed FMR': 'Miscellaneous/Other',\n",
       " 'DRM Kick Drum 1 FMR': 'Miscellaneous/Other',\n",
       " 'WND English Horn FMR': 'Brass & Woodwinds',\n",
       " 'WND Ocarina FMR': 'Brass & Woodwinds',\n",
       " 'WND Flute 1 FMR': 'Brass & Woodwinds',\n",
       " 'WND Flute 2 FMR': 'Brass & Woodwinds',\n",
       " 'WND Pan Flute FMR': 'Brass & Woodwinds',\n",
       " 'WND Oboe FMR': 'Brass & Woodwinds',\n",
       " 'WND Clarinet FMR': 'Brass & Woodwinds',\n",
       " 'WND Flauto Dolce FMR': 'Brass & Woodwinds',\n",
       " 'GTR Overdrive Guitar FMR': 'Guitars',\n",
       " 'GTR Chorused Ovation FMR': 'Guitars',\n",
       " 'GTR Jazz Guitar FMR': 'Guitars',\n",
       " 'GTR Steel String Guitar FMR': 'Guitars',\n",
       " 'GTR Acoustic Guitar FMR': 'Guitars',\n",
       " 'BRS Brass 2 FMR': 'Brass & Woodwinds',\n",
       " 'BRS French Horn FMR': 'Brass & Woodwinds',\n",
       " 'BRS Brass Pad 1 FMR': 'Brass & Woodwinds',\n",
       " 'BRS Tuba FMR': 'Brass & Woodwinds',\n",
       " 'BRS Brass Pad 2 FMR': 'Brass & Woodwinds',\n",
       " 'BRS Brass 1 FMR': 'Brass & Woodwinds',\n",
       " 'BRS Low Brass FMR': 'Brass & Woodwinds',\n",
       " 'BRS Phase Brass FMR': 'Brass & Woodwinds',\n",
       " 'BRS Trumpet FMR': 'Brass & Woodwinds',\n",
       " 'BRS Brass 3 FMR': 'Brass & Woodwinds',\n",
       " 'BRS Prophet Brass FMR': 'Brass & Woodwinds',\n",
       " 'BRS Brass Pad 3 FMR': 'Brass & Woodwinds',\n",
       " 'BAS Square Bass FMR': 'Bass',\n",
       " 'BAS Pulse Bass 1 FMR': 'Bass',\n",
       " 'BAS Acid Bass 2 FMR': 'Bass',\n",
       " 'BAS Acid Bass 1 FMR': 'Bass',\n",
       " 'BAS Acid Bass 4 FMR': 'Bass',\n",
       " 'BAS Pulse Bass 2 FMR': 'Bass',\n",
       " 'BAS Round Bass 2 FMR': 'Bass',\n",
       " 'BAS Synth Bass 2 FMR': 'Bass',\n",
       " 'BAS Acid Bass 3 FMR': 'Bass',\n",
       " 'BAS Wire Bass FMR': 'Bass',\n",
       " 'BAS Love Bass FMR': 'Bass',\n",
       " 'BAS Hooverish Bass FMR': 'Bass',\n",
       " 'BAS Basso Profondo FMR': 'Bass',\n",
       " 'BAS Synth Bass 1 FMR': 'Bass',\n",
       " 'BAS Round Bass 1 FMR': 'Bass',\n",
       " 'PAD Rise the Pulse FMR': 'Synth Pads',\n",
       " 'PAD Spartacus I FMR': 'Synth Pads',\n",
       " 'PAD Spartacus V FMR': 'Synth Pads',\n",
       " 'PAD Reso Pad FMR': 'Synth Pads',\n",
       " 'PAD Metal Rotor Pad FMR': 'Synth Pads',\n",
       " 'PAD Classic Sweep Pad FMR': 'Synth Pads',\n",
       " 'PAD Dive Into The Deep FMR': 'Synth Pads',\n",
       " 'PAD Meditation Pad 3 FMR': 'Synth Pads',\n",
       " 'PAD Forever Pad FMR': 'Synth Pads',\n",
       " 'PAD Hoiy Mass FMR': 'Synth Pads',\n",
       " 'PAD Woosh Pad FMR': 'Synth Pads',\n",
       " 'PAD Massive Pad 1 FMR': 'Synth Pads',\n",
       " 'PAD Big Synth Pad 2 FMR': 'Synth Pads',\n",
       " 'PAD This Is It FMR': 'Synth Pads',\n",
       " 'PAD Meditation Pad 1 FMR': 'Synth Pads',\n",
       " 'PAD Chariots VG Brass FMR': 'Synth Pads',\n",
       " 'PAD Bass Pad FMR': 'Synth Pads',\n",
       " 'PAD PWM Pad FMR': 'Synth Pads',\n",
       " 'PAD Meditation Pad 2 FMR': 'Synth Pads',\n",
       " 'PAD Big Synth Pad 1 FMR': 'Synth Pads',\n",
       " 'PAD Massive Pad 2 FMR': 'Synth Pads',\n",
       " 'PAD High Res Pad FMR': 'Synth Pads',\n",
       " 'PRC Chiff Attack FMR': 'Miscellaneous/Other',\n",
       " 'PRC Percussion 2 FMR': 'Miscellaneous/Other',\n",
       " 'PRC Thump Bass Drum FMR': 'Bass',\n",
       " 'PRC Percussion 1 FMR': 'Miscellaneous/Other',\n",
       " 'PRC Percussion 4 FMR': 'Miscellaneous/Other',\n",
       " 'PRC Xylophone FMR': 'Miscellaneous/Other',\n",
       " 'PRC Synth Gamelan FMR': 'Miscellaneous/Other',\n",
       " 'PRC Dual SynRes Percussion FMR': 'Miscellaneous/Other',\n",
       " 'PRC Percussion 3 FMR': 'Miscellaneous/Other',\n",
       " 'PRC Popcorn FMR': 'Miscellaneous/Other',\n",
       " 'PRC Pizzicato Sound 2 FMR': 'Miscellaneous/Other',\n",
       " 'PRC Clicks FMR': 'Miscellaneous/Other',\n",
       " 'PRC Pizzicato Sound 1 FMR': 'Miscellaneous/Other',\n",
       " 'PRC Crystal Bells FMR': 'Miscellaneous/Other',\n",
       " 'PRC Glockenspiel FMR': 'Miscellaneous/Other',\n",
       " 'PRC Steel Drum FMR': 'Miscellaneous/Other',\n",
       " 'PRC The Tech Pluck FMR': 'Miscellaneous/Other',\n",
       " 'SYN Harpsynth Poly FMR': 'Miscellaneous/Other',\n",
       " 'SYN Phase Combination FMR': 'Miscellaneous/Other',\n",
       " 'SYN Raw Saw-Sub FMR': 'Miscellaneous/Other',\n",
       " 'SYN Please Release Me FMR': 'Miscellaneous/Other',\n",
       " 'SYN Slow Polysynth FMR': 'Miscellaneous/Other',\n",
       " 'SYN Percussive Polysynth FMR': 'Miscellaneous/Other',\n",
       " 'SYN VH Jump FMR': 'Miscellaneous/Other',\n",
       " 'SYN PWM FMR': 'Miscellaneous/Other',\n",
       " 'SYN PWM Chorus C FMR': 'Miscellaneous/Other',\n",
       " 'SYN Space Harp FMR': 'Miscellaneous/Other',\n",
       " 'SYN Dreamy Poly FMR': 'Miscellaneous/Other',\n",
       " 'SYN Reed 2 FMR': 'Miscellaneous/Other',\n",
       " 'SYN Gated Bright Synth FMR': 'Miscellaneous/Other',\n",
       " 'SYN PWM Sound FMR': 'Miscellaneous/Other',\n",
       " 'SYN Chariots VG Harp FMR': 'Miscellaneous/Other',\n",
       " 'SYN PWM Chorus B FMR': 'Miscellaneous/Other',\n",
       " 'SYN Raw Saw-Square FMR': 'Miscellaneous/Other',\n",
       " 'SYN Synthesizer Harp FMR': 'Miscellaneous/Other',\n",
       " 'SYN Synth Harp LFO FMR': 'Miscellaneous/Other',\n",
       " 'SYN Dynamic Polysynth FMR': 'Miscellaneous/Other',\n",
       " 'SYN Wah Brass FMR': 'Brass & Woodwinds',\n",
       " 'SYN Harpe Laser FMR': 'Miscellaneous/Other',\n",
       " 'SYN Fluctuation Keys FMR': 'Pianos & Keyboards',\n",
       " 'LED Big Lead 2 FMR': 'Leads',\n",
       " 'LED Sing Like a Cat FMR': 'Leads',\n",
       " 'LED Spartacus III FMR': 'Leads',\n",
       " 'LED Calliope FMR': 'Leads',\n",
       " 'LED Spartacus IV FMR': 'Leads',\n",
       " 'LED Spartacus II FMR': 'Leads',\n",
       " 'LED Reed 1 FMR': 'Leads',\n",
       " 'LED Big Lead 1 FMR': 'Leads',\n",
       " 'LED Flutey Vibrato Solo FMR': 'Leads',\n",
       " 'LED Silk Road Lead FMR': 'Leads',\n",
       " 'LED Reed 3 FMR': 'Leads',\n",
       " 'LED PWM Lead FMR': 'Leads',\n",
       " 'LED Violin FMR': 'Leads',\n",
       " 'LED Square Lead FMR': 'Leads',\n",
       " 'LED Meeaow Lead FMR': 'Leads',\n",
       " 'LED LFO Lead FMR': 'Leads',\n",
       " 'LED Tin Whistle FMR': 'Leads',\n",
       " 'DRN Deep Drone FMR': 'Miscellaneous/Other',\n",
       " 'DRN LFO and Echo Drone FMR': 'Miscellaneous/Other',\n",
       " 'DRN Waving Bass Drone FMR': 'Bass',\n",
       " 'DRN JX-3P Drone FMR': 'Miscellaneous/Other',\n",
       " 'DRN Sequence Like Drone FMR': 'Miscellaneous/Other',\n",
       " 'CHO Church Choir FMR': 'Miscellaneous/Other',\n",
       " 'CHO PWM Chorus A FMR': 'Miscellaneous/Other',\n",
       " 'CHO Voice Chorus FMR': 'Miscellaneous/Other',\n",
       " 'CHO Voice Chorus Too FMR': 'Miscellaneous/Other',\n",
       " 'ARP Swinging Arpeggio FMR': 'Arpeggios',\n",
       " 'ARP PWM LFO Arpeggio FMR': 'Arpeggios',\n",
       " 'ARP Bass Arpeggio FMR': 'Bass',\n",
       " 'ARP KS-TD Arpeggio FMR': 'Arpeggios',\n",
       " 'ARP Play Just One Note FMR': 'Arpeggios',\n",
       " 'ARP Random Arpeggiated PWM FMR': 'Arpeggios',\n",
       " 'ARP String Machine Arpeggio FMR': 'Arpeggios',\n",
       " 'ARP Ravers Arp FMR': 'Arpeggios',\n",
       " 'ARP Cold Thinking Arpeggio FMR': 'Arpeggios',\n",
       " 'ARP Berlin School Arpeggio FMR': 'Arpeggios',\n",
       " 'ARP Wisteria Spot FMR': 'Arpeggios',\n",
       " 'ARP Stringish Arp FMR': 'Arpeggios',\n",
       " 'ARP Circles Arpeggio FMR': 'Arpeggios',\n",
       " 'MFX Mysterious Invention FMR': 'Miscellaneous/Other',\n",
       " 'MFX LFO and Echo FMR': 'Miscellaneous/Other',\n",
       " 'MFX Space Sound 3 FMR': 'Miscellaneous/Other',\n",
       " 'MFX Effect Sound Six FMR': 'Miscellaneous/Other',\n",
       " 'MFX Effect Sound Three FMR': 'Miscellaneous/Other',\n",
       " 'MFX Effect Sound Five FMR': 'Miscellaneous/Other',\n",
       " 'MFX Space Sound 1 FMR': 'Miscellaneous/Other',\n",
       " 'MFX Spartacus VIII FMR': 'Miscellaneous/Other',\n",
       " 'MFX Effect Sound 76 FMR': 'Miscellaneous/Other',\n",
       " 'MFX Low Harp Endless Tail FMR': 'Miscellaneous/Other',\n",
       " 'MFX Effect Sound One FMR': 'Miscellaneous/Other',\n",
       " 'MFX Effect Sound Four FMR': 'Miscellaneous/Other',\n",
       " 'MFX Inverted Filter PWM FMR': 'Miscellaneous/Other',\n",
       " 'MFX Space Sound 2 FMR': 'Miscellaneous/Other',\n",
       " 'MFX Effect Sound Two FMR': 'Miscellaneous/Other',\n",
       " 'MFX Effect Sound Seven FMR': 'Miscellaneous/Other',\n",
       " 'KBD Celesta FMR': 'Pianos & Keyboards',\n",
       " 'KBD Funk B FMR': 'Pianos & Keyboards',\n",
       " 'KBD Harpsichord 1 FMR': 'Pianos & Keyboards',\n",
       " 'KBD Harpsichord 2 FMR': 'Pianos & Keyboards',\n",
       " 'KBD Funk A FMR': 'Pianos & Keyboards',\n",
       " 'KBD Classic Clavinet FMR': 'Pianos & Keyboards',\n",
       " 'KBD Clavichord 2 FMR': 'Pianos & Keyboards',\n",
       " 'KBD Clavichord 1 FMR': 'Pianos & Keyboards',\n",
       " 'KBD Synthi Clavinet FMR': 'Pianos & Keyboards',\n",
       " 'The Difference Bass': 'Bass',\n",
       " 'The Difference Trumpet Synth': 'Brass & Woodwinds',\n",
       " 'MT Norton Commander': 'Miscellaneous/Other',\n",
       " 'MT Numb': 'Miscellaneous/Other',\n",
       " 'MT Tailwhip Xylophone': 'Miscellaneous/Other',\n",
       " 'MT Tailwhip Lead': 'Leads',\n",
       " 'MT Tailwhip Organ': 'Organs',\n",
       " '67 Mysterious Invention': 'Miscellaneous/Other',\n",
       " '56 Reed 2': 'Miscellaneous/Other',\n",
       " '63 Effect Sound 2': 'Miscellaneous/Other',\n",
       " '57 Reed 3': 'Miscellaneous/Other',\n",
       " '17 Brass': 'Brass & Woodwinds',\n",
       " '54 Reed 1': 'Miscellaneous/Other',\n",
       " '65 Funk': 'Miscellaneous/Other',\n",
       " '25 Harpsichord 1': 'Pianos & Keyboards',\n",
       " '62 Effect Sound 1': 'Miscellaneous/Other',\n",
       " '73 Whistle': 'Miscellaneous/Other',\n",
       " '23 Celesta': 'Pianos & Keyboards',\n",
       " '28 Synthesizer Harp': 'Miscellaneous/Other',\n",
       " '53 Phase Combination': 'Miscellaneous/Other',\n",
       " '14 Organ 1': 'Organs',\n",
       " '64 Space Harp': 'Miscellaneous/Other',\n",
       " '35 Pizzicato Sound 1': 'Miscellaneous/Other',\n",
       " '71 Percussive Sound 1': 'Miscellaneous/Other',\n",
       " '11 Strings 1': 'Strings',\n",
       " '44 Tuba': 'Miscellaneous/Other',\n",
       " '41 Violine': 'Strings',\n",
       " '46 Clarinet': 'Brass & Woodwinds',\n",
       " '12 Strings 2': 'Strings',\n",
       " '45 Flute': 'Brass & Woodwinds',\n",
       " '58 PWM Chorus': 'Miscellaneous/Other',\n",
       " '34 Clavichord 2': 'Pianos & Keyboards',\n",
       " '13 Strings 3': 'Strings',\n",
       " '22 Piano 2': 'Pianos & Keyboards',\n",
       " '15 Organ 2': 'Organs',\n",
       " '52 Wah Brass': 'Brass & Woodwinds',\n",
       " '68 Space Sound 2': 'Miscellaneous/Other',\n",
       " '51 Funny Cat': 'Miscellaneous/Other',\n",
       " '33 Clavichord 1': 'Pianos & Keyboards',\n",
       " '48 English Horn': 'Brass & Woodwinds',\n",
       " '21 Piano 1': 'Pianos & Keyboards',\n",
       " '38 Glockenspiel': 'Miscellaneous/Other',\n",
       " '61 Synthesizer Organ': 'Organs',\n",
       " '78 Synthesizer Drum': 'Miscellaneous/Other',\n",
       " '74 Effect Sound 3': 'Miscellaneous/Other',\n",
       " '47 Oboe': 'Brass & Woodwinds',\n",
       " '36 Pizzicato Sound 2': 'Miscellaneous/Other',\n",
       " '76 Space Sound 3': 'Miscellaneous/Other',\n",
       " '18 Phase Brass': 'Brass & Woodwinds',\n",
       " '32 Bass 2': 'Bass',\n",
       " '31 Bass 1': 'Bass',\n",
       " '77 Surf': 'Miscellaneous/Other',\n",
       " '72 Percussive Sound 2': 'Miscellaneous/Other',\n",
       " '27 Guitar': 'Guitars',\n",
       " '66 Space Sound 1': 'Miscellaneous/Other',\n",
       " '37 Xylophone': 'Miscellaneous/Other',\n",
       " '43 Horn': 'Brass & Woodwinds',\n",
       " '26 Harpsichord 2': 'Pianos & Keyboards',\n",
       " '24 Mellow Piano': 'Pianos & Keyboards',\n",
       " '42 Trumpet': 'Brass & Woodwinds',\n",
       " '16 Organ 3': 'Organs',\n",
       " '75 UFO': 'Miscellaneous/Other',\n",
       " '55 Popcorn': 'Miscellaneous/Other'}"
      ]
     },
     "execution_count": 6,
     "metadata": {},
     "output_type": "execute_result"
    }
   ],
   "source": [
    "categorized_names"
   ]
  },
  {
   "cell_type": "markdown",
   "metadata": {},
   "source": [
    "## Create the Pandas DataFrame for Input to the TSNE Plot\n",
    "\n",
    "---\n",
    "\n",
    "We need to put our dataset into a form that is friendly for the TSNE plot. Specifically, we plan to put everything into an ordered table, a Pandas DataFrame.  "
   ]
  },
  {
   "cell_type": "code",
   "execution_count": 7,
   "metadata": {},
   "outputs": [],
   "source": [
    "# initialize a pandas dataframe\n",
    "df = pd.DataFrame()"
   ]
  },
  {
   "cell_type": "code",
   "execution_count": 8,
   "metadata": {},
   "outputs": [],
   "source": [
    "# define the note to use for this test\n",
    "NOTE = 'C3'"
   ]
  },
  {
   "cell_type": "code",
   "execution_count": 9,
   "metadata": {},
   "outputs": [],
   "source": [
    "# add a column for the preset names\n",
    "df['preset_name'] = dataset['preset_names']\n",
    "\n",
    "# add a column for the categorized preset names\n",
    "df['categorized_name'] = [categorized_names[name] for name in dataset['preset_names']]\n",
    "\n",
    "# add a column for the raw audio signal\n",
    "df['raw_signal'] = [x[NOTE] for x in dataset['raw_audio']] # for now, use C3, we can try other notes and see if we get different results.\n",
    "\n",
    "# add a column for the MFCC features (should we normalize these?)\n",
    "df['mfcc'] = [mfcc[NOTE].flatten() for mfcc in dataset['MFCCs']] # for now, use C3, we can try other notes and see if we get different results."
   ]
  },
  {
   "cell_type": "code",
   "execution_count": 10,
   "metadata": {},
   "outputs": [
    {
     "data": {
      "text/html": [
       "<div>\n",
       "<style scoped>\n",
       "    .dataframe tbody tr th:only-of-type {\n",
       "        vertical-align: middle;\n",
       "    }\n",
       "\n",
       "    .dataframe tbody tr th {\n",
       "        vertical-align: top;\n",
       "    }\n",
       "\n",
       "    .dataframe thead th {\n",
       "        text-align: right;\n",
       "    }\n",
       "</style>\n",
       "<table border=\"1\" class=\"dataframe\">\n",
       "  <thead>\n",
       "    <tr style=\"text-align: right;\">\n",
       "      <th></th>\n",
       "      <th>preset_name</th>\n",
       "      <th>categorized_name</th>\n",
       "      <th>raw_signal</th>\n",
       "      <th>mfcc</th>\n",
       "    </tr>\n",
       "  </thead>\n",
       "  <tbody>\n",
       "    <tr>\n",
       "      <th>0</th>\n",
       "      <td>Default</td>\n",
       "      <td>Miscellaneous/Other</td>\n",
       "      <td>[tensor(4.9700e-05), tensor(0.0006), tensor(0....</td>\n",
       "      <td>[tensor(-205.1796), tensor(-174.5306), tensor(...</td>\n",
       "    </tr>\n",
       "    <tr>\n",
       "      <th>1</th>\n",
       "      <td>MT Tailwhip Organ (2)</td>\n",
       "      <td>Organs</td>\n",
       "      <td>[tensor(-0.0020), tensor(-0.0033), tensor(-0.0...</td>\n",
       "      <td>[tensor(-425.7077), tensor(-408.4126), tensor(...</td>\n",
       "    </tr>\n",
       "    <tr>\n",
       "      <th>2</th>\n",
       "      <td>Super Jumper</td>\n",
       "      <td>Miscellaneous/Other</td>\n",
       "      <td>[tensor(0.0232), tensor(0.0202), tensor(0.0180...</td>\n",
       "      <td>[tensor(-342.4461), tensor(-368.7184), tensor(...</td>\n",
       "    </tr>\n",
       "    <tr>\n",
       "      <th>3</th>\n",
       "      <td>Nice Filter Sweep</td>\n",
       "      <td>Miscellaneous/Other</td>\n",
       "      <td>[tensor(0.0007), tensor(0.0101), tensor(0.0169...</td>\n",
       "      <td>[tensor(-412.1204), tensor(-453.4435), tensor(...</td>\n",
       "    </tr>\n",
       "    <tr>\n",
       "      <th>4</th>\n",
       "      <td>Chillin R2D2</td>\n",
       "      <td>Miscellaneous/Other</td>\n",
       "      <td>[tensor(-0.0078), tensor(-0.0282), tensor(-0.0...</td>\n",
       "      <td>[tensor(-316.6568), tensor(-367.4041), tensor(...</td>\n",
       "    </tr>\n",
       "  </tbody>\n",
       "</table>\n",
       "</div>"
      ],
      "text/plain": [
       "             preset_name     categorized_name   \n",
       "0                Default  Miscellaneous/Other  \\\n",
       "1  MT Tailwhip Organ (2)               Organs   \n",
       "2           Super Jumper  Miscellaneous/Other   \n",
       "3      Nice Filter Sweep  Miscellaneous/Other   \n",
       "4           Chillin R2D2  Miscellaneous/Other   \n",
       "\n",
       "                                          raw_signal   \n",
       "0  [tensor(4.9700e-05), tensor(0.0006), tensor(0....  \\\n",
       "1  [tensor(-0.0020), tensor(-0.0033), tensor(-0.0...   \n",
       "2  [tensor(0.0232), tensor(0.0202), tensor(0.0180...   \n",
       "3  [tensor(0.0007), tensor(0.0101), tensor(0.0169...   \n",
       "4  [tensor(-0.0078), tensor(-0.0282), tensor(-0.0...   \n",
       "\n",
       "                                                mfcc  \n",
       "0  [tensor(-205.1796), tensor(-174.5306), tensor(...  \n",
       "1  [tensor(-425.7077), tensor(-408.4126), tensor(...  \n",
       "2  [tensor(-342.4461), tensor(-368.7184), tensor(...  \n",
       "3  [tensor(-412.1204), tensor(-453.4435), tensor(...  \n",
       "4  [tensor(-316.6568), tensor(-367.4041), tensor(...  "
      ]
     },
     "execution_count": 10,
     "metadata": {},
     "output_type": "execute_result"
    }
   ],
   "source": [
    "# visualize the first few rows of df\n",
    "df.head(5)"
   ]
  },
  {
   "cell_type": "code",
   "execution_count": 11,
   "metadata": {},
   "outputs": [],
   "source": [
    "# remove all rows in the df that are miscellaneous or other\n",
    "df_filtered = df[df['categorized_name'] != 'Miscellaneous/Other']"
   ]
  },
  {
   "cell_type": "code",
   "execution_count": 12,
   "metadata": {},
   "outputs": [],
   "source": [
    "# reset the index of the dataframe\n",
    "df_filtered = df_filtered.reset_index(drop=True)"
   ]
  },
  {
   "cell_type": "code",
   "execution_count": 13,
   "metadata": {},
   "outputs": [
    {
     "data": {
      "text/plain": [
       "227"
      ]
     },
     "execution_count": 13,
     "metadata": {},
     "output_type": "execute_result"
    }
   ],
   "source": [
    "len(df_filtered)"
   ]
  },
  {
   "cell_type": "code",
   "execution_count": 14,
   "metadata": {},
   "outputs": [
    {
     "data": {
      "text/html": [
       "<div>\n",
       "<style scoped>\n",
       "    .dataframe tbody tr th:only-of-type {\n",
       "        vertical-align: middle;\n",
       "    }\n",
       "\n",
       "    .dataframe tbody tr th {\n",
       "        vertical-align: top;\n",
       "    }\n",
       "\n",
       "    .dataframe thead th {\n",
       "        text-align: right;\n",
       "    }\n",
       "</style>\n",
       "<table border=\"1\" class=\"dataframe\">\n",
       "  <thead>\n",
       "    <tr style=\"text-align: right;\">\n",
       "      <th></th>\n",
       "      <th>preset_name</th>\n",
       "      <th>categorized_name</th>\n",
       "      <th>raw_signal</th>\n",
       "      <th>mfcc</th>\n",
       "    </tr>\n",
       "  </thead>\n",
       "  <tbody>\n",
       "    <tr>\n",
       "      <th>0</th>\n",
       "      <td>MT Tailwhip Organ (2)</td>\n",
       "      <td>Organs</td>\n",
       "      <td>[tensor(-0.0020), tensor(-0.0033), tensor(-0.0...</td>\n",
       "      <td>[tensor(-425.7077), tensor(-408.4126), tensor(...</td>\n",
       "    </tr>\n",
       "    <tr>\n",
       "      <th>1</th>\n",
       "      <td>Phasing Island Bass</td>\n",
       "      <td>Bass</td>\n",
       "      <td>[tensor(-0.0002), tensor(-0.0004), tensor(-0.0...</td>\n",
       "      <td>[tensor(-415.8578), tensor(-395.8965), tensor(...</td>\n",
       "    </tr>\n",
       "    <tr>\n",
       "      <th>2</th>\n",
       "      <td>Mono Pulse Bass</td>\n",
       "      <td>Bass</td>\n",
       "      <td>[tensor(-7.7006e-05), tensor(-0.0002), tensor(...</td>\n",
       "      <td>[tensor(-439.8658), tensor(-367.1013), tensor(...</td>\n",
       "    </tr>\n",
       "    <tr>\n",
       "      <th>3</th>\n",
       "      <td>08-15 Bass</td>\n",
       "      <td>Bass</td>\n",
       "      <td>[tensor(-0.0007), tensor(-0.0013), tensor(-0.0...</td>\n",
       "      <td>[tensor(-558.6110), tensor(-577.6033), tensor(...</td>\n",
       "    </tr>\n",
       "    <tr>\n",
       "      <th>4</th>\n",
       "      <td>Classic Saw Bass</td>\n",
       "      <td>Bass</td>\n",
       "      <td>[tensor(4.2704e-05), tensor(5.7539e-05), tenso...</td>\n",
       "      <td>[tensor(-421.2223), tensor(-398.9164), tensor(...</td>\n",
       "    </tr>\n",
       "  </tbody>\n",
       "</table>\n",
       "</div>"
      ],
      "text/plain": [
       "             preset_name categorized_name   \n",
       "0  MT Tailwhip Organ (2)           Organs  \\\n",
       "1    Phasing Island Bass             Bass   \n",
       "2        Mono Pulse Bass             Bass   \n",
       "3             08-15 Bass             Bass   \n",
       "4       Classic Saw Bass             Bass   \n",
       "\n",
       "                                          raw_signal   \n",
       "0  [tensor(-0.0020), tensor(-0.0033), tensor(-0.0...  \\\n",
       "1  [tensor(-0.0002), tensor(-0.0004), tensor(-0.0...   \n",
       "2  [tensor(-7.7006e-05), tensor(-0.0002), tensor(...   \n",
       "3  [tensor(-0.0007), tensor(-0.0013), tensor(-0.0...   \n",
       "4  [tensor(4.2704e-05), tensor(5.7539e-05), tenso...   \n",
       "\n",
       "                                                mfcc  \n",
       "0  [tensor(-425.7077), tensor(-408.4126), tensor(...  \n",
       "1  [tensor(-415.8578), tensor(-395.8965), tensor(...  \n",
       "2  [tensor(-439.8658), tensor(-367.1013), tensor(...  \n",
       "3  [tensor(-558.6110), tensor(-577.6033), tensor(...  \n",
       "4  [tensor(-421.2223), tensor(-398.9164), tensor(...  "
      ]
     },
     "execution_count": 14,
     "metadata": {},
     "output_type": "execute_result"
    }
   ],
   "source": [
    "# visualize the filtered dataframe\n",
    "df_filtered.head(5)"
   ]
  },
  {
   "cell_type": "code",
   "execution_count": 15,
   "metadata": {},
   "outputs": [],
   "source": [
    "# normalize the mfcc features to 0 to 1 using the min and max of the entire dataset\n",
    "max_value = torch.max(torch.stack(df_filtered['mfcc'].tolist()))\n",
    "min_value = torch.min(torch.cat(df_filtered['mfcc'].tolist()))\n",
    "df_filtered['mfcc'] = [normalize_zero_to_one(mfcc, min_value=min_value, max_value=max_value) for mfcc in df_filtered['mfcc']] "
   ]
  },
  {
   "cell_type": "markdown",
   "metadata": {},
   "source": [
    "### Obtain the TSNE Transformed Data\n",
    "\n",
    "---\n",
    "\n",
    "Here we will initialize a TSNE object and apply a `fit_transform` to obtain a dimensionally reduced vector from the high dimensional input data."
   ]
  },
  {
   "cell_type": "code",
   "execution_count": 16,
   "metadata": {},
   "outputs": [],
   "source": [
    "# we need to first convert the MFCC embeddings from torch format to numpy format for the TSNE algorithm\n",
    "embeddings =  np.stack(df['mfcc'].apply(lambda x: x.cpu().numpy()))"
   ]
  },
  {
   "cell_type": "code",
   "execution_count": 17,
   "metadata": {},
   "outputs": [],
   "source": [
    "# obtain the filtered embeddings\n",
    "filtered_embeddings = np.stack(df_filtered['mfcc'].apply(lambda x: x.cpu().numpy()))"
   ]
  },
  {
   "cell_type": "code",
   "execution_count": 18,
   "metadata": {},
   "outputs": [
    {
     "data": {
      "image/png": "[encoded data removed]",
      "text/plain": [
       "<Figure size 640x480 with 1 Axes>"
      ]
     },
     "metadata": {},
     "output_type": "display_data"
    }
   ],
   "source": [
    "# Before we obtain the TSNE embeddings, let's first visualize the distribution of the MFCC embeddings\n",
    "plt.hist(embeddings.flatten(), bins=1000)\n",
    "plt.xlim([-50,50])\n",
    "plt.title('Distribution of MFCC Embeddings Values')\n",
    "plt.show()"
   ]
  },
  {
   "cell_type": "code",
   "execution_count": 19,
   "metadata": {},
   "outputs": [
    {
     "data": {
      "image/png": "[encoded data removed]",
      "text/plain": [
       "<Figure size 640x480 with 1 Axes>"
      ]
     },
     "metadata": {},
     "output_type": "display_data"
    }
   ],
   "source": [
    "# plot the distribution of filtered embeddings\n",
    "plt.hist(filtered_embeddings.flatten(), bins=1000)\n",
    "plt.xlim([0,1])\n",
    "plt.show()"
   ]
  },
  {
   "cell_type": "code",
   "execution_count": 20,
   "metadata": {},
   "outputs": [],
   "source": [
    "# get the TSNE transform\n",
    "transformed_data = generate_tsne(embeddings)"
   ]
  },
  {
   "cell_type": "code",
   "execution_count": 51,
   "metadata": {},
   "outputs": [],
   "source": [
    "filtered_transformed_data = generate_tsne(filtered_embeddings, perplexity=8)"
   ]
  },
  {
   "cell_type": "code",
   "execution_count": 52,
   "metadata": {},
   "outputs": [
    {
     "data": {
      "text/plain": [
       "(367, 2)"
      ]
     },
     "execution_count": 52,
     "metadata": {},
     "output_type": "execute_result"
    }
   ],
   "source": [
    "# inspect the transformed data\n",
    "transformed_data.shape"
   ]
  },
  {
   "cell_type": "code",
   "execution_count": 53,
   "metadata": {},
   "outputs": [],
   "source": [
    "# create an x and y column in the dataframe\n",
    "df['x'] = [transformed_data[i][0] for i in range(len(transformed_data))]\n",
    "df['y'] = [transformed_data[i][1] for i in range(len(transformed_data))]"
   ]
  },
  {
   "cell_type": "code",
   "execution_count": 54,
   "metadata": {},
   "outputs": [],
   "source": [
    "# create a filtered x and filtered y column in the dataframe\n",
    "df_filtered['x'] = [filtered_transformed_data[i][0] for i in range(len(filtered_transformed_data))]\n",
    "df_filtered['y'] = [filtered_transformed_data[i][1] for i in range(len(filtered_transformed_data))]"
   ]
  },
  {
   "cell_type": "markdown",
   "metadata": {},
   "source": [
    "## Create the TSNE Plot\n",
    "\n",
    "---\n",
    "\n",
    "Let's now use Plotly to visualize these embeddings!"
   ]
  },
  {
   "cell_type": "code",
   "execution_count": 55,
   "metadata": {},
   "outputs": [
    {
     "data": {
      "application/vnd.plotly.v1+json": {
       "config": {
        "plotlyServerURL": "https://plot.ly"
       },
       "data": [
        {
         "customdata": [
          [
           "MT Tailwhip Organ (2)",
           "Organs"
          ],
          [
           "ORG Organ 2 FMR",
           "Organs"
          ],
          [
           "ORG Another Organ FMR",
           "Organs"
          ],
          [
           "ORG Spartacus IX FMR",
           "Organs"
          ],
          [
           "ORG Jazz Organ FMR",
           "Organs"
          ],
          [
           "ORG Spartacus XI FMR",
           "Organs"
          ],
          [
           "ORG Spartacus XII FMR",
           "Organs"
          ],
          [
           "ORG Church Organ Positive FMR",
           "Organs"
          ],
          [
           "ORG Church Organ Gated FMR",
           "Organs"
          ],
          [
           "ORG Organ 1 FMR",
           "Organs"
          ],
          [
           "ORG Spartacus X FMR",
           "Organs"
          ],
          [
           "ORG Church Organ Full Pipes 1 FMR",
           "Organs"
          ],
          [
           "ORG Synthesizer Organ 2 FMR",
           "Organs"
          ],
          [
           "ORG Organ 3 FMR",
           "Organs"
          ],
          [
           "ORG Synthesizer Organ 1 FMR",
           "Organs"
          ],
          [
           "ORG Church Organ Full Pipes 2 FMR",
           "Organs"
          ],
          [
           "MT Tailwhip Organ",
           "Organs"
          ],
          [
           "14 Organ 1",
           "Organs"
          ],
          [
           "15 Organ 2",
           "Organs"
          ],
          [
           "61 Synthesizer Organ",
           "Organs"
          ],
          [
           "16 Organ 3",
           "Organs"
          ]
         ],
         "hovertemplate": "Preset Name: %{customdata[0]}<br>Categorized Name: %{customdata[1]}",
         "legendgroup": "Organs",
         "marker": {
          "color": "#636efa",
          "symbol": "circle"
         },
         "mode": "markers",
         "name": "Organs",
         "orientation": "v",
         "showlegend": true,
         "type": "scatter",
         "x": [
          -12.16705322265625,
          -28.144548416137695,
          -32.89799118041992,
          -25.442340850830078,
          -31.62103271484375,
          -24.00411605834961,
          -25.210773468017578,
          26.66290283203125,
          -30.537961959838867,
          -32.489131927490234,
          -24.556028366088867,
          22.694297790527344,
          -36.519710540771484,
          -32.04715347290039,
          -29.54323387145996,
          22.118793487548828,
          -1.5447033643722534,
          -22.240251541137695,
          -23.33774185180664,
          -26.21084213256836,
          -24.043834686279297
         ],
         "xaxis": "x",
         "y": [
          -2.0451462268829346,
          21.062496185302734,
          26.397218704223633,
          29.035160064697266,
          28.912006378173828,
          30.637889862060547,
          30.651803970336914,
          -9.62976360321045,
          14.025278091430664,
          28.20121955871582,
          34.585628509521484,
          -33.13229751586914,
          16.21660614013672,
          31.398353576660156,
          20.114110946655273,
          -31.829246520996094,
          7.5888824462890625,
          -7.743603706359863,
          -8.520298957824707,
          -9.94046688079834,
          -9.482284545898438
         ],
         "yaxis": "y"
        },
        {
         "customdata": [
          [
           "Phasing Island Bass",
           "Bass"
          ],
          [
           "Mono Pulse Bass",
           "Bass"
          ],
          [
           "08-15 Bass",
           "Bass"
          ],
          [
           "Classic Saw Bass",
           "Bass"
          ],
          [
           "Funky Mod Bass",
           "Bass"
          ],
          [
           "Ultra Deep Bass",
           "Bass"
          ],
          [
           "FN-Bassliner-BAS",
           "Bass"
          ],
          [
           "FN-Dark Bass II-BAS",
           "Bass"
          ],
          [
           "FN-Flow Bass-BAS",
           "Bass"
          ],
          [
           "FN-High Noise-BAS",
           "Bass"
          ],
          [
           "FN-Wobblelike Bass-BAS",
           "Bass"
          ],
          [
           "FN-Dark Bass-BAS",
           "Bass"
          ],
          [
           "FN-Nostalgic Bass-BAS",
           "Bass"
          ],
          [
           "FN-C64ish Bass",
           "Bass"
          ],
          [
           "FN-Basslover",
           "Bass"
          ],
          [
           "FN-Bass Wobbler-BAS",
           "Bass"
          ],
          [
           "FN-Wobblebass-BAS",
           "Bass"
          ],
          [
           "FN-Bass Lover-ARP",
           "Bass"
          ],
          [
           "BAS Square Bass FMR",
           "Bass"
          ],
          [
           "BAS Pulse Bass 1 FMR",
           "Bass"
          ],
          [
           "BAS Acid Bass 2 FMR",
           "Bass"
          ],
          [
           "BAS Acid Bass 1 FMR",
           "Bass"
          ],
          [
           "BAS Acid Bass 4 FMR",
           "Bass"
          ],
          [
           "BAS Pulse Bass 2 FMR",
           "Bass"
          ],
          [
           "BAS Round Bass 2 FMR",
           "Bass"
          ],
          [
           "BAS Synth Bass 2 FMR",
           "Bass"
          ],
          [
           "BAS Acid Bass 3 FMR",
           "Bass"
          ],
          [
           "BAS Wire Bass FMR",
           "Bass"
          ],
          [
           "BAS Love Bass FMR",
           "Bass"
          ],
          [
           "BAS Hooverish Bass FMR",
           "Bass"
          ],
          [
           "BAS Basso Profondo FMR",
           "Bass"
          ],
          [
           "BAS Synth Bass 1 FMR",
           "Bass"
          ],
          [
           "BAS Round Bass 1 FMR",
           "Bass"
          ],
          [
           "PRC Thump Bass Drum FMR",
           "Bass"
          ],
          [
           "DRN Waving Bass Drone FMR",
           "Bass"
          ],
          [
           "ARP Bass Arpeggio FMR",
           "Bass"
          ],
          [
           "The Difference Bass",
           "Bass"
          ],
          [
           "32 Bass 2",
           "Bass"
          ],
          [
           "31 Bass 1",
           "Bass"
          ]
         ],
         "hovertemplate": "Preset Name: %{customdata[0]}<br>Categorized Name: %{customdata[1]}",
         "legendgroup": "Bass",
         "marker": {
          "color": "#EF553B",
          "symbol": "circle"
         },
         "mode": "markers",
         "name": "Bass",
         "orientation": "v",
         "showlegend": true,
         "type": "scatter",
         "x": [
          -36.753013610839844,
          -39.97626876831055,
          -20.932497024536133,
          -40.662166595458984,
          -25.842845916748047,
          -19.438961029052734,
          2.1718904972076416,
          -12.763474464416504,
          5.465703964233398,
          -11.880887031555176,
          -19.078664779663086,
          -30.981523513793945,
          -29.16020393371582,
          5.085540771484375,
          -13.5106782913208,
          -35.776546478271484,
          -14.85319709777832,
          29.543447494506836,
          -20.282873153686523,
          -19.32888412475586,
          -27.147430419921875,
          -24.0075626373291,
          -29.393146514892578,
          -21.809473037719727,
          -20.26120376586914,
          -29.396198272705078,
          -14.05079460144043,
          -22.676637649536133,
          -25.54154396057129,
          22.963289260864258,
          -19.26492691040039,
          -26.894176483154297,
          7.563498497009277,
          -32.918235778808594,
          23.413074493408203,
          -27.691560745239258,
          -15.483829498291016,
          -33.18901443481445,
          -35.226070404052734
         ],
         "xaxis": "x",
         "y": [
          13.905876159667969,
          -2.08969783782959,
          -9.418231964111328,
          -2.9275636672973633,
          -9.109366416931152,
          -9.314705848693848,
          17.30420684814453,
          -6.121821880340576,
          15.126226425170898,
          18.788721084594727,
          -8.085102081298828,
          -2.5378339290618896,
          12.735836029052734,
          16.906578063964844,
          24.31633949279785,
          12.92081069946289,
          19.71432876586914,
          -38.867496490478516,
          32.21737289428711,
          32.8330078125,
          23.3448429107666,
          28.728670120239258,
          27.35426902770996,
          34.61856460571289,
          31.259971618652344,
          29.839494705200195,
          21.8593692779541,
          35.60078811645508,
          32.549957275390625,
          7.003389835357666,
          37.290653228759766,
          17.340538024902344,
          9.292186737060547,
          32.62052536010742,
          -6.5245137214660645,
          17.720836639404297,
          -5.417349338531494,
          11.112177848815918,
          17.42478370666504
         ],
         "yaxis": "y"
        },
        {
         "customdata": [
          [
           "Big Lead",
           "Leads"
          ],
          [
           "Super Funky Lead",
           "Leads"
          ],
          [
           "Mellow LoFi Lead",
           "Leads"
          ],
          [
           "FN-Analog Lead-FN",
           "Leads"
          ],
          [
           "FN-Nostalgicer Lead-LEA",
           "Leads"
          ],
          [
           "FN-Plastic Lead-LEA",
           "Leads"
          ],
          [
           "FN-I Need Lead-LEA",
           "Leads"
          ],
          [
           "FN-Filter Lead-LEA",
           "Leads"
          ],
          [
           "LED Big Lead 2 FMR",
           "Leads"
          ],
          [
           "LED Sing Like a Cat FMR",
           "Leads"
          ],
          [
           "LED Spartacus III FMR",
           "Leads"
          ],
          [
           "LED Calliope FMR",
           "Leads"
          ],
          [
           "LED Spartacus IV FMR",
           "Leads"
          ],
          [
           "LED Spartacus II FMR",
           "Leads"
          ],
          [
           "LED Reed 1 FMR",
           "Leads"
          ],
          [
           "LED Big Lead 1 FMR",
           "Leads"
          ],
          [
           "LED Flutey Vibrato Solo FMR",
           "Leads"
          ],
          [
           "LED Silk Road Lead FMR",
           "Leads"
          ],
          [
           "LED Reed 3 FMR",
           "Leads"
          ],
          [
           "LED PWM Lead FMR",
           "Leads"
          ],
          [
           "LED Violin FMR",
           "Leads"
          ],
          [
           "LED Square Lead FMR",
           "Leads"
          ],
          [
           "LED Meeaow Lead FMR",
           "Leads"
          ],
          [
           "LED LFO Lead FMR",
           "Leads"
          ],
          [
           "LED Tin Whistle FMR",
           "Leads"
          ],
          [
           "MT Tailwhip Lead",
           "Leads"
          ]
         ],
         "hovertemplate": "Preset Name: %{customdata[0]}<br>Categorized Name: %{customdata[1]}",
         "legendgroup": "Leads",
         "marker": {
          "color": "#00cc96",
          "symbol": "circle"
         },
         "mode": "markers",
         "name": "Leads",
         "orientation": "v",
         "showlegend": true,
         "type": "scatter",
         "x": [
          -38.77813720703125,
          -40.0001106262207,
          -23.739421844482422,
          28.877405166625977,
          35.20271301269531,
          32.84796142578125,
          32.04859924316406,
          22.648130416870117,
          -17.64236068725586,
          -0.8943507075309753,
          41.834625244140625,
          -13.635649681091309,
          35.790225982666016,
          5.102011680603027,
          -16.289480209350586,
          -13.480926513671875,
          -24.91689109802246,
          24.66798973083496,
          -3.770502805709839,
          34.49680709838867,
          -26.071847915649414,
          26.28569221496582,
          31.023574829101562,
          36.623226165771484,
          -35.124229431152344,
          -12.41858196258545
         ],
         "xaxis": "x",
         "y": [
          5.55881929397583,
          3.9421918392181396,
          -11.835987091064453,
          -1.2607804536819458,
          18.856399536132812,
          -5.085495471954346,
          -5.893498420715332,
          12.996493339538574,
          18.312679290771484,
          14.017477989196777,
          -24.705177307128906,
          26.238662719726562,
          -21.065231323242188,
          9.700305938720703,
          18.919790267944336,
          27.264076232910156,
          -12.469804763793945,
          4.634596824645996,
          14.625321388244629,
          -28.246482849121094,
          22.44429588317871,
          -49.49737548828125,
          -21.048938751220703,
          -28.731351852416992,
          25.850202560424805,
          -4.577538967132568
         ],
         "yaxis": "y"
        },
        {
         "customdata": [
          [
           "Dream Arp",
           "Arpeggios"
          ],
          [
           "FN-Free Willy-ARP",
           "Arpeggios"
          ],
          [
           "FN-Backwards ARP",
           "Arpeggios"
          ],
          [
           "FN-Anastyle-ARP",
           "Arpeggios"
          ],
          [
           "FN-Percussive Plugger2-ARP",
           "Arpeggios"
          ],
          [
           "FN-Percussive Plugger-ARP",
           "Arpeggios"
          ],
          [
           "FN-Pluggiolator-ARP",
           "Arpeggios"
          ],
          [
           "FN-C64ish Arp",
           "Arpeggios"
          ],
          [
           "FN-Anastyle II-ARP",
           "Arpeggios"
          ],
          [
           "FN-One Finger Show-ARP",
           "Arpeggios"
          ],
          [
           "FN-Percussive Plugger3-ARP",
           "Arpeggios"
          ],
          [
           "FN-Rhytmic Noise-ARP",
           "Arpeggios"
          ],
          [
           "ARP Swinging Arpeggio FMR",
           "Arpeggios"
          ],
          [
           "ARP PWM LFO Arpeggio FMR",
           "Arpeggios"
          ],
          [
           "ARP KS-TD Arpeggio FMR",
           "Arpeggios"
          ],
          [
           "ARP Play Just One Note FMR",
           "Arpeggios"
          ],
          [
           "ARP Random Arpeggiated PWM FMR",
           "Arpeggios"
          ],
          [
           "ARP String Machine Arpeggio FMR",
           "Arpeggios"
          ],
          [
           "ARP Ravers Arp FMR",
           "Arpeggios"
          ],
          [
           "ARP Cold Thinking Arpeggio FMR",
           "Arpeggios"
          ],
          [
           "ARP Berlin School Arpeggio FMR",
           "Arpeggios"
          ],
          [
           "ARP Wisteria Spot FMR",
           "Arpeggios"
          ],
          [
           "ARP Stringish Arp FMR",
           "Arpeggios"
          ],
          [
           "ARP Circles Arpeggio FMR",
           "Arpeggios"
          ]
         ],
         "hovertemplate": "Preset Name: %{customdata[0]}<br>Categorized Name: %{customdata[1]}",
         "legendgroup": "Arpeggios",
         "marker": {
          "color": "#ab63fa",
          "symbol": "circle"
         },
         "mode": "markers",
         "name": "Arpeggios",
         "orientation": "v",
         "showlegend": true,
         "type": "scatter",
         "x": [
          32.390472412109375,
          -23.215158462524414,
          -17.1615047454834,
          -20.353971481323242,
          -30.84738540649414,
          -30.177658081054688,
          -31.35590362548828,
          -25.739017486572266,
          -14.623157501220703,
          -32.61217498779297,
          -34.22153854370117,
          -28.916635513305664,
          24.11650848388672,
          -32.091609954833984,
          32.66550827026367,
          24.6282901763916,
          6.146677494049072,
          24.60493278503418,
          7.127725124359131,
          -24.895648956298828,
          27.348098754882812,
          22.878293991088867,
          1.3886795043945312,
          -34.141693115234375
         ],
         "xaxis": "x",
         "y": [
          16.617511749267578,
          -5.933615207672119,
          -7.728677272796631,
          -11.592068672180176,
          17.607091903686523,
          17.170629501342773,
          8.450864791870117,
          -7.126748561859131,
          -4.458643436431885,
          9.034863471984863,
          29.321916580200195,
          -16.237016677856445,
          3.429215908050537,
          12.567366600036621,
          4.216096878051758,
          -17.339111328125,
          10.134855270385742,
          -53.888099670410156,
          15.118112564086914,
          21.33106231689453,
          -11.016111373901367,
          11.330462455749512,
          17.791780471801758,
          18.371999740600586
         ],
         "yaxis": "y"
        },
        {
         "customdata": [
          [
           "FN-Dark Night-PAD",
           "Synth Pads"
          ],
          [
           "FN-Analog Feeling-PAD",
           "Synth Pads"
          ],
          [
           "FN-Blubberfeld-PAD",
           "Synth Pads"
          ],
          [
           "FN-Noisia-PAD",
           "Synth Pads"
          ],
          [
           "FN-Darpesh Pad-PAD",
           "Synth Pads"
          ],
          [
           "FN-Restless Night-PAD",
           "Synth Pads"
          ],
          [
           "FN-Analog Pad-PAD",
           "Synth Pads"
          ],
          [
           "FN-RollinSun-PAD",
           "Synth Pads"
          ],
          [
           "FN-Flowing Filter-PAD",
           "Synth Pads"
          ],
          [
           "FN-Experimental-PAD",
           "Synth Pads"
          ],
          [
           "PAD Rise the Pulse FMR",
           "Synth Pads"
          ],
          [
           "PAD Spartacus I FMR",
           "Synth Pads"
          ],
          [
           "PAD Spartacus V FMR",
           "Synth Pads"
          ],
          [
           "PAD Reso Pad FMR",
           "Synth Pads"
          ],
          [
           "PAD Metal Rotor Pad FMR",
           "Synth Pads"
          ],
          [
           "PAD Classic Sweep Pad FMR",
           "Synth Pads"
          ],
          [
           "PAD Dive Into The Deep FMR",
           "Synth Pads"
          ],
          [
           "PAD Meditation Pad 3 FMR",
           "Synth Pads"
          ],
          [
           "PAD Forever Pad FMR",
           "Synth Pads"
          ],
          [
           "PAD Hoiy Mass FMR",
           "Synth Pads"
          ],
          [
           "PAD Woosh Pad FMR",
           "Synth Pads"
          ],
          [
           "PAD Massive Pad 1 FMR",
           "Synth Pads"
          ],
          [
           "PAD Big Synth Pad 2 FMR",
           "Synth Pads"
          ],
          [
           "PAD This Is It FMR",
           "Synth Pads"
          ],
          [
           "PAD Meditation Pad 1 FMR",
           "Synth Pads"
          ],
          [
           "PAD Chariots VG Brass FMR",
           "Synth Pads"
          ],
          [
           "PAD Bass Pad FMR",
           "Synth Pads"
          ],
          [
           "PAD PWM Pad FMR",
           "Synth Pads"
          ],
          [
           "PAD Meditation Pad 2 FMR",
           "Synth Pads"
          ],
          [
           "PAD Big Synth Pad 1 FMR",
           "Synth Pads"
          ],
          [
           "PAD Massive Pad 2 FMR",
           "Synth Pads"
          ],
          [
           "PAD High Res Pad FMR",
           "Synth Pads"
          ]
         ],
         "hovertemplate": "Preset Name: %{customdata[0]}<br>Categorized Name: %{customdata[1]}",
         "legendgroup": "Synth Pads",
         "marker": {
          "color": "#FFA15A",
          "symbol": "circle"
         },
         "mode": "markers",
         "name": "Synth Pads",
         "orientation": "v",
         "showlegend": true,
         "type": "scatter",
         "x": [
          22.142831802368164,
          29.139694213867188,
          31.824487686157227,
          -29.101940155029297,
          35.07408142089844,
          33.83502960205078,
          33.77935028076172,
          -29.723323822021484,
          26.857797622680664,
          22.095439910888672,
          30.233230590820312,
          25.821578979492188,
          24.65557098388672,
          23.01124382019043,
          22.994400024414062,
          30.786338806152344,
          34.642730712890625,
          35.827552795410156,
          23.111875534057617,
          26.384170532226562,
          29.52497100830078,
          35.92987823486328,
          22.684213638305664,
          24.934518814086914,
          30.12366485595703,
          26.223892211914062,
          14.011260032653809,
          37.567420959472656,
          33.83253860473633,
          24.75919532775879,
          32.82065963745117,
          23.887577056884766
         ],
         "xaxis": "x",
         "y": [
          -5.8005475997924805,
          5.2510151863098145,
          -30.664112091064453,
          -17.041048049926758,
          16.377660751342773,
          18.794240951538086,
          16.87938690185547,
          -17.895923614501953,
          -35.899932861328125,
          -6.7345428466796875,
          8.58619213104248,
          -58.19943618774414,
          -51.366600036621094,
          -39.816654205322266,
          -30.739639282226562,
          10.102445602416992,
          13.08257007598877,
          13.456148147583008,
          -40.701480865478516,
          -8.40761661529541,
          7.138255596160889,
          -22.085073471069336,
          -53.26042175292969,
          -55.55405807495117,
          5.445504665374756,
          -18.404333114624023,
          13.470868110656738,
          -13.50760555267334,
          14.747471809387207,
          -36.5166015625,
          3.2738776206970215,
          -54.778343200683594
         ],
         "yaxis": "y"
        },
        {
         "customdata": [
          [
           "FN-Chordmachine-KEY",
           "Pianos & Keyboards"
          ],
          [
           "FN-Easy Keys",
           "Pianos & Keyboards"
          ],
          [
           "FN-Chordmachine II-KEY",
           "Pianos & Keyboards"
          ],
          [
           "FN-Small Keys-KEY",
           "Pianos & Keyboards"
          ],
          [
           "FN-Low Keys-KEY",
           "Pianos & Keyboards"
          ],
          [
           "PNO Piano 2 FMR",
           "Pianos & Keyboards"
          ],
          [
           "PNO Another E P FMR",
           "Pianos & Keyboards"
          ],
          [
           "PNO Classic E P FMR",
           "Pianos & Keyboards"
          ],
          [
           "PNO Sweet Tines FMR",
           "Pianos & Keyboards"
          ],
          [
           "PNO Piano 1 FMR",
           "Pianos & Keyboards"
          ],
          [
           "PNO Mellow Piano FMR",
           "Pianos & Keyboards"
          ],
          [
           "PNO Bright Rhodes FMR",
           "Pianos & Keyboards"
          ],
          [
           "SYN Fluctuation Keys FMR",
           "Pianos & Keyboards"
          ],
          [
           "KBD Celesta FMR",
           "Pianos & Keyboards"
          ],
          [
           "KBD Funk B FMR",
           "Pianos & Keyboards"
          ],
          [
           "KBD Harpsichord 1 FMR",
           "Pianos & Keyboards"
          ],
          [
           "KBD Harpsichord 2 FMR",
           "Pianos & Keyboards"
          ],
          [
           "KBD Funk A FMR",
           "Pianos & Keyboards"
          ],
          [
           "KBD Classic Clavinet FMR",
           "Pianos & Keyboards"
          ],
          [
           "KBD Clavichord 2 FMR",
           "Pianos & Keyboards"
          ],
          [
           "KBD Clavichord 1 FMR",
           "Pianos & Keyboards"
          ],
          [
           "KBD Synthi Clavinet FMR",
           "Pianos & Keyboards"
          ],
          [
           "25 Harpsichord 1",
           "Pianos & Keyboards"
          ],
          [
           "23 Celesta",
           "Pianos & Keyboards"
          ],
          [
           "34 Clavichord 2",
           "Pianos & Keyboards"
          ],
          [
           "22 Piano 2",
           "Pianos & Keyboards"
          ],
          [
           "33 Clavichord 1",
           "Pianos & Keyboards"
          ],
          [
           "21 Piano 1",
           "Pianos & Keyboards"
          ],
          [
           "26 Harpsichord 2",
           "Pianos & Keyboards"
          ],
          [
           "24 Mellow Piano",
           "Pianos & Keyboards"
          ]
         ],
         "hovertemplate": "Preset Name: %{customdata[0]}<br>Categorized Name: %{customdata[1]}",
         "legendgroup": "Pianos & Keyboards",
         "marker": {
          "color": "#19d3f3",
          "symbol": "circle"
         },
         "mode": "markers",
         "name": "Pianos & Keyboards",
         "orientation": "v",
         "showlegend": true,
         "type": "scatter",
         "x": [
          34.47591018676758,
          29.27315902709961,
          33.585723876953125,
          28.734920501708984,
          23.764850616455078,
          -2.178685426712036,
          27.344911575317383,
          22.117891311645508,
          28.824478149414062,
          -10.451972961425781,
          27.431642532348633,
          24.361549377441406,
          22.8048038482666,
          31.159069061279297,
          -13.085022926330566,
          -12.320887565612793,
          -1.5497485399246216,
          -13.340141296386719,
          5.229574203491211,
          -17.773521423339844,
          -35.86276626586914,
          -0.7293838262557983,
          -34.89624786376953,
          34.919925689697266,
          -36.06028747558594,
          -31.211334228515625,
          -36.49095916748047,
          -35.315757751464844,
          30.70656967163086,
          31.971223831176758
         ],
         "xaxis": "x",
         "y": [
          -22.530845642089844,
          -34.410133361816406,
          -22.798343658447266,
          -37.53205108642578,
          8.302844047546387,
          14.725057601928711,
          -19.388071060180664,
          6.408327102661133,
          -18.41266441345215,
          17.624588012695312,
          -18.24800682067871,
          6.15269660949707,
          -35.946834564208984,
          6.285425186157227,
          23.01922035217285,
          21.211816787719727,
          19.2745418548584,
          20.396482467651367,
          14.155694007873535,
          19.376585006713867,
          7.732673168182373,
          17.450908660888672,
          3.8622570037841797,
          15.096967697143555,
          0.7616881132125854,
          -5.049137115478516,
          4.390214920043945,
          2.658947229385376,
          -6.6506571769714355,
          11.313053131103516
         ],
         "yaxis": "y"
        },
        {
         "customdata": [
          [
           "STR String Machine FMR",
           "Strings"
          ],
          [
           "STR PWM Strings 2 FMR",
           "Strings"
          ],
          [
           "STR Strings 1 FMR",
           "Strings"
          ],
          [
           "STR Eminent Strings FMR",
           "Strings"
          ],
          [
           "STR Strings 2 FMR",
           "Strings"
          ],
          [
           "STR PWM Strings 1 FMR",
           "Strings"
          ],
          [
           "STR Spartacus VI FMR",
           "Strings"
          ],
          [
           "STR String Ensemble FMR",
           "Strings"
          ],
          [
           "STR Prophet Strings FMR",
           "Strings"
          ],
          [
           "STR Soft Strings FMR",
           "Strings"
          ],
          [
           "STR Low Strings FMR",
           "Strings"
          ],
          [
           "STR Full Strings FMR",
           "Strings"
          ],
          [
           "STR Spartacus VII FMR",
           "Strings"
          ],
          [
           "STR Strings 3 FMR",
           "Strings"
          ],
          [
           "11 Strings 1",
           "Strings"
          ],
          [
           "41 Violine",
           "Strings"
          ],
          [
           "12 Strings 2",
           "Strings"
          ],
          [
           "13 Strings 3",
           "Strings"
          ]
         ],
         "hovertemplate": "Preset Name: %{customdata[0]}<br>Categorized Name: %{customdata[1]}",
         "legendgroup": "Strings",
         "marker": {
          "color": "#FF6692",
          "symbol": "circle"
         },
         "mode": "markers",
         "name": "Strings",
         "orientation": "v",
         "showlegend": true,
         "type": "scatter",
         "x": [
          26.873136520385742,
          37.76533126831055,
          34.97176742553711,
          26.889175415039062,
          35.355648040771484,
          26.618730545043945,
          25.583162307739258,
          27.26476287841797,
          14.246728897094727,
          27.843406677246094,
          23.595184326171875,
          26.77086067199707,
          26.0150089263916,
          24.643068313598633,
          36.83488082885742,
          13.10486888885498,
          36.031681060791016,
          26.598278045654297
         ],
         "xaxis": "x",
         "y": [
          -59.011749267578125,
          -27.956342697143555,
          -15.068258285522461,
          -51.65422821044922,
          -15.998899459838867,
          -47.839168548583984,
          -52.00178527832031,
          -57.844642639160156,
          14.283994674682617,
          -1.8612688779830933,
          -31.858549118041992,
          -53.70595932006836,
          -54.67724609375,
          -34.68917465209961,
          -14.549140930175781,
          14.577773094177246,
          -13.893710136413574,
          -7.353850841522217
         ],
         "yaxis": "y"
        },
        {
         "customdata": [
          [
           "WND English Horn FMR",
           "Brass & Woodwinds"
          ],
          [
           "WND Ocarina FMR",
           "Brass & Woodwinds"
          ],
          [
           "WND Flute 1 FMR",
           "Brass & Woodwinds"
          ],
          [
           "WND Flute 2 FMR",
           "Brass & Woodwinds"
          ],
          [
           "WND Pan Flute FMR",
           "Brass & Woodwinds"
          ],
          [
           "WND Oboe FMR",
           "Brass & Woodwinds"
          ],
          [
           "WND Clarinet FMR",
           "Brass & Woodwinds"
          ],
          [
           "WND Flauto Dolce FMR",
           "Brass & Woodwinds"
          ],
          [
           "BRS Brass 2 FMR",
           "Brass & Woodwinds"
          ],
          [
           "BRS French Horn FMR",
           "Brass & Woodwinds"
          ],
          [
           "BRS Brass Pad 1 FMR",
           "Brass & Woodwinds"
          ],
          [
           "BRS Tuba FMR",
           "Brass & Woodwinds"
          ],
          [
           "BRS Brass Pad 2 FMR",
           "Brass & Woodwinds"
          ],
          [
           "BRS Brass 1 FMR",
           "Brass & Woodwinds"
          ],
          [
           "BRS Low Brass FMR",
           "Brass & Woodwinds"
          ],
          [
           "BRS Phase Brass FMR",
           "Brass & Woodwinds"
          ],
          [
           "BRS Trumpet FMR",
           "Brass & Woodwinds"
          ],
          [
           "BRS Brass 3 FMR",
           "Brass & Woodwinds"
          ],
          [
           "BRS Prophet Brass FMR",
           "Brass & Woodwinds"
          ],
          [
           "BRS Brass Pad 3 FMR",
           "Brass & Woodwinds"
          ],
          [
           "SYN Wah Brass FMR",
           "Brass & Woodwinds"
          ],
          [
           "The Difference Trumpet Synth",
           "Brass & Woodwinds"
          ],
          [
           "17 Brass",
           "Brass & Woodwinds"
          ],
          [
           "46 Clarinet",
           "Brass & Woodwinds"
          ],
          [
           "45 Flute",
           "Brass & Woodwinds"
          ],
          [
           "52 Wah Brass",
           "Brass & Woodwinds"
          ],
          [
           "48 English Horn",
           "Brass & Woodwinds"
          ],
          [
           "47 Oboe",
           "Brass & Woodwinds"
          ],
          [
           "18 Phase Brass",
           "Brass & Woodwinds"
          ],
          [
           "43 Horn",
           "Brass & Woodwinds"
          ],
          [
           "42 Trumpet",
           "Brass & Woodwinds"
          ]
         ],
         "hovertemplate": "Preset Name: %{customdata[0]}<br>Categorized Name: %{customdata[1]}",
         "legendgroup": "Brass & Woodwinds",
         "marker": {
          "color": "#B6E880",
          "symbol": "circle"
         },
         "mode": "markers",
         "name": "Brass & Woodwinds",
         "orientation": "v",
         "showlegend": true,
         "type": "scatter",
         "x": [
          -0.42640310525894165,
          -35.98702621459961,
          -17.437429428100586,
          -17.42763328552246,
          -15.345858573913574,
          -0.0754324272274971,
          0.7890050411224365,
          -13.766510963439941,
          40.87678146362305,
          -7.025363922119141,
          35.10382843017578,
          -5.124262809753418,
          26.269458770751953,
          -8.920372009277344,
          36.473052978515625,
          39.28205871582031,
          -38.42558288574219,
          4.76711893081665,
          -14.399971961975098,
          25.438526153564453,
          -27.5312557220459,
          20.883350372314453,
          -41.320003509521484,
          -33.6508674621582,
          -32.970481872558594,
          -41.22477722167969,
          -33.15666580200195,
          -34.85612106323242,
          -36.717628479003906,
          -21.066892623901367,
          -41.84477996826172
         ],
         "xaxis": "x",
         "y": [
          9.70058822631836,
          25.235761642456055,
          35.78696060180664,
          34.870723724365234,
          37.7883415222168,
          11.088558197021484,
          10.357888221740723,
          -3.3698887825012207,
          -24.978487014770508,
          15.781832695007324,
          -24.680355072021484,
          14.798108100891113,
          -35.17097091674805,
          16.94015121459961,
          -26.145755767822266,
          -25.12930679321289,
          9.00585651397705,
          8.037596702575684,
          37.77473831176758,
          -38.18174743652344,
          11.854326248168945,
          6.904149532318115,
          0.9374871253967285,
          -0.9541812539100647,
          -3.908398389816284,
          -1.4166890382766724,
          -2.7247519493103027,
          -0.8711105585098267,
          7.400137901306152,
          -13.31619644165039,
          0.4247733950614929
         ],
         "yaxis": "y"
        },
        {
         "customdata": [
          [
           "GTR Overdrive Guitar FMR",
           "Guitars"
          ],
          [
           "GTR Chorused Ovation FMR",
           "Guitars"
          ],
          [
           "GTR Jazz Guitar FMR",
           "Guitars"
          ],
          [
           "GTR Steel String Guitar FMR",
           "Guitars"
          ],
          [
           "GTR Acoustic Guitar FMR",
           "Guitars"
          ],
          [
           "27 Guitar",
           "Guitars"
          ]
         ],
         "hovertemplate": "Preset Name: %{customdata[0]}<br>Categorized Name: %{customdata[1]}",
         "legendgroup": "Guitars",
         "marker": {
          "color": "#FF97FF",
          "symbol": "circle"
         },
         "mode": "markers",
         "name": "Guitars",
         "orientation": "v",
         "showlegend": true,
         "type": "scatter",
         "x": [
          -22.17544937133789,
          29.629661560058594,
          -34.885433197021484,
          33.11676788330078,
          32.65258026123047,
          29.305999755859375
         ],
         "xaxis": "x",
         "y": [
          36.76286697387695,
          -33.20988082885742,
          16.32969856262207,
          -29.519264221191406,
          -21.563373565673828,
          -6.395557880401611
         ],
         "yaxis": "y"
        }
       ],
       "layout": {
        "height": 800,
        "legend": {
         "title": {
          "text": "Preset Categories"
         },
         "tracegroupgap": 0
        },
        "margin": {
         "t": 60
        },
        "showlegend": true,
        "template": {
         "data": {
          "bar": [
           {
            "error_x": {
             "color": "#2a3f5f"
            },
            "error_y": {
             "color": "#2a3f5f"
            },
            "marker": {
             "line": {
              "color": "#E5ECF6",
              "width": 0.5
             },
             "pattern": {
              "fillmode": "overlay",
              "size": 10,
              "solidity": 0.2
             }
            },
            "type": "bar"
           }
          ],
          "barpolar": [
           {
            "marker": {
             "line": {
              "color": "#E5ECF6",
              "width": 0.5
             },
             "pattern": {
              "fillmode": "overlay",
              "size": 10,
              "solidity": 0.2
             }
            },
            "type": "barpolar"
           }
          ],
          "carpet": [
           {
            "aaxis": {
             "endlinecolor": "#2a3f5f",
             "gridcolor": "white",
             "linecolor": "white",
             "minorgridcolor": "white",
             "startlinecolor": "#2a3f5f"
            },
            "baxis": {
             "endlinecolor": "#2a3f5f",
             "gridcolor": "white",
             "linecolor": "white",
             "minorgridcolor": "white",
             "startlinecolor": "#2a3f5f"
            },
            "type": "carpet"
           }
          ],
          "choropleth": [
           {
            "colorbar": {
             "outlinewidth": 0,
             "ticks": ""
            },
            "type": "choropleth"
           }
          ],
          "contour": [
           {
            "colorbar": {
             "outlinewidth": 0,
             "ticks": ""
            },
            "colorscale": [
             [
              0,
              "#0d0887"
             ],
             [
              0.1111111111111111,
              "#46039f"
             ],
             [
              0.2222222222222222,
              "#7201a8"
             ],
             [
              0.3333333333333333,
              "#9c179e"
             ],
             [
              0.4444444444444444,
              "#bd3786"
             ],
             [
              0.5555555555555556,
              "#d8576b"
             ],
             [
              0.6666666666666666,
              "#ed7953"
             ],
             [
              0.7777777777777778,
              "#fb9f3a"
             ],
             [
              0.8888888888888888,
              "#fdca26"
             ],
             [
              1,
              "#f0f921"
             ]
            ],
            "type": "contour"
           }
          ],
          "contourcarpet": [
           {
            "colorbar": {
             "outlinewidth": 0,
             "ticks": ""
            },
            "type": "contourcarpet"
           }
          ],
          "heatmap": [
           {
            "colorbar": {
             "outlinewidth": 0,
             "ticks": ""
            },
            "colorscale": [
             [
              0,
              "#0d0887"
             ],
             [
              0.1111111111111111,
              "#46039f"
             ],
             [
              0.2222222222222222,
              "#7201a8"
             ],
             [
              0.3333333333333333,
              "#9c179e"
             ],
             [
              0.4444444444444444,
              "#bd3786"
             ],
             [
              0.5555555555555556,
              "#d8576b"
             ],
             [
              0.6666666666666666,
              "#ed7953"
             ],
             [
              0.7777777777777778,
              "#fb9f3a"
             ],
             [
              0.8888888888888888,
              "#fdca26"
             ],
             [
              1,
              "#f0f921"
             ]
            ],
            "type": "heatmap"
           }
          ],
          "heatmapgl": [
           {
            "colorbar": {
             "outlinewidth": 0,
             "ticks": ""
            },
            "colorscale": [
             [
              0,
              "#0d0887"
             ],
             [
              0.1111111111111111,
              "#46039f"
             ],
             [
              0.2222222222222222,
              "#7201a8"
             ],
             [
              0.3333333333333333,
              "#9c179e"
             ],
             [
              0.4444444444444444,
              "#bd3786"
             ],
             [
              0.5555555555555556,
              "#d8576b"
             ],
             [
              0.6666666666666666,
              "#ed7953"
             ],
             [
              0.7777777777777778,
              "#fb9f3a"
             ],
             [
              0.8888888888888888,
              "#fdca26"
             ],
             [
              1,
              "#f0f921"
             ]
            ],
            "type": "heatmapgl"
           }
          ],
          "histogram": [
           {
            "marker": {
             "pattern": {
              "fillmode": "overlay",
              "size": 10,
              "solidity": 0.2
             }
            },
            "type": "histogram"
           }
          ],
          "histogram2d": [
           {
            "colorbar": {
             "outlinewidth": 0,
             "ticks": ""
            },
            "colorscale": [
             [
              0,
              "#0d0887"
             ],
             [
              0.1111111111111111,
              "#46039f"
             ],
             [
              0.2222222222222222,
              "#7201a8"
             ],
             [
              0.3333333333333333,
              "#9c179e"
             ],
             [
              0.4444444444444444,
              "#bd3786"
             ],
             [
              0.5555555555555556,
              "#d8576b"
             ],
             [
              0.6666666666666666,
              "#ed7953"
             ],
             [
              0.7777777777777778,
              "#fb9f3a"
             ],
             [
              0.8888888888888888,
              "#fdca26"
             ],
             [
              1,
              "#f0f921"
             ]
            ],
            "type": "histogram2d"
           }
          ],
          "histogram2dcontour": [
           {
            "colorbar": {
             "outlinewidth": 0,
             "ticks": ""
            },
            "colorscale": [
             [
              0,
              "#0d0887"
             ],
             [
              0.1111111111111111,
              "#46039f"
             ],
             [
              0.2222222222222222,
              "#7201a8"
             ],
             [
              0.3333333333333333,
              "#9c179e"
             ],
             [
              0.4444444444444444,
              "#bd3786"
             ],
             [
              0.5555555555555556,
              "#d8576b"
             ],
             [
              0.6666666666666666,
              "#ed7953"
             ],
             [
              0.7777777777777778,
              "#fb9f3a"
             ],
             [
              0.8888888888888888,
              "#fdca26"
             ],
             [
              1,
              "#f0f921"
             ]
            ],
            "type": "histogram2dcontour"
           }
          ],
          "mesh3d": [
           {
            "colorbar": {
             "outlinewidth": 0,
             "ticks": ""
            },
            "type": "mesh3d"
           }
          ],
          "parcoords": [
           {
            "line": {
             "colorbar": {
              "outlinewidth": 0,
              "ticks": ""
             }
            },
            "type": "parcoords"
           }
          ],
          "pie": [
           {
            "automargin": true,
            "type": "pie"
           }
          ],
          "scatter": [
           {
            "fillpattern": {
             "fillmode": "overlay",
             "size": 10,
             "solidity": 0.2
            },
            "type": "scatter"
           }
          ],
          "scatter3d": [
           {
            "line": {
             "colorbar": {
              "outlinewidth": 0,
              "ticks": ""
             }
            },
            "marker": {
             "colorbar": {
              "outlinewidth": 0,
              "ticks": ""
             }
            },
            "type": "scatter3d"
           }
          ],
          "scattercarpet": [
           {
            "marker": {
             "colorbar": {
              "outlinewidth": 0,
              "ticks": ""
             }
            },
            "type": "scattercarpet"
           }
          ],
          "scattergeo": [
           {
            "marker": {
             "colorbar": {
              "outlinewidth": 0,
              "ticks": ""
             }
            },
            "type": "scattergeo"
           }
          ],
          "scattergl": [
           {
            "marker": {
             "colorbar": {
              "outlinewidth": 0,
              "ticks": ""
             }
            },
            "type": "scattergl"
           }
          ],
          "scattermapbox": [
           {
            "marker": {
             "colorbar": {
              "outlinewidth": 0,
              "ticks": ""
             }
            },
            "type": "scattermapbox"
           }
          ],
          "scatterpolar": [
           {
            "marker": {
             "colorbar": {
              "outlinewidth": 0,
              "ticks": ""
             }
            },
            "type": "scatterpolar"
           }
          ],
          "scatterpolargl": [
           {
            "marker": {
             "colorbar": {
              "outlinewidth": 0,
              "ticks": ""
             }
            },
            "type": "scatterpolargl"
           }
          ],
          "scatterternary": [
           {
            "marker": {
             "colorbar": {
              "outlinewidth": 0,
              "ticks": ""
             }
            },
            "type": "scatterternary"
           }
          ],
          "surface": [
           {
            "colorbar": {
             "outlinewidth": 0,
             "ticks": ""
            },
            "colorscale": [
             [
              0,
              "#0d0887"
             ],
             [
              0.1111111111111111,
              "#46039f"
             ],
             [
              0.2222222222222222,
              "#7201a8"
             ],
             [
              0.3333333333333333,
              "#9c179e"
             ],
             [
              0.4444444444444444,
              "#bd3786"
             ],
             [
              0.5555555555555556,
              "#d8576b"
             ],
             [
              0.6666666666666666,
              "#ed7953"
             ],
             [
              0.7777777777777778,
              "#fb9f3a"
             ],
             [
              0.8888888888888888,
              "#fdca26"
             ],
             [
              1,
              "#f0f921"
             ]
            ],
            "type": "surface"
           }
          ],
          "table": [
           {
            "cells": {
             "fill": {
              "color": "#EBF0F8"
             },
             "line": {
              "color": "white"
             }
            },
            "header": {
             "fill": {
              "color": "#C8D4E3"
             },
             "line": {
              "color": "white"
             }
            },
            "type": "table"
           }
          ]
         },
         "layout": {
          "annotationdefaults": {
           "arrowcolor": "#2a3f5f",
           "arrowhead": 0,
           "arrowwidth": 1
          },
          "autotypenumbers": "strict",
          "coloraxis": {
           "colorbar": {
            "outlinewidth": 0,
            "ticks": ""
           }
          },
          "colorscale": {
           "diverging": [
            [
             0,
             "#8e0152"
            ],
            [
             0.1,
             "#c51b7d"
            ],
            [
             0.2,
             "#de77ae"
            ],
            [
             0.3,
             "#f1b6da"
            ],
            [
             0.4,
             "#fde0ef"
            ],
            [
             0.5,
             "#f7f7f7"
            ],
            [
             0.6,
             "#e6f5d0"
            ],
            [
             0.7,
             "#b8e186"
            ],
            [
             0.8,
             "#7fbc41"
            ],
            [
             0.9,
             "#4d9221"
            ],
            [
             1,
             "#276419"
            ]
           ],
           "sequential": [
            [
             0,
             "#0d0887"
            ],
            [
             0.1111111111111111,
             "#46039f"
            ],
            [
             0.2222222222222222,
             "#7201a8"
            ],
            [
             0.3333333333333333,
             "#9c179e"
            ],
            [
             0.4444444444444444,
             "#bd3786"
            ],
            [
             0.5555555555555556,
             "#d8576b"
            ],
            [
             0.6666666666666666,
             "#ed7953"
            ],
            [
             0.7777777777777778,
             "#fb9f3a"
            ],
            [
             0.8888888888888888,
             "#fdca26"
            ],
            [
             1,
             "#f0f921"
            ]
           ],
           "sequentialminus": [
            [
             0,
             "#0d0887"
            ],
            [
             0.1111111111111111,
             "#46039f"
            ],
            [
             0.2222222222222222,
             "#7201a8"
            ],
            [
             0.3333333333333333,
             "#9c179e"
            ],
            [
             0.4444444444444444,
             "#bd3786"
            ],
            [
             0.5555555555555556,
             "#d8576b"
            ],
            [
             0.6666666666666666,
             "#ed7953"
            ],
            [
             0.7777777777777778,
             "#fb9f3a"
            ],
            [
             0.8888888888888888,
             "#fdca26"
            ],
            [
             1,
             "#f0f921"
            ]
           ]
          },
          "colorway": [
           "#636efa",
           "#EF553B",
           "#00cc96",
           "#ab63fa",
           "#FFA15A",
           "#19d3f3",
           "#FF6692",
           "#B6E880",
           "#FF97FF",
           "#FECB52"
          ],
          "font": {
           "color": "#2a3f5f"
          },
          "geo": {
           "bgcolor": "white",
           "lakecolor": "white",
           "landcolor": "#E5ECF6",
           "showlakes": true,
           "showland": true,
           "subunitcolor": "white"
          },
          "hoverlabel": {
           "align": "left"
          },
          "hovermode": "closest",
          "mapbox": {
           "style": "light"
          },
          "paper_bgcolor": "white",
          "plot_bgcolor": "#E5ECF6",
          "polar": {
           "angularaxis": {
            "gridcolor": "white",
            "linecolor": "white",
            "ticks": ""
           },
           "bgcolor": "#E5ECF6",
           "radialaxis": {
            "gridcolor": "white",
            "linecolor": "white",
            "ticks": ""
           }
          },
          "scene": {
           "xaxis": {
            "backgroundcolor": "#E5ECF6",
            "gridcolor": "white",
            "gridwidth": 2,
            "linecolor": "white",
            "showbackground": true,
            "ticks": "",
            "zerolinecolor": "white"
           },
           "yaxis": {
            "backgroundcolor": "#E5ECF6",
            "gridcolor": "white",
            "gridwidth": 2,
            "linecolor": "white",
            "showbackground": true,
            "ticks": "",
            "zerolinecolor": "white"
           },
           "zaxis": {
            "backgroundcolor": "#E5ECF6",
            "gridcolor": "white",
            "gridwidth": 2,
            "linecolor": "white",
            "showbackground": true,
            "ticks": "",
            "zerolinecolor": "white"
           }
          },
          "shapedefaults": {
           "line": {
            "color": "#2a3f5f"
           }
          },
          "ternary": {
           "aaxis": {
            "gridcolor": "white",
            "linecolor": "white",
            "ticks": ""
           },
           "baxis": {
            "gridcolor": "white",
            "linecolor": "white",
            "ticks": ""
           },
           "bgcolor": "#E5ECF6",
           "caxis": {
            "gridcolor": "white",
            "linecolor": "white",
            "ticks": ""
           }
          },
          "title": {
           "x": 0.05
          },
          "xaxis": {
           "automargin": true,
           "gridcolor": "white",
           "linecolor": "white",
           "ticks": "",
           "title": {
            "standoff": 15
           },
           "zerolinecolor": "white",
           "zerolinewidth": 2
          },
          "yaxis": {
           "automargin": true,
           "gridcolor": "white",
           "linecolor": "white",
           "ticks": "",
           "title": {
            "standoff": 15
           },
           "zerolinecolor": "white",
           "zerolinewidth": 2
          }
         }
        },
        "title": {
         "text": "TSNE Visualization of Preset MFCC Embeddings"
        },
        "width": 800,
        "xaxis": {
         "anchor": "y",
         "domain": [
          0,
          1
         ],
         "range": [
          -50.21373596191406,
          50.20155029296875
         ],
         "title": {
          "text": "t-SNE Component 1"
         }
        },
        "yaxis": {
         "anchor": "x",
         "domain": [
          0,
          1
         ],
         "range": [
          -70.81409912109375,
          45.34600982666016
         ],
         "title": {
          "text": "t-SNE Component 2"
         }
        }
       }
      }
     },
     "metadata": {},
     "output_type": "display_data"
    }
   ],
   "source": [
    "## Create the TSNE Plot with plotly\n",
    "fig = px.scatter(df_filtered, x='x', y='y', color='categorized_name',hover_data=['preset_name', 'categorized_name'], width=800, height=800)\n",
    "\n",
    "# add a legend\n",
    "fig.update_layout(showlegend=True)\n",
    "\n",
    "# add a title\n",
    "fig.update_layout(title='TSNE Visualization of Preset MFCC Embeddings')\n",
    "\n",
    "# add a hover label\n",
    "fig.update_traces(hovertemplate='Preset Name: %{customdata[0]}<br>Categorized Name: %{customdata[1]}')\n",
    "\n",
    "# obtain the data bounds\n",
    "x_min = np.min(filtered_transformed_data[:, 0])*1.2\n",
    "x_max = np.max(filtered_transformed_data[:, 0])*1.2\n",
    "y_min = np.min(filtered_transformed_data[:, 1])*1.2\n",
    "y_max = np.max(filtered_transformed_data[:, 1])*1.2\n",
    "\n",
    "# add some extra info to the plot\n",
    "fig.update_layout(\n",
    "    width=800,\n",
    "    height=800,\n",
    "    xaxis_title='t-SNE Component 1',\n",
    "    yaxis_title='t-SNE Component 2',\n",
    "    legend_title='Preset Categories',\n",
    "    xaxis=dict(range=[x_min, x_max]),\n",
    "    yaxis=dict(range=[y_min, y_max]),\n",
    ")   \n",
    "\n",
    "# show the plot\n",
    "fig.show()"
   ]
  },
  {
   "cell_type": "code",
   "execution_count": 56,
   "metadata": {},
   "outputs": [],
   "source": [
    "# save the plotly figure as a pdf\n",
    "fig.write_image('tsne-mfcc-flattened.svg')"
   ]
  },
  {
   "cell_type": "code",
   "execution_count": 33,
   "metadata": {},
   "outputs": [],
   "source": [
    "# convert the raw audio column to be np arrays\n",
    "df_filtered['raw_signal'] = [x.cpu().numpy() for x in df_filtered['raw_signal']]"
   ]
  },
  {
   "cell_type": "code",
   "execution_count": null,
   "metadata": {},
   "outputs": [],
   "source": [
    "# Create the interactive scatter plot\n",
    "scatter_plot = create_custom_scatter(df, 'x', 'y', 'categorized_name', 'raw_signal')\n",
    "scatter_plot.show()"
   ]
  }
 ],
 "metadata": {
  "kernelspec": {
   "display_name": "Python 3 (ipykernel)",
   "language": "python",
   "name": "python3"
  },
  "language_info": {
   "codemirror_mode": {
    "name": "ipython",
    "version": 3
   },
   "file_extension": ".py",
   "mimetype": "text/x-python",
   "name": "python",
   "nbconvert_exporter": "python",
   "pygments_lexer": "ipython3",
   "version": "3.10.9"
  },
  "orig_nbformat": 4,
  "vscode": {
   "interpreter": {
    "hash": "6947268d801286644aa606ce5873de7c618a991e1c50a7cf64b46ea54e097eb2"
   }
  }
 },
 "nbformat": 4,
 "nbformat_minor": 2
}
