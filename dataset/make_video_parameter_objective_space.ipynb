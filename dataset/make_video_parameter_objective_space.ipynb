{
 "cells": [
  {
   "cell_type": "code",
   "execution_count": 1,
   "metadata": {},
   "outputs": [
    {
     "ename": "SyntaxError",
     "evalue": "invalid syntax (config.py, line 16)",
     "output_type": "error",
     "traceback": [
      "Traceback \u001b[0;36m(most recent call last)\u001b[0m:\n",
      "\u001b[0m  File \u001b[1;32m~/miniconda3/envs/gass/lib/python3.10/site-packages/IPython/core/interactiveshell.py:3505\u001b[0m in \u001b[1;35mrun_code\u001b[0m\n    exec(code_obj, self.user_global_ns, self.user_ns)\u001b[0m\n",
      "\u001b[0m  Cell \u001b[1;32mIn[1], line 9\u001b[0m\n    from src.utils import *\u001b[0m\n",
      "\u001b[0;36m  File \u001b[0;32m~/My Drive (malek8@mit.edu)/MIT/Spring 2023/4.453 (Creative Machine Learning for Design)/GASS Term Project/gass_repo/dataset/../src/utils.py:23\u001b[0;36m\n\u001b[0;31m    from src.config import greedy_gradient_settings, SAVE_AUDIO, INITIAL_MIDI_DURATION, INITIAL_MIDI_VELOCITY, VERBOSITY, OBJECTIVE_FUNCTION, daw_settings, note_to_midi, tal_uno_categories, tal_uno_to_dawdreamer_mapping, tal_uno_to_dawdreamer_index_mapping, dawdreamer_param_name_to_tal_uno_index_mapping, fixed_parameters, NUM_TAL_UNO_PARAMETERS, NUM_MIDI_PARAMETERS\u001b[0;36m\n",
      "\u001b[0;36m  File \u001b[0;32m~/My Drive (malek8@mit.edu)/MIT/Spring 2023/4.453 (Creative Machine Learning for Design)/GASS Term Project/gass_repo/dataset/../src/config.py:16\u001b[0;36m\u001b[0m\n\u001b[0;31m    'SYNTH_NAME': \"TAL-Uno\",\u001b[0m\n\u001b[0m                ^\u001b[0m\n\u001b[0;31mSyntaxError\u001b[0m\u001b[0;31m:\u001b[0m invalid syntax\n"
     ]
    }
   ],
   "source": [
    "import dawdreamer\n",
    "import os\n",
    "import sys;sys.path.append('../')\n",
    "import librosa\n",
    "import torch\n",
    "import pandas as pd\n",
    "import matplotlib.pyplot as plt\n",
    "import math\n",
    "from src.utils import *\n",
    "from src.config import ga_settings, daw_settings"
   ]
  },
  {
   "cell_type": "code",
   "execution_count": null,
   "metadata": {},
   "outputs": [],
   "source": [
    "# load the preset dataset\n",
    "df = pd.DataFrame(torch.load('../dataset/processed_preset_dataset_musicnn.pt'))"
   ]
  },
  {
   "cell_type": "code",
   "execution_count": null,
   "metadata": {},
   "outputs": [],
   "source": [
    "# load the target audio (bill evans)\n",
    "target_audio_path = '../timbre-exp/target-dataset/bill-evans-piano.wav'\n",
    "target_audio, target_sample_rate = librosa.load(target_audio_path, sr=daw_settings['SAMPLE_RATE'])\n",
    "\n",
    "# determine the length of the target audio in seconds\n",
    "target_audio_length = librosa.get_duration(y=target_audio, sr=target_sample_rate)\n",
    "\n",
    "# obtain the target mfcc\n",
    "target_mfcc = librosa.feature.mfcc(y=target_audio, sr=target_sample_rate).reshape(-1)"
   ]
  },
  {
   "cell_type": "code",
   "execution_count": null,
   "metadata": {},
   "outputs": [
    {
     "name": "stdout",
     "output_type": "stream",
     "text": [
      "Likely note: F4, likely frequency: 349.1941058508811\n",
      "Best Distance Achieved: 546.5276489257812\n",
      "Likely note: F4, likely frequency: 349.1941058508811\n"
     ]
    }
   ],
   "source": [
    "\n",
    "# find the top 10 presets for the target mfcc\n",
    "top10presets = find_closest_preset_from_mfcc(target_audio,target_sample_rate,df)\n",
    "\n",
    "# get closest note from target audio\n",
    "ff = get_fundamental_frequency(target_audio, target_sample_rate)\n",
    "target_note = get_closest_note_from_ff(ff[1])\n",
    "\n",
    "# return the row in the df that corresponds to the top preset\n",
    "top_preset_row = df[df['preset_names'] == top10presets[0]]\n",
    "\n",
    "# reset the index of the top_preset_row\n",
    "top_preset_row = top_preset_row.reset_index(drop=True)\n",
    "\n",
    "# return the top 10 preset rows in order from the df\n",
    "top10preset_rows = df[df['preset_names'].isin(top10presets)]\n",
    "\n",
    "# order the rows based on the order of the top10presets\n",
    "top10preset_rows = top10preset_rows.set_index('preset_names').loc[top10presets].reset_index()"
   ]
  },
  {
   "cell_type": "code",
   "execution_count": null,
   "metadata": {},
   "outputs": [
    {
     "data": {
      "text/html": [
       "<div>\n",
       "<style scoped>\n",
       "    .dataframe tbody tr th:only-of-type {\n",
       "        vertical-align: middle;\n",
       "    }\n",
       "\n",
       "    .dataframe tbody tr th {\n",
       "        vertical-align: top;\n",
       "    }\n",
       "\n",
       "    .dataframe thead th {\n",
       "        text-align: right;\n",
       "    }\n",
       "</style>\n",
       "<table border=\"1\" class=\"dataframe\">\n",
       "  <thead>\n",
       "    <tr style=\"text-align: right;\">\n",
       "      <th></th>\n",
       "      <th>preset_names</th>\n",
       "      <th>parameters</th>\n",
       "      <th>parameters_names</th>\n",
       "      <th>mapped_parameter_names</th>\n",
       "      <th>raw_audio</th>\n",
       "      <th>musicnn_features</th>\n",
       "    </tr>\n",
       "  </thead>\n",
       "  <tbody>\n",
       "    <tr>\n",
       "      <th>0</th>\n",
       "      <td>WND Flute 1 FMR</td>\n",
       "      <td>[0.0, 0.0400000028, 0.288000017, 0.667000055, ...</td>\n",
       "      <td>[@modulation, @dcolfovalue, @dcopwmvalue, @dco...</td>\n",
       "      <td>[{'tal-uno param name': '@modulation', 'dawdre...</td>\n",
       "      <td>{'C2': [tensor(3.4535e-05), tensor(3.5455e-05)...</td>\n",
       "      <td>{'C2': [tensor(-0.0003), tensor(-0.6242), tens...</td>\n",
       "    </tr>\n",
       "    <tr>\n",
       "      <th>1</th>\n",
       "      <td>ORG Organ 3 FMR</td>\n",
       "      <td>[0.0, 0.088000007, 1.0, 0.0, 1.0, 0.0, 1.0, 0....</td>\n",
       "      <td>[@modulation, @dcolfovalue, @dcopwmvalue, @dco...</td>\n",
       "      <td>[{'tal-uno param name': '@modulation', 'dawdre...</td>\n",
       "      <td>{'C2': [tensor(-0.0006), tensor(-0.0012), tens...</td>\n",
       "      <td>{'C2': [tensor(-0.0003), tensor(-0.5350), tens...</td>\n",
       "    </tr>\n",
       "    <tr>\n",
       "      <th>2</th>\n",
       "      <td>CHO Voice Chorus FMR</td>\n",
       "      <td>[0.0, 0.0, 0.5, 1.0, 1.0, 0.0, 1.0, 1.0, 0.0, ...</td>\n",
       "      <td>[@modulation, @dcolfovalue, @dcopwmvalue, @dco...</td>\n",
       "      <td>[{'tal-uno param name': '@modulation', 'dawdre...</td>\n",
       "      <td>{'C2': [tensor(0.0162), tensor(0.0022), tensor...</td>\n",
       "      <td>{'C2': [tensor(-0.0003), tensor(-0.6242), tens...</td>\n",
       "    </tr>\n",
       "    <tr>\n",
       "      <th>3</th>\n",
       "      <td>BAS Pulse Bass 2 FMR</td>\n",
       "      <td>[0.0, 0.0, 0.580000043, 0.0, 1.0, 0.0, 0.0, 0....</td>\n",
       "      <td>[@modulation, @dcolfovalue, @dcopwmvalue, @dco...</td>\n",
       "      <td>[{'tal-uno param name': '@modulation', 'dawdre...</td>\n",
       "      <td>{'C2': [tensor(0.0003), tensor(0.0006), tensor...</td>\n",
       "      <td>{'C2': [tensor(-0.0003), tensor(-0.6242), tens...</td>\n",
       "    </tr>\n",
       "    <tr>\n",
       "      <th>4</th>\n",
       "      <td>WND Flute 2 FMR</td>\n",
       "      <td>[0.0, 0.0400000028, 0.688000023, 0.667000055, ...</td>\n",
       "      <td>[@modulation, @dcolfovalue, @dcopwmvalue, @dco...</td>\n",
       "      <td>[{'tal-uno param name': '@modulation', 'dawdre...</td>\n",
       "      <td>{'C2': [tensor(-0.0004), tensor(-0.0007), tens...</td>\n",
       "      <td>{'C2': [tensor(-0.0003), tensor(-0.6242), tens...</td>\n",
       "    </tr>\n",
       "  </tbody>\n",
       "</table>\n",
       "</div>"
      ],
      "text/plain": [
       "           preset_names                                         parameters   \n",
       "0       WND Flute 1 FMR  [0.0, 0.0400000028, 0.288000017, 0.667000055, ...  \\\n",
       "1       ORG Organ 3 FMR  [0.0, 0.088000007, 1.0, 0.0, 1.0, 0.0, 1.0, 0....   \n",
       "2  CHO Voice Chorus FMR  [0.0, 0.0, 0.5, 1.0, 1.0, 0.0, 1.0, 1.0, 0.0, ...   \n",
       "3  BAS Pulse Bass 2 FMR  [0.0, 0.0, 0.580000043, 0.0, 1.0, 0.0, 0.0, 0....   \n",
       "4       WND Flute 2 FMR  [0.0, 0.0400000028, 0.688000023, 0.667000055, ...   \n",
       "\n",
       "                                    parameters_names   \n",
       "0  [@modulation, @dcolfovalue, @dcopwmvalue, @dco...  \\\n",
       "1  [@modulation, @dcolfovalue, @dcopwmvalue, @dco...   \n",
       "2  [@modulation, @dcolfovalue, @dcopwmvalue, @dco...   \n",
       "3  [@modulation, @dcolfovalue, @dcopwmvalue, @dco...   \n",
       "4  [@modulation, @dcolfovalue, @dcopwmvalue, @dco...   \n",
       "\n",
       "                              mapped_parameter_names   \n",
       "0  [{'tal-uno param name': '@modulation', 'dawdre...  \\\n",
       "1  [{'tal-uno param name': '@modulation', 'dawdre...   \n",
       "2  [{'tal-uno param name': '@modulation', 'dawdre...   \n",
       "3  [{'tal-uno param name': '@modulation', 'dawdre...   \n",
       "4  [{'tal-uno param name': '@modulation', 'dawdre...   \n",
       "\n",
       "                                           raw_audio   \n",
       "0  {'C2': [tensor(3.4535e-05), tensor(3.5455e-05)...  \\\n",
       "1  {'C2': [tensor(-0.0006), tensor(-0.0012), tens...   \n",
       "2  {'C2': [tensor(0.0162), tensor(0.0022), tensor...   \n",
       "3  {'C2': [tensor(0.0003), tensor(0.0006), tensor...   \n",
       "4  {'C2': [tensor(-0.0004), tensor(-0.0007), tens...   \n",
       "\n",
       "                                    musicnn_features  \n",
       "0  {'C2': [tensor(-0.0003), tensor(-0.6242), tens...  \n",
       "1  {'C2': [tensor(-0.0003), tensor(-0.5350), tens...  \n",
       "2  {'C2': [tensor(-0.0003), tensor(-0.6242), tens...  \n",
       "3  {'C2': [tensor(-0.0003), tensor(-0.6242), tens...  \n",
       "4  {'C2': [tensor(-0.0003), tensor(-0.6242), tens...  "
      ]
     },
     "execution_count": 10,
     "metadata": {},
     "output_type": "execute_result"
    }
   ],
   "source": [
    "# show the top 10 presets\n",
    "top10preset_rows.head()"
   ]
  },
  {
   "cell_type": "code",
   "execution_count": null,
   "metadata": {},
   "outputs": [
    {
     "name": "stdout",
     "output_type": "stream",
     "text": []
    }
   ],
   "source": [
    "engine = dawdreamer.RenderEngine(sample_rate=target_sample_rate, block_size=daw_settings['BLOCK_SIZE'])\n",
    "plugin = load_plugin_with_dawdreamer(daw_settings['SYNTH_PLUGIN_PATH_WINDOWS'],daw_settings['SYNTH_NAME'],engine)"
   ]
  },
  {
   "cell_type": "code",
   "execution_count": null,
   "metadata": {},
   "outputs": [],
   "source": [
    "# specify the name of the master parameter you want to create the animation about\n",
    "master_parameter_name = 'filter env'"
   ]
  },
  {
   "cell_type": "code",
   "execution_count": 12,
   "metadata": {},
   "outputs": [
    {
     "name": "stdout",
     "output_type": "stream",
     "text": [
      "Iteration 0 complete for param modulation...\n",
      "Iteration 1 complete for param dco lfo value...\n",
      "Iteration 2 complete for param dco pwm value...\n",
      "Iteration 3 complete for param dco pwm mode...\n",
      "Iteration 4 complete for param dco pulse enabled...\n",
      "Iteration 5 complete for param dco saw enabled...\n",
      "Iteration 6 complete for param dco sub osc enabled...\n",
      "Iteration 7 complete for param dco sub osc volume...\n",
      "Iteration 8 complete for param dco noise volume...\n",
      "Iteration 9 complete for param dco hp filter...\n",
      "Iteration 10 complete for param filter cutoff...\n",
      "Iteration 11 complete for param filter resonance...\n",
      "Iteration 12 complete for param filter env mode...\n",
      "Iteration 13 complete for param filter env...\n",
      "Iteration 14 complete for param filter modulation...\n",
      "Iteration 15 complete for param filter keyboard...\n",
      "Iteration 16 complete for param master volume...\n",
      "Iteration 17 complete for param master fine tune...\n",
      "Iteration 18 complete for param master octave transpose...\n",
      "Iteration 19 complete for param vca mode...\n",
      "Iteration 20 complete for param attack...\n",
      "Iteration 21 complete for param decay...\n",
      "Iteration 22 complete for param sustain...\n",
      "Iteration 23 complete for param release...\n",
      "Iteration 24 complete for param lfo rate...\n",
      "Iteration 25 complete for param lfo delay...\n",
      "Iteration 26 complete for param lfo trigger mode...\n",
      "Iteration 27 complete for param lfo trigger enabled...\n",
      "Iteration 28 complete for param lfo trigger active...\n",
      "Iteration 29 complete for param lfo waveform...\n",
      "Iteration 30 complete for param chorus 1...\n",
      "Iteration 31 complete for param chorus 2...\n",
      "Iteration 32 complete for param arp enabled...\n",
      "Iteration 33 complete for param arp sync enabled...\n",
      "Iteration 34 complete for param arp mode...\n",
      "Iteration 35 complete for param arp range...\n",
      "Iteration 36 complete for param arp rate...\n",
      "Iteration 37 complete for param arp locked...\n",
      "Iteration 38 complete for param control velocity volume...\n",
      "Iteration 39 complete for param control velocity envelope...\n",
      "Iteration 40 complete for param control pitch bend filter...\n",
      "Iteration 41 complete for param control pitch bend dco...\n",
      "Iteration 42 complete for param portamento mode...\n",
      "Iteration 43 complete for param portamento intensity...\n",
      "Iteration 44 complete for param midi learn...\n",
      "Iteration 45 complete for param panic...\n",
      "Iteration 46 complete for param voice hold...\n",
      "Iteration 47 complete for param trigger arp by midi channel 16...\n",
      "Iteration 48 complete for param clock sync...\n",
      "Iteration 49 complete for param host sync...\n",
      "Iteration 50 complete for param max voices...\n",
      "Iteration 51 complete for param keytranspose...\n",
      "Iteration 52 complete for param special mode...\n",
      "Iteration 53 complete for param lfo inverted...\n",
      "Iteration 54 complete for param portamento poly...\n",
      "Iteration 55 complete for param sound engine off...\n",
      "Iteration 56 complete for param pitch wheel...\n",
      "Iteration 57 complete for param modulation wheel...\n",
      "Iteration 58 complete for param midi clear...\n",
      "Iteration 59 complete for param midi lock...\n",
      "Iteration 60 complete for param MPE enabled...\n",
      "Iteration 61 complete for param portamento time...\n",
      "Iteration 62 complete for param FX Reverb Dry / Wet...\n",
      "Iteration 63 complete for param FX Reverb Size...\n",
      "Iteration 64 complete for param FX Reverb Delay...\n",
      "Iteration 65 complete for param FX Reverb Tone...\n",
      "Iteration 66 complete for param FX Delay Dry / Wet...\n",
      "Iteration 67 complete for param FX Delay Time...\n",
      "Iteration 68 complete for param FX Delay Sync...\n",
      "Iteration 69 complete for param FX Delay Spread...\n",
      "Iteration 70 complete for param FX Delay Tone...\n",
      "Iteration 71 complete for param FX Delay Feedback...\n",
      "Iteration 72 complete for param MTS Microtuning Active...\n",
      "Iteration 73 complete for param Unisono Voices...\n",
      "Iteration 74 complete for param Unisono Detune...\n",
      "Iteration 75 complete for param Unisono Spread...\n",
      "Iteration 76 complete for param Voice Mode...\n"
     ]
    }
   ],
   "source": [
    "# the function below takes the following arguments: top10preset_rows, plugin, engine, target_mfcc, target_audio_length, target_note, ga_settings, daw_settings, print_flag\n",
    "output = obtain_parameter_objective_space_video_data(plugin,engine,target_mfcc,target_audio_length,target_note,daw_settings,top_preset_row,master_parameter_name,verbosity=1)\n",
    "\n",
    "# save the output with torch\n",
    "torch.save(output,'bill-evans-parameter-objective-space-dataset.pt')"
   ]
  },
  {
   "cell_type": "code",
   "execution_count": null,
   "metadata": {},
   "outputs": [],
   "source": [
    "\n",
    "# set matplotlib plot settings to use latex font\n",
    "plt.rcParams.update({\n",
    "    \"text.usetex\": True,\n",
    "    \"font.family\": \"serif\",\n",
    "    \"font.serif\": [\"Computer Modern Roman\"],\n",
    "    \"font.size\": 6\n",
    "})\n",
    "\n",
    "# Determine the number of rows and columns for the subplot grid\n",
    "n = len(output) # number of parameters\n",
    "cols = math.ceil(math.sqrt(n)) # number of columns\n",
    "rows = math.ceil(n / cols) # number of rows\n",
    "\n",
    "fig = plt.figure(figsize=(cols*3, rows*3))\n",
    "\n",
    "# Define the grid on which to place the subplots\n",
    "grid = plt.GridSpec(rows, cols, wspace=0.4, hspace=0.4)\n",
    "\n",
    "# Plot each parameter\n",
    "for i, data in enumerate(output):\n",
    "    # Calculate the row and column index for the subplot\n",
    "    row = i // cols\n",
    "    col = i % cols\n",
    "\n",
    "    # Create the subplot on the appropriate part of the grid\n",
    "    ax = fig.add_subplot(grid[row, col])\n",
    "\n",
    "    # Plot the data on the subplot\n",
    "    ax.plot(data['param_values'], data['objective_function_values'])\n",
    "\n",
    "    # Set the title of the subplot to the parameter name\n",
    "    ax.set_title(data['param_name'])\n",
    "\n",
    "    # Set the x and y axis labels\n",
    "    ax.set_xlabel('Parameter Value')\n",
    "    ax.set_ylabel('Objective Function Value')\n",
    "\n",
    "# Show the plot\n",
    "plt.show()"
   ]
  }
 ],
 "metadata": {
  "kernelspec": {
   "display_name": "Python 3.10.9 ('gass')",
   "language": "python",
   "name": "python3"
  },
  "language_info": {
   "codemirror_mode": {
    "name": "ipython",
    "version": 3
   },
   "file_extension": ".py",
   "mimetype": "text/x-python",
   "name": "python",
   "nbconvert_exporter": "python",
   "pygments_lexer": "ipython3",
   "version": "3.10.9"
  },
  "orig_nbformat": 4,
  "vscode": {
   "interpreter": {
    "hash": "6947268d801286644aa606ce5873de7c618a991e1c50a7cf64b46ea54e097eb2"
   }
  }
 },
 "nbformat": 4,
 "nbformat_minor": 2
}
